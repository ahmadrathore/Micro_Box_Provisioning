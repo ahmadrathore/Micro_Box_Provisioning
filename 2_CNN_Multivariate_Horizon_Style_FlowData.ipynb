{
  "nbformat": 4,
  "nbformat_minor": 0,
  "metadata": {
    "colab": {
      "name": "2_CNN_Multivariate_Horizon_Style_FlowData.ipynb",
      "provenance": [],
      "collapsed_sections": [],
      "include_colab_link": true
    },
    "kernelspec": {
      "display_name": "Python 3",
      "language": "python",
      "name": "python3"
    },
    "language_info": {
      "codemirror_mode": {
        "name": "ipython",
        "version": 3
      },
      "file_extension": ".py",
      "mimetype": "text/x-python",
      "name": "python",
      "nbconvert_exporter": "python",
      "pygments_lexer": "ipython3",
      "version": "3.7.2"
    },
    "latex_envs": {
      "LaTeX_envs_menu_present": true,
      "autoclose": false,
      "autocomplete": true,
      "bibliofile": "biblio.bib",
      "cite_by": "apalike",
      "current_citInitial": 1,
      "eqLabelWithNumbers": true,
      "eqNumInitial": 1,
      "hotkeys": {
        "equation": "Ctrl-E",
        "itemize": "Ctrl-I"
      },
      "labels_anchors": false,
      "latex_user_defs": false,
      "report_style_numbering": false,
      "user_envs_cfg": false
    },
    "nbTranslate": {
      "displayLangs": [
        "*"
      ],
      "hotkey": "alt-t",
      "langInMainMenu": true,
      "sourceLang": "en",
      "targetLang": "fr",
      "useGoogleTranslate": true
    }
  },
  "cells": [
    {
      "cell_type": "markdown",
      "metadata": {
        "id": "view-in-github",
        "colab_type": "text"
      },
      "source": [
        "<a href=\"https://colab.research.google.com/github/ahmadrathore/Provisioning-SmartX-MicroBox/blob/master/2_CNN_Multivariate_Horizon_Style_FlowData.ipynb\" target=\"_parent\"><img src=\"https://colab.research.google.com/assets/colab-badge.svg\" alt=\"Open In Colab\"/></a>"
      ]
    },
    {
      "cell_type": "code",
      "metadata": {
        "ExecuteTime": {
          "end_time": "2020-03-02T14:49:23.660804Z",
          "start_time": "2020-03-02T14:49:18.905513Z"
        },
        "id": "dBj39vTjPzEM"
      },
      "source": [
        "import tensorflow as tf\n",
        "import matplotlib.pyplot as plt\n",
        "import numpy as np\n",
        "import pandas as pd\n",
        "from sklearn import preprocessing\n",
        "from tensorflow.keras.models import Sequential\n",
        "from tensorflow.keras.layers import Dense\n",
        "from tensorflow.keras.layers import Flatten,TimeDistributed,RepeatVector\n",
        "from tensorflow.keras.layers import Conv1D\n",
        "from tensorflow.keras.layers import MaxPool1D\n",
        "from tensorflow.keras.layers import Dropout\n",
        "tf.random.set_seed(123)\n",
        "np.random.seed(123)"
      ],
      "execution_count": 1,
      "outputs": []
    },
    {
      "cell_type": "code",
      "metadata": {
        "ExecuteTime": {
          "end_time": "2020-03-02T14:49:30.108611Z",
          "start_time": "2020-03-02T14:49:30.027794Z"
        },
        "id": "B34_TvUjPzEX"
      },
      "source": [
        "#df = pd.read_csv(r'merge-csv.com__602f0aa73c265.csv')\n",
        "#df = pd.read_csv('merge-csv.com__602f0aa73c265.csv',index_col='Processing_time',\n",
        "#                infer_datetime_format=True)\n",
        "url='https://raw.githubusercontent.com/ahmadrathore/Provisioning-SmartX-MicroBox/master/kafka9092_Network-Flows.csv'\n",
        "\n",
        "df = pd.read_csv(url,index_col='Processing_time',\n",
        "                infer_datetime_format=True)"
      ],
      "execution_count": 2,
      "outputs": []
    },
    {
      "cell_type": "code",
      "metadata": {
        "ExecuteTime": {
          "end_time": "2020-03-02T14:49:31.905775Z",
          "start_time": "2020-03-02T14:49:31.880839Z"
        },
        "id": "H_Y5pPiNPzEY",
        "colab": {
          "base_uri": "https://localhost:8080/",
          "height": 223
        },
        "outputId": "e8666c98-8f08-4cbd-b068-e756c205e93c"
      },
      "source": [
        "df.head()"
      ],
      "execution_count": 3,
      "outputs": [
        {
          "output_type": "execute_result",
          "data": {
            "text/html": [
              "<div>\n",
              "<style scoped>\n",
              "    .dataframe tbody tr th:only-of-type {\n",
              "        vertical-align: middle;\n",
              "    }\n",
              "\n",
              "    .dataframe tbody tr th {\n",
              "        vertical-align: top;\n",
              "    }\n",
              "\n",
              "    .dataframe thead th {\n",
              "        text-align: right;\n",
              "    }\n",
              "</style>\n",
              "<table border=\"1\" class=\"dataframe\">\n",
              "  <thead>\n",
              "    <tr style=\"text-align: right;\">\n",
              "      <th></th>\n",
              "      <th>Measurement_boxname</th>\n",
              "      <th>src_host_port</th>\n",
              "      <th>dest_host_port</th>\n",
              "      <th>protocol</th>\n",
              "      <th>protocol_count</th>\n",
              "      <th>min_tcp_window_size</th>\n",
              "      <th>max_tcp_window_size</th>\n",
              "      <th>avg_tcp_window_size</th>\n",
              "      <th>std_dev_tcp_window_size</th>\n",
              "      <th>min_data_bytes</th>\n",
              "      <th>max_data_bytes</th>\n",
              "      <th>avg_databytes</th>\n",
              "      <th>std_dev_databytes</th>\n",
              "      <th>total_data_bytes</th>\n",
              "      <th>flow_duration</th>\n",
              "    </tr>\n",
              "    <tr>\n",
              "      <th>Processing_time</th>\n",
              "      <th></th>\n",
              "      <th></th>\n",
              "      <th></th>\n",
              "      <th></th>\n",
              "      <th></th>\n",
              "      <th></th>\n",
              "      <th></th>\n",
              "      <th></th>\n",
              "      <th></th>\n",
              "      <th></th>\n",
              "      <th></th>\n",
              "      <th></th>\n",
              "      <th></th>\n",
              "      <th></th>\n",
              "      <th></th>\n",
              "    </tr>\n",
              "  </thead>\n",
              "  <tbody>\n",
              "    <tr>\n",
              "      <th>2020-12-01T00:05:24.998+09:00</th>\n",
              "      <td>smartx-microbox-gist-1</td>\n",
              "      <td>39846</td>\n",
              "      <td>9092</td>\n",
              "      <td>6</td>\n",
              "      <td>183</td>\n",
              "      <td>2438</td>\n",
              "      <td>2439</td>\n",
              "      <td>2439</td>\n",
              "      <td>0.07</td>\n",
              "      <td>161</td>\n",
              "      <td>11888</td>\n",
              "      <td>2788.26</td>\n",
              "      <td>2591.23</td>\n",
              "      <td>510252</td>\n",
              "      <td>170.018</td>\n",
              "    </tr>\n",
              "    <tr>\n",
              "      <th>2020-12-01T00:10:44.861+09:00</th>\n",
              "      <td>smartx-microbox-gist-1</td>\n",
              "      <td>39846</td>\n",
              "      <td>9092</td>\n",
              "      <td>6</td>\n",
              "      <td>396</td>\n",
              "      <td>2438</td>\n",
              "      <td>2439</td>\n",
              "      <td>2439</td>\n",
              "      <td>0.11</td>\n",
              "      <td>63</td>\n",
              "      <td>11856</td>\n",
              "      <td>2228.37</td>\n",
              "      <td>2094.46</td>\n",
              "      <td>882435</td>\n",
              "      <td>290.016</td>\n",
              "    </tr>\n",
              "    <tr>\n",
              "      <th>2020-12-01T00:15:33.979+09:00</th>\n",
              "      <td>smartx-microbox-gist-1</td>\n",
              "      <td>39846</td>\n",
              "      <td>9092</td>\n",
              "      <td>6</td>\n",
              "      <td>395</td>\n",
              "      <td>2438</td>\n",
              "      <td>2439</td>\n",
              "      <td>2439</td>\n",
              "      <td>0.13</td>\n",
              "      <td>102</td>\n",
              "      <td>13084</td>\n",
              "      <td>2209.62</td>\n",
              "      <td>2321.09</td>\n",
              "      <td>872801</td>\n",
              "      <td>290.017</td>\n",
              "    </tr>\n",
              "    <tr>\n",
              "      <th>2020-12-01T00:25:41.464+09:00</th>\n",
              "      <td>smartx-microbox-gist-1</td>\n",
              "      <td>39846</td>\n",
              "      <td>9092</td>\n",
              "      <td>6</td>\n",
              "      <td>459</td>\n",
              "      <td>2438</td>\n",
              "      <td>2439</td>\n",
              "      <td>2439</td>\n",
              "      <td>0.09</td>\n",
              "      <td>61</td>\n",
              "      <td>11550</td>\n",
              "      <td>1989.66</td>\n",
              "      <td>1919.81</td>\n",
              "      <td>913254</td>\n",
              "      <td>290.017</td>\n",
              "    </tr>\n",
              "    <tr>\n",
              "      <th>2020-12-01T00:35:18.114+09:00</th>\n",
              "      <td>smartx-microbox-gist-1</td>\n",
              "      <td>39846</td>\n",
              "      <td>9092</td>\n",
              "      <td>6</td>\n",
              "      <td>456</td>\n",
              "      <td>2438</td>\n",
              "      <td>2439</td>\n",
              "      <td>2439</td>\n",
              "      <td>0.09</td>\n",
              "      <td>87</td>\n",
              "      <td>11544</td>\n",
              "      <td>1981.21</td>\n",
              "      <td>1909.48</td>\n",
              "      <td>903430</td>\n",
              "      <td>290.011</td>\n",
              "    </tr>\n",
              "  </tbody>\n",
              "</table>\n",
              "</div>"
            ],
            "text/plain": [
              "                                  Measurement_boxname  ...  flow_duration\n",
              "Processing_time                                        ...               \n",
              "2020-12-01T00:05:24.998+09:00  smartx-microbox-gist-1  ...        170.018\n",
              "2020-12-01T00:10:44.861+09:00  smartx-microbox-gist-1  ...        290.016\n",
              "2020-12-01T00:15:33.979+09:00  smartx-microbox-gist-1  ...        290.017\n",
              "2020-12-01T00:25:41.464+09:00  smartx-microbox-gist-1  ...        290.017\n",
              "2020-12-01T00:35:18.114+09:00  smartx-microbox-gist-1  ...        290.011\n",
              "\n",
              "[5 rows x 15 columns]"
            ]
          },
          "metadata": {
            "tags": []
          },
          "execution_count": 3
        }
      ]
    },
    {
      "cell_type": "code",
      "metadata": {
        "ExecuteTime": {
          "end_time": "2020-03-02T14:49:33.041737Z",
          "start_time": "2020-03-02T14:49:33.003839Z"
        },
        "id": "PRuMEdj2PzEa",
        "colab": {
          "base_uri": "https://localhost:8080/",
          "height": 282
        },
        "outputId": "bb63e1cc-4e7f-4e0c-d85b-fb438d414aba"
      },
      "source": [
        "df.describe()"
      ],
      "execution_count": 4,
      "outputs": [
        {
          "output_type": "execute_result",
          "data": {
            "text/html": [
              "<div>\n",
              "<style scoped>\n",
              "    .dataframe tbody tr th:only-of-type {\n",
              "        vertical-align: middle;\n",
              "    }\n",
              "\n",
              "    .dataframe tbody tr th {\n",
              "        vertical-align: top;\n",
              "    }\n",
              "\n",
              "    .dataframe thead th {\n",
              "        text-align: right;\n",
              "    }\n",
              "</style>\n",
              "<table border=\"1\" class=\"dataframe\">\n",
              "  <thead>\n",
              "    <tr style=\"text-align: right;\">\n",
              "      <th></th>\n",
              "      <th>src_host_port</th>\n",
              "      <th>dest_host_port</th>\n",
              "      <th>protocol</th>\n",
              "      <th>protocol_count</th>\n",
              "      <th>min_tcp_window_size</th>\n",
              "      <th>max_tcp_window_size</th>\n",
              "      <th>avg_tcp_window_size</th>\n",
              "      <th>std_dev_tcp_window_size</th>\n",
              "      <th>min_data_bytes</th>\n",
              "      <th>max_data_bytes</th>\n",
              "      <th>avg_databytes</th>\n",
              "      <th>std_dev_databytes</th>\n",
              "      <th>total_data_bytes</th>\n",
              "      <th>flow_duration</th>\n",
              "    </tr>\n",
              "  </thead>\n",
              "  <tbody>\n",
              "    <tr>\n",
              "      <th>count</th>\n",
              "      <td>8576.000000</td>\n",
              "      <td>8576.0</td>\n",
              "      <td>8576.0</td>\n",
              "      <td>8576.000000</td>\n",
              "      <td>8576.000000</td>\n",
              "      <td>8576.000000</td>\n",
              "      <td>8576.000000</td>\n",
              "      <td>8576.000000</td>\n",
              "      <td>8576.000000</td>\n",
              "      <td>8576.000000</td>\n",
              "      <td>8576.000000</td>\n",
              "      <td>8576.000000</td>\n",
              "      <td>8576.000000</td>\n",
              "      <td>8576.000000</td>\n",
              "    </tr>\n",
              "    <tr>\n",
              "      <th>mean</th>\n",
              "      <td>40807.862873</td>\n",
              "      <td>9092.0</td>\n",
              "      <td>6.0</td>\n",
              "      <td>362.090602</td>\n",
              "      <td>2315.889576</td>\n",
              "      <td>2317.284632</td>\n",
              "      <td>2316.846782</td>\n",
              "      <td>0.317004</td>\n",
              "      <td>76.953708</td>\n",
              "      <td>10271.796525</td>\n",
              "      <td>2104.136580</td>\n",
              "      <td>2048.747845</td>\n",
              "      <td>761531.681087</td>\n",
              "      <td>279.171818</td>\n",
              "    </tr>\n",
              "    <tr>\n",
              "      <th>std</th>\n",
              "      <td>3907.567979</td>\n",
              "      <td>0.0</td>\n",
              "      <td>0.0</td>\n",
              "      <td>56.159077</td>\n",
              "      <td>395.897535</td>\n",
              "      <td>394.644232</td>\n",
              "      <td>395.614646</td>\n",
              "      <td>1.226467</td>\n",
              "      <td>19.597907</td>\n",
              "      <td>1867.873236</td>\n",
              "      <td>175.951136</td>\n",
              "      <td>231.740512</td>\n",
              "      <td>131589.840309</td>\n",
              "      <td>34.988489</td>\n",
              "    </tr>\n",
              "    <tr>\n",
              "      <th>min</th>\n",
              "      <td>33560.000000</td>\n",
              "      <td>9092.0</td>\n",
              "      <td>6.0</td>\n",
              "      <td>22.000000</td>\n",
              "      <td>499.000000</td>\n",
              "      <td>501.000000</td>\n",
              "      <td>501.000000</td>\n",
              "      <td>0.000000</td>\n",
              "      <td>59.000000</td>\n",
              "      <td>5971.000000</td>\n",
              "      <td>1387.150000</td>\n",
              "      <td>1291.840000</td>\n",
              "      <td>44072.000000</td>\n",
              "      <td>10.014000</td>\n",
              "    </tr>\n",
              "    <tr>\n",
              "      <th>25%</th>\n",
              "      <td>39846.000000</td>\n",
              "      <td>9092.0</td>\n",
              "      <td>6.0</td>\n",
              "      <td>340.000000</td>\n",
              "      <td>2438.000000</td>\n",
              "      <td>2439.000000</td>\n",
              "      <td>2439.000000</td>\n",
              "      <td>0.000000</td>\n",
              "      <td>62.000000</td>\n",
              "      <td>8740.000000</td>\n",
              "      <td>1973.480000</td>\n",
              "      <td>1867.347500</td>\n",
              "      <td>686703.750000</td>\n",
              "      <td>290.015000</td>\n",
              "    </tr>\n",
              "    <tr>\n",
              "      <th>50%</th>\n",
              "      <td>39846.000000</td>\n",
              "      <td>9092.0</td>\n",
              "      <td>6.0</td>\n",
              "      <td>369.000000</td>\n",
              "      <td>2438.000000</td>\n",
              "      <td>2439.000000</td>\n",
              "      <td>2439.000000</td>\n",
              "      <td>0.050000</td>\n",
              "      <td>69.000000</td>\n",
              "      <td>10587.000000</td>\n",
              "      <td>2094.890000</td>\n",
              "      <td>2032.635000</td>\n",
              "      <td>709585.000000</td>\n",
              "      <td>290.016000</td>\n",
              "    </tr>\n",
              "    <tr>\n",
              "      <th>75%</th>\n",
              "      <td>40442.000000</td>\n",
              "      <td>9092.0</td>\n",
              "      <td>6.0</td>\n",
              "      <td>398.000000</td>\n",
              "      <td>2439.000000</td>\n",
              "      <td>2439.000000</td>\n",
              "      <td>2439.000000</td>\n",
              "      <td>0.100000</td>\n",
              "      <td>88.000000</td>\n",
              "      <td>11718.000000</td>\n",
              "      <td>2226.530000</td>\n",
              "      <td>2229.402500</td>\n",
              "      <td>882164.750000</td>\n",
              "      <td>290.017000</td>\n",
              "    </tr>\n",
              "    <tr>\n",
              "      <th>max</th>\n",
              "      <td>59584.000000</td>\n",
              "      <td>9092.0</td>\n",
              "      <td>6.0</td>\n",
              "      <td>514.000000</td>\n",
              "      <td>2439.000000</td>\n",
              "      <td>2439.000000</td>\n",
              "      <td>2439.000000</td>\n",
              "      <td>21.950000</td>\n",
              "      <td>264.000000</td>\n",
              "      <td>14764.000000</td>\n",
              "      <td>2899.900000</td>\n",
              "      <td>2856.150000</td>\n",
              "      <td>923288.000000</td>\n",
              "      <td>290.056000</td>\n",
              "    </tr>\n",
              "  </tbody>\n",
              "</table>\n",
              "</div>"
            ],
            "text/plain": [
              "       src_host_port  dest_host_port  ...  total_data_bytes  flow_duration\n",
              "count    8576.000000          8576.0  ...       8576.000000    8576.000000\n",
              "mean    40807.862873          9092.0  ...     761531.681087     279.171818\n",
              "std      3907.567979             0.0  ...     131589.840309      34.988489\n",
              "min     33560.000000          9092.0  ...      44072.000000      10.014000\n",
              "25%     39846.000000          9092.0  ...     686703.750000     290.015000\n",
              "50%     39846.000000          9092.0  ...     709585.000000     290.016000\n",
              "75%     40442.000000          9092.0  ...     882164.750000     290.017000\n",
              "max     59584.000000          9092.0  ...     923288.000000     290.056000\n",
              "\n",
              "[8 rows x 14 columns]"
            ]
          },
          "metadata": {
            "tags": []
          },
          "execution_count": 4
        }
      ]
    },
    {
      "cell_type": "code",
      "metadata": {
        "ExecuteTime": {
          "end_time": "2020-03-02T14:49:49.415981Z",
          "start_time": "2020-03-02T14:49:49.396034Z"
        },
        "id": "18TqgoQ7PzEa"
      },
      "source": [
        "#df.drop_duplicates(subset=['Processing_time'], keep=False,inplace=True)"
      ],
      "execution_count": 5,
      "outputs": []
    },
    {
      "cell_type": "code",
      "metadata": {
        "ExecuteTime": {
          "end_time": "2020-03-02T14:49:55.272345Z",
          "start_time": "2020-03-02T14:49:55.243422Z"
        },
        "id": "zOEeEc3QPzEb"
      },
      "source": [
        "Measurement_boxname_le = preprocessing.LabelEncoder()\n",
        "df['Measurement_boxname_le'] = Measurement_boxname_le.fit_transform(df['Measurement_boxname']) "
      ],
      "execution_count": 6,
      "outputs": []
    },
    {
      "cell_type": "code",
      "metadata": {
        "ExecuteTime": {
          "end_time": "2020-03-02T14:50:05.283593Z",
          "start_time": "2020-03-02T14:50:05.275613Z"
        },
        "id": "XblXTJ48PzEc"
      },
      "source": [
        "df = df[['std_dev_tcp_window_size','max_tcp_window_size','max_tcp_window_size','min_tcp_window_size','min_data_bytes', 'max_data_bytes', 'avg_databytes','std_dev_databytes','total_data_bytes', 'Measurement_boxname_le']]"
      ],
      "execution_count": 7,
      "outputs": []
    },
    {
      "cell_type": "code",
      "metadata": {
        "ExecuteTime": {
          "end_time": "2020-03-02T14:50:14.292555Z",
          "start_time": "2020-03-02T14:50:14.284564Z"
        },
        "id": "Y4-EzZtePzEd"
      },
      "source": [
        "def custom_ts_multi_data_prep(dataset, target, start, end, window, horizon):\n",
        "    X = []\n",
        "    y = []\n",
        "    start = start + window\n",
        "    if end is None:\n",
        "        end = len(dataset) - horizon\n",
        "\n",
        "    for i in range(start, end):\n",
        "        indices = range(i-window, i)\n",
        "        X.append(dataset[indices])\n",
        "\n",
        "        indicey = range(i+1, i+1+horizon)\n",
        "        y.append(target[indicey])\n",
        "    return np.array(X), np.array(y)"
      ],
      "execution_count": 8,
      "outputs": []
    },
    {
      "cell_type": "code",
      "metadata": {
        "id": "WO7ffDPOAOEL"
      },
      "source": [
        "validate = df[['std_dev_tcp_window_size','max_tcp_window_size','max_tcp_window_size','min_tcp_window_size','min_data_bytes', 'max_data_bytes', 'avg_databytes','std_dev_databytes','total_data_bytes', 'Measurement_boxname_le']].tail(100)\n",
        "df.drop(df.tail(100).index,inplace=True)"
      ],
      "execution_count": 9,
      "outputs": []
    },
    {
      "cell_type": "code",
      "metadata": {
        "ExecuteTime": {
          "end_time": "2020-03-02T14:50:27.473295Z",
          "start_time": "2020-03-02T14:50:27.455344Z"
        },
        "id": "sUO2SIPRPzEf"
      },
      "source": [
        "x_scaler = preprocessing.MinMaxScaler()\n",
        "y_scaler = preprocessing.MinMaxScaler()\n",
        "dataX = x_scaler.fit_transform(df[['std_dev_tcp_window_size','max_tcp_window_size','max_tcp_window_size','min_tcp_window_size','Measurement_boxname_le','min_data_bytes', 'max_data_bytes', 'avg_databytes','std_dev_databytes','total_data_bytes']])\n",
        "dataY = y_scaler.fit_transform(df[['total_data_bytes']])"
      ],
      "execution_count": 10,
      "outputs": []
    },
    {
      "cell_type": "code",
      "metadata": {
        "ExecuteTime": {
          "end_time": "2020-03-02T14:50:36.362542Z",
          "start_time": "2020-03-02T14:50:35.159755Z"
        },
        "id": "OVyVG9wPPzEf"
      },
      "source": [
        "#hist_window = 12\n",
        "#horizon = 10\n",
        "hist_window = 100\n",
        "horizon = 100\n",
        "\n",
        "TRAIN_SPLIT = 5574\n",
        "x_train_multi, y_train_multi = custom_ts_multi_data_prep(\n",
        "    dataX, dataY, 0, TRAIN_SPLIT, hist_window, horizon)\n",
        "x_val_multi, y_val_multi = custom_ts_multi_data_prep(\n",
        "    dataX, dataY, TRAIN_SPLIT, None, hist_window, horizon)"
      ],
      "execution_count": 11,
      "outputs": []
    },
    {
      "cell_type": "code",
      "metadata": {
        "ExecuteTime": {
          "end_time": "2020-03-02T14:50:42.641762Z",
          "start_time": "2020-03-02T14:50:42.627799Z"
        },
        "id": "yRGFNGVpPzEg",
        "scrolled": true,
        "colab": {
          "base_uri": "https://localhost:8080/"
        },
        "outputId": "3650a8c7-b7e9-4a85-c55f-95d863319b27"
      },
      "source": [
        "print ('Single window of past history')\n",
        "print(x_train_multi[0])\n",
        "print ('\\n Target horizon')\n",
        "print (y_train_multi[0])"
      ],
      "execution_count": 12,
      "outputs": [
        {
          "output_type": "stream",
          "text": [
            "Single window of past history\n",
            "[[0.00318907 1.         1.         ... 0.92620063 0.83064738 0.53022238]\n",
            " [0.00501139 1.         1.         ... 0.5560866  0.51308245 0.95353474]\n",
            " [0.00592255 1.         1.         ... 0.54369195 0.65795782 0.94257725]\n",
            " ...\n",
            " [0.00318907 1.         1.         ... 0.61981821 0.69114817 0.95200497]\n",
            " [0.00364465 1.         1.         ... 0.46506693 0.51369613 0.95334139]\n",
            " [0.00273349 1.         1.         ... 0.44040985 0.45972346 0.55709518]]\n",
            "\n",
            " Target horizon\n",
            "[[0.95675579]\n",
            " [0.95342669]\n",
            " [0.96434892]\n",
            " [0.93700524]\n",
            " [0.95319011]\n",
            " [0.97162017]\n",
            " [0.96217198]\n",
            " [0.95016128]\n",
            " [0.9435008 ]\n",
            " [0.5483135 ]\n",
            " [0.95733813]\n",
            " [0.96416353]\n",
            " [0.94840972]\n",
            " [0.95597214]\n",
            " [0.94372373]\n",
            " [0.94332451]\n",
            " [0.94130339]\n",
            " [0.93501483]\n",
            " [0.95018971]\n",
            " [0.9423566 ]\n",
            " [0.96352546]\n",
            " [0.54706807]\n",
            " [0.95907149]\n",
            " [0.94840176]\n",
            " [0.94293666]\n",
            " [0.96204914]\n",
            " [0.96224591]\n",
            " [0.9554262 ]\n",
            " [0.94530809]\n",
            " [0.94497712]\n",
            " [0.9765598 ]\n",
            " [0.97429869]\n",
            " [0.54664269]\n",
            " [0.95076864]\n",
            " [0.96023048]\n",
            " [0.94912172]\n",
            " [0.96505068]\n",
            " [0.93573138]\n",
            " [0.97024394]\n",
            " [0.9760912 ]\n",
            " [0.9517809 ]\n",
            " [0.9466229 ]\n",
            " [0.96037834]\n",
            " [0.96045682]\n",
            " [0.55213053]\n",
            " [0.96298521]\n",
            " [0.96207189]\n",
            " [0.94541046]\n",
            " [0.96841732]\n",
            " [0.9713108 ]\n",
            " [0.96310463]\n",
            " [0.94614406]\n",
            " [0.95992111]\n",
            " [0.94780918]\n",
            " [0.55984877]\n",
            " [0.95792729]\n",
            " [0.96227093]\n",
            " [0.96019067]\n",
            " [0.93869766]\n",
            " [0.94313115]\n",
            " [0.95847209]\n",
            " [0.95846072]\n",
            " [0.9766178 ]\n",
            " [0.96804994]\n",
            " [0.9483392 ]\n",
            " [0.56652063]\n",
            " [0.95855285]\n",
            " [0.96219473]\n",
            " [0.95229727]\n",
            " [0.95538639]\n",
            " [0.9466593 ]\n",
            " [0.9633958 ]\n",
            " [0.95261688]\n",
            " [0.96102778]\n",
            " [0.95452767]\n",
            " [0.94858374]\n",
            " [0.97563284]\n",
            " [0.54414274]\n",
            " [0.95349607]\n",
            " [0.93493976]\n",
            " [0.94970178]\n",
            " [0.95715274]\n",
            " [0.9527818 ]\n",
            " [0.94915129]\n",
            " [0.95099839]\n",
            " [0.96450588]\n",
            " [0.95571054]\n",
            " [0.56781951]\n",
            " [0.95715501]\n",
            " [0.95811609]\n",
            " [0.96417263]\n",
            " [0.94262616]\n",
            " [0.98041209]\n",
            " [0.94506583]\n",
            " [0.96052392]\n",
            " [0.97320795]\n",
            " [0.96932836]\n",
            " [0.96204801]\n",
            " [0.95218581]\n",
            " [0.54597733]]\n"
          ],
          "name": "stdout"
        }
      ]
    },
    {
      "cell_type": "code",
      "metadata": {
        "ExecuteTime": {
          "end_time": "2020-03-02T14:50:52.762715Z",
          "start_time": "2020-03-02T14:50:51.620768Z"
        },
        "id": "YN8DcUfkPzEg"
      },
      "source": [
        "#BATCH_SIZE = 256\n",
        "#BUFFER_SIZE = 150\n",
        "BATCH_SIZE = 256\n",
        "BUFFER_SIZE = 150\n",
        "\n",
        "train_data_multi = tf.data.Dataset.from_tensor_slices((x_train_multi, y_train_multi))\n",
        "train_data_multi = train_data_multi.cache().shuffle(BUFFER_SIZE).batch(BATCH_SIZE).repeat()\n",
        "\n",
        "val_data_multi = tf.data.Dataset.from_tensor_slices((x_val_multi, y_val_multi))\n",
        "val_data_multi = val_data_multi.batch(BATCH_SIZE).repeat()"
      ],
      "execution_count": 13,
      "outputs": []
    },
    {
      "cell_type": "code",
      "metadata": {
        "ExecuteTime": {
          "end_time": "2020-03-02T14:51:01.755685Z",
          "start_time": "2020-03-02T14:51:01.613069Z"
        },
        "id": "m-rpWu6zPzEh"
      },
      "source": [
        "model = Sequential()\n",
        "model.add(Conv1D(filters=64, kernel_size=3, activation='relu', input_shape=(x_train_multi.shape[1], x_train_multi.shape[2])))\n",
        "model.add(MaxPool1D(pool_size=2))\n",
        "model.add(Dropout(0.2))\n",
        "model.add(Flatten())\n",
        "model.add(Dense(30, activation='relu'))\n",
        "model.add(Dropout(0.2))\n",
        "model.add(Dense(horizon))\n",
        "model.compile(optimizer='adam', loss='mse')"
      ],
      "execution_count": 14,
      "outputs": []
    },
    {
      "cell_type": "code",
      "metadata": {
        "ExecuteTime": {
          "end_time": "2020-03-02T14:51:12.247691Z",
          "start_time": "2020-03-02T14:51:12.243661Z"
        },
        "id": "qfiWQUCiPzEi"
      },
      "source": [
        "model_path = r'CNN_Multivariate.h5'"
      ],
      "execution_count": 15,
      "outputs": []
    },
    {
      "cell_type": "code",
      "metadata": {
        "ExecuteTime": {
          "end_time": "2020-03-02T14:52:13.931812Z",
          "start_time": "2020-03-02T14:51:25.540129Z"
        },
        "id": "T9Rkdv_UPzEj",
        "scrolled": true,
        "colab": {
          "base_uri": "https://localhost:8080/"
        },
        "outputId": "0f18d592-a64f-43db-80bc-85712eb7bf4e"
      },
      "source": [
        "EVALUATION_INTERVAL = 100\n",
        "EPOCHS = 150\n",
        "history = model.fit(train_data_multi, epochs=EPOCHS, steps_per_epoch=EVALUATION_INTERVAL, validation_data=val_data_multi, validation_steps=50, verbose=1,\n",
        "                                   callbacks=[tf.keras.callbacks.EarlyStopping(monitor='val_loss', min_delta=0, patience=10, verbose=1, mode='min'), tf.keras.callbacks.ModelCheckpoint(model_path, monitor='val_loss', save_best_only=True, mode='min', verbose=0)])"
      ],
      "execution_count": 16,
      "outputs": [
        {
          "output_type": "stream",
          "text": [
            "Epoch 1/150\n",
            "100/100 [==============================] - 6s 53ms/step - loss: 0.5271 - val_loss: 0.0268\n",
            "Epoch 2/150\n",
            "100/100 [==============================] - 5s 48ms/step - loss: 0.1021 - val_loss: 0.0166\n",
            "Epoch 3/150\n",
            "100/100 [==============================] - 5s 47ms/step - loss: 0.0714 - val_loss: 0.0103\n",
            "Epoch 4/150\n",
            "100/100 [==============================] - 5s 47ms/step - loss: 0.0516 - val_loss: 0.0160\n",
            "Epoch 5/150\n",
            "100/100 [==============================] - 5s 48ms/step - loss: 0.0480 - val_loss: 0.0123\n",
            "Epoch 6/150\n",
            "100/100 [==============================] - 5s 48ms/step - loss: 0.0391 - val_loss: 0.0108\n",
            "Epoch 7/150\n",
            "100/100 [==============================] - 5s 47ms/step - loss: 0.0372 - val_loss: 0.0101\n",
            "Epoch 8/150\n",
            "100/100 [==============================] - 5s 47ms/step - loss: 0.0334 - val_loss: 0.0099\n",
            "Epoch 9/150\n",
            "100/100 [==============================] - 5s 47ms/step - loss: 0.0325 - val_loss: 0.0126\n",
            "Epoch 10/150\n",
            "100/100 [==============================] - 5s 47ms/step - loss: 0.0317 - val_loss: 0.0102\n",
            "Epoch 11/150\n",
            "100/100 [==============================] - 5s 47ms/step - loss: 0.0304 - val_loss: 0.0116\n",
            "Epoch 12/150\n",
            "100/100 [==============================] - 5s 47ms/step - loss: 0.0292 - val_loss: 0.0100\n",
            "Epoch 13/150\n",
            "100/100 [==============================] - 5s 47ms/step - loss: 0.0274 - val_loss: 0.0103\n",
            "Epoch 14/150\n",
            "100/100 [==============================] - 5s 47ms/step - loss: 0.0263 - val_loss: 0.0116\n",
            "Epoch 15/150\n",
            "100/100 [==============================] - 5s 48ms/step - loss: 0.0243 - val_loss: 0.0101\n",
            "Epoch 16/150\n",
            "100/100 [==============================] - 5s 47ms/step - loss: 0.0244 - val_loss: 0.0120\n",
            "Epoch 17/150\n",
            "100/100 [==============================] - 5s 47ms/step - loss: 0.0229 - val_loss: 0.0110\n",
            "Epoch 18/150\n",
            "100/100 [==============================] - 5s 47ms/step - loss: 0.0221 - val_loss: 0.0099\n",
            "Epoch 00018: early stopping\n"
          ],
          "name": "stdout"
        }
      ]
    },
    {
      "cell_type": "code",
      "metadata": {
        "ExecuteTime": {
          "end_time": "2020-03-02T14:53:23.657487Z",
          "start_time": "2020-03-02T14:53:23.145853Z"
        },
        "id": "dhjFoX7sPzEj"
      },
      "source": [
        "Trained_model = tf.keras.models.load_model(model_path)"
      ],
      "execution_count": 17,
      "outputs": []
    },
    {
      "cell_type": "code",
      "metadata": {
        "ExecuteTime": {
          "end_time": "2020-03-02T14:53:24.691724Z",
          "start_time": "2020-03-02T14:53:24.682753Z"
        },
        "id": "gka9OA7xPzEk",
        "colab": {
          "base_uri": "https://localhost:8080/"
        },
        "outputId": "74008e78-3bc1-4726-9717-fbadce0b41cb"
      },
      "source": [
        "# Show the model architecture\n",
        "Trained_model.summary()"
      ],
      "execution_count": 18,
      "outputs": [
        {
          "output_type": "stream",
          "text": [
            "Model: \"sequential\"\n",
            "_________________________________________________________________\n",
            "Layer (type)                 Output Shape              Param #   \n",
            "=================================================================\n",
            "conv1d (Conv1D)              (None, 98, 64)            2368      \n",
            "_________________________________________________________________\n",
            "max_pooling1d (MaxPooling1D) (None, 49, 64)            0         \n",
            "_________________________________________________________________\n",
            "dropout (Dropout)            (None, 49, 64)            0         \n",
            "_________________________________________________________________\n",
            "flatten (Flatten)            (None, 3136)              0         \n",
            "_________________________________________________________________\n",
            "dense (Dense)                (None, 30)                94110     \n",
            "_________________________________________________________________\n",
            "dropout_1 (Dropout)          (None, 30)                0         \n",
            "_________________________________________________________________\n",
            "dense_1 (Dense)              (None, 100)               3100      \n",
            "=================================================================\n",
            "Total params: 99,578\n",
            "Trainable params: 99,578\n",
            "Non-trainable params: 0\n",
            "_________________________________________________________________\n"
          ],
          "name": "stdout"
        }
      ]
    },
    {
      "cell_type": "code",
      "metadata": {
        "ExecuteTime": {
          "end_time": "2020-03-02T14:53:28.568399Z",
          "start_time": "2020-03-02T14:53:28.319030Z"
        },
        "id": "Le5iVNMbPzEk",
        "colab": {
          "base_uri": "https://localhost:8080/",
          "height": 295
        },
        "outputId": "747a80aa-7532-4d01-81ae-8e299c62b521"
      },
      "source": [
        "plt.plot(history.history['loss'])\n",
        "plt.plot(history.history['val_loss'])\n",
        "plt.title('Model loss')\n",
        "plt.ylabel('loss')\n",
        "plt.xlabel('epoch')\n",
        "plt.legend(['train loss', 'validation loss'], loc='upper left')\n",
        "plt.rcParams[\"figure.figsize\"] = [16,9]\n",
        "plt.show()"
      ],
      "execution_count": 19,
      "outputs": [
        {
          "output_type": "display_data",
          "data": {
            "image/png": "[encoded data removed]",
            "text/plain": [
              "<Figure size 432x288 with 1 Axes>"
            ]
          },
          "metadata": {
            "tags": [],
            "needs_background": "light"
          }
        }
      ]
    },
    {
      "cell_type": "code",
      "metadata": {
        "ExecuteTime": {
          "end_time": "2020-03-02T14:53:30.688698Z",
          "start_time": "2020-03-02T14:53:30.679721Z"
        },
        "id": "D0-tAnDIPzEl"
      },
      "source": [
        "data_val = x_scaler.fit_transform(df[['std_dev_tcp_window_size','max_tcp_window_size','max_tcp_window_size','min_tcp_window_size','Measurement_boxname_le','min_data_bytes', 'max_data_bytes', 'avg_databytes','std_dev_databytes','total_data_bytes']].tail(100))"
      ],
      "execution_count": 20,
      "outputs": []
    },
    {
      "cell_type": "code",
      "metadata": {
        "ExecuteTime": {
          "end_time": "2020-03-02T14:53:32.001192Z",
          "start_time": "2020-03-02T14:53:31.997200Z"
        },
        "id": "BIK1oX_1PzEl",
        "scrolled": true
      },
      "source": [
        "val_rescaled = data_val.reshape(1, data_val.shape[0], data_val.shape[1])"
      ],
      "execution_count": 21,
      "outputs": []
    },
    {
      "cell_type": "code",
      "metadata": {
        "ExecuteTime": {
          "end_time": "2020-03-02T14:53:34.098625Z",
          "start_time": "2020-03-02T14:53:33.963948Z"
        },
        "id": "rkXpQTZWPzEl"
      },
      "source": [
        "Predicted_results = Trained_model.predict(val_rescaled)"
      ],
      "execution_count": 22,
      "outputs": []
    },
    {
      "cell_type": "code",
      "metadata": {
        "ExecuteTime": {
          "end_time": "2020-03-02T14:53:35.261477Z",
          "start_time": "2020-03-02T14:53:35.255494Z"
        },
        "id": "hUH_nCTbPzEm",
        "colab": {
          "base_uri": "https://localhost:8080/"
        },
        "outputId": "1d702b64-9bb7-4f4e-a604-b354a2699fc8"
      },
      "source": [
        "Predicted_results"
      ],
      "execution_count": 23,
      "outputs": [
        {
          "output_type": "execute_result",
          "data": {
            "text/plain": [
              "array([[0.8104872 , 0.7987435 , 0.7844188 , 0.79134256, 0.7612312 ,\n",
              "        0.78531784, 0.84533405, 0.7912759 , 0.80873054, 0.7692263 ,\n",
              "        0.78531146, 0.78610265, 0.81465423, 0.79097986, 0.80041677,\n",
              "        0.7965322 , 0.77218616, 0.78626645, 0.80777526, 0.8097847 ,\n",
              "        0.7423421 , 0.78892994, 0.793686  , 0.7995582 , 0.78506994,\n",
              "        0.7551703 , 0.79547465, 0.79022527, 0.78242326, 0.8158071 ,\n",
              "        0.7748876 , 0.80118287, 0.7746052 , 0.76201415, 0.7758619 ,\n",
              "        0.78982794, 0.7844153 , 0.7831704 , 0.77907586, 0.8048126 ,\n",
              "        0.7929342 , 0.793425  , 0.8349695 , 0.78157604, 0.74378777,\n",
              "        0.82422936, 0.77556777, 0.7946909 , 0.7603178 , 0.7830549 ,\n",
              "        0.75486875, 0.78602874, 0.7732584 , 0.7859325 , 0.7819971 ,\n",
              "        0.7779107 , 0.79623526, 0.7928823 , 0.7714048 , 0.77505296,\n",
              "        0.7809898 , 0.7877897 , 0.814889  , 0.7716285 , 0.8220782 ,\n",
              "        0.78972447, 0.78234357, 0.79241234, 0.77878857, 0.80418503,\n",
              "        0.80474716, 0.8001542 , 0.8096601 , 0.8132882 , 0.7830875 ,\n",
              "        0.77241415, 0.7513707 , 0.7782301 , 0.79077697, 0.79172343,\n",
              "        0.78381693, 0.78588957, 0.7950637 , 0.78110135, 0.7918582 ,\n",
              "        0.7674533 , 0.7823713 , 0.778579  , 0.77941537, 0.7793501 ,\n",
              "        0.80028284, 0.76121736, 0.785431  , 0.76400006, 0.78429776,\n",
              "        0.7793558 , 0.7885199 , 0.7807395 , 0.8040905 , 0.8189075 ]],\n",
              "      dtype=float32)"
            ]
          },
          "metadata": {
            "tags": []
          },
          "execution_count": 23
        }
      ]
    },
    {
      "cell_type": "code",
      "metadata": {
        "ExecuteTime": {
          "end_time": "2020-03-02T14:53:37.025763Z",
          "start_time": "2020-03-02T14:53:37.021774Z"
        },
        "id": "du4qmKwuPzEm"
      },
      "source": [
        "Predicted_results_Inv_trans = y_scaler.inverse_transform(Predicted_results)"
      ],
      "execution_count": 24,
      "outputs": []
    },
    {
      "cell_type": "code",
      "metadata": {
        "ExecuteTime": {
          "end_time": "2020-03-02T14:53:37.945306Z",
          "start_time": "2020-03-02T14:53:37.940319Z"
        },
        "id": "u7umm5lMPzEn",
        "colab": {
          "base_uri": "https://localhost:8080/"
        },
        "outputId": "2effa56b-5259-467d-dc6b-e607612d5b38"
      },
      "source": [
        "Predicted_results_Inv_trans"
      ],
      "execution_count": 25,
      "outputs": [
        {
          "output_type": "execute_result",
          "data": {
            "text/plain": [
              "array([[756665.3 , 746340.06, 733745.56, 739833.06, 713358.6 , 734536.  ,\n",
              "        787303.25, 739774.44, 755120.9 , 720388.1 , 734530.44, 735226.06,\n",
              "        760329.06, 739514.2 , 747811.25, 744395.9 , 722990.44, 735370.06,\n",
              "        754280.94, 756047.7 , 696751.06, 737711.8 , 741893.44, 747056.4 ,\n",
              "        734318.06, 708029.8 , 743466.06, 738850.7 , 731991.06, 761342.7 ,\n",
              "        725365.6 , 748484.8 , 725117.3 , 714047.06, 726222.25, 738501.4 ,\n",
              "        733742.5 , 732647.94, 729048.  , 751676.1 , 741232.44, 741664.  ,\n",
              "        778190.56, 731246.2 , 698022.1 , 768747.6 , 725963.6 , 742777.  ,\n",
              "        712555.56, 732546.4 , 707764.7 , 735161.06, 723933.2 , 735076.44,\n",
              "        731616.4 , 728023.56, 744134.8 , 741186.8 , 722303.44, 725511.  ,\n",
              "        730730.75, 736709.3 , 760535.5 , 722500.1 , 766856.4 , 738410.4 ,\n",
              "        731921.  , 740773.6 , 728795.4 , 751124.4 , 751618.6 , 747580.4 ,\n",
              "        755938.1 , 759128.  , 732575.06, 723190.9 , 704689.2 , 728304.4 ,\n",
              "        739335.75, 740167.94, 733216.4 , 735038.7 , 743104.7 , 730828.8 ,\n",
              "        740286.44, 718829.25, 731945.4 , 728611.1 , 729346.5 , 729289.1 ,\n",
              "        747693.5 , 713346.5 , 734635.56, 715793.06, 733639.2 , 729294.1 ,\n",
              "        737351.3 , 730510.7 , 751041.25, 764068.56]], dtype=float32)"
            ]
          },
          "metadata": {
            "tags": []
          },
          "execution_count": 25
        }
      ]
    },
    {
      "cell_type": "code",
      "metadata": {
        "ExecuteTime": {
          "end_time": "2020-03-02T14:53:40.146461Z",
          "start_time": "2020-03-02T14:53:40.115507Z"
        },
        "id": "4u69jBCiPzEn"
      },
      "source": [
        "from sklearn import metrics\n",
        "def timeseries_evaluation_metrics_func(y_true, y_pred):\n",
        "    \n",
        "    def mean_absolute_percentage_error(y_true, y_pred): \n",
        "        y_true, y_pred = np.array(y_true), np.array(y_pred)\n",
        "        return np.mean(np.abs((y_true - y_pred) / y_true)) * 100\n",
        "    print('Evaluation metric results:-')\n",
        "    print(f'MSE is : {metrics.mean_squared_error(y_true, y_pred)}')\n",
        "    print(f'MAE is : {metrics.mean_absolute_error(y_true, y_pred)}')\n",
        "    print(f'RMSE is : {np.sqrt(metrics.mean_squared_error(y_true, y_pred))}')\n",
        "    print(f'MAPE is : {mean_absolute_percentage_error(y_true, y_pred)}')\n",
        "    print(f'R2 is : {metrics.r2_score(y_true, y_pred)}',end='\\n\\n')"
      ],
      "execution_count": 26,
      "outputs": []
    },
    {
      "cell_type": "code",
      "metadata": {
        "ExecuteTime": {
          "end_time": "2020-03-02T14:53:41.829926Z",
          "start_time": "2020-03-02T14:53:41.819953Z"
        },
        "id": "JQiK0RxWPzEo",
        "colab": {
          "base_uri": "https://localhost:8080/"
        },
        "outputId": "c575ecb9-7b34-44ee-f389-2fd657811633"
      },
      "source": [
        "timeseries_evaluation_metrics_func(validate['total_data_bytes'],Predicted_results_Inv_trans[0])"
      ],
      "execution_count": 27,
      "outputs": [
        {
          "output_type": "stream",
          "text": [
            "Evaluation metric results:-\n",
            "MSE is : 8197022655.139688\n",
            "MAE is : 47064.97875\n",
            "RMSE is : 90537.41025200405\n",
            "MAPE is : 8.551240897222423\n",
            "R2 is : -0.05541060659646635\n",
            "\n"
          ],
          "name": "stdout"
        }
      ]
    },
    {
      "cell_type": "code",
      "metadata": {
        "ExecuteTime": {
          "end_time": "2020-03-02T14:53:53.470817Z",
          "start_time": "2020-03-02T14:53:53.135713Z"
        },
        "id": "mJCd14KtPzEo",
        "colab": {
          "base_uri": "https://localhost:8080/",
          "height": 553
        },
        "outputId": "a9d30d53-aeee-4d5e-c3d2-b31591618159"
      },
      "source": [
        "\n",
        "\n",
        "plt.plot( list(validate['total_data_bytes']))\n",
        "plt.plot( list(Predicted_results_Inv_trans[0]))\n",
        "plt.title(\"Actual vs Predicted\")\n",
        "plt.ylabel(\"total_data_bytes\")\n",
        "plt.legend(('Actual','predicted'))\n",
        "plt.show()\n"
      ],
      "execution_count": 28,
      "outputs": [
        {
          "output_type": "display_data",
          "data": {
            "image/png": "[encoded data removed]",
            "text/plain": [
              "<Figure size 1152x648 with 1 Axes>"
            ]
          },
          "metadata": {
            "tags": [],
            "needs_background": "light"
          }
        }
      ]
    },
    {
      "cell_type": "code",
      "metadata": {
        "id": "hlajdbLCAOER"
      },
      "source": [
        ""
      ],
      "execution_count": 28,
      "outputs": []
    }
  ]
}