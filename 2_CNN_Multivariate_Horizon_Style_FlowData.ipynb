{
  "nbformat": 4,
  "nbformat_minor": 0,
  "metadata": {
    "colab": {
      "name": "2_CNN_Multivariate_Horizon_Style_FlowData.ipynb",
      "provenance": [],
      "collapsed_sections": [],
      "include_colab_link": true
    },
    "kernelspec": {
      "display_name": "Python 3",
      "language": "python",
      "name": "python3"
    },
    "language_info": {
      "codemirror_mode": {
        "name": "ipython",
        "version": 3
      },
      "file_extension": ".py",
      "mimetype": "text/x-python",
      "name": "python",
      "nbconvert_exporter": "python",
      "pygments_lexer": "ipython3",
      "version": "3.7.2"
    },
    "latex_envs": {
      "LaTeX_envs_menu_present": true,
      "autoclose": false,
      "autocomplete": true,
      "bibliofile": "biblio.bib",
      "cite_by": "apalike",
      "current_citInitial": 1,
      "eqLabelWithNumbers": true,
      "eqNumInitial": 1,
      "hotkeys": {
        "equation": "Ctrl-E",
        "itemize": "Ctrl-I"
      },
      "labels_anchors": false,
      "latex_user_defs": false,
      "report_style_numbering": false,
      "user_envs_cfg": false
    },
    "nbTranslate": {
      "displayLangs": [
        "*"
      ],
      "hotkey": "alt-t",
      "langInMainMenu": true,
      "sourceLang": "en",
      "targetLang": "fr",
      "useGoogleTranslate": true
    }
  },
  "cells": [
    {
      "cell_type": "markdown",
      "metadata": {
        "id": "view-in-github",
        "colab_type": "text"
      },
      "source": [
        "<a href=\"https://colab.research.google.com/github/ahmadrathore/Provisioning-SmartX-MicroBox/blob/master/2_CNN_Multivariate_Horizon_Style_FlowData.ipynb\" target=\"_parent\"><img src=\"https://colab.research.google.com/assets/colab-badge.svg\" alt=\"Open In Colab\"/></a>"
      ]
    },
    {
      "cell_type": "code",
      "metadata": {
        "ExecuteTime": {
          "end_time": "2020-03-02T14:49:23.660804Z",
          "start_time": "2020-03-02T14:49:18.905513Z"
        },
        "id": "dBj39vTjPzEM"
      },
      "source": [
        "import tensorflow as tf\n",
        "import matplotlib.pyplot as plt\n",
        "import numpy as np\n",
        "import pandas as pd\n",
        "from sklearn import preprocessing\n",
        "from tensorflow.keras.models import Sequential\n",
        "from tensorflow.keras.layers import Dense\n",
        "from tensorflow.keras.layers import Flatten,TimeDistributed,RepeatVector\n",
        "from tensorflow.keras.layers import Conv1D\n",
        "from tensorflow.keras.layers import MaxPool1D\n",
        "from tensorflow.keras.layers import Dropout\n",
        "tf.random.set_seed(123)\n",
        "np.random.seed(123)"
      ],
      "execution_count": 823,
      "outputs": []
    },
    {
      "cell_type": "code",
      "metadata": {
        "ExecuteTime": {
          "end_time": "2020-03-02T14:49:30.108611Z",
          "start_time": "2020-03-02T14:49:30.027794Z"
        },
        "id": "B34_TvUjPzEX"
      },
      "source": [
        "#df = pd.read_csv(r'merge-csv.com__602f0aa73c265.csv')\n",
        "#df = pd.read_csv('merge-csv.com__602f0aa73c265.csv',index_col='Processing_time',\n",
        "#                infer_datetime_format=True)\n",
        "url='https://raw.githubusercontent.com/ahmadrathore/Provisioning-SmartX-MicroBox/master/kafka9092_Network-Flows.csv'\n",
        "\n",
        "df = pd.read_csv(url,index_col='Processing_time',\n",
        "                infer_datetime_format=True)"
      ],
      "execution_count": 824,
      "outputs": []
    },
    {
      "cell_type": "code",
      "metadata": {
        "ExecuteTime": {
          "end_time": "2020-03-02T14:49:31.905775Z",
          "start_time": "2020-03-02T14:49:31.880839Z"
        },
        "id": "H_Y5pPiNPzEY",
        "colab": {
          "base_uri": "https://localhost:8080/",
          "height": 335
        },
        "outputId": "f708c066-c1b6-4855-808a-f1547cb50e23"
      },
      "source": [
        "df.head()"
      ],
      "execution_count": 825,
      "outputs": [
        {
          "output_type": "execute_result",
          "data": {
            "text/html": [
              "<div>\n",
              "<style scoped>\n",
              "    .dataframe tbody tr th:only-of-type {\n",
              "        vertical-align: middle;\n",
              "    }\n",
              "\n",
              "    .dataframe tbody tr th {\n",
              "        vertical-align: top;\n",
              "    }\n",
              "\n",
              "    .dataframe thead th {\n",
              "        text-align: right;\n",
              "    }\n",
              "</style>\n",
              "<table border=\"1\" class=\"dataframe\">\n",
              "  <thead>\n",
              "    <tr style=\"text-align: right;\">\n",
              "      <th></th>\n",
              "      <th>Measurement_boxname</th>\n",
              "      <th>src_host_port</th>\n",
              "      <th>dest_host_port</th>\n",
              "      <th>protocol</th>\n",
              "      <th>protocol_count</th>\n",
              "      <th>min_tcp_window_size</th>\n",
              "      <th>max_tcp_window_size</th>\n",
              "      <th>avg_tcp_window_size</th>\n",
              "      <th>std_dev_tcp_window_size</th>\n",
              "      <th>min_data_bytes</th>\n",
              "      <th>max_data_bytes</th>\n",
              "      <th>avg_databytes</th>\n",
              "      <th>std_dev_databytes</th>\n",
              "      <th>total_data_bytes</th>\n",
              "      <th>flow_duration</th>\n",
              "    </tr>\n",
              "    <tr>\n",
              "      <th>Processing_time</th>\n",
              "      <th></th>\n",
              "      <th></th>\n",
              "      <th></th>\n",
              "      <th></th>\n",
              "      <th></th>\n",
              "      <th></th>\n",
              "      <th></th>\n",
              "      <th></th>\n",
              "      <th></th>\n",
              "      <th></th>\n",
              "      <th></th>\n",
              "      <th></th>\n",
              "      <th></th>\n",
              "      <th></th>\n",
              "      <th></th>\n",
              "    </tr>\n",
              "  </thead>\n",
              "  <tbody>\n",
              "    <tr>\n",
              "      <th>2020-12-01T00:05:24.998+09:00</th>\n",
              "      <td>smartx-microbox-gist-1</td>\n",
              "      <td>39846</td>\n",
              "      <td>9092</td>\n",
              "      <td>6</td>\n",
              "      <td>183</td>\n",
              "      <td>2438</td>\n",
              "      <td>2439</td>\n",
              "      <td>2439</td>\n",
              "      <td>0.07</td>\n",
              "      <td>161</td>\n",
              "      <td>11888</td>\n",
              "      <td>2788.26</td>\n",
              "      <td>2591.23</td>\n",
              "      <td>510252</td>\n",
              "      <td>170.018</td>\n",
              "    </tr>\n",
              "    <tr>\n",
              "      <th>2020-12-01T00:10:44.861+09:00</th>\n",
              "      <td>smartx-microbox-gist-1</td>\n",
              "      <td>39846</td>\n",
              "      <td>9092</td>\n",
              "      <td>6</td>\n",
              "      <td>396</td>\n",
              "      <td>2438</td>\n",
              "      <td>2439</td>\n",
              "      <td>2439</td>\n",
              "      <td>0.11</td>\n",
              "      <td>63</td>\n",
              "      <td>11856</td>\n",
              "      <td>2228.37</td>\n",
              "      <td>2094.46</td>\n",
              "      <td>882435</td>\n",
              "      <td>290.016</td>\n",
              "    </tr>\n",
              "    <tr>\n",
              "      <th>2020-12-01T00:15:33.979+09:00</th>\n",
              "      <td>smartx-microbox-gist-1</td>\n",
              "      <td>39846</td>\n",
              "      <td>9092</td>\n",
              "      <td>6</td>\n",
              "      <td>395</td>\n",
              "      <td>2438</td>\n",
              "      <td>2439</td>\n",
              "      <td>2439</td>\n",
              "      <td>0.13</td>\n",
              "      <td>102</td>\n",
              "      <td>13084</td>\n",
              "      <td>2209.62</td>\n",
              "      <td>2321.09</td>\n",
              "      <td>872801</td>\n",
              "      <td>290.017</td>\n",
              "    </tr>\n",
              "    <tr>\n",
              "      <th>2020-12-01T00:25:41.464+09:00</th>\n",
              "      <td>smartx-microbox-gist-1</td>\n",
              "      <td>39846</td>\n",
              "      <td>9092</td>\n",
              "      <td>6</td>\n",
              "      <td>459</td>\n",
              "      <td>2438</td>\n",
              "      <td>2439</td>\n",
              "      <td>2439</td>\n",
              "      <td>0.09</td>\n",
              "      <td>61</td>\n",
              "      <td>11550</td>\n",
              "      <td>1989.66</td>\n",
              "      <td>1919.81</td>\n",
              "      <td>913254</td>\n",
              "      <td>290.017</td>\n",
              "    </tr>\n",
              "    <tr>\n",
              "      <th>2020-12-01T00:35:18.114+09:00</th>\n",
              "      <td>smartx-microbox-gist-1</td>\n",
              "      <td>39846</td>\n",
              "      <td>9092</td>\n",
              "      <td>6</td>\n",
              "      <td>456</td>\n",
              "      <td>2438</td>\n",
              "      <td>2439</td>\n",
              "      <td>2439</td>\n",
              "      <td>0.09</td>\n",
              "      <td>87</td>\n",
              "      <td>11544</td>\n",
              "      <td>1981.21</td>\n",
              "      <td>1909.48</td>\n",
              "      <td>903430</td>\n",
              "      <td>290.011</td>\n",
              "    </tr>\n",
              "  </tbody>\n",
              "</table>\n",
              "</div>"
            ],
            "text/plain": [
              "                                  Measurement_boxname  ...  flow_duration\n",
              "Processing_time                                        ...               \n",
              "2020-12-01T00:05:24.998+09:00  smartx-microbox-gist-1  ...        170.018\n",
              "2020-12-01T00:10:44.861+09:00  smartx-microbox-gist-1  ...        290.016\n",
              "2020-12-01T00:15:33.979+09:00  smartx-microbox-gist-1  ...        290.017\n",
              "2020-12-01T00:25:41.464+09:00  smartx-microbox-gist-1  ...        290.017\n",
              "2020-12-01T00:35:18.114+09:00  smartx-microbox-gist-1  ...        290.011\n",
              "\n",
              "[5 rows x 15 columns]"
            ]
          },
          "metadata": {
            "tags": []
          },
          "execution_count": 825
        }
      ]
    },
    {
      "cell_type": "code",
      "metadata": {
        "ExecuteTime": {
          "end_time": "2020-03-02T14:49:33.041737Z",
          "start_time": "2020-03-02T14:49:33.003839Z"
        },
        "id": "PRuMEdj2PzEa",
        "colab": {
          "base_uri": "https://localhost:8080/",
          "height": 308
        },
        "outputId": "c720619f-e488-43ac-bb0a-f16d4eddface"
      },
      "source": [
        "df.describe()"
      ],
      "execution_count": 826,
      "outputs": [
        {
          "output_type": "execute_result",
          "data": {
            "text/html": [
              "<div>\n",
              "<style scoped>\n",
              "    .dataframe tbody tr th:only-of-type {\n",
              "        vertical-align: middle;\n",
              "    }\n",
              "\n",
              "    .dataframe tbody tr th {\n",
              "        vertical-align: top;\n",
              "    }\n",
              "\n",
              "    .dataframe thead th {\n",
              "        text-align: right;\n",
              "    }\n",
              "</style>\n",
              "<table border=\"1\" class=\"dataframe\">\n",
              "  <thead>\n",
              "    <tr style=\"text-align: right;\">\n",
              "      <th></th>\n",
              "      <th>src_host_port</th>\n",
              "      <th>dest_host_port</th>\n",
              "      <th>protocol</th>\n",
              "      <th>protocol_count</th>\n",
              "      <th>min_tcp_window_size</th>\n",
              "      <th>max_tcp_window_size</th>\n",
              "      <th>avg_tcp_window_size</th>\n",
              "      <th>std_dev_tcp_window_size</th>\n",
              "      <th>min_data_bytes</th>\n",
              "      <th>max_data_bytes</th>\n",
              "      <th>avg_databytes</th>\n",
              "      <th>std_dev_databytes</th>\n",
              "      <th>total_data_bytes</th>\n",
              "      <th>flow_duration</th>\n",
              "    </tr>\n",
              "  </thead>\n",
              "  <tbody>\n",
              "    <tr>\n",
              "      <th>count</th>\n",
              "      <td>8576.000000</td>\n",
              "      <td>8576.0</td>\n",
              "      <td>8576.0</td>\n",
              "      <td>8576.000000</td>\n",
              "      <td>8576.000000</td>\n",
              "      <td>8576.000000</td>\n",
              "      <td>8576.000000</td>\n",
              "      <td>8576.000000</td>\n",
              "      <td>8576.000000</td>\n",
              "      <td>8576.000000</td>\n",
              "      <td>8576.000000</td>\n",
              "      <td>8576.000000</td>\n",
              "      <td>8576.000000</td>\n",
              "      <td>8576.000000</td>\n",
              "    </tr>\n",
              "    <tr>\n",
              "      <th>mean</th>\n",
              "      <td>40807.862873</td>\n",
              "      <td>9092.0</td>\n",
              "      <td>6.0</td>\n",
              "      <td>362.090602</td>\n",
              "      <td>2315.889576</td>\n",
              "      <td>2317.284632</td>\n",
              "      <td>2316.846782</td>\n",
              "      <td>0.317004</td>\n",
              "      <td>76.953708</td>\n",
              "      <td>10271.796525</td>\n",
              "      <td>2104.136580</td>\n",
              "      <td>2048.747845</td>\n",
              "      <td>761531.681087</td>\n",
              "      <td>279.171818</td>\n",
              "    </tr>\n",
              "    <tr>\n",
              "      <th>std</th>\n",
              "      <td>3907.567979</td>\n",
              "      <td>0.0</td>\n",
              "      <td>0.0</td>\n",
              "      <td>56.159077</td>\n",
              "      <td>395.897535</td>\n",
              "      <td>394.644232</td>\n",
              "      <td>395.614646</td>\n",
              "      <td>1.226467</td>\n",
              "      <td>19.597907</td>\n",
              "      <td>1867.873236</td>\n",
              "      <td>175.951136</td>\n",
              "      <td>231.740512</td>\n",
              "      <td>131589.840309</td>\n",
              "      <td>34.988489</td>\n",
              "    </tr>\n",
              "    <tr>\n",
              "      <th>min</th>\n",
              "      <td>33560.000000</td>\n",
              "      <td>9092.0</td>\n",
              "      <td>6.0</td>\n",
              "      <td>22.000000</td>\n",
              "      <td>499.000000</td>\n",
              "      <td>501.000000</td>\n",
              "      <td>501.000000</td>\n",
              "      <td>0.000000</td>\n",
              "      <td>59.000000</td>\n",
              "      <td>5971.000000</td>\n",
              "      <td>1387.150000</td>\n",
              "      <td>1291.840000</td>\n",
              "      <td>44072.000000</td>\n",
              "      <td>10.014000</td>\n",
              "    </tr>\n",
              "    <tr>\n",
              "      <th>25%</th>\n",
              "      <td>39846.000000</td>\n",
              "      <td>9092.0</td>\n",
              "      <td>6.0</td>\n",
              "      <td>340.000000</td>\n",
              "      <td>2438.000000</td>\n",
              "      <td>2439.000000</td>\n",
              "      <td>2439.000000</td>\n",
              "      <td>0.000000</td>\n",
              "      <td>62.000000</td>\n",
              "      <td>8740.000000</td>\n",
              "      <td>1973.480000</td>\n",
              "      <td>1867.347500</td>\n",
              "      <td>686703.750000</td>\n",
              "      <td>290.015000</td>\n",
              "    </tr>\n",
              "    <tr>\n",
              "      <th>50%</th>\n",
              "      <td>39846.000000</td>\n",
              "      <td>9092.0</td>\n",
              "      <td>6.0</td>\n",
              "      <td>369.000000</td>\n",
              "      <td>2438.000000</td>\n",
              "      <td>2439.000000</td>\n",
              "      <td>2439.000000</td>\n",
              "      <td>0.050000</td>\n",
              "      <td>69.000000</td>\n",
              "      <td>10587.000000</td>\n",
              "      <td>2094.890000</td>\n",
              "      <td>2032.635000</td>\n",
              "      <td>709585.000000</td>\n",
              "      <td>290.016000</td>\n",
              "    </tr>\n",
              "    <tr>\n",
              "      <th>75%</th>\n",
              "      <td>40442.000000</td>\n",
              "      <td>9092.0</td>\n",
              "      <td>6.0</td>\n",
              "      <td>398.000000</td>\n",
              "      <td>2439.000000</td>\n",
              "      <td>2439.000000</td>\n",
              "      <td>2439.000000</td>\n",
              "      <td>0.100000</td>\n",
              "      <td>88.000000</td>\n",
              "      <td>11718.000000</td>\n",
              "      <td>2226.530000</td>\n",
              "      <td>2229.402500</td>\n",
              "      <td>882164.750000</td>\n",
              "      <td>290.017000</td>\n",
              "    </tr>\n",
              "    <tr>\n",
              "      <th>max</th>\n",
              "      <td>59584.000000</td>\n",
              "      <td>9092.0</td>\n",
              "      <td>6.0</td>\n",
              "      <td>514.000000</td>\n",
              "      <td>2439.000000</td>\n",
              "      <td>2439.000000</td>\n",
              "      <td>2439.000000</td>\n",
              "      <td>21.950000</td>\n",
              "      <td>264.000000</td>\n",
              "      <td>14764.000000</td>\n",
              "      <td>2899.900000</td>\n",
              "      <td>2856.150000</td>\n",
              "      <td>923288.000000</td>\n",
              "      <td>290.056000</td>\n",
              "    </tr>\n",
              "  </tbody>\n",
              "</table>\n",
              "</div>"
            ],
            "text/plain": [
              "       src_host_port  dest_host_port  ...  total_data_bytes  flow_duration\n",
              "count    8576.000000          8576.0  ...       8576.000000    8576.000000\n",
              "mean    40807.862873          9092.0  ...     761531.681087     279.171818\n",
              "std      3907.567979             0.0  ...     131589.840309      34.988489\n",
              "min     33560.000000          9092.0  ...      44072.000000      10.014000\n",
              "25%     39846.000000          9092.0  ...     686703.750000     290.015000\n",
              "50%     39846.000000          9092.0  ...     709585.000000     290.016000\n",
              "75%     40442.000000          9092.0  ...     882164.750000     290.017000\n",
              "max     59584.000000          9092.0  ...     923288.000000     290.056000\n",
              "\n",
              "[8 rows x 14 columns]"
            ]
          },
          "metadata": {
            "tags": []
          },
          "execution_count": 826
        }
      ]
    },
    {
      "cell_type": "code",
      "metadata": {
        "ExecuteTime": {
          "end_time": "2020-03-02T14:49:49.415981Z",
          "start_time": "2020-03-02T14:49:49.396034Z"
        },
        "id": "18TqgoQ7PzEa"
      },
      "source": [
        "#df.drop_duplicates(subset=['Processing_time'], keep=False,inplace=True)"
      ],
      "execution_count": 827,
      "outputs": []
    },
    {
      "cell_type": "code",
      "metadata": {
        "ExecuteTime": {
          "end_time": "2020-03-02T14:49:55.272345Z",
          "start_time": "2020-03-02T14:49:55.243422Z"
        },
        "id": "zOEeEc3QPzEb"
      },
      "source": [
        "Measurement_boxname_le = preprocessing.LabelEncoder()\n",
        "df['Measurement_boxname_le'] = Measurement_boxname_le.fit_transform(df['Measurement_boxname']) "
      ],
      "execution_count": 828,
      "outputs": []
    },
    {
      "cell_type": "code",
      "metadata": {
        "ExecuteTime": {
          "end_time": "2020-03-02T14:50:05.283593Z",
          "start_time": "2020-03-02T14:50:05.275613Z"
        },
        "id": "XblXTJ48PzEc"
      },
      "source": [
        "df = df[['min_data_bytes', 'max_data_bytes', 'avg_databytes','std_dev_databytes','total_data_bytes', 'Measurement_boxname_le']]"
      ],
      "execution_count": 829,
      "outputs": []
    },
    {
      "cell_type": "code",
      "metadata": {
        "ExecuteTime": {
          "end_time": "2020-03-02T14:50:14.292555Z",
          "start_time": "2020-03-02T14:50:14.284564Z"
        },
        "id": "Y4-EzZtePzEd"
      },
      "source": [
        "def custom_ts_multi_data_prep(dataset, target, start, end, window, horizon):\n",
        "    X = []\n",
        "    y = []\n",
        "    start = start + window\n",
        "    if end is None:\n",
        "        end = len(dataset) - horizon\n",
        "\n",
        "    for i in range(start, end):\n",
        "        indices = range(i-window, i)\n",
        "        X.append(dataset[indices])\n",
        "\n",
        "        indicey = range(i+1, i+1+horizon)\n",
        "        y.append(target[indicey])\n",
        "    return np.array(X), np.array(y)"
      ],
      "execution_count": 830,
      "outputs": []
    },
    {
      "cell_type": "code",
      "metadata": {
        "id": "WO7ffDPOAOEL"
      },
      "source": [
        "validate = df[['min_data_bytes', 'max_data_bytes', 'avg_databytes','std_dev_databytes','total_data_bytes', 'Measurement_boxname_le']].tail(30)\n",
        "df.drop(df.tail(30).index,inplace=True)"
      ],
      "execution_count": 831,
      "outputs": []
    },
    {
      "cell_type": "code",
      "metadata": {
        "ExecuteTime": {
          "end_time": "2020-03-02T14:50:27.473295Z",
          "start_time": "2020-03-02T14:50:27.455344Z"
        },
        "id": "sUO2SIPRPzEf"
      },
      "source": [
        "x_scaler = preprocessing.MinMaxScaler()\n",
        "y_scaler = preprocessing.MinMaxScaler()\n",
        "dataX = x_scaler.fit_transform(df[['Measurement_boxname_le','min_data_bytes', 'max_data_bytes', 'avg_databytes','std_dev_databytes','total_data_bytes']])\n",
        "dataY = y_scaler.fit_transform(df[['total_data_bytes']])"
      ],
      "execution_count": 832,
      "outputs": []
    },
    {
      "cell_type": "code",
      "metadata": {
        "ExecuteTime": {
          "end_time": "2020-03-02T14:50:36.362542Z",
          "start_time": "2020-03-02T14:50:35.159755Z"
        },
        "id": "OVyVG9wPPzEf"
      },
      "source": [
        "#hist_window = 12\n",
        "#horizon = 10\n",
        "hist_window = 80\n",
        "horizon = 30\n",
        "\n",
        "TRAIN_SPLIT = 5500\n",
        "x_train_multi, y_train_multi = custom_ts_multi_data_prep(\n",
        "    dataX, dataY, 0, TRAIN_SPLIT, hist_window, horizon)\n",
        "x_val_multi, y_val_multi = custom_ts_multi_data_prep(\n",
        "    dataX, dataY, TRAIN_SPLIT, None, hist_window, horizon)"
      ],
      "execution_count": 833,
      "outputs": []
    },
    {
      "cell_type": "code",
      "metadata": {
        "ExecuteTime": {
          "end_time": "2020-03-02T14:50:42.641762Z",
          "start_time": "2020-03-02T14:50:42.627799Z"
        },
        "id": "yRGFNGVpPzEg",
        "scrolled": true,
        "colab": {
          "base_uri": "https://localhost:8080/"
        },
        "outputId": "e1ce86db-6a86-4088-a623-e8707d6f4553"
      },
      "source": [
        "print ('Single window of past history')\n",
        "print(x_train_multi[0])\n",
        "print ('\\n Target horizon')\n",
        "print (y_train_multi[0])"
      ],
      "execution_count": 834,
      "outputs": [
        {
          "output_type": "stream",
          "text": [
            "Single window of past history\n",
            "[[0.         0.49756098 0.67292164 0.92620063 0.83064738 0.53022238]\n",
            " [0.         0.0195122  0.66928238 0.5560866  0.51308245 0.95353474]\n",
            " [0.         0.2097561  0.80893893 0.54369195 0.65795782 0.94257725]\n",
            " [0.         0.0097561  0.63448197 0.39828789 0.40143578 0.98858756]\n",
            " [0.         0.13658537 0.63379961 0.39270203 0.39483223 0.97741397]\n",
            " [0.         0.20487805 0.66666667 0.49240787 0.48279433 0.96592077]\n",
            " [0.         0.01463415 0.64426248 0.55013056 0.65527932 0.94442549]\n",
            " [0.         0.04390244 0.70214944 0.51846637 0.54657325 0.95507134]\n",
            " [0.         0.10731707 0.59683839 0.655647   0.66667732 0.94831418]\n",
            " [0.         0.0097561  0.64630956 0.45051066 0.49403891 0.96630407]\n",
            " [0.         0.24390244 0.66518822 0.48702694 0.55472381 0.55379224]\n",
            " [0.         0.0097561  0.80893893 0.41813254 0.42267198 0.96750514]\n",
            " [0.         0.0097561  0.59126578 0.41946786 0.50295018 0.97082287]\n",
            " [0.         0.0097561  0.80893893 0.58135184 0.68869342 0.94239072]\n",
            " [0.         0.04878049 0.6795178  0.65670468 0.72414675 0.94085981]\n",
            " [0.         0.02926829 0.80893893 0.51746819 0.65520261 0.96424201]\n",
            " [0.         0.0097561  0.67997271 0.59307883 0.67980132 0.95795231]\n",
            " [0.         0.02439024 0.80893893 0.49567344 0.57227787 0.95855057]\n",
            " [0.         0.2097561  0.6684863  0.70533796 0.76052061 0.93799135]\n",
            " [0.         0.01463415 0.80893893 0.55961659 0.64667489 0.96101868]\n",
            " [0.         0.03414634 0.67212555 0.43453975 0.48375961 0.96838433]\n",
            " [0.         0.0097561  0.7185261  0.66631631 0.77022457 0.94691521]\n",
            " [0.         0.01463415 0.36563175 0.40670302 0.29995333 0.56251365]\n",
            " [0.         0.0097561  0.56351643 0.50006941 0.60011123 0.95437526]\n",
            " [0.         0.09268293 0.64426248 0.37360436 0.35472509 0.98241615]\n",
            " [0.         0.02926829 0.64426248 0.44876549 0.51955175 0.9697071 ]\n",
            " [0.         0.03902439 0.49687251 0.54149727 0.62442227 0.95864952]\n",
            " [0.         0.17560976 0.64426248 0.52801851 0.60899694 0.94932872]\n",
            " [0.         0.02926829 0.7545775  0.61252024 0.74336928 0.93935392]\n",
            " [0.         0.08292683 0.68838849 0.58932408 0.61281971 0.95026364]\n",
            " [0.         0.19512195 0.80893893 0.72429681 0.80149715 0.93259449]\n",
            " [0.         0.0097561  0.68929831 0.64300116 0.66138425 0.94028202]\n",
            " [0.         0.00487805 0.54998294 0.54084284 0.59074608 0.95569007]\n",
            " [0.         0.0097561  0.53076311 0.53879359 0.56589806 0.54600235]\n",
            " [0.         0.0097561  0.6718981  0.54275326 0.54599792 0.95198336]\n",
            " [0.         0.13658537 0.67178437 0.58866964 0.66362805 0.95241897]\n",
            " [0.         0.2097561  0.64426248 0.46685837 0.50027808 0.96654974]\n",
            " [0.         0.15121951 0.47958603 0.55366055 0.5972921  0.94429242]\n",
            " [0.         0.13658537 0.50562948 0.421451   0.47352507 0.97003239]\n",
            " [0.         0.02439024 0.64426248 0.42390349 0.51663673 0.96036924]\n",
            " [0.         0.19512195 0.6405095  0.72879855 0.79144159 0.92962708]\n",
            " [0.         0.01463415 0.63846241 0.63715749 0.70856799 0.94459496]\n",
            " [0.         0.0097561  0.71659274 0.58950917 0.61189278 0.95816159]\n",
            " [0.         0.16585366 0.59615603 0.56287556 0.47840901 0.95052183]\n",
            " [0.         0.03414634 0.51472762 0.50459098 0.5231316  0.5613467 ]\n",
            " [0.         0.12195122 0.64426248 0.522274   0.50227896 0.96021001]\n",
            " [0.         0.0097561  0.94188559 0.46428028 0.52249874 0.98128901]\n",
            " [0.         0.04878049 0.80893893 0.30069079 0.30912032 0.98483763]\n",
            " [0.         0.0195122  0.62868191 0.61285077 0.65436518 0.47893805]\n",
            " [0.         0.0195122  0.60116001 0.43249711 0.4883431  0.96452408]\n",
            " [0.         0.06341463 0.80893893 0.60585688 0.67674566 0.93766264]\n",
            " [0.         0.0097561  0.71693392 0.54208561 0.70253339 0.95403519]\n",
            " [0.         0.0097561  0.64824292 0.42944968 0.54490478 0.97149961]\n",
            " [0.         0.13658537 0.68634141 0.60185093 0.68938382 0.94551623]\n",
            " [0.         0.2097561  0.66120778 0.56938688 0.65219809 0.94980983]\n",
            " [0.         0.35609756 0.80893893 0.61333333 0.68125883 0.95304453]\n",
            " [0.         0.03902439 0.65188218 0.79397124 0.92280302 0.53863215]\n",
            " [0.         0.01463415 0.64426248 0.42636258 0.50158217 0.96915661]\n",
            " [0.         0.01463415 0.62026612 0.51923318 0.53162097 0.9556059 ]\n",
            " [0.         0.08292683 0.64426248 0.47064617 0.58187316 0.957395  ]\n",
            " [0.         0.03414634 0.68395314 0.49504545 0.56892176 0.96782361]\n",
            " [0.         0.06829268 0.50187649 0.51093704 0.57301302 0.96207985]\n",
            " [0.         0.05365854 0.6765609  0.49866138 0.56728526 0.96312169]\n",
            " [0.         0.01463415 0.52211987 0.48912907 0.53842908 0.96597423]\n",
            " [0.         0.13658537 0.67076083 0.66805487 0.70970588 0.93437449]\n",
            " [0.         0.02926829 0.80893893 0.56590316 0.55691008 0.95767252]\n",
            " [0.         0.0097561  0.64426248 0.67155842 0.69149337 0.94474737]\n",
            " [0.         0.1902439  0.70567497 0.46465708 0.51206602 0.54892427]\n",
            " [0.         0.0097561  0.80893893 0.58108081 0.64037179 0.94994518]\n",
            " [0.         0.         0.6176504  0.50566187 0.54689927 0.95834357]\n",
            " [0.         0.06829268 0.71420448 0.60122294 0.58705116 0.9529433 ]\n",
            " [0.         0.0195122  0.74832253 0.5524905  0.61297313 0.95361322]\n",
            " [0.         0.00487805 0.63266235 0.5584201  0.64508314 0.9424328 ]\n",
            " [0.         0.         0.56033208 0.48140142 0.47435611 0.95558088]\n",
            " [0.         0.02926829 0.75855794 0.48941993 0.5555932  0.95892591]\n",
            " [0.         0.21463415 0.47958603 0.43694596 0.37328918 0.96553975]\n",
            " [0.         0.02439024 0.63948595 0.51050735 0.53697796 0.96423291]\n",
            " [0.         0.08292683 0.67872171 0.57610973 0.62269627 0.94662631]\n",
            " [0.         0.49756098 0.59456386 0.56944637 0.66915126 0.55855444]\n",
            " [0.         0.0097561  0.68770613 0.52238638 0.55999131 0.95781583]]\n",
            "\n",
            " Target horizon\n",
            "[[0.93056541]\n",
            " [0.95998139]\n",
            " [0.9405095 ]\n",
            " [0.9596072 ]\n",
            " [0.95761224]\n",
            " [0.94683104]\n",
            " [0.96930902]\n",
            " [0.96450588]\n",
            " [0.55154365]\n",
            " [0.93357832]\n",
            " [0.9500737 ]\n",
            " [0.9551919 ]\n",
            " [0.95192535]\n",
            " [0.96984245]\n",
            " [0.9429014 ]\n",
            " [0.98435424]\n",
            " [0.95200497]\n",
            " [0.95334139]\n",
            " [0.55709518]\n",
            " [0.9402752 ]\n",
            " [0.95675579]\n",
            " [0.95342669]\n",
            " [0.96434892]\n",
            " [0.93700524]\n",
            " [0.95319011]\n",
            " [0.97162017]\n",
            " [0.96217198]\n",
            " [0.95016128]\n",
            " [0.9435008 ]\n",
            " [0.5483135 ]]\n"
          ],
          "name": "stdout"
        }
      ]
    },
    {
      "cell_type": "code",
      "metadata": {
        "ExecuteTime": {
          "end_time": "2020-03-02T14:50:52.762715Z",
          "start_time": "2020-03-02T14:50:51.620768Z"
        },
        "id": "YN8DcUfkPzEg"
      },
      "source": [
        "#BATCH_SIZE = 256\n",
        "#BUFFER_SIZE = 150\n",
        "BATCH_SIZE = 256\n",
        "BUFFER_SIZE = 150\n",
        "\n",
        "train_data_multi = tf.data.Dataset.from_tensor_slices((x_train_multi, y_train_multi))\n",
        "train_data_multi = train_data_multi.cache().shuffle(BUFFER_SIZE).batch(BATCH_SIZE).repeat()\n",
        "\n",
        "val_data_multi = tf.data.Dataset.from_tensor_slices((x_val_multi, y_val_multi))\n",
        "val_data_multi = val_data_multi.batch(BATCH_SIZE).repeat()"
      ],
      "execution_count": 835,
      "outputs": []
    },
    {
      "cell_type": "code",
      "metadata": {
        "ExecuteTime": {
          "end_time": "2020-03-02T14:51:01.755685Z",
          "start_time": "2020-03-02T14:51:01.613069Z"
        },
        "id": "m-rpWu6zPzEh"
      },
      "source": [
        "model = Sequential()\n",
        "model.add(Conv1D(filters=64, kernel_size=3, activation='relu', input_shape=(x_train_multi.shape[1], x_train_multi.shape[2])))\n",
        "model.add(MaxPool1D(pool_size=2))\n",
        "model.add(Dropout(0.2))\n",
        "model.add(Flatten())\n",
        "model.add(Dense(30, activation='relu'))\n",
        "model.add(Dropout(0.2))\n",
        "model.add(Dense(horizon))\n",
        "model.compile(optimizer='adam', loss='mse')"
      ],
      "execution_count": 836,
      "outputs": []
    },
    {
      "cell_type": "code",
      "metadata": {
        "ExecuteTime": {
          "end_time": "2020-03-02T14:51:12.247691Z",
          "start_time": "2020-03-02T14:51:12.243661Z"
        },
        "id": "qfiWQUCiPzEi"
      },
      "source": [
        "model_path = r'CNN_Multivariate.h5'"
      ],
      "execution_count": 837,
      "outputs": []
    },
    {
      "cell_type": "code",
      "metadata": {
        "ExecuteTime": {
          "end_time": "2020-03-02T14:52:13.931812Z",
          "start_time": "2020-03-02T14:51:25.540129Z"
        },
        "id": "T9Rkdv_UPzEj",
        "scrolled": true,
        "colab": {
          "base_uri": "https://localhost:8080/"
        },
        "outputId": "8b735482-3679-4569-96d3-609aacc2f13d"
      },
      "source": [
        "EVALUATION_INTERVAL = 100\n",
        "EPOCHS = 150\n",
        "history = model.fit(train_data_multi, epochs=EPOCHS, steps_per_epoch=EVALUATION_INTERVAL, validation_data=val_data_multi, validation_steps=50, verbose=1,\n",
        "                                   callbacks=[tf.keras.callbacks.EarlyStopping(monitor='val_loss', min_delta=0, patience=10, verbose=1, mode='min'), tf.keras.callbacks.ModelCheckpoint(model_path, monitor='val_loss', save_best_only=True, mode='min', verbose=0)])"
      ],
      "execution_count": 838,
      "outputs": [
        {
          "output_type": "stream",
          "text": [
            "Epoch 1/150\n",
            "100/100 [==============================] - 4s 33ms/step - loss: 0.4583 - val_loss: 0.0212\n",
            "Epoch 2/150\n",
            "100/100 [==============================] - 3s 31ms/step - loss: 0.0971 - val_loss: 0.0218\n",
            "Epoch 3/150\n",
            "100/100 [==============================] - 3s 31ms/step - loss: 0.0633 - val_loss: 0.0096\n",
            "Epoch 4/150\n",
            "100/100 [==============================] - 3s 31ms/step - loss: 0.0480 - val_loss: 0.0097\n",
            "Epoch 5/150\n",
            "100/100 [==============================] - 3s 31ms/step - loss: 0.0422 - val_loss: 0.0120\n",
            "Epoch 6/150\n",
            "100/100 [==============================] - 3s 32ms/step - loss: 0.0366 - val_loss: 0.0121\n",
            "Epoch 7/150\n",
            "100/100 [==============================] - 3s 31ms/step - loss: 0.0358 - val_loss: 0.0093\n",
            "Epoch 8/150\n",
            "100/100 [==============================] - 3s 31ms/step - loss: 0.0296 - val_loss: 0.0095\n",
            "Epoch 9/150\n",
            "100/100 [==============================] - 3s 31ms/step - loss: 0.0287 - val_loss: 0.0094\n",
            "Epoch 10/150\n",
            "100/100 [==============================] - 3s 32ms/step - loss: 0.0264 - val_loss: 0.0097\n",
            "Epoch 11/150\n",
            "100/100 [==============================] - 3s 32ms/step - loss: 0.0257 - val_loss: 0.0109\n",
            "Epoch 12/150\n",
            "100/100 [==============================] - 3s 32ms/step - loss: 0.0251 - val_loss: 0.0137\n",
            "Epoch 13/150\n",
            "100/100 [==============================] - 3s 32ms/step - loss: 0.0225 - val_loss: 0.0093\n",
            "Epoch 14/150\n",
            "100/100 [==============================] - 3s 32ms/step - loss: 0.0223 - val_loss: 0.0119\n",
            "Epoch 15/150\n",
            "100/100 [==============================] - 3s 32ms/step - loss: 0.0229 - val_loss: 0.0099\n",
            "Epoch 16/150\n",
            "100/100 [==============================] - 3s 31ms/step - loss: 0.0207 - val_loss: 0.0093\n",
            "Epoch 17/150\n",
            "100/100 [==============================] - 3s 31ms/step - loss: 0.0188 - val_loss: 0.0091\n",
            "Epoch 18/150\n",
            "100/100 [==============================] - 3s 31ms/step - loss: 0.0191 - val_loss: 0.0101\n",
            "Epoch 19/150\n",
            "100/100 [==============================] - 3s 31ms/step - loss: 0.0183 - val_loss: 0.0100\n",
            "Epoch 20/150\n",
            "100/100 [==============================] - 3s 32ms/step - loss: 0.0175 - val_loss: 0.0097\n",
            "Epoch 21/150\n",
            "100/100 [==============================] - 3s 31ms/step - loss: 0.0164 - val_loss: 0.0092\n",
            "Epoch 22/150\n",
            "100/100 [==============================] - 3s 31ms/step - loss: 0.0160 - val_loss: 0.0100\n",
            "Epoch 23/150\n",
            "100/100 [==============================] - 3s 31ms/step - loss: 0.0163 - val_loss: 0.0100\n",
            "Epoch 24/150\n",
            "100/100 [==============================] - 3s 31ms/step - loss: 0.0153 - val_loss: 0.0103\n",
            "Epoch 25/150\n",
            "100/100 [==============================] - 3s 31ms/step - loss: 0.0153 - val_loss: 0.0097\n",
            "Epoch 26/150\n",
            "100/100 [==============================] - 3s 31ms/step - loss: 0.0144 - val_loss: 0.0096\n",
            "Epoch 27/150\n",
            "100/100 [==============================] - 3s 32ms/step - loss: 0.0143 - val_loss: 0.0091\n",
            "Epoch 00027: early stopping\n"
          ],
          "name": "stdout"
        }
      ]
    },
    {
      "cell_type": "code",
      "metadata": {
        "ExecuteTime": {
          "end_time": "2020-03-02T14:53:23.657487Z",
          "start_time": "2020-03-02T14:53:23.145853Z"
        },
        "id": "dhjFoX7sPzEj"
      },
      "source": [
        "Trained_model = tf.keras.models.load_model(model_path)"
      ],
      "execution_count": 839,
      "outputs": []
    },
    {
      "cell_type": "code",
      "metadata": {
        "ExecuteTime": {
          "end_time": "2020-03-02T14:53:24.691724Z",
          "start_time": "2020-03-02T14:53:24.682753Z"
        },
        "id": "gka9OA7xPzEk",
        "colab": {
          "base_uri": "https://localhost:8080/"
        },
        "outputId": "c72c058c-11a2-4319-d423-3f180a8f9197"
      },
      "source": [
        "# Show the model architecture\n",
        "Trained_model.summary()"
      ],
      "execution_count": 840,
      "outputs": [
        {
          "output_type": "stream",
          "text": [
            "Model: \"sequential_30\"\n",
            "_________________________________________________________________\n",
            "Layer (type)                 Output Shape              Param #   \n",
            "=================================================================\n",
            "conv1d_30 (Conv1D)           (None, 78, 64)            1216      \n",
            "_________________________________________________________________\n",
            "max_pooling1d_30 (MaxPooling (None, 39, 64)            0         \n",
            "_________________________________________________________________\n",
            "dropout_60 (Dropout)         (None, 39, 64)            0         \n",
            "_________________________________________________________________\n",
            "flatten_30 (Flatten)         (None, 2496)              0         \n",
            "_________________________________________________________________\n",
            "dense_60 (Dense)             (None, 30)                74910     \n",
            "_________________________________________________________________\n",
            "dropout_61 (Dropout)         (None, 30)                0         \n",
            "_________________________________________________________________\n",
            "dense_61 (Dense)             (None, 30)                930       \n",
            "=================================================================\n",
            "Total params: 77,056\n",
            "Trainable params: 77,056\n",
            "Non-trainable params: 0\n",
            "_________________________________________________________________\n"
          ],
          "name": "stdout"
        }
      ]
    },
    {
      "cell_type": "code",
      "metadata": {
        "ExecuteTime": {
          "end_time": "2020-03-02T14:53:28.568399Z",
          "start_time": "2020-03-02T14:53:28.319030Z"
        },
        "id": "Le5iVNMbPzEk",
        "colab": {
          "base_uri": "https://localhost:8080/",
          "height": 567
        },
        "outputId": "26fb1189-5b88-42c8-eda6-5248bd795aff"
      },
      "source": [
        "plt.plot(history.history['loss'])\n",
        "plt.plot(history.history['val_loss'])\n",
        "plt.title('Model loss')\n",
        "plt.ylabel('loss')\n",
        "plt.xlabel('epoch')\n",
        "plt.legend(['train loss', 'validation loss'], loc='upper left')\n",
        "plt.rcParams[\"figure.figsize\"] = [16,9]\n",
        "plt.show()"
      ],
      "execution_count": 841,
      "outputs": [
        {
          "output_type": "display_data",
          "data": {
            "image/png": "[encoded data removed]",
            "text/plain": [
              "<Figure size 1152x648 with 1 Axes>"
            ]
          },
          "metadata": {
            "tags": [],
            "needs_background": "light"
          }
        }
      ]
    },
    {
      "cell_type": "code",
      "metadata": {
        "ExecuteTime": {
          "end_time": "2020-03-02T14:53:30.688698Z",
          "start_time": "2020-03-02T14:53:30.679721Z"
        },
        "id": "D0-tAnDIPzEl"
      },
      "source": [
        "data_val = x_scaler.fit_transform(df[['Measurement_boxname_le','min_data_bytes', 'max_data_bytes', 'avg_databytes','std_dev_databytes','total_data_bytes']].tail(80))"
      ],
      "execution_count": 842,
      "outputs": []
    },
    {
      "cell_type": "code",
      "metadata": {
        "ExecuteTime": {
          "end_time": "2020-03-02T14:53:32.001192Z",
          "start_time": "2020-03-02T14:53:31.997200Z"
        },
        "id": "BIK1oX_1PzEl",
        "scrolled": true
      },
      "source": [
        "val_rescaled = data_val.reshape(1, data_val.shape[0], data_val.shape[1])"
      ],
      "execution_count": 843,
      "outputs": []
    },
    {
      "cell_type": "code",
      "metadata": {
        "ExecuteTime": {
          "end_time": "2020-03-02T14:53:34.098625Z",
          "start_time": "2020-03-02T14:53:33.963948Z"
        },
        "id": "rkXpQTZWPzEl",
        "colab": {
          "base_uri": "https://localhost:8080/"
        },
        "outputId": "4a6df97d-6509-4fef-9da7-81948d7055d9"
      },
      "source": [
        "Predicted_results = Trained_model.predict(val_rescaled)"
      ],
      "execution_count": 844,
      "outputs": [
        {
          "output_type": "stream",
          "text": [
            "WARNING:tensorflow:11 out of the last 11 calls to <function Model.make_predict_function.<locals>.predict_function at 0x7efcf3b65e60> triggered tf.function retracing. Tracing is expensive and the excessive number of tracings could be due to (1) creating @tf.function repeatedly in a loop, (2) passing tensors with different shapes, (3) passing Python objects instead of tensors. For (1), please define your @tf.function outside of the loop. For (2), @tf.function has experimental_relax_shapes=True option that relaxes argument shapes that can avoid unnecessary retracing. For (3), please refer to https://www.tensorflow.org/guide/function#controlling_retracing and https://www.tensorflow.org/api_docs/python/tf/function for  more details.\n"
          ],
          "name": "stdout"
        }
      ]
    },
    {
      "cell_type": "code",
      "metadata": {
        "ExecuteTime": {
          "end_time": "2020-03-02T14:53:35.261477Z",
          "start_time": "2020-03-02T14:53:35.255494Z"
        },
        "id": "hUH_nCTbPzEm",
        "colab": {
          "base_uri": "https://localhost:8080/"
        },
        "outputId": "7d6ba64a-82f9-4458-b4ea-f146c8829e1c"
      },
      "source": [
        "Predicted_results"
      ],
      "execution_count": 845,
      "outputs": [
        {
          "output_type": "execute_result",
          "data": {
            "text/plain": [
              "array([[0.6514803 , 0.6360878 , 0.7127615 , 0.7714385 , 0.74021786,\n",
              "        0.8256172 , 0.74459696, 0.7744796 , 0.80867046, 0.7662349 ,\n",
              "        0.6978717 , 0.7186198 , 0.7025342 , 0.6782285 , 0.70060265,\n",
              "        0.8247764 , 0.79037607, 0.76970375, 0.7336728 , 0.7289065 ,\n",
              "        0.7763818 , 0.74504095, 0.7014571 , 0.6852271 , 0.69360733,\n",
              "        0.59992737, 0.68516505, 0.74082446, 0.7942574 , 0.7669015 ]],\n",
              "      dtype=float32)"
            ]
          },
          "metadata": {
            "tags": []
          },
          "execution_count": 845
        }
      ]
    },
    {
      "cell_type": "code",
      "metadata": {
        "ExecuteTime": {
          "end_time": "2020-03-02T14:53:37.025763Z",
          "start_time": "2020-03-02T14:53:37.021774Z"
        },
        "id": "du4qmKwuPzEm"
      },
      "source": [
        "Predicted_results_Inv_trans = y_scaler.inverse_transform(Predicted_results)"
      ],
      "execution_count": 846,
      "outputs": []
    },
    {
      "cell_type": "code",
      "metadata": {
        "ExecuteTime": {
          "end_time": "2020-03-02T14:53:37.945306Z",
          "start_time": "2020-03-02T14:53:37.940319Z"
        },
        "id": "u7umm5lMPzEn",
        "colab": {
          "base_uri": "https://localhost:8080/"
        },
        "outputId": "0900fe90-6a11-4de1-e4b7-cba90ec9f0ab"
      },
      "source": [
        "Predicted_results_Inv_trans"
      ],
      "execution_count": 847,
      "outputs": [
        {
          "output_type": "execute_result",
          "data": {
            "text/plain": [
              "array([[616863.94, 603330.56, 670743.4 , 722333.06, 694883.4 , 769967.9 ,\n",
              "        698733.56, 725006.9 , 755068.  , 717758.  , 657651.94, 675894.06,\n",
              "        661751.3 , 640381.4 , 660053.06, 769228.6 , 738983.3 , 720807.9 ,\n",
              "        689128.9 , 684938.3 , 726679.3 , 699123.94, 660804.3 , 646534.6 ,\n",
              "        653902.7 , 571537.75, 646480.06, 695416.75, 742395.8 , 718344.06]],\n",
              "      dtype=float32)"
            ]
          },
          "metadata": {
            "tags": []
          },
          "execution_count": 847
        }
      ]
    },
    {
      "cell_type": "code",
      "metadata": {
        "ExecuteTime": {
          "end_time": "2020-03-02T14:53:40.146461Z",
          "start_time": "2020-03-02T14:53:40.115507Z"
        },
        "id": "4u69jBCiPzEn"
      },
      "source": [
        "from sklearn import metrics\n",
        "def timeseries_evaluation_metrics_func(y_true, y_pred):\n",
        "    \n",
        "    def mean_absolute_percentage_error(y_true, y_pred): \n",
        "        y_true, y_pred = np.array(y_true), np.array(y_pred)\n",
        "        return np.mean(np.abs((y_true - y_pred) / y_true)) * 100\n",
        "    print('Evaluation metric results:-')\n",
        "    print(f'MSE is : {metrics.mean_squared_error(y_true, y_pred)}')\n",
        "    print(f'MAE is : {metrics.mean_absolute_error(y_true, y_pred)}')\n",
        "    print(f'RMSE is : {np.sqrt(metrics.mean_squared_error(y_true, y_pred))}')\n",
        "    print(f'MAPE is : {mean_absolute_percentage_error(y_true, y_pred)}')\n",
        "    print(f'R2 is : {metrics.r2_score(y_true, y_pred)}',end='\\n\\n')"
      ],
      "execution_count": 848,
      "outputs": []
    },
    {
      "cell_type": "code",
      "metadata": {
        "ExecuteTime": {
          "end_time": "2020-03-02T14:53:41.829926Z",
          "start_time": "2020-03-02T14:53:41.819953Z"
        },
        "id": "JQiK0RxWPzEo",
        "colab": {
          "base_uri": "https://localhost:8080/"
        },
        "outputId": "6bf13ea9-5371-4833-ddb0-472214b5a441"
      },
      "source": [
        "timeseries_evaluation_metrics_func(validate['total_data_bytes'],Predicted_results_Inv_trans[0])"
      ],
      "execution_count": 849,
      "outputs": [
        {
          "output_type": "stream",
          "text": [
            "Evaluation metric results:-\n",
            "MSE is : 9479415658.551693\n",
            "MAE is : 79194.60625\n",
            "RMSE is : 97362.29074211275\n",
            "MAPE is : 12.200617173476202\n",
            "R2 is : -0.12711346391524447\n",
            "\n"
          ],
          "name": "stdout"
        }
      ]
    },
    {
      "cell_type": "code",
      "metadata": {
        "ExecuteTime": {
          "end_time": "2020-03-02T14:53:53.470817Z",
          "start_time": "2020-03-02T14:53:53.135713Z"
        },
        "id": "mJCd14KtPzEo",
        "colab": {
          "base_uri": "https://localhost:8080/",
          "height": 553
        },
        "outputId": "e55921aa-c22c-4d2d-c9d5-40cec01672cf"
      },
      "source": [
        "\n",
        "\n",
        "plt.plot( list(validate['total_data_bytes']))\n",
        "plt.plot( list(Predicted_results_Inv_trans[0]))\n",
        "plt.title(\"Actual vs Predicted\")\n",
        "plt.ylabel(\"total_data_bytes\")\n",
        "plt.legend(('Actual','predicted'))\n",
        "plt.show()\n"
      ],
      "execution_count": 850,
      "outputs": [
        {
          "output_type": "display_data",
          "data": {
            "image/png": "[encoded data removed]",
            "text/plain": [
              "<Figure size 1152x648 with 1 Axes>"
            ]
          },
          "metadata": {
            "tags": [],
            "needs_background": "light"
          }
        }
      ]
    },
    {
      "cell_type": "code",
      "metadata": {
        "id": "hlajdbLCAOER"
      },
      "source": [
        ""
      ],
      "execution_count": 850,
      "outputs": []
    }
  ]
}