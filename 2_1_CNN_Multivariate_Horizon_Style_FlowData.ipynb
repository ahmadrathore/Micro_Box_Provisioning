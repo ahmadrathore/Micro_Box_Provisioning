{
  "nbformat": 4,
  "nbformat_minor": 0,
  "metadata": {
    "accelerator": "GPU",
    "colab": {
      "name": "2_1_CNN_Multivariate_Horizon_Style_FlowData.ipynb",
      "provenance": [],
      "collapsed_sections": [],
      "include_colab_link": true
    },
    "kernelspec": {
      "display_name": "Python 3",
      "language": "python",
      "name": "python3"
    },
    "language_info": {
      "codemirror_mode": {
        "name": "ipython",
        "version": 3
      },
      "file_extension": ".py",
      "mimetype": "text/x-python",
      "name": "python",
      "nbconvert_exporter": "python",
      "pygments_lexer": "ipython3",
      "version": "3.7.2"
    },
    "latex_envs": {
      "LaTeX_envs_menu_present": true,
      "autoclose": false,
      "autocomplete": true,
      "bibliofile": "biblio.bib",
      "cite_by": "apalike",
      "current_citInitial": 1,
      "eqLabelWithNumbers": true,
      "eqNumInitial": 1,
      "hotkeys": {
        "equation": "Ctrl-E",
        "itemize": "Ctrl-I"
      },
      "labels_anchors": false,
      "latex_user_defs": false,
      "report_style_numbering": false,
      "user_envs_cfg": false
    },
    "nbTranslate": {
      "displayLangs": [
        "*"
      ],
      "hotkey": "alt-t",
      "langInMainMenu": true,
      "sourceLang": "en",
      "targetLang": "fr",
      "useGoogleTranslate": true
    }
  },
  "cells": [
    {
      "cell_type": "markdown",
      "metadata": {
        "id": "view-in-github",
        "colab_type": "text"
      },
      "source": [
        "<a href=\"https://colab.research.google.com/github/ahmadrathore/Provisioning-SmartX-MicroBox/blob/master/2_1_CNN_Multivariate_Horizon_Style_FlowData.ipynb\" target=\"_parent\"><img src=\"https://colab.research.google.com/assets/colab-badge.svg\" alt=\"Open In Colab\"/></a>"
      ]
    },
    {
      "cell_type": "code",
      "metadata": {
        "id": "dBj39vTjPzEM"
      },
      "source": [
        "import tensorflow as tf\n",
        "import matplotlib.pyplot as plt\n",
        "import numpy as np\n",
        "import pandas as pd\n",
        "from sklearn import preprocessing\n",
        "from tensorflow.keras.models import Sequential\n",
        "from tensorflow.keras.layers import Dense\n",
        "from tensorflow.keras.layers import Flatten,TimeDistributed,RepeatVector\n",
        "from tensorflow.keras.layers import Conv1D\n",
        "from tensorflow.keras.layers import MaxPool1D\n",
        "from tensorflow.keras.layers import Dropout\n",
        "tf.random.set_seed(123)\n",
        "np.random.seed(123)"
      ],
      "execution_count": 59,
      "outputs": []
    },
    {
      "cell_type": "code",
      "metadata": {
        "id": "B34_TvUjPzEX"
      },
      "source": [
        "#df = pd.read_csv(r'merge-csv.com__602f0aa73c265.csv')\n",
        "#df = pd.read_csv('merge-csv.com__602f0aa73c265.csv',index_col='Processing_time',\n",
        "#                infer_datetime_format=True)\n",
        "url='https://raw.githubusercontent.com/ahmadrathore/Provisioning-SmartX-MicroBox/master/kafka9092_Network-Flows.csv'\n",
        "\n",
        "df = pd.read_csv(url,index_col='Processing_time',\n",
        "                infer_datetime_format=True)"
      ],
      "execution_count": 60,
      "outputs": []
    },
    {
      "cell_type": "code",
      "metadata": {
        "colab": {
          "base_uri": "https://localhost:8080/",
          "height": 343
        },
        "id": "H_Y5pPiNPzEY",
        "outputId": "d1541b72-7ba6-4f65-eb39-b8079cf9e868"
      },
      "source": [
        "df.head()"
      ],
      "execution_count": 61,
      "outputs": [
        {
          "output_type": "execute_result",
          "data": {
            "text/html": [
              "<div>\n",
              "<style scoped>\n",
              "    .dataframe tbody tr th:only-of-type {\n",
              "        vertical-align: middle;\n",
              "    }\n",
              "\n",
              "    .dataframe tbody tr th {\n",
              "        vertical-align: top;\n",
              "    }\n",
              "\n",
              "    .dataframe thead th {\n",
              "        text-align: right;\n",
              "    }\n",
              "</style>\n",
              "<table border=\"1\" class=\"dataframe\">\n",
              "  <thead>\n",
              "    <tr style=\"text-align: right;\">\n",
              "      <th></th>\n",
              "      <th>Measurement_boxname</th>\n",
              "      <th>src_host_port</th>\n",
              "      <th>dest_host_port</th>\n",
              "      <th>protocol</th>\n",
              "      <th>protocol_count</th>\n",
              "      <th>min_tcp_window_size</th>\n",
              "      <th>max_tcp_window_size</th>\n",
              "      <th>avg_tcp_window_size</th>\n",
              "      <th>std_dev_tcp_window_size</th>\n",
              "      <th>min_data_bytes</th>\n",
              "      <th>max_data_bytes</th>\n",
              "      <th>avg_databytes</th>\n",
              "      <th>std_dev_databytes</th>\n",
              "      <th>total_data_bytes</th>\n",
              "      <th>flow_duration</th>\n",
              "    </tr>\n",
              "    <tr>\n",
              "      <th>Processing_time</th>\n",
              "      <th></th>\n",
              "      <th></th>\n",
              "      <th></th>\n",
              "      <th></th>\n",
              "      <th></th>\n",
              "      <th></th>\n",
              "      <th></th>\n",
              "      <th></th>\n",
              "      <th></th>\n",
              "      <th></th>\n",
              "      <th></th>\n",
              "      <th></th>\n",
              "      <th></th>\n",
              "      <th></th>\n",
              "      <th></th>\n",
              "    </tr>\n",
              "  </thead>\n",
              "  <tbody>\n",
              "    <tr>\n",
              "      <th>2020-12-01T00:05:24.998+09:00</th>\n",
              "      <td>smartx-microbox-gist-1</td>\n",
              "      <td>39846</td>\n",
              "      <td>9092</td>\n",
              "      <td>6</td>\n",
              "      <td>183</td>\n",
              "      <td>2438</td>\n",
              "      <td>2439</td>\n",
              "      <td>2439</td>\n",
              "      <td>0.07</td>\n",
              "      <td>161</td>\n",
              "      <td>11888</td>\n",
              "      <td>2788.26</td>\n",
              "      <td>2591.23</td>\n",
              "      <td>510252</td>\n",
              "      <td>170.018</td>\n",
              "    </tr>\n",
              "    <tr>\n",
              "      <th>2020-12-01T00:10:44.861+09:00</th>\n",
              "      <td>smartx-microbox-gist-1</td>\n",
              "      <td>39846</td>\n",
              "      <td>9092</td>\n",
              "      <td>6</td>\n",
              "      <td>396</td>\n",
              "      <td>2438</td>\n",
              "      <td>2439</td>\n",
              "      <td>2439</td>\n",
              "      <td>0.11</td>\n",
              "      <td>63</td>\n",
              "      <td>11856</td>\n",
              "      <td>2228.37</td>\n",
              "      <td>2094.46</td>\n",
              "      <td>882435</td>\n",
              "      <td>290.016</td>\n",
              "    </tr>\n",
              "    <tr>\n",
              "      <th>2020-12-01T00:15:33.979+09:00</th>\n",
              "      <td>smartx-microbox-gist-1</td>\n",
              "      <td>39846</td>\n",
              "      <td>9092</td>\n",
              "      <td>6</td>\n",
              "      <td>395</td>\n",
              "      <td>2438</td>\n",
              "      <td>2439</td>\n",
              "      <td>2439</td>\n",
              "      <td>0.13</td>\n",
              "      <td>102</td>\n",
              "      <td>13084</td>\n",
              "      <td>2209.62</td>\n",
              "      <td>2321.09</td>\n",
              "      <td>872801</td>\n",
              "      <td>290.017</td>\n",
              "    </tr>\n",
              "    <tr>\n",
              "      <th>2020-12-01T00:25:41.464+09:00</th>\n",
              "      <td>smartx-microbox-gist-1</td>\n",
              "      <td>39846</td>\n",
              "      <td>9092</td>\n",
              "      <td>6</td>\n",
              "      <td>459</td>\n",
              "      <td>2438</td>\n",
              "      <td>2439</td>\n",
              "      <td>2439</td>\n",
              "      <td>0.09</td>\n",
              "      <td>61</td>\n",
              "      <td>11550</td>\n",
              "      <td>1989.66</td>\n",
              "      <td>1919.81</td>\n",
              "      <td>913254</td>\n",
              "      <td>290.017</td>\n",
              "    </tr>\n",
              "    <tr>\n",
              "      <th>2020-12-01T00:35:18.114+09:00</th>\n",
              "      <td>smartx-microbox-gist-1</td>\n",
              "      <td>39846</td>\n",
              "      <td>9092</td>\n",
              "      <td>6</td>\n",
              "      <td>456</td>\n",
              "      <td>2438</td>\n",
              "      <td>2439</td>\n",
              "      <td>2439</td>\n",
              "      <td>0.09</td>\n",
              "      <td>87</td>\n",
              "      <td>11544</td>\n",
              "      <td>1981.21</td>\n",
              "      <td>1909.48</td>\n",
              "      <td>903430</td>\n",
              "      <td>290.011</td>\n",
              "    </tr>\n",
              "  </tbody>\n",
              "</table>\n",
              "</div>"
            ],
            "text/plain": [
              "                                  Measurement_boxname  ...  flow_duration\n",
              "Processing_time                                        ...               \n",
              "2020-12-01T00:05:24.998+09:00  smartx-microbox-gist-1  ...        170.018\n",
              "2020-12-01T00:10:44.861+09:00  smartx-microbox-gist-1  ...        290.016\n",
              "2020-12-01T00:15:33.979+09:00  smartx-microbox-gist-1  ...        290.017\n",
              "2020-12-01T00:25:41.464+09:00  smartx-microbox-gist-1  ...        290.017\n",
              "2020-12-01T00:35:18.114+09:00  smartx-microbox-gist-1  ...        290.011\n",
              "\n",
              "[5 rows x 15 columns]"
            ]
          },
          "metadata": {
            "tags": []
          },
          "execution_count": 61
        }
      ]
    },
    {
      "cell_type": "code",
      "metadata": {
        "colab": {
          "base_uri": "https://localhost:8080/",
          "height": 299
        },
        "id": "PRuMEdj2PzEa",
        "outputId": "61b1e206-c97b-4880-e34c-fcd93c9f72e4"
      },
      "source": [
        "df.describe()"
      ],
      "execution_count": 62,
      "outputs": [
        {
          "output_type": "execute_result",
          "data": {
            "text/html": [
              "<div>\n",
              "<style scoped>\n",
              "    .dataframe tbody tr th:only-of-type {\n",
              "        vertical-align: middle;\n",
              "    }\n",
              "\n",
              "    .dataframe tbody tr th {\n",
              "        vertical-align: top;\n",
              "    }\n",
              "\n",
              "    .dataframe thead th {\n",
              "        text-align: right;\n",
              "    }\n",
              "</style>\n",
              "<table border=\"1\" class=\"dataframe\">\n",
              "  <thead>\n",
              "    <tr style=\"text-align: right;\">\n",
              "      <th></th>\n",
              "      <th>src_host_port</th>\n",
              "      <th>dest_host_port</th>\n",
              "      <th>protocol</th>\n",
              "      <th>protocol_count</th>\n",
              "      <th>min_tcp_window_size</th>\n",
              "      <th>max_tcp_window_size</th>\n",
              "      <th>avg_tcp_window_size</th>\n",
              "      <th>std_dev_tcp_window_size</th>\n",
              "      <th>min_data_bytes</th>\n",
              "      <th>max_data_bytes</th>\n",
              "      <th>avg_databytes</th>\n",
              "      <th>std_dev_databytes</th>\n",
              "      <th>total_data_bytes</th>\n",
              "      <th>flow_duration</th>\n",
              "    </tr>\n",
              "  </thead>\n",
              "  <tbody>\n",
              "    <tr>\n",
              "      <th>count</th>\n",
              "      <td>8576.000000</td>\n",
              "      <td>8576.0</td>\n",
              "      <td>8576.0</td>\n",
              "      <td>8576.000000</td>\n",
              "      <td>8576.000000</td>\n",
              "      <td>8576.000000</td>\n",
              "      <td>8576.000000</td>\n",
              "      <td>8576.000000</td>\n",
              "      <td>8576.000000</td>\n",
              "      <td>8576.000000</td>\n",
              "      <td>8576.000000</td>\n",
              "      <td>8576.000000</td>\n",
              "      <td>8576.000000</td>\n",
              "      <td>8576.000000</td>\n",
              "    </tr>\n",
              "    <tr>\n",
              "      <th>mean</th>\n",
              "      <td>40807.862873</td>\n",
              "      <td>9092.0</td>\n",
              "      <td>6.0</td>\n",
              "      <td>362.090602</td>\n",
              "      <td>2315.889576</td>\n",
              "      <td>2317.284632</td>\n",
              "      <td>2316.846782</td>\n",
              "      <td>0.317004</td>\n",
              "      <td>76.953708</td>\n",
              "      <td>10271.796525</td>\n",
              "      <td>2104.136580</td>\n",
              "      <td>2048.747845</td>\n",
              "      <td>761531.681087</td>\n",
              "      <td>279.171818</td>\n",
              "    </tr>\n",
              "    <tr>\n",
              "      <th>std</th>\n",
              "      <td>3907.567979</td>\n",
              "      <td>0.0</td>\n",
              "      <td>0.0</td>\n",
              "      <td>56.159077</td>\n",
              "      <td>395.897535</td>\n",
              "      <td>394.644232</td>\n",
              "      <td>395.614646</td>\n",
              "      <td>1.226467</td>\n",
              "      <td>19.597907</td>\n",
              "      <td>1867.873236</td>\n",
              "      <td>175.951136</td>\n",
              "      <td>231.740512</td>\n",
              "      <td>131589.840309</td>\n",
              "      <td>34.988489</td>\n",
              "    </tr>\n",
              "    <tr>\n",
              "      <th>min</th>\n",
              "      <td>33560.000000</td>\n",
              "      <td>9092.0</td>\n",
              "      <td>6.0</td>\n",
              "      <td>22.000000</td>\n",
              "      <td>499.000000</td>\n",
              "      <td>501.000000</td>\n",
              "      <td>501.000000</td>\n",
              "      <td>0.000000</td>\n",
              "      <td>59.000000</td>\n",
              "      <td>5971.000000</td>\n",
              "      <td>1387.150000</td>\n",
              "      <td>1291.840000</td>\n",
              "      <td>44072.000000</td>\n",
              "      <td>10.014000</td>\n",
              "    </tr>\n",
              "    <tr>\n",
              "      <th>25%</th>\n",
              "      <td>39846.000000</td>\n",
              "      <td>9092.0</td>\n",
              "      <td>6.0</td>\n",
              "      <td>340.000000</td>\n",
              "      <td>2438.000000</td>\n",
              "      <td>2439.000000</td>\n",
              "      <td>2439.000000</td>\n",
              "      <td>0.000000</td>\n",
              "      <td>62.000000</td>\n",
              "      <td>8740.000000</td>\n",
              "      <td>1973.480000</td>\n",
              "      <td>1867.347500</td>\n",
              "      <td>686703.750000</td>\n",
              "      <td>290.015000</td>\n",
              "    </tr>\n",
              "    <tr>\n",
              "      <th>50%</th>\n",
              "      <td>39846.000000</td>\n",
              "      <td>9092.0</td>\n",
              "      <td>6.0</td>\n",
              "      <td>369.000000</td>\n",
              "      <td>2438.000000</td>\n",
              "      <td>2439.000000</td>\n",
              "      <td>2439.000000</td>\n",
              "      <td>0.050000</td>\n",
              "      <td>69.000000</td>\n",
              "      <td>10587.000000</td>\n",
              "      <td>2094.890000</td>\n",
              "      <td>2032.635000</td>\n",
              "      <td>709585.000000</td>\n",
              "      <td>290.016000</td>\n",
              "    </tr>\n",
              "    <tr>\n",
              "      <th>75%</th>\n",
              "      <td>40442.000000</td>\n",
              "      <td>9092.0</td>\n",
              "      <td>6.0</td>\n",
              "      <td>398.000000</td>\n",
              "      <td>2439.000000</td>\n",
              "      <td>2439.000000</td>\n",
              "      <td>2439.000000</td>\n",
              "      <td>0.100000</td>\n",
              "      <td>88.000000</td>\n",
              "      <td>11718.000000</td>\n",
              "      <td>2226.530000</td>\n",
              "      <td>2229.402500</td>\n",
              "      <td>882164.750000</td>\n",
              "      <td>290.017000</td>\n",
              "    </tr>\n",
              "    <tr>\n",
              "      <th>max</th>\n",
              "      <td>59584.000000</td>\n",
              "      <td>9092.0</td>\n",
              "      <td>6.0</td>\n",
              "      <td>514.000000</td>\n",
              "      <td>2439.000000</td>\n",
              "      <td>2439.000000</td>\n",
              "      <td>2439.000000</td>\n",
              "      <td>21.950000</td>\n",
              "      <td>264.000000</td>\n",
              "      <td>14764.000000</td>\n",
              "      <td>2899.900000</td>\n",
              "      <td>2856.150000</td>\n",
              "      <td>923288.000000</td>\n",
              "      <td>290.056000</td>\n",
              "    </tr>\n",
              "  </tbody>\n",
              "</table>\n",
              "</div>"
            ],
            "text/plain": [
              "       src_host_port  dest_host_port  ...  total_data_bytes  flow_duration\n",
              "count    8576.000000          8576.0  ...       8576.000000    8576.000000\n",
              "mean    40807.862873          9092.0  ...     761531.681087     279.171818\n",
              "std      3907.567979             0.0  ...     131589.840309      34.988489\n",
              "min     33560.000000          9092.0  ...      44072.000000      10.014000\n",
              "25%     39846.000000          9092.0  ...     686703.750000     290.015000\n",
              "50%     39846.000000          9092.0  ...     709585.000000     290.016000\n",
              "75%     40442.000000          9092.0  ...     882164.750000     290.017000\n",
              "max     59584.000000          9092.0  ...     923288.000000     290.056000\n",
              "\n",
              "[8 rows x 14 columns]"
            ]
          },
          "metadata": {
            "tags": []
          },
          "execution_count": 62
        }
      ]
    },
    {
      "cell_type": "code",
      "metadata": {
        "id": "18TqgoQ7PzEa"
      },
      "source": [
        "#df.drop_duplicates(subset=['Processing_time'], keep=False,inplace=True)"
      ],
      "execution_count": 63,
      "outputs": []
    },
    {
      "cell_type": "code",
      "metadata": {
        "id": "zOEeEc3QPzEb"
      },
      "source": [
        "Measurement_boxname_le = preprocessing.LabelEncoder()\n",
        "df['Measurement_boxname_le'] = Measurement_boxname_le.fit_transform(df['Measurement_boxname']) "
      ],
      "execution_count": 64,
      "outputs": []
    },
    {
      "cell_type": "code",
      "metadata": {
        "id": "XblXTJ48PzEc"
      },
      "source": [
        "df = df[['std_dev_tcp_window_size','avg_tcp_window_size','max_tcp_window_size','min_tcp_window_size','min_data_bytes', 'max_data_bytes', 'avg_databytes','std_dev_databytes','total_data_bytes', 'Measurement_boxname_le']]"
      ],
      "execution_count": 65,
      "outputs": []
    },
    {
      "cell_type": "code",
      "metadata": {
        "id": "Y4-EzZtePzEd"
      },
      "source": [
        "def custom_ts_multi_data_prep(dataset, target, start, end, window, horizon):\n",
        "    X = []\n",
        "    y = []\n",
        "    start = start + window\n",
        "    if end is None:\n",
        "        end = len(dataset) - horizon\n",
        "\n",
        "    for i in range(start, end):\n",
        "        indices = range(i-window, i)\n",
        "        X.append(dataset[indices])\n",
        "\n",
        "        indicey = range(i+1, i+1+horizon)\n",
        "        y.append(target[indicey])\n",
        "    return np.array(X), np.array(y)"
      ],
      "execution_count": 66,
      "outputs": []
    },
    {
      "cell_type": "code",
      "metadata": {
        "id": "WO7ffDPOAOEL"
      },
      "source": [
        "validate = df[['std_dev_tcp_window_size','avg_tcp_window_size','max_tcp_window_size','min_tcp_window_size','min_data_bytes', 'max_data_bytes', 'avg_databytes','std_dev_databytes','total_data_bytes', 'Measurement_boxname_le']].tail(250)\n",
        "df.drop(df.tail(250).index,inplace=True)"
      ],
      "execution_count": 67,
      "outputs": []
    },
    {
      "cell_type": "code",
      "metadata": {
        "id": "sUO2SIPRPzEf"
      },
      "source": [
        "x_scaler = preprocessing.MinMaxScaler()\n",
        "y_scaler = preprocessing.MinMaxScaler()\n",
        "dataX = x_scaler.fit_transform(df[['std_dev_tcp_window_size','avg_tcp_window_size','max_tcp_window_size','min_tcp_window_size','Measurement_boxname_le','min_data_bytes', 'max_data_bytes', 'avg_databytes','std_dev_databytes','total_data_bytes']])\n",
        "dataY = y_scaler.fit_transform(df[['total_data_bytes']])"
      ],
      "execution_count": 68,
      "outputs": []
    },
    {
      "cell_type": "code",
      "metadata": {
        "id": "OVyVG9wPPzEf"
      },
      "source": [
        "#hist_window = 12\n",
        "#horizon = 10\n",
        "#hist_window = 1000\n",
        "#horizon = 2000\n",
        "hist_window = 200# relates to data_val =\n",
        "horizon = 250\n",
        "\n",
        "TRAIN_SPLIT = 5574\n",
        "#TRAIN_SPLIT = 3574\n",
        "x_train_multi, y_train_multi = custom_ts_multi_data_prep(\n",
        "    dataX, dataY, 0, TRAIN_SPLIT, hist_window, horizon)\n",
        "x_val_multi, y_val_multi = custom_ts_multi_data_prep(\n",
        "    dataX, dataY, TRAIN_SPLIT, None, hist_window, horizon)"
      ],
      "execution_count": 69,
      "outputs": []
    },
    {
      "cell_type": "code",
      "metadata": {
        "colab": {
          "base_uri": "https://localhost:8080/"
        },
        "id": "yRGFNGVpPzEg",
        "scrolled": true,
        "outputId": "60780246-7af1-4738-8fbf-38d238e72572"
      },
      "source": [
        "print ('Single window of past history')\n",
        "print(x_train_multi[0])\n",
        "print ('\\n Target horizon')\n",
        "print (y_train_multi[0])"
      ],
      "execution_count": 70,
      "outputs": [
        {
          "output_type": "stream",
          "text": [
            "Single window of past history\n",
            "[[0.00318907 1.         1.         ... 0.92620063 0.83064738 0.53022238]\n",
            " [0.00501139 1.         1.         ... 0.5560866  0.51308245 0.95353474]\n",
            " [0.00592255 1.         1.         ... 0.54369195 0.65795782 0.94257725]\n",
            " ...\n",
            " [0.00364465 1.         1.         ... 0.47717072 0.52669867 0.96932836]\n",
            " [0.00501139 1.         1.         ... 0.43229218 0.53031049 0.96204801]\n",
            " [0.00455581 1.         1.         ... 0.49355148 0.54001445 0.95218581]]\n",
            "\n",
            " Target horizon\n",
            "[[0.97162017]\n",
            " [0.96124957]\n",
            " [0.94890789]\n",
            " [0.96516897]\n",
            " [0.94999181]\n",
            " [0.95613478]\n",
            " [0.93448254]\n",
            " [0.97018708]\n",
            " [0.95124634]\n",
            " [0.96261101]\n",
            " [0.54209205]\n",
            " [0.94252493]\n",
            " [0.94991219]\n",
            " [0.94535245]\n",
            " [0.97325686]\n",
            " [0.95814112]\n",
            " [0.95357227]\n",
            " [0.94797069]\n",
            " [0.95336868]\n",
            " [0.95260892]\n",
            " [0.93442794]\n",
            " [0.55474309]\n",
            " [0.93985778]\n",
            " [0.94055044]\n",
            " [0.95139761]\n",
            " [0.9517138 ]\n",
            " [0.95499741]\n",
            " [0.96532593]\n",
            " [0.9443527 ]\n",
            " [0.95185142]\n",
            " [0.94896248]\n",
            " [0.96180688]\n",
            " [0.56276387]\n",
            " [0.96200934]\n",
            " [0.97071596]\n",
            " [0.96332642]\n",
            " [0.929138  ]\n",
            " [0.9432483 ]\n",
            " [0.96109375]\n",
            " [0.94750209]\n",
            " [0.94907167]\n",
            " [0.9503262 ]\n",
            " [0.96221179]\n",
            " [0.96169314]\n",
            " [0.53936803]\n",
            " [0.94571527]\n",
            " [0.96021797]\n",
            " [0.94075972]\n",
            " [0.93744654]\n",
            " [0.95805126]\n",
            " [0.97845239]\n",
            " [0.9564851 ]\n",
            " [0.96109602]\n",
            " [0.96282483]\n",
            " [0.93314726]\n",
            " [0.9368335 ]\n",
            " [0.56987816]\n",
            " [0.97438627]\n",
            " [0.97429301]\n",
            " [0.96975715]\n",
            " [0.94493731]\n",
            " [0.94124766]\n",
            " [0.95624511]\n",
            " [0.93821427]\n",
            " [0.94459723]\n",
            " [0.94795704]\n",
            " [0.55808811]\n",
            " [0.97587282]\n",
            " [0.9508221 ]\n",
            " [0.9536826 ]\n",
            " [0.94350876]\n",
            " [0.95121449]\n",
            " [0.95460501]\n",
            " [0.94560154]\n",
            " [0.94516023]\n",
            " [0.95540459]\n",
            " [0.97044412]\n",
            " [0.54889015]\n",
            " [0.94349056]\n",
            " [0.96267129]\n",
            " [0.94383405]\n",
            " [0.96711388]\n",
            " [0.94191985]\n",
            " [0.95797051]\n",
            " [0.95396239]\n",
            " [0.95468804]\n",
            " [0.95816159]\n",
            " [0.96414874]\n",
            " [0.94183909]\n",
            " [0.55557792]\n",
            " [0.92854543]\n",
            " [0.96847646]\n",
            " [0.96477999]\n",
            " [0.96075481]\n",
            " [0.97300095]\n",
            " [0.95977098]\n",
            " [0.96060013]\n",
            " [0.95824803]\n",
            " [0.95876895]\n",
            " [0.94582219]\n",
            " [0.95922049]\n",
            " [0.56383869]\n",
            " [0.96938295]\n",
            " [0.98457262]\n",
            " [0.94742589]\n",
            " [0.94423327]\n",
            " [0.94944701]\n",
            " [0.95934787]\n",
            " [0.94675256]\n",
            " [0.94552306]\n",
            " [0.95091195]\n",
            " [0.54767657]\n",
            " [0.98467953]\n",
            " [0.94674119]\n",
            " [0.9531867 ]\n",
            " [0.93925384]\n",
            " [0.94842678]\n",
            " [0.95307069]\n",
            " [0.93779231]\n",
            " [0.97055217]\n",
            " [0.95972776]\n",
            " [0.94969382]\n",
            " [0.54447713]\n",
            " [0.95304339]\n",
            " [0.95389643]\n",
            " [0.95206525]\n",
            " [0.95702876]\n",
            " [0.9347248 ]\n",
            " [0.94547301]\n",
            " [0.95990633]\n",
            " [0.95848119]\n",
            " [0.95665798]\n",
            " [0.94902163]\n",
            " [0.94718931]\n",
            " [0.54658127]\n",
            " [0.95169333]\n",
            " [0.97815099]\n",
            " [0.94417527]\n",
            " [0.95651467]\n",
            " [0.94340526]\n",
            " [0.95393623]\n",
            " [0.94985646]\n",
            " [0.95230296]\n",
            " [0.96634047]\n",
            " [0.94126586]\n",
            " [0.96520878]\n",
            " [0.941176  ]\n",
            " [0.96562164]\n",
            " [0.95374857]\n",
            " [0.95790568]\n",
            " [0.94213936]\n",
            " [0.98054176]\n",
            " [0.94269895]\n",
            " [0.96811136]\n",
            " [0.96140311]\n",
            " [0.95432749]\n",
            " [0.95460274]\n",
            " [0.9532993 ]\n",
            " [0.96179323]\n",
            " [0.47367655]\n",
            " [0.93324052]\n",
            " [0.96930902]\n",
            " [0.93048238]\n",
            " [0.95454587]\n",
            " [0.95366326]\n",
            " [0.94731329]\n",
            " [0.93069735]\n",
            " [0.96592191]\n",
            " [0.97207171]\n",
            " [0.94366572]\n",
            " [0.941681  ]\n",
            " [0.94337569]\n",
            " [0.55727375]\n",
            " [0.94654556]\n",
            " [0.95009076]\n",
            " [0.95614502]\n",
            " [0.9576873 ]\n",
            " [0.95666366]\n",
            " [0.9430868 ]\n",
            " [0.94090303]\n",
            " [0.94739404]\n",
            " [0.95409092]\n",
            " [0.97324662]\n",
            " [0.96017702]\n",
            " [0.55482384]\n",
            " [0.95418077]\n",
            " [0.94994973]\n",
            " [0.95838793]\n",
            " [0.96225501]\n",
            " [0.95018516]\n",
            " [0.94111686]\n",
            " [0.96716052]\n",
            " [0.95673873]\n",
            " [0.96204687]\n",
            " [0.95061168]\n",
            " [0.94393642]\n",
            " [0.54028589]\n",
            " [0.94616454]\n",
            " [0.9450465 ]\n",
            " [0.9460326 ]\n",
            " [0.94616567]\n",
            " [0.94212912]\n",
            " [0.95784199]\n",
            " [0.94651826]\n",
            " [0.95836973]\n",
            " [0.54916426]\n",
            " [0.95127477]\n",
            " [0.9515648 ]\n",
            " [0.963265  ]\n",
            " [0.95906467]\n",
            " [0.95986197]\n",
            " [0.95448559]\n",
            " [0.95646121]\n",
            " [0.95805126]\n",
            " [0.9478888 ]\n",
            " [0.92863187]\n",
            " [0.97203304]\n",
            " [0.54349329]\n",
            " [0.94511588]\n",
            " [0.93617041]\n",
            " [0.96232553]\n",
            " [0.95109279]\n",
            " [0.97163609]\n",
            " [0.96205142]\n",
            " [0.95968226]\n",
            " [0.94507607]\n",
            " [0.95382591]\n",
            " [0.95367919]\n",
            " [0.96054781]\n",
            " [0.53704664]\n",
            " [0.94626918]\n",
            " [0.95262711]\n",
            " [0.95250314]\n",
            " [0.95113601]\n",
            " [0.93927545]\n",
            " [0.96009399]\n",
            " [0.94611904]\n",
            " [0.98169961]\n",
            " [0.97198754]\n",
            " [0.55761838]\n",
            " [0.95192763]\n",
            " [0.94879984]\n",
            " [0.96636435]\n",
            " [0.96058875]\n",
            " [0.95089716]\n",
            " [0.91771419]\n",
            " [0.97350708]\n",
            " [0.94633742]\n",
            " [0.96512461]\n",
            " [0.9612962 ]]\n"
          ],
          "name": "stdout"
        }
      ]
    },
    {
      "cell_type": "code",
      "metadata": {
        "id": "YN8DcUfkPzEg"
      },
      "source": [
        "#BATCH_SIZE = 256\n",
        "#BUFFER_SIZE = 150\n",
        "BATCH_SIZE = 256\n",
        "BUFFER_SIZE = 150\n",
        "#original\n",
        "#BUFFER_SIZE = 150\n",
        "\n",
        "train_data_multi = tf.data.Dataset.from_tensor_slices((x_train_multi, y_train_multi))\n",
        "train_data_multi = train_data_multi.cache().shuffle(BUFFER_SIZE).batch(BATCH_SIZE).repeat()\n",
        "\n",
        "val_data_multi = tf.data.Dataset.from_tensor_slices((x_val_multi, y_val_multi))\n",
        "val_data_multi = val_data_multi.batch(BATCH_SIZE).repeat()"
      ],
      "execution_count": 71,
      "outputs": []
    },
    {
      "cell_type": "code",
      "metadata": {
        "id": "m-rpWu6zPzEh"
      },
      "source": [
        "model = Sequential()\n",
        "model.add(Conv1D(filters=64, kernel_size=3, activation='relu'\n",
        ", input_shape=(x_train_multi.shape[1], x_train_multi.shape[2])))\n",
        "model.add(MaxPool1D(pool_size=2))\n",
        "model.add(Dropout(0.2))\n",
        "model.add(Flatten())\n",
        "model.add(Dense(30, activation='relu'))\n",
        "model.add(Dropout(0.2))\n",
        "model.add(Dense(horizon))\n",
        "model.compile(optimizer='adam', loss='mse')"
      ],
      "execution_count": 72,
      "outputs": []
    },
    {
      "cell_type": "code",
      "metadata": {
        "id": "qfiWQUCiPzEi"
      },
      "source": [
        "model_path = r'CNN_Multivariate.h5'"
      ],
      "execution_count": 73,
      "outputs": []
    },
    {
      "cell_type": "code",
      "metadata": {
        "colab": {
          "base_uri": "https://localhost:8080/"
        },
        "id": "T9Rkdv_UPzEj",
        "scrolled": true,
        "outputId": "8d58047f-de35-418c-c768-8dcc30f8e942"
      },
      "source": [
        "EVALUATION_INTERVAL = 100\n",
        "EPOCHS = 150\n",
        "history = model.fit(train_data_multi, epochs=EPOCHS, steps_per_epoch=EVALUATION_INTERVAL, validation_data=val_data_multi, validation_steps=50, verbose=1,\n",
        "                                   callbacks=[tf.keras.callbacks.EarlyStopping(monitor='val_loss', min_delta=0, patience=10, verbose=1, mode='min'), tf.keras.callbacks.ModelCheckpoint(model_path, monitor='val_loss', save_best_only=True, mode='min', verbose=0)])"
      ],
      "execution_count": 74,
      "outputs": [
        {
          "output_type": "stream",
          "text": [
            "Epoch 1/150\n",
            "100/100 [==============================] - 1s 11ms/step - loss: 0.2851 - val_loss: 0.0281\n",
            "Epoch 2/150\n",
            "100/100 [==============================] - 1s 9ms/step - loss: 0.0660 - val_loss: 0.0095\n",
            "Epoch 3/150\n",
            "100/100 [==============================] - 1s 9ms/step - loss: 0.0507 - val_loss: 0.0179\n",
            "Epoch 4/150\n",
            "100/100 [==============================] - 1s 9ms/step - loss: 0.0430 - val_loss: 0.0115\n",
            "Epoch 5/150\n",
            "100/100 [==============================] - 1s 9ms/step - loss: 0.0399 - val_loss: 0.0102\n",
            "Epoch 6/150\n",
            "100/100 [==============================] - 1s 9ms/step - loss: 0.0374 - val_loss: 0.0098\n",
            "Epoch 7/150\n",
            "100/100 [==============================] - 1s 9ms/step - loss: 0.0340 - val_loss: 0.0138\n",
            "Epoch 8/150\n",
            "100/100 [==============================] - 1s 9ms/step - loss: 0.0321 - val_loss: 0.0101\n",
            "Epoch 9/150\n",
            "100/100 [==============================] - 1s 9ms/step - loss: 0.0310 - val_loss: 0.0099\n",
            "Epoch 10/150\n",
            "100/100 [==============================] - 1s 9ms/step - loss: 0.0291 - val_loss: 0.0093\n",
            "Epoch 11/150\n",
            "100/100 [==============================] - 1s 9ms/step - loss: 0.0281 - val_loss: 0.0108\n",
            "Epoch 12/150\n",
            "100/100 [==============================] - 1s 9ms/step - loss: 0.0271 - val_loss: 0.0095\n",
            "Epoch 13/150\n",
            "100/100 [==============================] - 1s 9ms/step - loss: 0.0260 - val_loss: 0.0099\n",
            "Epoch 14/150\n",
            "100/100 [==============================] - 1s 9ms/step - loss: 0.0252 - val_loss: 0.0099\n",
            "Epoch 15/150\n",
            "100/100 [==============================] - 1s 9ms/step - loss: 0.0245 - val_loss: 0.0123\n",
            "Epoch 16/150\n",
            "100/100 [==============================] - 1s 9ms/step - loss: 0.0241 - val_loss: 0.0097\n",
            "Epoch 17/150\n",
            "100/100 [==============================] - 1s 9ms/step - loss: 0.0239 - val_loss: 0.0114\n",
            "Epoch 18/150\n",
            "100/100 [==============================] - 1s 9ms/step - loss: 0.0252 - val_loss: 0.0108\n",
            "Epoch 19/150\n",
            "100/100 [==============================] - 1s 9ms/step - loss: 0.0268 - val_loss: 0.0191\n",
            "Epoch 20/150\n",
            "100/100 [==============================] - 1s 9ms/step - loss: 0.0234 - val_loss: 0.0101\n",
            "Epoch 00020: early stopping\n"
          ],
          "name": "stdout"
        }
      ]
    },
    {
      "cell_type": "code",
      "metadata": {
        "id": "dhjFoX7sPzEj"
      },
      "source": [
        "Trained_model = tf.keras.models.load_model(model_path)"
      ],
      "execution_count": 75,
      "outputs": []
    },
    {
      "cell_type": "code",
      "metadata": {
        "colab": {
          "base_uri": "https://localhost:8080/"
        },
        "id": "gka9OA7xPzEk",
        "outputId": "76f48a9b-8a34-4950-fbbe-dbaca74de3a5"
      },
      "source": [
        "# Show the model architecture\n",
        "Trained_model.summary()"
      ],
      "execution_count": 76,
      "outputs": [
        {
          "output_type": "stream",
          "text": [
            "Model: \"sequential_2\"\n",
            "_________________________________________________________________\n",
            "Layer (type)                 Output Shape              Param #   \n",
            "=================================================================\n",
            "conv1d_2 (Conv1D)            (None, 198, 64)           1984      \n",
            "_________________________________________________________________\n",
            "max_pooling1d_2 (MaxPooling1 (None, 99, 64)            0         \n",
            "_________________________________________________________________\n",
            "dropout_4 (Dropout)          (None, 99, 64)            0         \n",
            "_________________________________________________________________\n",
            "flatten_2 (Flatten)          (None, 6336)              0         \n",
            "_________________________________________________________________\n",
            "dense_4 (Dense)              (None, 30)                190110    \n",
            "_________________________________________________________________\n",
            "dropout_5 (Dropout)          (None, 30)                0         \n",
            "_________________________________________________________________\n",
            "dense_5 (Dense)              (None, 250)               7750      \n",
            "=================================================================\n",
            "Total params: 199,844\n",
            "Trainable params: 199,844\n",
            "Non-trainable params: 0\n",
            "_________________________________________________________________\n"
          ],
          "name": "stdout"
        }
      ]
    },
    {
      "cell_type": "code",
      "metadata": {
        "colab": {
          "base_uri": "https://localhost:8080/",
          "height": 581
        },
        "id": "Le5iVNMbPzEk",
        "outputId": "8ef4962e-b696-47b6-9865-50f5e3108fc2"
      },
      "source": [
        "plt.plot(history.history['loss'])\n",
        "plt.plot(history.history['val_loss'])\n",
        "plt.title('Model loss')\n",
        "plt.ylabel('loss')\n",
        "plt.xlabel('epoch')\n",
        "plt.legend(['train loss', 'validation loss'], loc='upper left')\n",
        "plt.rcParams[\"figure.figsize\"] = [16,9]\n",
        "plt.show()"
      ],
      "execution_count": 77,
      "outputs": [
        {
          "output_type": "display_data",
          "data": {
            "image/png": "[encoded data removed]",
            "text/plain": [
              "<Figure size 1152x648 with 1 Axes>"
            ]
          },
          "metadata": {
            "tags": [],
            "needs_background": "light"
          }
        }
      ]
    },
    {
      "cell_type": "code",
      "metadata": {
        "id": "D0-tAnDIPzEl"
      },
      "source": [
        "#data_val = x_scaler.fit_transform(df[['std_dev_tcp_window_size','avg_tcp_window_size','Measurement_boxname_le','min_data_bytes','max_data_bytes','avg_databytes','std_dev_databytes','total_data_bytes']].tail(2500))\n",
        "#original \n",
        "data_val = x_scaler.fit_transform(df[['std_dev_tcp_window_size','avg_tcp_window_size','max_tcp_window_size','min_tcp_window_size','Measurement_boxname_le','min_data_bytes', 'max_data_bytes', 'avg_databytes','std_dev_databytes','total_data_bytes']].tail(200))"
      ],
      "execution_count": 78,
      "outputs": []
    },
    {
      "cell_type": "code",
      "metadata": {
        "id": "BIK1oX_1PzEl",
        "scrolled": true
      },
      "source": [
        "val_rescaled = data_val.reshape(1, data_val.shape[0], data_val.shape[1])"
      ],
      "execution_count": 79,
      "outputs": []
    },
    {
      "cell_type": "code",
      "metadata": {
        "id": "rkXpQTZWPzEl"
      },
      "source": [
        "Predicted_results = Trained_model.predict(val_rescaled)"
      ],
      "execution_count": 80,
      "outputs": []
    },
    {
      "cell_type": "code",
      "metadata": {
        "colab": {
          "base_uri": "https://localhost:8080/"
        },
        "id": "hUH_nCTbPzEm",
        "outputId": "baab6702-9923-44d1-d03b-eec130c1bc5e"
      },
      "source": [
        "Predicted_results"
      ],
      "execution_count": 81,
      "outputs": [
        {
          "output_type": "execute_result",
          "data": {
            "text/plain": [
              "array([[0.75400305, 0.7516347 , 0.7582879 , 0.753417  , 0.75584376,\n",
              "        0.753739  , 0.75719315, 0.7582228 , 0.75747246, 0.7434293 ,\n",
              "        0.75310004, 0.7540273 , 0.756577  , 0.74552953, 0.74750006,\n",
              "        0.7580371 , 0.74974287, 0.7497838 , 0.74283826, 0.73710275,\n",
              "        0.75236344, 0.7556579 , 0.7555686 , 0.7491919 , 0.7309514 ,\n",
              "        0.7530873 , 0.75831264, 0.7552408 , 0.7595572 , 0.7614403 ,\n",
              "        0.74759245, 0.7386538 , 0.75463265, 0.7507291 , 0.75273305,\n",
              "        0.7537297 , 0.7447814 , 0.75080144, 0.7412204 , 0.7528119 ,\n",
              "        0.7409748 , 0.7377976 , 0.73385954, 0.75170225, 0.7552518 ,\n",
              "        0.7469513 , 0.7416747 , 0.7396108 , 0.75763893, 0.756089  ,\n",
              "        0.75895286, 0.74983406, 0.7608199 , 0.75439817, 0.7479312 ,\n",
              "        0.75855815, 0.75717765, 0.74106884, 0.7533698 , 0.7532522 ,\n",
              "        0.7585871 , 0.75073916, 0.75540984, 0.74865943, 0.75646555,\n",
              "        0.7469827 , 0.7359872 , 0.7590805 , 0.7548026 , 0.7539102 ,\n",
              "        0.750288  , 0.7525669 , 0.74506146, 0.7534251 , 0.756365  ,\n",
              "        0.75216424, 0.7565519 , 0.7562977 , 0.73502386, 0.7553623 ,\n",
              "        0.7551677 , 0.7505207 , 0.7442444 , 0.75468314, 0.75416976,\n",
              "        0.7445226 , 0.7479879 , 0.75000167, 0.75519764, 0.7366792 ,\n",
              "        0.75695646, 0.7518368 , 0.74419284, 0.7565122 , 0.75050014,\n",
              "        0.74721116, 0.7495869 , 0.7532582 , 0.757643  , 0.7455759 ,\n",
              "        0.74696136, 0.7466792 , 0.75287765, 0.757064  , 0.7427214 ,\n",
              "        0.7402483 , 0.7509409 , 0.7547686 , 0.7471324 , 0.7551462 ,\n",
              "        0.75140333, 0.74516404, 0.7509167 , 0.7551377 , 0.7519415 ,\n",
              "        0.75625426, 0.72596395, 0.7442135 , 0.7576755 , 0.74617887,\n",
              "        0.7543423 , 0.7573529 , 0.75367683, 0.7534958 , 0.73900265,\n",
              "        0.7339978 , 0.744514  , 0.74820167, 0.7470747 , 0.7503809 ,\n",
              "        0.73976   , 0.72827214, 0.75045085, 0.75250214, 0.74608034,\n",
              "        0.7415508 , 0.7476819 , 0.75695384, 0.7487623 , 0.7499201 ,\n",
              "        0.75029165, 0.7549658 , 0.74926436, 0.7554221 , 0.7501186 ,\n",
              "        0.7407785 , 0.75239867, 0.74533045, 0.74757636, 0.75090903,\n",
              "        0.7508755 , 0.7512627 , 0.74815875, 0.74691385, 0.7384791 ,\n",
              "        0.7401511 , 0.73902375, 0.7487303 , 0.75341874, 0.7303157 ,\n",
              "        0.753495  , 0.7460863 , 0.7433556 , 0.7437348 , 0.73133546,\n",
              "        0.75024223, 0.7283748 , 0.7549362 , 0.74551046, 0.7466798 ,\n",
              "        0.737662  , 0.74524796, 0.75470394, 0.7558273 , 0.74540055,\n",
              "        0.75235295, 0.74162203, 0.7505355 , 0.7465653 , 0.75391567,\n",
              "        0.75423336, 0.7465734 , 0.74563134, 0.7463248 , 0.75210375,\n",
              "        0.73381317, 0.751625  , 0.74424624, 0.74889606, 0.7532758 ,\n",
              "        0.7528595 , 0.73481655, 0.7464267 , 0.73721987, 0.7442882 ,\n",
              "        0.73964185, 0.74439347, 0.7369462 , 0.7494157 , 0.74745464,\n",
              "        0.7535951 , 0.7471767 , 0.74544823, 0.7452112 , 0.7554046 ,\n",
              "        0.7492173 , 0.7528604 , 0.74510854, 0.74262345, 0.75254464,\n",
              "        0.75312376, 0.72419333, 0.74820477, 0.7487266 , 0.7379853 ,\n",
              "        0.75309914, 0.7420751 , 0.7404003 , 0.75333923, 0.739138  ,\n",
              "        0.74785274, 0.74756914, 0.75292456, 0.75037533, 0.7412353 ,\n",
              "        0.7409047 , 0.7532407 , 0.74541306, 0.74504405, 0.74927616,\n",
              "        0.74411744, 0.73623407, 0.7483839 , 0.74582076, 0.74346703,\n",
              "        0.7300389 , 0.7493948 , 0.7517498 , 0.7460745 , 0.74147445,\n",
              "        0.74540716, 0.7384442 , 0.7404196 , 0.73367536, 0.74845636,\n",
              "        0.7289173 , 0.724154  , 0.7512929 , 0.7484318 , 0.72939944]],\n",
              "      dtype=float32)"
            ]
          },
          "metadata": {
            "tags": []
          },
          "execution_count": 81
        }
      ]
    },
    {
      "cell_type": "code",
      "metadata": {
        "id": "du4qmKwuPzEm"
      },
      "source": [
        "Predicted_results_Inv_trans = y_scaler.inverse_transform(Predicted_results)"
      ],
      "execution_count": 82,
      "outputs": []
    },
    {
      "cell_type": "code",
      "metadata": {
        "colab": {
          "base_uri": "https://localhost:8080/"
        },
        "id": "u7umm5lMPzEn",
        "outputId": "5db7b480-9353-410e-b411-39723f8652bd"
      },
      "source": [
        "Predicted_results_Inv_trans"
      ],
      "execution_count": 83,
      "outputs": [
        {
          "output_type": "execute_result",
          "data": {
            "text/plain": [
              "array([[707003.56, 704921.3 , 710770.9 , 706488.3 , 708621.94, 706771.4 ,\n",
              "        709808.4 , 710713.6 , 710053.94, 697706.94, 706209.6 , 707024.9 ,\n",
              "        709266.6 , 699553.5 , 701286.  , 710550.4 , 703257.94, 703293.94,\n",
              "        697187.3 , 692144.56, 705562.  , 708458.56, 708380.06, 702773.5 ,\n",
              "        686736.2 , 706198.4 , 710792.6 , 708091.8 , 711886.9 , 713542.5 ,\n",
              "        701367.25, 693508.25, 707557.1 , 704125.06, 705886.94, 706763.25,\n",
              "        698895.7 , 704188.7 , 695764.9 , 705956.3 , 695548.9 , 692755.5 ,\n",
              "        689293.06, 704980.7 , 708101.5 , 700803.56, 696164.3 , 694349.6 ,\n",
              "        710200.3 , 708837.56, 711355.5 , 703338.1 , 712997.06, 707350.94,\n",
              "        701665.06, 711008.5 , 709794.75, 695631.6 , 706446.8 , 706343.44,\n",
              "        711033.94, 704133.9 , 708240.44, 702305.4 , 709168.6 , 700831.1 ,\n",
              "        691163.75, 711467.75, 707706.5 , 706921.94, 703737.25, 705740.9 ,\n",
              "        699142.  , 706495.44, 709080.25, 705386.9 , 709244.56, 709021.06,\n",
              "        690316.75, 708198.6 , 708027.56, 703941.8 , 698423.6 , 707601.5 ,\n",
              "        707150.1 , 698668.2 , 701714.94, 703485.5 , 708053.9 , 691772.1 ,\n",
              "        709600.25, 705098.94, 698378.25, 709209.7 , 703923.75, 701032.  ,\n",
              "        703120.8 , 706348.7 , 710203.9 , 699594.25, 700812.4 , 700564.3 ,\n",
              "        706014.06, 709694.8 , 697084.56, 694910.2 , 704311.3 , 707676.6 ,\n",
              "        700962.8 , 708008.6 , 704717.9 , 699232.2 , 704290.  , 708001.1 ,\n",
              "        705191.  , 708982.9 , 682351.1 , 698396.44, 710232.44, 700124.44,\n",
              "        707301.9 , 709948.8 , 706716.75, 706557.56, 693814.94, 689414.6 ,\n",
              "        698660.6 , 701902.9 , 700912.06, 703818.9 , 694480.8 , 684380.56,\n",
              "        703880.44, 705683.94, 700037.8 , 696055.4 , 701445.94, 709597.94,\n",
              "        702395.8 , 703413.8 , 703740.44, 707850.  , 702837.25, 708251.25,\n",
              "        703588.3 , 695376.3 , 705592.94, 699378.5 , 701353.1 , 704283.25,\n",
              "        704253.75, 704594.25, 701865.2 , 700770.6 , 693354.6 , 694824.7 ,\n",
              "        693833.5 , 702367.7 , 706489.8 , 686177.25, 706556.9 , 700043.  ,\n",
              "        697642.1 , 697975.5 , 687073.9 , 703697.  , 684470.75, 707824.  ,\n",
              "        699536.75, 700564.8 , 692636.25, 699305.94, 707619.8 , 708607.5 ,\n",
              "        699440.1 , 705552.75, 696118.  , 703954.8 , 700464.1 , 706926.75,\n",
              "        707206.06, 700471.3 , 699643.  , 700252.7 , 705333.7 , 689252.3 ,\n",
              "        704912.75, 698425.25, 702513.44, 706364.2 , 705998.1 , 690134.5 ,\n",
              "        700342.3 , 692247.5 , 698462.1 , 694376.94, 698554.7 , 692006.94,\n",
              "        702970.3 , 701246.1 , 706644.9 , 701001.75, 699482.  , 699273.6 ,\n",
              "        708235.8 , 702795.8 , 705998.94, 699183.4 , 696998.44, 705721.3 ,\n",
              "        706230.5 , 680794.4 , 701905.6 , 702364.44, 692920.5 , 706208.8 ,\n",
              "        696516.3 , 695043.8 , 706419.94, 693934.  , 701596.1 , 701346.75,\n",
              "        706055.3 , 703814.  , 695777.94, 695487.25, 706333.3 , 699451.1 ,\n",
              "        699126.7 , 702847.6 , 698312.  , 691380.8 , 702063.1 , 699809.56,\n",
              "        697740.1 , 685933.9 , 702951.9 , 705022.5 , 700032.6 , 695988.2 ,\n",
              "        699445.94, 693324.  , 695060.8 , 689131.1 , 702126.8 , 684947.75,\n",
              "        680759.8 , 704620.75, 702105.25, 685371.7 ]], dtype=float32)"
            ]
          },
          "metadata": {
            "tags": []
          },
          "execution_count": 83
        }
      ]
    },
    {
      "cell_type": "code",
      "metadata": {
        "id": "4u69jBCiPzEn"
      },
      "source": [
        "from sklearn import metrics\n",
        "def timeseries_evaluation_metrics_func(y_true, y_pred):\n",
        "    \n",
        "    def mean_absolute_percentage_error(y_true, y_pred): \n",
        "        y_true, y_pred = np.array(y_true), np.array(y_pred)\n",
        "        return np.mean(np.abs((y_true - y_pred) / y_true)) * 100\n",
        "    print('Evaluation metric results:-')\n",
        "    print(f'MSE is : {metrics.mean_squared_error(y_true, y_pred)}')\n",
        "    print(f'MAE is : {metrics.mean_absolute_error(y_true, y_pred)}')\n",
        "    print(f'RMSE is : {np.sqrt(metrics.mean_squared_error(y_true, y_pred))}')\n",
        "    print(f'MAPE is : {mean_absolute_percentage_error(y_true, y_pred)}')\n",
        "    print(f'R2 is : {metrics.r2_score(y_true, y_pred)}',end='\\n\\n')"
      ],
      "execution_count": 84,
      "outputs": []
    },
    {
      "cell_type": "code",
      "metadata": {
        "colab": {
          "base_uri": "https://localhost:8080/"
        },
        "id": "JQiK0RxWPzEo",
        "outputId": "ce3e6690-956a-4a94-d7b5-232923f92c24"
      },
      "source": [
        "timeseries_evaluation_metrics_func(validate['total_data_bytes'],Predicted_results_Inv_trans[0])"
      ],
      "execution_count": 85,
      "outputs": [
        {
          "output_type": "stream",
          "text": [
            "Evaluation metric results:-\n",
            "MSE is : 8311010717.670218\n",
            "MAE is : 69631.0185\n",
            "RMSE is : 91164.74492735785\n",
            "MAPE is : 11.164135446017784\n",
            "R2 is : -0.09839362130191986\n",
            "\n"
          ],
          "name": "stdout"
        }
      ]
    },
    {
      "cell_type": "code",
      "metadata": {
        "colab": {
          "base_uri": "https://localhost:8080/",
          "height": 567
        },
        "id": "mJCd14KtPzEo",
        "outputId": "9ca5006e-7590-47c3-bbdf-bc8a9125c4e8"
      },
      "source": [
        "\n",
        "\n",
        "#plt.plot( list(validate['total_data_bytes']))\n",
        "#plt.plot( list(Predicted_results_Inv_trans[0]))\n",
        "#plt.title(\"Actual vs Predicted\")\n",
        "#lt.ylabel(\"total_data_bytes\")\n",
        "#plt.legend(('Actual','predicted'))\n",
        "#plt.show()\n",
        "\n",
        "plt.plot( list(validate['total_data_bytes']))\n",
        "plt.plot( list(Predicted_results_Inv_trans[0]))\n",
        "plt.rcParams.update({'font.size': 15})\n",
        "plt.title(\"Actual vs Predicted for CNN Model\", fontsize=25)\n",
        "plt.ylabel(\"total_data_bytes\", fontsize=25)\n",
        "plt.legend(('Actual','predicted'), fontsize=25)\n",
        "#plt.legend(loc=5, prop={'size': 10})\n",
        "###plt.rc('legend', fontsize='medium')\n",
        "plt.show()\n"
      ],
      "execution_count": 86,
      "outputs": [
        {
          "output_type": "display_data",
          "data": {
            "image/png": "[encoded data removed]",
            "text/plain": [
              "<Figure size 1152x648 with 1 Axes>"
            ]
          },
          "metadata": {
            "tags": [],
            "needs_background": "light"
          }
        }
      ]
    },
    {
      "cell_type": "code",
      "metadata": {
        "id": "hlajdbLCAOER"
      },
      "source": [
        ""
      ],
      "execution_count": 86,
      "outputs": []
    }
  ]
}