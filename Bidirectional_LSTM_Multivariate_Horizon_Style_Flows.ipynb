{
  "nbformat": 4,
  "nbformat_minor": 0,
  "metadata": {
    "colab": {
      "name": "W-1_Bidirectional_LSTM_Multivariate_Horizon_Style_Flows.ipynb",
      "provenance": [],
      "include_colab_link": true
    },
    "kernelspec": {
      "display_name": "Python 3",
      "language": "python",
      "name": "python3"
    },
    "language_info": {
      "codemirror_mode": {
        "name": "ipython",
        "version": 3
      },
      "file_extension": ".py",
      "mimetype": "text/x-python",
      "name": "python",
      "nbconvert_exporter": "python",
      "pygments_lexer": "ipython3",
      "version": "3.7.1"
    },
    "latex_envs": {
      "LaTeX_envs_menu_present": true,
      "autoclose": false,
      "autocomplete": true,
      "bibliofile": "biblio.bib",
      "cite_by": "apalike",
      "current_citInitial": 1,
      "eqLabelWithNumbers": true,
      "eqNumInitial": 1,
      "hotkeys": {
        "equation": "Ctrl-E",
        "itemize": "Ctrl-I"
      },
      "labels_anchors": false,
      "latex_user_defs": false,
      "report_style_numbering": false,
      "user_envs_cfg": false
    },
    "nbTranslate": {
      "displayLangs": [
        "*"
      ],
      "hotkey": "alt-t",
      "langInMainMenu": true,
      "sourceLang": "en",
      "targetLang": "fr",
      "useGoogleTranslate": true
    },
    "accelerator": "GPU"
  },
  "cells": [
    {
      "cell_type": "markdown",
      "metadata": {
        "id": "view-in-github",
        "colab_type": "text"
      },
      "source": [
        "<a href=\"https://colab.research.google.com/github/ahmadrathore/Provisioning-SmartX-MicroBox/blob/master/Bidirectional_LSTM_Multivariate_Horizon_Style_Flows.ipynb\" target=\"_parent\"><img src=\"https://colab.research.google.com/assets/colab-badge.svg\" alt=\"Open In Colab\"/></a>"
      ]
    },
    {
      "cell_type": "code",
      "metadata": {
        "ExecuteTime": {
          "end_time": "2020-03-02T14:41:43.610180Z",
          "start_time": "2020-03-02T14:41:38.666390Z"
        },
        "id": "Zz-s475r0eSY"
      },
      "source": [
        "import pandas as pd\n",
        "import numpy as np\n",
        "import tensorflow as tf\n",
        "from sklearn import preprocessing\n",
        "import matplotlib.pyplot as plt\n",
        "tf.random.set_seed(123)\n",
        "np.random.seed(123)"
      ],
      "execution_count": 377,
      "outputs": []
    },
    {
      "cell_type": "code",
      "metadata": {
        "ExecuteTime": {
          "end_time": "2020-03-02T14:41:43.940295Z",
          "start_time": "2020-03-02T14:41:43.863502Z"
        },
        "id": "AeeBsMza0eSf"
      },
      "source": [
        "#df = pd.read_csv(r'merge-csv.com__602f0aa73c265.csv')\n",
        "#df = pd.read_csv('merge-csv.com__602f0aa73c265.csv',index_col='Processing_time',\n",
        " #               infer_datetime_format=True)\n",
        "#url='https://raw.githubusercontent.com/ahmadrathore/Provisioning-SmartX-MicroBox/master/Network-Flows.csv'\n",
        "url='https://raw.githubusercontent.com/ahmadrathore/Provisioning-SmartX-MicroBox/master/kafka9092_Network-Flows.csv'\n",
        "\n",
        "df = pd.read_csv(url,index_col='Processing_time',\n",
        "                infer_datetime_format=True)\n",
        "\n",
        "\n",
        "\n",
        "#df = pd.read_csv(url,index_col='Processing_time',\n",
        "#               # infer_datetime_format=True)\n",
        "#                parse_dates=True)"
      ],
      "execution_count": 378,
      "outputs": []
    },
    {
      "cell_type": "code",
      "metadata": {
        "ExecuteTime": {
          "end_time": "2020-03-02T14:41:43.961275Z",
          "start_time": "2020-03-02T14:41:43.942290Z"
        },
        "id": "ar5UydPo0eSf",
        "colab": {
          "base_uri": "https://localhost:8080/",
          "height": 335
        },
        "outputId": "075f304d-d3bd-4647-cea8-8f1a4c52faf9"
      },
      "source": [
        "df.head()"
      ],
      "execution_count": 379,
      "outputs": [
        {
          "output_type": "execute_result",
          "data": {
            "text/html": [
              "<div>\n",
              "<style scoped>\n",
              "    .dataframe tbody tr th:only-of-type {\n",
              "        vertical-align: middle;\n",
              "    }\n",
              "\n",
              "    .dataframe tbody tr th {\n",
              "        vertical-align: top;\n",
              "    }\n",
              "\n",
              "    .dataframe thead th {\n",
              "        text-align: right;\n",
              "    }\n",
              "</style>\n",
              "<table border=\"1\" class=\"dataframe\">\n",
              "  <thead>\n",
              "    <tr style=\"text-align: right;\">\n",
              "      <th></th>\n",
              "      <th>Measurement_boxname</th>\n",
              "      <th>src_host_port</th>\n",
              "      <th>dest_host_port</th>\n",
              "      <th>protocol</th>\n",
              "      <th>protocol_count</th>\n",
              "      <th>min_tcp_window_size</th>\n",
              "      <th>max_tcp_window_size</th>\n",
              "      <th>avg_tcp_window_size</th>\n",
              "      <th>std_dev_tcp_window_size</th>\n",
              "      <th>min_data_bytes</th>\n",
              "      <th>max_data_bytes</th>\n",
              "      <th>avg_databytes</th>\n",
              "      <th>std_dev_databytes</th>\n",
              "      <th>total_data_bytes</th>\n",
              "      <th>flow_duration</th>\n",
              "    </tr>\n",
              "    <tr>\n",
              "      <th>Processing_time</th>\n",
              "      <th></th>\n",
              "      <th></th>\n",
              "      <th></th>\n",
              "      <th></th>\n",
              "      <th></th>\n",
              "      <th></th>\n",
              "      <th></th>\n",
              "      <th></th>\n",
              "      <th></th>\n",
              "      <th></th>\n",
              "      <th></th>\n",
              "      <th></th>\n",
              "      <th></th>\n",
              "      <th></th>\n",
              "      <th></th>\n",
              "    </tr>\n",
              "  </thead>\n",
              "  <tbody>\n",
              "    <tr>\n",
              "      <th>2020-12-01T00:05:24.998+09:00</th>\n",
              "      <td>smartx-microbox-gist-1</td>\n",
              "      <td>39846</td>\n",
              "      <td>9092</td>\n",
              "      <td>6</td>\n",
              "      <td>183</td>\n",
              "      <td>2438</td>\n",
              "      <td>2439</td>\n",
              "      <td>2439</td>\n",
              "      <td>0.07</td>\n",
              "      <td>161</td>\n",
              "      <td>11888</td>\n",
              "      <td>2788.26</td>\n",
              "      <td>2591.23</td>\n",
              "      <td>510252</td>\n",
              "      <td>170.018</td>\n",
              "    </tr>\n",
              "    <tr>\n",
              "      <th>2020-12-01T00:10:44.861+09:00</th>\n",
              "      <td>smartx-microbox-gist-1</td>\n",
              "      <td>39846</td>\n",
              "      <td>9092</td>\n",
              "      <td>6</td>\n",
              "      <td>396</td>\n",
              "      <td>2438</td>\n",
              "      <td>2439</td>\n",
              "      <td>2439</td>\n",
              "      <td>0.11</td>\n",
              "      <td>63</td>\n",
              "      <td>11856</td>\n",
              "      <td>2228.37</td>\n",
              "      <td>2094.46</td>\n",
              "      <td>882435</td>\n",
              "      <td>290.016</td>\n",
              "    </tr>\n",
              "    <tr>\n",
              "      <th>2020-12-01T00:15:33.979+09:00</th>\n",
              "      <td>smartx-microbox-gist-1</td>\n",
              "      <td>39846</td>\n",
              "      <td>9092</td>\n",
              "      <td>6</td>\n",
              "      <td>395</td>\n",
              "      <td>2438</td>\n",
              "      <td>2439</td>\n",
              "      <td>2439</td>\n",
              "      <td>0.13</td>\n",
              "      <td>102</td>\n",
              "      <td>13084</td>\n",
              "      <td>2209.62</td>\n",
              "      <td>2321.09</td>\n",
              "      <td>872801</td>\n",
              "      <td>290.017</td>\n",
              "    </tr>\n",
              "    <tr>\n",
              "      <th>2020-12-01T00:25:41.464+09:00</th>\n",
              "      <td>smartx-microbox-gist-1</td>\n",
              "      <td>39846</td>\n",
              "      <td>9092</td>\n",
              "      <td>6</td>\n",
              "      <td>459</td>\n",
              "      <td>2438</td>\n",
              "      <td>2439</td>\n",
              "      <td>2439</td>\n",
              "      <td>0.09</td>\n",
              "      <td>61</td>\n",
              "      <td>11550</td>\n",
              "      <td>1989.66</td>\n",
              "      <td>1919.81</td>\n",
              "      <td>913254</td>\n",
              "      <td>290.017</td>\n",
              "    </tr>\n",
              "    <tr>\n",
              "      <th>2020-12-01T00:35:18.114+09:00</th>\n",
              "      <td>smartx-microbox-gist-1</td>\n",
              "      <td>39846</td>\n",
              "      <td>9092</td>\n",
              "      <td>6</td>\n",
              "      <td>456</td>\n",
              "      <td>2438</td>\n",
              "      <td>2439</td>\n",
              "      <td>2439</td>\n",
              "      <td>0.09</td>\n",
              "      <td>87</td>\n",
              "      <td>11544</td>\n",
              "      <td>1981.21</td>\n",
              "      <td>1909.48</td>\n",
              "      <td>903430</td>\n",
              "      <td>290.011</td>\n",
              "    </tr>\n",
              "  </tbody>\n",
              "</table>\n",
              "</div>"
            ],
            "text/plain": [
              "                                  Measurement_boxname  ...  flow_duration\n",
              "Processing_time                                        ...               \n",
              "2020-12-01T00:05:24.998+09:00  smartx-microbox-gist-1  ...        170.018\n",
              "2020-12-01T00:10:44.861+09:00  smartx-microbox-gist-1  ...        290.016\n",
              "2020-12-01T00:15:33.979+09:00  smartx-microbox-gist-1  ...        290.017\n",
              "2020-12-01T00:25:41.464+09:00  smartx-microbox-gist-1  ...        290.017\n",
              "2020-12-01T00:35:18.114+09:00  smartx-microbox-gist-1  ...        290.011\n",
              "\n",
              "[5 rows x 15 columns]"
            ]
          },
          "metadata": {
            "tags": []
          },
          "execution_count": 379
        }
      ]
    },
    {
      "cell_type": "code",
      "metadata": {
        "ExecuteTime": {
          "end_time": "2020-03-02T14:41:44.008114Z",
          "start_time": "2020-03-02T14:41:43.964274Z"
        },
        "id": "YKhcXEl70eSh",
        "colab": {
          "base_uri": "https://localhost:8080/",
          "height": 308
        },
        "outputId": "27d7c412-cd77-4267-a192-e560c8e21f74"
      },
      "source": [
        "df.describe()"
      ],
      "execution_count": 380,
      "outputs": [
        {
          "output_type": "execute_result",
          "data": {
            "text/html": [
              "<div>\n",
              "<style scoped>\n",
              "    .dataframe tbody tr th:only-of-type {\n",
              "        vertical-align: middle;\n",
              "    }\n",
              "\n",
              "    .dataframe tbody tr th {\n",
              "        vertical-align: top;\n",
              "    }\n",
              "\n",
              "    .dataframe thead th {\n",
              "        text-align: right;\n",
              "    }\n",
              "</style>\n",
              "<table border=\"1\" class=\"dataframe\">\n",
              "  <thead>\n",
              "    <tr style=\"text-align: right;\">\n",
              "      <th></th>\n",
              "      <th>src_host_port</th>\n",
              "      <th>dest_host_port</th>\n",
              "      <th>protocol</th>\n",
              "      <th>protocol_count</th>\n",
              "      <th>min_tcp_window_size</th>\n",
              "      <th>max_tcp_window_size</th>\n",
              "      <th>avg_tcp_window_size</th>\n",
              "      <th>std_dev_tcp_window_size</th>\n",
              "      <th>min_data_bytes</th>\n",
              "      <th>max_data_bytes</th>\n",
              "      <th>avg_databytes</th>\n",
              "      <th>std_dev_databytes</th>\n",
              "      <th>total_data_bytes</th>\n",
              "      <th>flow_duration</th>\n",
              "    </tr>\n",
              "  </thead>\n",
              "  <tbody>\n",
              "    <tr>\n",
              "      <th>count</th>\n",
              "      <td>8576.000000</td>\n",
              "      <td>8576.0</td>\n",
              "      <td>8576.0</td>\n",
              "      <td>8576.000000</td>\n",
              "      <td>8576.000000</td>\n",
              "      <td>8576.000000</td>\n",
              "      <td>8576.000000</td>\n",
              "      <td>8576.000000</td>\n",
              "      <td>8576.000000</td>\n",
              "      <td>8576.000000</td>\n",
              "      <td>8576.000000</td>\n",
              "      <td>8576.000000</td>\n",
              "      <td>8576.000000</td>\n",
              "      <td>8576.000000</td>\n",
              "    </tr>\n",
              "    <tr>\n",
              "      <th>mean</th>\n",
              "      <td>40807.862873</td>\n",
              "      <td>9092.0</td>\n",
              "      <td>6.0</td>\n",
              "      <td>362.090602</td>\n",
              "      <td>2315.889576</td>\n",
              "      <td>2317.284632</td>\n",
              "      <td>2316.846782</td>\n",
              "      <td>0.317004</td>\n",
              "      <td>76.953708</td>\n",
              "      <td>10271.796525</td>\n",
              "      <td>2104.136580</td>\n",
              "      <td>2048.747845</td>\n",
              "      <td>761531.681087</td>\n",
              "      <td>279.171818</td>\n",
              "    </tr>\n",
              "    <tr>\n",
              "      <th>std</th>\n",
              "      <td>3907.567979</td>\n",
              "      <td>0.0</td>\n",
              "      <td>0.0</td>\n",
              "      <td>56.159077</td>\n",
              "      <td>395.897535</td>\n",
              "      <td>394.644232</td>\n",
              "      <td>395.614646</td>\n",
              "      <td>1.226467</td>\n",
              "      <td>19.597907</td>\n",
              "      <td>1867.873236</td>\n",
              "      <td>175.951136</td>\n",
              "      <td>231.740512</td>\n",
              "      <td>131589.840309</td>\n",
              "      <td>34.988489</td>\n",
              "    </tr>\n",
              "    <tr>\n",
              "      <th>min</th>\n",
              "      <td>33560.000000</td>\n",
              "      <td>9092.0</td>\n",
              "      <td>6.0</td>\n",
              "      <td>22.000000</td>\n",
              "      <td>499.000000</td>\n",
              "      <td>501.000000</td>\n",
              "      <td>501.000000</td>\n",
              "      <td>0.000000</td>\n",
              "      <td>59.000000</td>\n",
              "      <td>5971.000000</td>\n",
              "      <td>1387.150000</td>\n",
              "      <td>1291.840000</td>\n",
              "      <td>44072.000000</td>\n",
              "      <td>10.014000</td>\n",
              "    </tr>\n",
              "    <tr>\n",
              "      <th>25%</th>\n",
              "      <td>39846.000000</td>\n",
              "      <td>9092.0</td>\n",
              "      <td>6.0</td>\n",
              "      <td>340.000000</td>\n",
              "      <td>2438.000000</td>\n",
              "      <td>2439.000000</td>\n",
              "      <td>2439.000000</td>\n",
              "      <td>0.000000</td>\n",
              "      <td>62.000000</td>\n",
              "      <td>8740.000000</td>\n",
              "      <td>1973.480000</td>\n",
              "      <td>1867.347500</td>\n",
              "      <td>686703.750000</td>\n",
              "      <td>290.015000</td>\n",
              "    </tr>\n",
              "    <tr>\n",
              "      <th>50%</th>\n",
              "      <td>39846.000000</td>\n",
              "      <td>9092.0</td>\n",
              "      <td>6.0</td>\n",
              "      <td>369.000000</td>\n",
              "      <td>2438.000000</td>\n",
              "      <td>2439.000000</td>\n",
              "      <td>2439.000000</td>\n",
              "      <td>0.050000</td>\n",
              "      <td>69.000000</td>\n",
              "      <td>10587.000000</td>\n",
              "      <td>2094.890000</td>\n",
              "      <td>2032.635000</td>\n",
              "      <td>709585.000000</td>\n",
              "      <td>290.016000</td>\n",
              "    </tr>\n",
              "    <tr>\n",
              "      <th>75%</th>\n",
              "      <td>40442.000000</td>\n",
              "      <td>9092.0</td>\n",
              "      <td>6.0</td>\n",
              "      <td>398.000000</td>\n",
              "      <td>2439.000000</td>\n",
              "      <td>2439.000000</td>\n",
              "      <td>2439.000000</td>\n",
              "      <td>0.100000</td>\n",
              "      <td>88.000000</td>\n",
              "      <td>11718.000000</td>\n",
              "      <td>2226.530000</td>\n",
              "      <td>2229.402500</td>\n",
              "      <td>882164.750000</td>\n",
              "      <td>290.017000</td>\n",
              "    </tr>\n",
              "    <tr>\n",
              "      <th>max</th>\n",
              "      <td>59584.000000</td>\n",
              "      <td>9092.0</td>\n",
              "      <td>6.0</td>\n",
              "      <td>514.000000</td>\n",
              "      <td>2439.000000</td>\n",
              "      <td>2439.000000</td>\n",
              "      <td>2439.000000</td>\n",
              "      <td>21.950000</td>\n",
              "      <td>264.000000</td>\n",
              "      <td>14764.000000</td>\n",
              "      <td>2899.900000</td>\n",
              "      <td>2856.150000</td>\n",
              "      <td>923288.000000</td>\n",
              "      <td>290.056000</td>\n",
              "    </tr>\n",
              "  </tbody>\n",
              "</table>\n",
              "</div>"
            ],
            "text/plain": [
              "       src_host_port  dest_host_port  ...  total_data_bytes  flow_duration\n",
              "count    8576.000000          8576.0  ...       8576.000000    8576.000000\n",
              "mean    40807.862873          9092.0  ...     761531.681087     279.171818\n",
              "std      3907.567979             0.0  ...     131589.840309      34.988489\n",
              "min     33560.000000          9092.0  ...      44072.000000      10.014000\n",
              "25%     39846.000000          9092.0  ...     686703.750000     290.015000\n",
              "50%     39846.000000          9092.0  ...     709585.000000     290.016000\n",
              "75%     40442.000000          9092.0  ...     882164.750000     290.017000\n",
              "max     59584.000000          9092.0  ...     923288.000000     290.056000\n",
              "\n",
              "[8 rows x 14 columns]"
            ]
          },
          "metadata": {
            "tags": []
          },
          "execution_count": 380
        }
      ]
    },
    {
      "cell_type": "code",
      "metadata": {
        "ExecuteTime": {
          "end_time": "2020-03-02T14:09:11.542533Z",
          "start_time": "2020-03-02T14:09:11.522588Z"
        },
        "id": "re_3377t0eSh"
      },
      "source": [
        "#df.drop_duplicates(subset=['Processing_time'], keep=False,inplace=True)"
      ],
      "execution_count": 381,
      "outputs": []
    },
    {
      "cell_type": "code",
      "metadata": {
        "ExecuteTime": {
          "end_time": "2020-03-02T14:41:47.121830Z",
          "start_time": "2020-03-02T14:41:47.082900Z"
        },
        "id": "RJaFW6HC0eSi"
      },
      "source": [
        "Measurement_boxname_le = preprocessing.LabelEncoder()\n",
        "df['Measurement_boxname_le'] = Measurement_boxname_le.fit_transform(df['Measurement_boxname']) "
      ],
      "execution_count": 382,
      "outputs": []
    },
    {
      "cell_type": "code",
      "metadata": {
        "ExecuteTime": {
          "end_time": "2020-03-02T14:42:07.494379Z",
          "start_time": "2020-03-02T14:42:07.487372Z"
        },
        "id": "ecKJ5DqN0eSi"
      },
      "source": [
        "df = df[['min_data_bytes', 'max_data_bytes', 'avg_databytes','std_dev_databytes','total_data_bytes', 'Measurement_boxname_le']]"
      ],
      "execution_count": 383,
      "outputs": []
    },
    {
      "cell_type": "code",
      "metadata": {
        "ExecuteTime": {
          "end_time": "2020-03-02T14:42:15.459071Z",
          "start_time": "2020-03-02T14:42:15.443117Z"
        },
        "id": "oPo1rdig0eSi"
      },
      "source": [
        "validate = df[['min_data_bytes', 'max_data_bytes', 'avg_databytes','std_dev_databytes','total_data_bytes', 'Measurement_boxname_le']].tail(50)\n",
        "df.drop(df.tail(50).index,inplace=True)"
      ],
      "execution_count": 384,
      "outputs": []
    },
    {
      "cell_type": "code",
      "metadata": {
        "ExecuteTime": {
          "end_time": "2020-03-02T14:42:17.303142Z",
          "start_time": "2020-03-02T14:42:17.295163Z"
        },
        "id": "Iz0-5EGt0eSj"
      },
      "source": [
        "def custom_ts_multi_data_prep(dataset, target, start, end, window, horizon):\n",
        "    X = []\n",
        "    y = []\n",
        "    start = start + window\n",
        "    if end is None:\n",
        "        end = len(dataset) - horizon\n",
        "\n",
        "    for i in range(start, end):\n",
        "        indices = range(i-window, i)\n",
        "        X.append(dataset[indices])\n",
        "\n",
        "        indicey = range(i+1, i+1+horizon)\n",
        "        y.append(target[indicey])\n",
        "    return np.array(X), np.array(y)"
      ],
      "execution_count": 385,
      "outputs": []
    },
    {
      "cell_type": "code",
      "metadata": {
        "ExecuteTime": {
          "end_time": "2020-03-02T14:12:27.647485Z",
          "start_time": "2020-03-02T14:12:27.636515Z"
        },
        "id": "maVmlt280eSj"
      },
      "source": [
        "validate = df[['min_data_bytes', 'max_data_bytes', 'avg_databytes','std_dev_databytes','total_data_bytes', 'Measurement_boxname_le']].tail(50)\n",
        "df.drop(df.tail(50).index,inplace=True)"
      ],
      "execution_count": 386,
      "outputs": []
    },
    {
      "cell_type": "code",
      "metadata": {
        "ExecuteTime": {
          "end_time": "2020-03-02T14:42:29.773817Z",
          "start_time": "2020-03-02T14:42:29.750878Z"
        },
        "id": "fI9gXQ410eSj"
      },
      "source": [
        "x_scaler = preprocessing.MinMaxScaler()\n",
        "y_scaler = preprocessing.MinMaxScaler()\n",
        "dataX = x_scaler.fit_transform(df[['Measurement_boxname_le','min_data_bytes', 'max_data_bytes', 'avg_databytes','std_dev_databytes','total_data_bytes']])\n",
        "dataY = y_scaler.fit_transform(df[['avg_databytes']])"
      ],
      "execution_count": 387,
      "outputs": []
    },
    {
      "cell_type": "code",
      "metadata": {
        "ExecuteTime": {
          "end_time": "2020-03-02T14:42:39.460964Z",
          "start_time": "2020-03-02T14:42:37.950966Z"
        },
        "id": "09mbsYFJ0eSk"
      },
      "source": [
        "\"\"\"\n",
        "#hist_window = 48\n",
        "#horizon = 10\n",
        "hist_window =35\n",
        "#horizon = 30\n",
        "horizon = 10\n",
        "\"\"\"\n",
        "hist_window =80\n",
        "horizon = 50\n",
        "\n",
        "\n",
        "TRAIN_SPLIT = 5500\n",
        "x_train_multi, y_train_multi = custom_ts_multi_data_prep(\n",
        "    dataX, dataY, 0, TRAIN_SPLIT, hist_window, horizon)\n",
        "x_val_multi, y_val_multi = custom_ts_multi_data_prep(\n",
        "    dataX, dataY, TRAIN_SPLIT, None, hist_window, horizon)"
      ],
      "execution_count": 388,
      "outputs": []
    },
    {
      "cell_type": "code",
      "metadata": {
        "ExecuteTime": {
          "end_time": "2020-03-02T14:42:47.762747Z",
          "start_time": "2020-03-02T14:42:47.750779Z"
        },
        "id": "fUak0vOz0eSk",
        "scrolled": true,
        "colab": {
          "base_uri": "https://localhost:8080/"
        },
        "outputId": "1a6ccc0c-eddd-4ea8-c420-481f4c25bd46"
      },
      "source": [
        "print ('Single window of past history')\n",
        "print(x_train_multi[0])\n",
        "print ('\\n Target horizon')\n",
        "print (y_train_multi[0])"
      ],
      "execution_count": 389,
      "outputs": [
        {
          "output_type": "stream",
          "text": [
            "Single window of past history\n",
            "[[0.         0.49756098 0.67292164 0.92620063 0.83064738 0.53022238]\n",
            " [0.         0.0195122  0.66928238 0.5560866  0.51308245 0.95353474]\n",
            " [0.         0.2097561  0.80893893 0.54369195 0.65795782 0.94257725]\n",
            " ...\n",
            " [0.         0.10243902 0.67007847 0.47717072 0.52669867 0.96932836]\n",
            " [0.         0.0097561  0.68452178 0.43229218 0.53031049 0.96204801]\n",
            " [0.         0.1804878  0.69487092 0.49355148 0.54001445 0.95218581]]\n",
            "\n",
            " Target horizon\n",
            "[[0.41750454]\n",
            " [0.47595439]\n",
            " [0.54192695]\n",
            " [0.57316146]\n",
            " [0.65403404]\n",
            " [0.48552636]\n",
            " [0.69049744]\n",
            " [0.38921831]\n",
            " [0.53079491]\n",
            " [0.39982152]\n",
            " [0.82141134]\n",
            " [0.60527516]\n",
            " [0.64546686]\n",
            " [0.65524376]\n",
            " [0.51282102]\n",
            " [0.55172368]\n",
            " [0.51281441]\n",
            " [0.60160635]\n",
            " [0.47832755]\n",
            " [0.55473145]\n",
            " [0.78102793]\n",
            " [0.5663725 ]\n",
            " [0.61737895]\n",
            " [0.68243266]\n",
            " [0.56417121]\n",
            " [0.49289043]\n",
            " [0.5290233 ]\n",
            " [0.50515948]\n",
            " [0.608078  ]\n",
            " [0.58781689]\n",
            " [0.63149232]\n",
            " [0.48335812]\n",
            " [0.40724508]\n",
            " [0.49710792]\n",
            " [0.49233515]\n",
            " [0.54100149]\n",
            " [0.71851925]\n",
            " [0.6267526 ]\n",
            " [0.52000661]\n",
            " [0.59693274]\n",
            " [0.53487357]\n",
            " [0.62129896]\n",
            " [0.55029582]\n",
            " [0.52085936]\n",
            " [0.65466204]\n",
            " [0.61421253]\n",
            " [0.54740704]\n",
            " [0.63116179]\n",
            " [0.66861015]\n",
            " [0.56646505]]\n"
          ],
          "name": "stdout"
        }
      ]
    },
    {
      "cell_type": "code",
      "metadata": {
        "ExecuteTime": {
          "end_time": "2020-03-02T14:42:51.333206Z",
          "start_time": "2020-03-02T14:42:50.195250Z"
        },
        "id": "CMdtV62F0eSl"
      },
      "source": [
        "#BATCH_SIZE = 256\n",
        "#BUFFER_SIZE = 150\n",
        "#BATCH_SIZE = 64\n",
        "#BUFFER_SIZE = 37\n",
        "#BATCH_SIZE = 150\n",
        "BATCH_SIZE = 64\n",
        "BUFFER_SIZE = 100\n",
        "\n",
        "train_data_multi = tf.data.Dataset.from_tensor_slices((x_train_multi, y_train_multi))\n",
        "train_data_multi = train_data_multi.cache().shuffle(BUFFER_SIZE).batch(BATCH_SIZE).repeat()\n",
        "\n",
        "val_data_multi = tf.data.Dataset.from_tensor_slices((x_val_multi, y_val_multi))\n",
        "val_data_multi = val_data_multi.batch(BATCH_SIZE).repeat()\n"
      ],
      "execution_count": 390,
      "outputs": []
    },
    {
      "cell_type": "code",
      "metadata": {
        "ExecuteTime": {
          "end_time": "2020-03-02T14:42:55.747446Z",
          "start_time": "2020-03-02T14:42:54.486777Z"
        },
        "id": "dRBrm7Za0eSl"
      },
      "source": [
        "Bi_lstm_model = tf.keras.models.Sequential([\n",
        "  tf.keras.layers.Bidirectional(tf.keras.layers.LSTM(150, return_sequences=True), \n",
        "                               input_shape=x_train_multi.shape[-2:]),\n",
        "    tf.keras.layers.Bidirectional(tf.keras.layers.LSTM(50)),\n",
        "    tf.keras.layers.Dense(20, activation='tanh'),\n",
        "    tf.keras.layers.Dropout(0.2),\n",
        "    tf.keras.layers.Dense(units=horizon),\n",
        "])\n",
        "Bi_lstm_model.compile(optimizer='adam', loss='mse')\n"
      ],
      "execution_count": 391,
      "outputs": []
    },
    {
      "cell_type": "code",
      "metadata": {
        "ExecuteTime": {
          "end_time": "2020-03-02T14:43:02.444514Z",
          "start_time": "2020-03-02T14:43:02.439525Z"
        },
        "id": "8pRYumy80eSl"
      },
      "source": [
        "model_path = r'Bidirectional_LSTM_Multivariate.h5'"
      ],
      "execution_count": 392,
      "outputs": []
    },
    {
      "cell_type": "code",
      "metadata": {
        "ExecuteTime": {
          "end_time": "2020-03-02T14:46:17.840399Z",
          "start_time": "2020-03-02T14:43:09.804845Z"
        },
        "id": "u8uX-YD80eSl",
        "colab": {
          "base_uri": "https://localhost:8080/"
        },
        "outputId": "b4465f9b-eede-4fd7-ca93-aad2032e7425"
      },
      "source": [
        "#EVALUATION_INTERVAL = 100\n",
        "#EPOCHS = 150\n",
        "#EVALUATION_INTERVAL = 70\n",
        "EVALUATION_INTERVAL = 50\n",
        "#EPOCHS = 150\n",
        "EPOCHS = 50\n",
        "#history = Bi_lstm_model.fit(train_data_multi, epochs=EPOCHS, steps_per_epoch=EVALUATION_INTERVAL, validation_data=val_data_multi, validation_steps=50, verbose=1,\n",
        "history = Bi_lstm_model.fit(train_data_multi, epochs=EPOCHS, steps_per_epoch=EVALUATION_INTERVAL, validation_data=val_data_multi, validation_steps=30, verbose=1,\n",
        "                                   callbacks=[tf.keras.callbacks.EarlyStopping(monitor='val_loss', min_delta=0, patience=10, verbose=1, mode='min'), tf.keras.callbacks.ModelCheckpoint(model_path, monitor='val_loss', save_best_only=True, mode='min', verbose=0)])"
      ],
      "execution_count": 393,
      "outputs": [
        {
          "output_type": "stream",
          "text": [
            "Epoch 1/50\n",
            "50/50 [==============================] - 8s 73ms/step - loss: 0.1881 - val_loss: 0.0160\n",
            "Epoch 2/50\n",
            "50/50 [==============================] - 2s 49ms/step - loss: 0.0475 - val_loss: 0.0072\n",
            "Epoch 3/50\n",
            "50/50 [==============================] - 2s 49ms/step - loss: 0.0311 - val_loss: 0.0064\n",
            "Epoch 4/50\n",
            "50/50 [==============================] - 2s 50ms/step - loss: 0.0192 - val_loss: 0.0153\n",
            "Epoch 5/50\n",
            "50/50 [==============================] - 2s 49ms/step - loss: 0.0212 - val_loss: 0.0073\n",
            "Epoch 6/50\n",
            "50/50 [==============================] - 2s 50ms/step - loss: 0.0210 - val_loss: 0.0233\n",
            "Epoch 7/50\n",
            "50/50 [==============================] - 2s 50ms/step - loss: 0.0190 - val_loss: 0.0160\n",
            "Epoch 8/50\n",
            "50/50 [==============================] - 2s 49ms/step - loss: 0.0170 - val_loss: 0.0076\n",
            "Epoch 9/50\n",
            "50/50 [==============================] - 2s 49ms/step - loss: 0.0153 - val_loss: 0.0226\n",
            "Epoch 10/50\n",
            "50/50 [==============================] - 2s 50ms/step - loss: 0.0156 - val_loss: 0.0073\n",
            "Epoch 11/50\n",
            "50/50 [==============================] - 2s 49ms/step - loss: 0.0175 - val_loss: 0.0325\n",
            "Epoch 12/50\n",
            "50/50 [==============================] - 3s 50ms/step - loss: 0.0170 - val_loss: 0.0158\n",
            "Epoch 13/50\n",
            "50/50 [==============================] - 2s 49ms/step - loss: 0.0143 - val_loss: 0.0083\n",
            "Epoch 00013: early stopping\n"
          ],
          "name": "stdout"
        }
      ]
    },
    {
      "cell_type": "code",
      "metadata": {
        "ExecuteTime": {
          "end_time": "2020-03-02T14:46:29.065398Z",
          "start_time": "2020-03-02T14:46:26.248901Z"
        },
        "id": "Vx8NoGsp0eSm"
      },
      "source": [
        "Trained_model = tf.keras.models.load_model(model_path)"
      ],
      "execution_count": 394,
      "outputs": []
    },
    {
      "cell_type": "code",
      "metadata": {
        "ExecuteTime": {
          "end_time": "2020-03-02T14:46:29.076339Z",
          "start_time": "2020-03-02T14:46:29.067392Z"
        },
        "id": "KvEdjHrh0eSm",
        "colab": {
          "base_uri": "https://localhost:8080/"
        },
        "outputId": "bd58050d-838d-4abd-9d17-aafb9dd657e4"
      },
      "source": [
        "# Show the model architecture\n",
        "Trained_model.summary()"
      ],
      "execution_count": 395,
      "outputs": [
        {
          "output_type": "stream",
          "text": [
            "Model: \"sequential_13\"\n",
            "_________________________________________________________________\n",
            "Layer (type)                 Output Shape              Param #   \n",
            "=================================================================\n",
            "bidirectional_26 (Bidirectio (None, 200, 300)          188400    \n",
            "_________________________________________________________________\n",
            "bidirectional_27 (Bidirectio (None, 100)               140400    \n",
            "_________________________________________________________________\n",
            "dense_26 (Dense)             (None, 20)                2020      \n",
            "_________________________________________________________________\n",
            "dropout_13 (Dropout)         (None, 20)                0         \n",
            "_________________________________________________________________\n",
            "dense_27 (Dense)             (None, 50)                1050      \n",
            "=================================================================\n",
            "Total params: 331,870\n",
            "Trainable params: 331,870\n",
            "Non-trainable params: 0\n",
            "_________________________________________________________________\n"
          ],
          "name": "stdout"
        }
      ]
    },
    {
      "cell_type": "code",
      "metadata": {
        "ExecuteTime": {
          "end_time": "2020-03-02T14:46:33.385823Z",
          "start_time": "2020-03-02T14:46:33.134495Z"
        },
        "id": "tyWdsGX00eSn",
        "colab": {
          "base_uri": "https://localhost:8080/",
          "height": 567
        },
        "outputId": "880209d4-5604-459b-fea4-7060f04cecd9"
      },
      "source": [
        "plt.plot(history.history['loss'])\n",
        "plt.plot(history.history['val_loss'])\n",
        "plt.title('Model loss')\n",
        "plt.ylabel('loss')\n",
        "plt.xlabel('epoch')\n",
        "plt.legend(['train loss', 'validation loss'], loc='upper left')\n",
        "plt.rcParams[\"figure.figsize\"] = [16,9]\n",
        "plt.show()"
      ],
      "execution_count": 396,
      "outputs": [
        {
          "output_type": "display_data",
          "data": {
            "image/png": "[encoded data removed]",
            "text/plain": [
              "<Figure size 1152x648 with 1 Axes>"
            ]
          },
          "metadata": {
            "tags": [],
            "needs_background": "light"
          }
        }
      ]
    },
    {
      "cell_type": "code",
      "metadata": {
        "ExecuteTime": {
          "end_time": "2020-03-02T14:46:35.867194Z",
          "start_time": "2020-03-02T14:46:35.858217Z"
        },
        "id": "YEsiqFUp0eSn"
      },
      "source": [
        "data_val = x_scaler.fit_transform(df[['Measurement_boxname_le','min_data_bytes', 'max_data_bytes', 'avg_databytes','std_dev_databytes','total_data_bytes']].tail(50))"
      ],
      "execution_count": 397,
      "outputs": []
    },
    {
      "cell_type": "code",
      "metadata": {
        "ExecuteTime": {
          "end_time": "2020-03-02T14:46:37.087931Z",
          "start_time": "2020-03-02T14:46:37.083941Z"
        },
        "id": "BnL3oj2Z0eSo"
      },
      "source": [
        "val_rescaled = data_val.reshape(1, data_val.shape[0], data_val.shape[1])"
      ],
      "execution_count": 398,
      "outputs": []
    },
    {
      "cell_type": "code",
      "metadata": {
        "ExecuteTime": {
          "end_time": "2020-03-02T14:46:39.479539Z",
          "start_time": "2020-03-02T14:46:38.601887Z"
        },
        "id": "j3g21Pwd0eSo",
        "colab": {
          "base_uri": "https://localhost:8080/"
        },
        "outputId": "99e8ea8b-813d-43a0-908d-82949617d435"
      },
      "source": [
        "Predicted_results = Trained_model.predict(val_rescaled)"
      ],
      "execution_count": 399,
      "outputs": [
        {
          "output_type": "stream",
          "text": [
            "WARNING:tensorflow:Model was constructed with shape (None, 200, 6) for input KerasTensor(type_spec=TensorSpec(shape=(None, 200, 6), dtype=tf.float32, name='bidirectional_26_input'), name='bidirectional_26_input', description=\"created by layer 'bidirectional_26_input'\"), but it was called on an input with incompatible shape (None, 50, 6).\n",
            "WARNING:tensorflow:11 out of the last 11 calls to <function Model.make_predict_function.<locals>.predict_function at 0x7ff9e2a20f80> triggered tf.function retracing. Tracing is expensive and the excessive number of tracings could be due to (1) creating @tf.function repeatedly in a loop, (2) passing tensors with different shapes, (3) passing Python objects instead of tensors. For (1), please define your @tf.function outside of the loop. For (2), @tf.function has experimental_relax_shapes=True option that relaxes argument shapes that can avoid unnecessary retracing. For (3), please refer to https://www.tensorflow.org/guide/function#controlling_retracing and https://www.tensorflow.org/api_docs/python/tf/function for  more details.\n"
          ],
          "name": "stdout"
        }
      ]
    },
    {
      "cell_type": "code",
      "metadata": {
        "ExecuteTime": {
          "end_time": "2020-03-02T14:46:40.354239Z",
          "start_time": "2020-03-02T14:46:40.347220Z"
        },
        "id": "LUgj_wJV0eSo",
        "colab": {
          "base_uri": "https://localhost:8080/"
        },
        "outputId": "cd2ca6b5-0fef-487f-ca35-e0661766d708"
      },
      "source": [
        "Predicted_results"
      ],
      "execution_count": 400,
      "outputs": [
        {
          "output_type": "execute_result",
          "data": {
            "text/plain": [
              "array([[0.41643885, 0.42085254, 0.41816488, 0.41885307, 0.41350853,\n",
              "        0.38017926, 0.43102658, 0.40624037, 0.43652484, 0.4377773 ,\n",
              "        0.4235348 , 0.44633737, 0.39681727, 0.420453  , 0.41470066,\n",
              "        0.40184262, 0.4585801 , 0.41351715, 0.4124909 , 0.42260352,\n",
              "        0.4361402 , 0.41196078, 0.42245895, 0.42307228, 0.44268373,\n",
              "        0.4382733 , 0.38305095, 0.38308704, 0.40093818, 0.38456887,\n",
              "        0.38488   , 0.39844224, 0.39087516, 0.4179633 , 0.419481  ,\n",
              "        0.41342607, 0.4215803 , 0.38824758, 0.40626833, 0.34884474,\n",
              "        0.39441308, 0.36510938, 0.41243836, 0.4228866 , 0.4061948 ,\n",
              "        0.4219335 , 0.44671488, 0.40555298, 0.43048358, 0.39547968]],\n",
              "      dtype=float32)"
            ]
          },
          "metadata": {
            "tags": []
          },
          "execution_count": 400
        }
      ]
    },
    {
      "cell_type": "code",
      "metadata": {
        "ExecuteTime": {
          "end_time": "2020-03-02T14:46:41.823277Z",
          "start_time": "2020-03-02T14:46:41.818290Z"
        },
        "id": "uD5kAvtt0eSp"
      },
      "source": [
        "Predicted_results_Inv_trans = y_scaler.inverse_transform(Predicted_results)"
      ],
      "execution_count": 401,
      "outputs": []
    },
    {
      "cell_type": "code",
      "metadata": {
        "ExecuteTime": {
          "end_time": "2020-03-02T14:46:43.116821Z",
          "start_time": "2020-03-02T14:46:43.110837Z"
        },
        "id": "8Dyms7Pj0eSp",
        "colab": {
          "base_uri": "https://localhost:8080/"
        },
        "outputId": "21ecdf4e-67b8-4b5b-d5f8-c30df821b4bf"
      },
      "source": [
        "Predicted_results_Inv_trans"
      ],
      "execution_count": 402,
      "outputs": [
        {
          "output_type": "execute_result",
          "data": {
            "text/plain": [
              "array([[2017.1178, 2023.7947, 2019.7289, 2020.7699, 2012.685 , 1962.2662,\n",
              "        2039.1854, 2001.6901, 2047.5029, 2049.3975, 2027.8524, 2062.347 ,\n",
              "        1987.4354, 2023.1904, 2014.4884, 1995.0374, 2080.8672, 2012.698 ,\n",
              "        2011.1458, 2026.4435, 2046.921 , 2010.3438, 2026.2249, 2027.1527,\n",
              "        2056.8198, 2050.148 , 1966.6102, 1966.6649, 1993.6692, 1968.9066,\n",
              "        1969.3773, 1989.8936, 1978.4465, 2019.424 , 2021.72  , 2012.5602,\n",
              "        2024.8956, 1974.4716, 2001.7324, 1914.8649, 1983.7985, 1939.4694,\n",
              "        2011.0662, 2026.8717, 2001.6212, 2025.4299, 2062.918 , 2000.6503,\n",
              "        2038.364 , 1985.4119]], dtype=float32)"
            ]
          },
          "metadata": {
            "tags": []
          },
          "execution_count": 402
        }
      ]
    },
    {
      "cell_type": "code",
      "metadata": {
        "ExecuteTime": {
          "end_time": "2020-03-02T14:46:47.578896Z",
          "start_time": "2020-03-02T14:46:47.546983Z"
        },
        "id": "IoKJpgw20eSp"
      },
      "source": [
        "from sklearn import metrics\n",
        "def timeseries_evaluation_metrics_func(y_true, y_pred):\n",
        "    \n",
        "    def mean_absolute_percentage_error(y_true, y_pred): \n",
        "        y_true, y_pred = np.array(y_true), np.array(y_pred)\n",
        "        return np.mean(np.abs((y_true - y_pred) / y_true)) * 100\n",
        "    print('Evaluation metric results:-')\n",
        "    print(f'MSE is : {metrics.mean_squared_error(y_true, y_pred)}')\n",
        "    print(f'MAE is : {metrics.mean_absolute_error(y_true, y_pred)}')\n",
        "    print(f'RMSE is : {np.sqrt(metrics.mean_squared_error(y_true, y_pred))}')\n",
        "    print(f'MAPE is : {mean_absolute_percentage_error(y_true, y_pred)}')\n",
        "    print(f'R2 is : {metrics.r2_score(y_true, y_pred)}',end='\\n\\n')"
      ],
      "execution_count": 403,
      "outputs": []
    },
    {
      "cell_type": "code",
      "metadata": {
        "ExecuteTime": {
          "end_time": "2020-03-02T14:47:58.402637Z",
          "start_time": "2020-03-02T14:47:58.395655Z"
        },
        "id": "CxDNxSUU0eSq",
        "colab": {
          "base_uri": "https://localhost:8080/"
        },
        "outputId": "2822e284-c042-4748-bafa-52f003cce2b1"
      },
      "source": [
        "timeseries_evaluation_metrics_func(validate['total_data_bytes'],Predicted_results_Inv_trans[0])"
      ],
      "execution_count": 404,
      "outputs": [
        {
          "output_type": "stream",
          "text": [
            "Evaluation metric results:-\n",
            "MSE is : 533440172953.81177\n",
            "MAE is : 724496.3981640625\n",
            "RMSE is : 730369.8877649679\n",
            "MAPE is : 99.71622305817789\n",
            "R2 is : -61.43218756637814\n",
            "\n"
          ],
          "name": "stdout"
        }
      ]
    },
    {
      "cell_type": "code",
      "metadata": {
        "ExecuteTime": {
          "end_time": "2020-03-02T14:46:55.156682Z",
          "start_time": "2020-03-02T14:46:54.912299Z"
        },
        "id": "QGSG3FA70eSq",
        "colab": {
          "base_uri": "https://localhost:8080/",
          "height": 553
        },
        "outputId": "ac0e3c55-ded9-4faa-cf70-faf45c0229d7"
      },
      "source": [
        "plt.plot( list(validate['avg_databytes']))\n",
        "plt.plot( list(Predicted_results_Inv_trans[0]))\n",
        "plt.title(\"Actual vs Predicted\")\n",
        "plt.ylabel(\"avg_databytes\")\n",
        "plt.legend(('Actual','predicted'))\n",
        "plt.show()"
      ],
      "execution_count": 405,
      "outputs": [
        {
          "output_type": "display_data",
          "data": {
            "image/png": "[encoded data removed]",
            "text/plain": [
              "<Figure size 1152x648 with 1 Axes>"
            ]
          },
          "metadata": {
            "tags": [],
            "needs_background": "light"
          }
        }
      ]
    }
  ]
}