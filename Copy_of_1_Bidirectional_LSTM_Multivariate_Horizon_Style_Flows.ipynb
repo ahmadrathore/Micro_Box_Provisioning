{
  "nbformat": 4,
  "nbformat_minor": 0,
  "metadata": {
    "colab": {
      "name": "Copy of 1_Bidirectional_LSTM_Multivariate_Horizon_Style_Flows.ipynb",
      "provenance": [],
      "include_colab_link": true
    },
    "kernelspec": {
      "display_name": "Python 3",
      "language": "python",
      "name": "python3"
    },
    "language_info": {
      "codemirror_mode": {
        "name": "ipython",
        "version": 3
      },
      "file_extension": ".py",
      "mimetype": "text/x-python",
      "name": "python",
      "nbconvert_exporter": "python",
      "pygments_lexer": "ipython3",
      "version": "3.7.1"
    },
    "latex_envs": {
      "LaTeX_envs_menu_present": true,
      "autoclose": false,
      "autocomplete": true,
      "bibliofile": "biblio.bib",
      "cite_by": "apalike",
      "current_citInitial": 1,
      "eqLabelWithNumbers": true,
      "eqNumInitial": 1,
      "hotkeys": {
        "equation": "Ctrl-E",
        "itemize": "Ctrl-I"
      },
      "labels_anchors": false,
      "latex_user_defs": false,
      "report_style_numbering": false,
      "user_envs_cfg": false
    },
    "nbTranslate": {
      "displayLangs": [
        "*"
      ],
      "hotkey": "alt-t",
      "langInMainMenu": true,
      "sourceLang": "en",
      "targetLang": "fr",
      "useGoogleTranslate": true
    },
    "accelerator": "GPU"
  },
  "cells": [
    {
      "cell_type": "markdown",
      "metadata": {
        "id": "view-in-github",
        "colab_type": "text"
      },
      "source": [
        "<a href=\"https://colab.research.google.com/github/ahmadrathore/Provisioning-SmartX-MicroBox/blob/master/Copy_of_1_Bidirectional_LSTM_Multivariate_Horizon_Style_Flows.ipynb\" target=\"_parent\"><img src=\"https://colab.research.google.com/assets/colab-badge.svg\" alt=\"Open In Colab\"/></a>"
      ]
    },
    {
      "cell_type": "code",
      "metadata": {
        "ExecuteTime": {
          "end_time": "2020-03-02T14:41:43.610180Z",
          "start_time": "2020-03-02T14:41:38.666390Z"
        },
        "id": "Zz-s475r0eSY"
      },
      "source": [
        "import pandas as pd\n",
        "import numpy as np\n",
        "import tensorflow as tf\n",
        "from sklearn import preprocessing\n",
        "import matplotlib.pyplot as plt\n",
        "tf.random.set_seed(123)\n",
        "np.random.seed(123)"
      ],
      "execution_count": 91,
      "outputs": []
    },
    {
      "cell_type": "code",
      "metadata": {
        "ExecuteTime": {
          "end_time": "2020-03-02T14:41:43.940295Z",
          "start_time": "2020-03-02T14:41:43.863502Z"
        },
        "id": "AeeBsMza0eSf"
      },
      "source": [
        "#df = pd.read_csv(r'merge-csv.com__602f0aa73c265.csv')\n",
        "#df = pd.read_csv('merge-csv.com__602f0aa73c265.csv',index_col='Processing_time',\n",
        " #               infer_datetime_format=True)\n",
        "#url='https://raw.githubusercontent.com/ahmadrathore/Provisioning-SmartX-MicroBox/master/Network-Flows.csv'\n",
        "url='https://raw.githubusercontent.com/ahmadrathore/Provisioning-SmartX-MicroBox/master/kafka9092_Network-Flows.csv'\n",
        "\n",
        "df = pd.read_csv(url,index_col='Processing_time',\n",
        "                infer_datetime_format=True)\n",
        "\n",
        "\n",
        "\n",
        "#df = pd.read_csv(url,index_col='Processing_time',\n",
        "#               # infer_datetime_format=True)\n",
        "#                parse_dates=True)"
      ],
      "execution_count": 92,
      "outputs": []
    },
    {
      "cell_type": "code",
      "metadata": {
        "ExecuteTime": {
          "end_time": "2020-03-02T14:41:43.961275Z",
          "start_time": "2020-03-02T14:41:43.942290Z"
        },
        "id": "ar5UydPo0eSf",
        "colab": {
          "base_uri": "https://localhost:8080/",
          "height": 343
        },
        "outputId": "33444404-251d-4ff0-af1f-e24b06504518"
      },
      "source": [
        "df.head()"
      ],
      "execution_count": 93,
      "outputs": [
        {
          "output_type": "execute_result",
          "data": {
            "text/html": [
              "<div>\n",
              "<style scoped>\n",
              "    .dataframe tbody tr th:only-of-type {\n",
              "        vertical-align: middle;\n",
              "    }\n",
              "\n",
              "    .dataframe tbody tr th {\n",
              "        vertical-align: top;\n",
              "    }\n",
              "\n",
              "    .dataframe thead th {\n",
              "        text-align: right;\n",
              "    }\n",
              "</style>\n",
              "<table border=\"1\" class=\"dataframe\">\n",
              "  <thead>\n",
              "    <tr style=\"text-align: right;\">\n",
              "      <th></th>\n",
              "      <th>Measurement_boxname</th>\n",
              "      <th>src_host_port</th>\n",
              "      <th>dest_host_port</th>\n",
              "      <th>protocol</th>\n",
              "      <th>protocol_count</th>\n",
              "      <th>min_tcp_window_size</th>\n",
              "      <th>max_tcp_window_size</th>\n",
              "      <th>avg_tcp_window_size</th>\n",
              "      <th>std_dev_tcp_window_size</th>\n",
              "      <th>min_data_bytes</th>\n",
              "      <th>max_data_bytes</th>\n",
              "      <th>avg_databytes</th>\n",
              "      <th>std_dev_databytes</th>\n",
              "      <th>total_data_bytes</th>\n",
              "      <th>flow_duration</th>\n",
              "    </tr>\n",
              "    <tr>\n",
              "      <th>Processing_time</th>\n",
              "      <th></th>\n",
              "      <th></th>\n",
              "      <th></th>\n",
              "      <th></th>\n",
              "      <th></th>\n",
              "      <th></th>\n",
              "      <th></th>\n",
              "      <th></th>\n",
              "      <th></th>\n",
              "      <th></th>\n",
              "      <th></th>\n",
              "      <th></th>\n",
              "      <th></th>\n",
              "      <th></th>\n",
              "      <th></th>\n",
              "    </tr>\n",
              "  </thead>\n",
              "  <tbody>\n",
              "    <tr>\n",
              "      <th>2020-12-01T00:05:24.998+09:00</th>\n",
              "      <td>smartx-microbox-gist-1</td>\n",
              "      <td>39846</td>\n",
              "      <td>9092</td>\n",
              "      <td>6</td>\n",
              "      <td>183</td>\n",
              "      <td>2438</td>\n",
              "      <td>2439</td>\n",
              "      <td>2439</td>\n",
              "      <td>0.07</td>\n",
              "      <td>161</td>\n",
              "      <td>11888</td>\n",
              "      <td>2788.26</td>\n",
              "      <td>2591.23</td>\n",
              "      <td>510252</td>\n",
              "      <td>170.018</td>\n",
              "    </tr>\n",
              "    <tr>\n",
              "      <th>2020-12-01T00:10:44.861+09:00</th>\n",
              "      <td>smartx-microbox-gist-1</td>\n",
              "      <td>39846</td>\n",
              "      <td>9092</td>\n",
              "      <td>6</td>\n",
              "      <td>396</td>\n",
              "      <td>2438</td>\n",
              "      <td>2439</td>\n",
              "      <td>2439</td>\n",
              "      <td>0.11</td>\n",
              "      <td>63</td>\n",
              "      <td>11856</td>\n",
              "      <td>2228.37</td>\n",
              "      <td>2094.46</td>\n",
              "      <td>882435</td>\n",
              "      <td>290.016</td>\n",
              "    </tr>\n",
              "    <tr>\n",
              "      <th>2020-12-01T00:15:33.979+09:00</th>\n",
              "      <td>smartx-microbox-gist-1</td>\n",
              "      <td>39846</td>\n",
              "      <td>9092</td>\n",
              "      <td>6</td>\n",
              "      <td>395</td>\n",
              "      <td>2438</td>\n",
              "      <td>2439</td>\n",
              "      <td>2439</td>\n",
              "      <td>0.13</td>\n",
              "      <td>102</td>\n",
              "      <td>13084</td>\n",
              "      <td>2209.62</td>\n",
              "      <td>2321.09</td>\n",
              "      <td>872801</td>\n",
              "      <td>290.017</td>\n",
              "    </tr>\n",
              "    <tr>\n",
              "      <th>2020-12-01T00:25:41.464+09:00</th>\n",
              "      <td>smartx-microbox-gist-1</td>\n",
              "      <td>39846</td>\n",
              "      <td>9092</td>\n",
              "      <td>6</td>\n",
              "      <td>459</td>\n",
              "      <td>2438</td>\n",
              "      <td>2439</td>\n",
              "      <td>2439</td>\n",
              "      <td>0.09</td>\n",
              "      <td>61</td>\n",
              "      <td>11550</td>\n",
              "      <td>1989.66</td>\n",
              "      <td>1919.81</td>\n",
              "      <td>913254</td>\n",
              "      <td>290.017</td>\n",
              "    </tr>\n",
              "    <tr>\n",
              "      <th>2020-12-01T00:35:18.114+09:00</th>\n",
              "      <td>smartx-microbox-gist-1</td>\n",
              "      <td>39846</td>\n",
              "      <td>9092</td>\n",
              "      <td>6</td>\n",
              "      <td>456</td>\n",
              "      <td>2438</td>\n",
              "      <td>2439</td>\n",
              "      <td>2439</td>\n",
              "      <td>0.09</td>\n",
              "      <td>87</td>\n",
              "      <td>11544</td>\n",
              "      <td>1981.21</td>\n",
              "      <td>1909.48</td>\n",
              "      <td>903430</td>\n",
              "      <td>290.011</td>\n",
              "    </tr>\n",
              "  </tbody>\n",
              "</table>\n",
              "</div>"
            ],
            "text/plain": [
              "                                  Measurement_boxname  ...  flow_duration\n",
              "Processing_time                                        ...               \n",
              "2020-12-01T00:05:24.998+09:00  smartx-microbox-gist-1  ...        170.018\n",
              "2020-12-01T00:10:44.861+09:00  smartx-microbox-gist-1  ...        290.016\n",
              "2020-12-01T00:15:33.979+09:00  smartx-microbox-gist-1  ...        290.017\n",
              "2020-12-01T00:25:41.464+09:00  smartx-microbox-gist-1  ...        290.017\n",
              "2020-12-01T00:35:18.114+09:00  smartx-microbox-gist-1  ...        290.011\n",
              "\n",
              "[5 rows x 15 columns]"
            ]
          },
          "metadata": {
            "tags": []
          },
          "execution_count": 93
        }
      ]
    },
    {
      "cell_type": "code",
      "metadata": {
        "ExecuteTime": {
          "end_time": "2020-03-02T14:41:44.008114Z",
          "start_time": "2020-03-02T14:41:43.964274Z"
        },
        "id": "YKhcXEl70eSh",
        "colab": {
          "base_uri": "https://localhost:8080/",
          "height": 299
        },
        "outputId": "a9f12f6a-c924-4c14-9684-5df1ec412e0b"
      },
      "source": [
        "df.describe()"
      ],
      "execution_count": 94,
      "outputs": [
        {
          "output_type": "execute_result",
          "data": {
            "text/html": [
              "<div>\n",
              "<style scoped>\n",
              "    .dataframe tbody tr th:only-of-type {\n",
              "        vertical-align: middle;\n",
              "    }\n",
              "\n",
              "    .dataframe tbody tr th {\n",
              "        vertical-align: top;\n",
              "    }\n",
              "\n",
              "    .dataframe thead th {\n",
              "        text-align: right;\n",
              "    }\n",
              "</style>\n",
              "<table border=\"1\" class=\"dataframe\">\n",
              "  <thead>\n",
              "    <tr style=\"text-align: right;\">\n",
              "      <th></th>\n",
              "      <th>src_host_port</th>\n",
              "      <th>dest_host_port</th>\n",
              "      <th>protocol</th>\n",
              "      <th>protocol_count</th>\n",
              "      <th>min_tcp_window_size</th>\n",
              "      <th>max_tcp_window_size</th>\n",
              "      <th>avg_tcp_window_size</th>\n",
              "      <th>std_dev_tcp_window_size</th>\n",
              "      <th>min_data_bytes</th>\n",
              "      <th>max_data_bytes</th>\n",
              "      <th>avg_databytes</th>\n",
              "      <th>std_dev_databytes</th>\n",
              "      <th>total_data_bytes</th>\n",
              "      <th>flow_duration</th>\n",
              "    </tr>\n",
              "  </thead>\n",
              "  <tbody>\n",
              "    <tr>\n",
              "      <th>count</th>\n",
              "      <td>8576.000000</td>\n",
              "      <td>8576.0</td>\n",
              "      <td>8576.0</td>\n",
              "      <td>8576.000000</td>\n",
              "      <td>8576.000000</td>\n",
              "      <td>8576.000000</td>\n",
              "      <td>8576.000000</td>\n",
              "      <td>8576.000000</td>\n",
              "      <td>8576.000000</td>\n",
              "      <td>8576.000000</td>\n",
              "      <td>8576.000000</td>\n",
              "      <td>8576.000000</td>\n",
              "      <td>8576.000000</td>\n",
              "      <td>8576.000000</td>\n",
              "    </tr>\n",
              "    <tr>\n",
              "      <th>mean</th>\n",
              "      <td>40807.862873</td>\n",
              "      <td>9092.0</td>\n",
              "      <td>6.0</td>\n",
              "      <td>362.090602</td>\n",
              "      <td>2315.889576</td>\n",
              "      <td>2317.284632</td>\n",
              "      <td>2316.846782</td>\n",
              "      <td>0.317004</td>\n",
              "      <td>76.953708</td>\n",
              "      <td>10271.796525</td>\n",
              "      <td>2104.136580</td>\n",
              "      <td>2048.747845</td>\n",
              "      <td>761531.681087</td>\n",
              "      <td>279.171818</td>\n",
              "    </tr>\n",
              "    <tr>\n",
              "      <th>std</th>\n",
              "      <td>3907.567979</td>\n",
              "      <td>0.0</td>\n",
              "      <td>0.0</td>\n",
              "      <td>56.159077</td>\n",
              "      <td>395.897535</td>\n",
              "      <td>394.644232</td>\n",
              "      <td>395.614646</td>\n",
              "      <td>1.226467</td>\n",
              "      <td>19.597907</td>\n",
              "      <td>1867.873236</td>\n",
              "      <td>175.951136</td>\n",
              "      <td>231.740512</td>\n",
              "      <td>131589.840309</td>\n",
              "      <td>34.988489</td>\n",
              "    </tr>\n",
              "    <tr>\n",
              "      <th>min</th>\n",
              "      <td>33560.000000</td>\n",
              "      <td>9092.0</td>\n",
              "      <td>6.0</td>\n",
              "      <td>22.000000</td>\n",
              "      <td>499.000000</td>\n",
              "      <td>501.000000</td>\n",
              "      <td>501.000000</td>\n",
              "      <td>0.000000</td>\n",
              "      <td>59.000000</td>\n",
              "      <td>5971.000000</td>\n",
              "      <td>1387.150000</td>\n",
              "      <td>1291.840000</td>\n",
              "      <td>44072.000000</td>\n",
              "      <td>10.014000</td>\n",
              "    </tr>\n",
              "    <tr>\n",
              "      <th>25%</th>\n",
              "      <td>39846.000000</td>\n",
              "      <td>9092.0</td>\n",
              "      <td>6.0</td>\n",
              "      <td>340.000000</td>\n",
              "      <td>2438.000000</td>\n",
              "      <td>2439.000000</td>\n",
              "      <td>2439.000000</td>\n",
              "      <td>0.000000</td>\n",
              "      <td>62.000000</td>\n",
              "      <td>8740.000000</td>\n",
              "      <td>1973.480000</td>\n",
              "      <td>1867.347500</td>\n",
              "      <td>686703.750000</td>\n",
              "      <td>290.015000</td>\n",
              "    </tr>\n",
              "    <tr>\n",
              "      <th>50%</th>\n",
              "      <td>39846.000000</td>\n",
              "      <td>9092.0</td>\n",
              "      <td>6.0</td>\n",
              "      <td>369.000000</td>\n",
              "      <td>2438.000000</td>\n",
              "      <td>2439.000000</td>\n",
              "      <td>2439.000000</td>\n",
              "      <td>0.050000</td>\n",
              "      <td>69.000000</td>\n",
              "      <td>10587.000000</td>\n",
              "      <td>2094.890000</td>\n",
              "      <td>2032.635000</td>\n",
              "      <td>709585.000000</td>\n",
              "      <td>290.016000</td>\n",
              "    </tr>\n",
              "    <tr>\n",
              "      <th>75%</th>\n",
              "      <td>40442.000000</td>\n",
              "      <td>9092.0</td>\n",
              "      <td>6.0</td>\n",
              "      <td>398.000000</td>\n",
              "      <td>2439.000000</td>\n",
              "      <td>2439.000000</td>\n",
              "      <td>2439.000000</td>\n",
              "      <td>0.100000</td>\n",
              "      <td>88.000000</td>\n",
              "      <td>11718.000000</td>\n",
              "      <td>2226.530000</td>\n",
              "      <td>2229.402500</td>\n",
              "      <td>882164.750000</td>\n",
              "      <td>290.017000</td>\n",
              "    </tr>\n",
              "    <tr>\n",
              "      <th>max</th>\n",
              "      <td>59584.000000</td>\n",
              "      <td>9092.0</td>\n",
              "      <td>6.0</td>\n",
              "      <td>514.000000</td>\n",
              "      <td>2439.000000</td>\n",
              "      <td>2439.000000</td>\n",
              "      <td>2439.000000</td>\n",
              "      <td>21.950000</td>\n",
              "      <td>264.000000</td>\n",
              "      <td>14764.000000</td>\n",
              "      <td>2899.900000</td>\n",
              "      <td>2856.150000</td>\n",
              "      <td>923288.000000</td>\n",
              "      <td>290.056000</td>\n",
              "    </tr>\n",
              "  </tbody>\n",
              "</table>\n",
              "</div>"
            ],
            "text/plain": [
              "       src_host_port  dest_host_port  ...  total_data_bytes  flow_duration\n",
              "count    8576.000000          8576.0  ...       8576.000000    8576.000000\n",
              "mean    40807.862873          9092.0  ...     761531.681087     279.171818\n",
              "std      3907.567979             0.0  ...     131589.840309      34.988489\n",
              "min     33560.000000          9092.0  ...      44072.000000      10.014000\n",
              "25%     39846.000000          9092.0  ...     686703.750000     290.015000\n",
              "50%     39846.000000          9092.0  ...     709585.000000     290.016000\n",
              "75%     40442.000000          9092.0  ...     882164.750000     290.017000\n",
              "max     59584.000000          9092.0  ...     923288.000000     290.056000\n",
              "\n",
              "[8 rows x 14 columns]"
            ]
          },
          "metadata": {
            "tags": []
          },
          "execution_count": 94
        }
      ]
    },
    {
      "cell_type": "code",
      "metadata": {
        "ExecuteTime": {
          "end_time": "2020-03-02T14:09:11.542533Z",
          "start_time": "2020-03-02T14:09:11.522588Z"
        },
        "id": "re_3377t0eSh"
      },
      "source": [
        "#df.drop_duplicates(subset=['Processing_time'], keep=False,inplace=True)"
      ],
      "execution_count": 95,
      "outputs": []
    },
    {
      "cell_type": "code",
      "metadata": {
        "ExecuteTime": {
          "end_time": "2020-03-02T14:41:47.121830Z",
          "start_time": "2020-03-02T14:41:47.082900Z"
        },
        "id": "RJaFW6HC0eSi"
      },
      "source": [
        "Measurement_boxname_le = preprocessing.LabelEncoder()\n",
        "df['Measurement_boxname_le'] = Measurement_boxname_le.fit_transform(df['Measurement_boxname']) "
      ],
      "execution_count": 96,
      "outputs": []
    },
    {
      "cell_type": "code",
      "metadata": {
        "ExecuteTime": {
          "end_time": "2020-03-02T14:42:07.494379Z",
          "start_time": "2020-03-02T14:42:07.487372Z"
        },
        "id": "ecKJ5DqN0eSi"
      },
      "source": [
        "#df = df[['std_dev_tcp_window_size','max_tcp_window_size','max_tcp_window_size','min_tcp_window_size','min_data_bytes', 'max_data_bytes', 'avg_databytes','std_dev_databytes','total_data_bytes', 'Measurement_boxname_le']]\n",
        "\n",
        "df = df[['avg_tcp_window_size','std_dev_tcp_window_size','min_data_bytes', 'max_data_bytes', 'avg_databytes','std_dev_databytes','total_data_bytes', 'Measurement_boxname_le']]"
      ],
      "execution_count": 97,
      "outputs": []
    },
    {
      "cell_type": "code",
      "metadata": {
        "ExecuteTime": {
          "end_time": "2020-03-02T14:42:15.459071Z",
          "start_time": "2020-03-02T14:42:15.443117Z"
        },
        "id": "oPo1rdig0eSi"
      },
      "source": [
        "#validate = df[['std_dev_tcp_window_size','max_tcp_window_size','max_tcp_window_size','min_tcp_window_size','min_data_bytes', 'max_data_bytes', 'avg_databytes','std_dev_databytes','total_data_bytes', 'Measurement_boxname_le']].tail(100)\n",
        "validate = df[['avg_tcp_window_size','std_dev_tcp_window_size','min_data_bytes', 'max_data_bytes', 'avg_databytes','std_dev_databytes','total_data_bytes', 'Measurement_boxname_le']].tail(250)\n",
        "df.drop(df.tail(250).index,inplace=True)"
      ],
      "execution_count": 98,
      "outputs": []
    },
    {
      "cell_type": "code",
      "metadata": {
        "ExecuteTime": {
          "end_time": "2020-03-02T14:42:17.303142Z",
          "start_time": "2020-03-02T14:42:17.295163Z"
        },
        "id": "Iz0-5EGt0eSj"
      },
      "source": [
        "def custom_ts_multi_data_prep(dataset, target, start, end, window, horizon):\n",
        "    X = []\n",
        "    y = []\n",
        "    start = start + window\n",
        "    if end is None:\n",
        "        end = len(dataset) - horizon\n",
        "\n",
        "    for i in range(start, end):\n",
        "        indices = range(i-window, i)\n",
        "        X.append(dataset[indices])\n",
        "\n",
        "        indicey = range(i+1, i+1+horizon)\n",
        "        y.append(target[indicey])\n",
        "    return np.array(X), np.array(y)"
      ],
      "execution_count": 99,
      "outputs": []
    },
    {
      "cell_type": "code",
      "metadata": {
        "ExecuteTime": {
          "end_time": "2020-03-02T14:12:27.647485Z",
          "start_time": "2020-03-02T14:12:27.636515Z"
        },
        "id": "maVmlt280eSj"
      },
      "source": [
        "#validate = df[['std_dev_tcp_window_size','max_tcp_window_size','max_tcp_window_size','min_tcp_window_size','min_data_bytes', 'max_data_bytes', 'avg_databytes','std_dev_databytes','total_data_bytes', 'Measurement_boxname_le']].tail(100)\n",
        "validate = df[['avg_tcp_window_size','std_dev_tcp_window_size','min_data_bytes', 'max_data_bytes', 'avg_databytes','std_dev_databytes','total_data_bytes', 'Measurement_boxname_le']].tail(250)\n",
        "\n",
        "df.drop(df.tail(250).index,inplace=True)"
      ],
      "execution_count": 100,
      "outputs": []
    },
    {
      "cell_type": "code",
      "metadata": {
        "ExecuteTime": {
          "end_time": "2020-03-02T14:42:29.773817Z",
          "start_time": "2020-03-02T14:42:29.750878Z"
        },
        "id": "fI9gXQ410eSj"
      },
      "source": [
        "x_scaler = preprocessing.MinMaxScaler()\n",
        "y_scaler = preprocessing.MinMaxScaler()\n",
        "dataX = x_scaler.fit_transform(df[['avg_tcp_window_size','std_dev_tcp_window_size','min_data_bytes', 'max_data_bytes', 'avg_databytes','std_dev_databytes','total_data_bytes', 'Measurement_boxname_le']])\n",
        "dataY = y_scaler.fit_transform(df[['total_data_bytes']])"
      ],
      "execution_count": 101,
      "outputs": []
    },
    {
      "cell_type": "code",
      "metadata": {
        "ExecuteTime": {
          "end_time": "2020-03-02T14:42:39.460964Z",
          "start_time": "2020-03-02T14:42:37.950966Z"
        },
        "id": "09mbsYFJ0eSk"
      },
      "source": [
        "\"\"\"\n",
        "#hist_window = 48\n",
        "#horizon = 10\n",
        "hist_window =35\n",
        "#horizon = 30\n",
        "horizon = 10\n",
        "\"\"\"\n",
        "#hist_window =200\n",
        "#hist_window =300\n",
        "#hist_window =50\n",
        "hist_window =200\n",
        "horizon = 250\n",
        "\n",
        "\n",
        "TRAIN_SPLIT = 5574\n",
        "x_train_multi, y_train_multi = custom_ts_multi_data_prep(\n",
        "    dataX, dataY, 0, TRAIN_SPLIT, hist_window, horizon)\n",
        "x_val_multi, y_val_multi = custom_ts_multi_data_prep(\n",
        "    dataX, dataY, TRAIN_SPLIT, None, hist_window, horizon)"
      ],
      "execution_count": 102,
      "outputs": []
    },
    {
      "cell_type": "code",
      "metadata": {
        "ExecuteTime": {
          "end_time": "2020-03-02T14:42:47.762747Z",
          "start_time": "2020-03-02T14:42:47.750779Z"
        },
        "id": "fUak0vOz0eSk",
        "scrolled": true,
        "colab": {
          "base_uri": "https://localhost:8080/"
        },
        "outputId": "0e5eacd6-6def-4e02-8323-3094e9b2c810"
      },
      "source": [
        "print ('Single window of past history')\n",
        "print(x_train_multi[0])\n",
        "print ('\\n Target horizon')\n",
        "print (y_train_multi[0])"
      ],
      "execution_count": 103,
      "outputs": [
        {
          "output_type": "stream",
          "text": [
            "Single window of past history\n",
            "[[1.         0.00318907 0.49756098 ... 0.83064738 0.53022238 0.        ]\n",
            " [1.         0.00501139 0.0195122  ... 0.51308245 0.95353474 0.        ]\n",
            " [1.         0.00592255 0.2097561  ... 0.65795782 0.94257725 0.        ]\n",
            " ...\n",
            " [1.         0.00364465 0.10243902 ... 0.52669867 0.96932836 0.        ]\n",
            " [1.         0.00501139 0.0097561  ... 0.53031049 0.96204801 0.        ]\n",
            " [1.         0.00455581 0.1804878  ... 0.54001445 0.95218581 0.        ]]\n",
            "\n",
            " Target horizon\n",
            "[[0.97162017]\n",
            " [0.96124957]\n",
            " [0.94890789]\n",
            " [0.96516897]\n",
            " [0.94999181]\n",
            " [0.95613478]\n",
            " [0.93448254]\n",
            " [0.97018708]\n",
            " [0.95124634]\n",
            " [0.96261101]\n",
            " [0.54209205]\n",
            " [0.94252493]\n",
            " [0.94991219]\n",
            " [0.94535245]\n",
            " [0.97325686]\n",
            " [0.95814112]\n",
            " [0.95357227]\n",
            " [0.94797069]\n",
            " [0.95336868]\n",
            " [0.95260892]\n",
            " [0.93442794]\n",
            " [0.55474309]\n",
            " [0.93985778]\n",
            " [0.94055044]\n",
            " [0.95139761]\n",
            " [0.9517138 ]\n",
            " [0.95499741]\n",
            " [0.96532593]\n",
            " [0.9443527 ]\n",
            " [0.95185142]\n",
            " [0.94896248]\n",
            " [0.96180688]\n",
            " [0.56276387]\n",
            " [0.96200934]\n",
            " [0.97071596]\n",
            " [0.96332642]\n",
            " [0.929138  ]\n",
            " [0.9432483 ]\n",
            " [0.96109375]\n",
            " [0.94750209]\n",
            " [0.94907167]\n",
            " [0.9503262 ]\n",
            " [0.96221179]\n",
            " [0.96169314]\n",
            " [0.53936803]\n",
            " [0.94571527]\n",
            " [0.96021797]\n",
            " [0.94075972]\n",
            " [0.93744654]\n",
            " [0.95805126]\n",
            " [0.97845239]\n",
            " [0.9564851 ]\n",
            " [0.96109602]\n",
            " [0.96282483]\n",
            " [0.93314726]\n",
            " [0.9368335 ]\n",
            " [0.56987816]\n",
            " [0.97438627]\n",
            " [0.97429301]\n",
            " [0.96975715]\n",
            " [0.94493731]\n",
            " [0.94124766]\n",
            " [0.95624511]\n",
            " [0.93821427]\n",
            " [0.94459723]\n",
            " [0.94795704]\n",
            " [0.55808811]\n",
            " [0.97587282]\n",
            " [0.9508221 ]\n",
            " [0.9536826 ]\n",
            " [0.94350876]\n",
            " [0.95121449]\n",
            " [0.95460501]\n",
            " [0.94560154]\n",
            " [0.94516023]\n",
            " [0.95540459]\n",
            " [0.97044412]\n",
            " [0.54889015]\n",
            " [0.94349056]\n",
            " [0.96267129]\n",
            " [0.94383405]\n",
            " [0.96711388]\n",
            " [0.94191985]\n",
            " [0.95797051]\n",
            " [0.95396239]\n",
            " [0.95468804]\n",
            " [0.95816159]\n",
            " [0.96414874]\n",
            " [0.94183909]\n",
            " [0.55557792]\n",
            " [0.92854543]\n",
            " [0.96847646]\n",
            " [0.96477999]\n",
            " [0.96075481]\n",
            " [0.97300095]\n",
            " [0.95977098]\n",
            " [0.96060013]\n",
            " [0.95824803]\n",
            " [0.95876895]\n",
            " [0.94582219]\n",
            " [0.95922049]\n",
            " [0.56383869]\n",
            " [0.96938295]\n",
            " [0.98457262]\n",
            " [0.94742589]\n",
            " [0.94423327]\n",
            " [0.94944701]\n",
            " [0.95934787]\n",
            " [0.94675256]\n",
            " [0.94552306]\n",
            " [0.95091195]\n",
            " [0.54767657]\n",
            " [0.98467953]\n",
            " [0.94674119]\n",
            " [0.9531867 ]\n",
            " [0.93925384]\n",
            " [0.94842678]\n",
            " [0.95307069]\n",
            " [0.93779231]\n",
            " [0.97055217]\n",
            " [0.95972776]\n",
            " [0.94969382]\n",
            " [0.54447713]\n",
            " [0.95304339]\n",
            " [0.95389643]\n",
            " [0.95206525]\n",
            " [0.95702876]\n",
            " [0.9347248 ]\n",
            " [0.94547301]\n",
            " [0.95990633]\n",
            " [0.95848119]\n",
            " [0.95665798]\n",
            " [0.94902163]\n",
            " [0.94718931]\n",
            " [0.54658127]\n",
            " [0.95169333]\n",
            " [0.97815099]\n",
            " [0.94417527]\n",
            " [0.95651467]\n",
            " [0.94340526]\n",
            " [0.95393623]\n",
            " [0.94985646]\n",
            " [0.95230296]\n",
            " [0.96634047]\n",
            " [0.94126586]\n",
            " [0.96520878]\n",
            " [0.941176  ]\n",
            " [0.96562164]\n",
            " [0.95374857]\n",
            " [0.95790568]\n",
            " [0.94213936]\n",
            " [0.98054176]\n",
            " [0.94269895]\n",
            " [0.96811136]\n",
            " [0.96140311]\n",
            " [0.95432749]\n",
            " [0.95460274]\n",
            " [0.9532993 ]\n",
            " [0.96179323]\n",
            " [0.47367655]\n",
            " [0.93324052]\n",
            " [0.96930902]\n",
            " [0.93048238]\n",
            " [0.95454587]\n",
            " [0.95366326]\n",
            " [0.94731329]\n",
            " [0.93069735]\n",
            " [0.96592191]\n",
            " [0.97207171]\n",
            " [0.94366572]\n",
            " [0.941681  ]\n",
            " [0.94337569]\n",
            " [0.55727375]\n",
            " [0.94654556]\n",
            " [0.95009076]\n",
            " [0.95614502]\n",
            " [0.9576873 ]\n",
            " [0.95666366]\n",
            " [0.9430868 ]\n",
            " [0.94090303]\n",
            " [0.94739404]\n",
            " [0.95409092]\n",
            " [0.97324662]\n",
            " [0.96017702]\n",
            " [0.55482384]\n",
            " [0.95418077]\n",
            " [0.94994973]\n",
            " [0.95838793]\n",
            " [0.96225501]\n",
            " [0.95018516]\n",
            " [0.94111686]\n",
            " [0.96716052]\n",
            " [0.95673873]\n",
            " [0.96204687]\n",
            " [0.95061168]\n",
            " [0.94393642]\n",
            " [0.54028589]\n",
            " [0.94616454]\n",
            " [0.9450465 ]\n",
            " [0.9460326 ]\n",
            " [0.94616567]\n",
            " [0.94212912]\n",
            " [0.95784199]\n",
            " [0.94651826]\n",
            " [0.95836973]\n",
            " [0.54916426]\n",
            " [0.95127477]\n",
            " [0.9515648 ]\n",
            " [0.963265  ]\n",
            " [0.95906467]\n",
            " [0.95986197]\n",
            " [0.95448559]\n",
            " [0.95646121]\n",
            " [0.95805126]\n",
            " [0.9478888 ]\n",
            " [0.92863187]\n",
            " [0.97203304]\n",
            " [0.54349329]\n",
            " [0.94511588]\n",
            " [0.93617041]\n",
            " [0.96232553]\n",
            " [0.95109279]\n",
            " [0.97163609]\n",
            " [0.96205142]\n",
            " [0.95968226]\n",
            " [0.94507607]\n",
            " [0.95382591]\n",
            " [0.95367919]\n",
            " [0.96054781]\n",
            " [0.53704664]\n",
            " [0.94626918]\n",
            " [0.95262711]\n",
            " [0.95250314]\n",
            " [0.95113601]\n",
            " [0.93927545]\n",
            " [0.96009399]\n",
            " [0.94611904]\n",
            " [0.98169961]\n",
            " [0.97198754]\n",
            " [0.55761838]\n",
            " [0.95192763]\n",
            " [0.94879984]\n",
            " [0.96636435]\n",
            " [0.96058875]\n",
            " [0.95089716]\n",
            " [0.91771419]\n",
            " [0.97350708]\n",
            " [0.94633742]\n",
            " [0.96512461]\n",
            " [0.9612962 ]]\n"
          ],
          "name": "stdout"
        }
      ]
    },
    {
      "cell_type": "code",
      "metadata": {
        "ExecuteTime": {
          "end_time": "2020-03-02T14:42:51.333206Z",
          "start_time": "2020-03-02T14:42:50.195250Z"
        },
        "id": "CMdtV62F0eSl"
      },
      "source": [
        "BATCH_SIZE = 256\n",
        "BUFFER_SIZE = 150\n",
        "#BATCH_SIZE = 64\n",
        "#BUFFER_SIZE = 37\n",
        "#BATCH_SIZE = 150\n",
        "#BATCH_SIZE = 64\n",
        "#BUFFER_SIZE = 100\n",
        "\n",
        "train_data_multi = tf.data.Dataset.from_tensor_slices((x_train_multi, y_train_multi))\n",
        "train_data_multi = train_data_multi.cache().shuffle(BUFFER_SIZE).batch(BATCH_SIZE).repeat()\n",
        "\n",
        "val_data_multi = tf.data.Dataset.from_tensor_slices((x_val_multi, y_val_multi))\n",
        "val_data_multi = val_data_multi.batch(BATCH_SIZE).repeat()\n"
      ],
      "execution_count": 104,
      "outputs": []
    },
    {
      "cell_type": "code",
      "metadata": {
        "ExecuteTime": {
          "end_time": "2020-03-02T14:42:55.747446Z",
          "start_time": "2020-03-02T14:42:54.486777Z"
        },
        "id": "dRBrm7Za0eSl"
      },
      "source": [
        "Bi_lstm_model = tf.keras.models.Sequential([\n",
        "  tf.keras.layers.Bidirectional(tf.keras.layers.LSTM(150, return_sequences=True), \n",
        "                               input_shape=x_train_multi.shape[-2:]),\n",
        "    tf.keras.layers.Bidirectional(tf.keras.layers.LSTM(50)),\n",
        "    tf.keras.layers.Dense(20, activation='tanh'),\n",
        "    tf.keras.layers.Dropout(0.2),\n",
        "    tf.keras.layers.Dense(units=horizon),\n",
        "])\n",
        "Bi_lstm_model.compile(optimizer='adam', loss='mse')\n"
      ],
      "execution_count": 105,
      "outputs": []
    },
    {
      "cell_type": "code",
      "metadata": {
        "ExecuteTime": {
          "end_time": "2020-03-02T14:43:02.444514Z",
          "start_time": "2020-03-02T14:43:02.439525Z"
        },
        "id": "8pRYumy80eSl"
      },
      "source": [
        "model_path = r'Bidirectional_LSTM_Multivariate.h5'"
      ],
      "execution_count": 106,
      "outputs": []
    },
    {
      "cell_type": "code",
      "metadata": {
        "ExecuteTime": {
          "end_time": "2020-03-02T14:46:17.840399Z",
          "start_time": "2020-03-02T14:43:09.804845Z"
        },
        "id": "u8uX-YD80eSl",
        "colab": {
          "base_uri": "https://localhost:8080/"
        },
        "outputId": "60d7d763-4e97-4717-a32a-1094516fe0c9"
      },
      "source": [
        "#EVALUATION_INTERVAL = 100\n",
        "#EPOCHS = 150\n",
        "#EVALUATION_INTERVAL = 70\n",
        "EVALUATION_INTERVAL = 100\n",
        "#EPOCHS = 150\n",
        "EPOCHS = 150\n",
        "#history = Bi_lstm_model.fit(train_data_multi, epochs=EPOCHS, steps_per_epoch=EVALUATION_INTERVAL, validation_data=val_data_multi, validation_steps=50, verbose=1,\n",
        "history = Bi_lstm_model.fit(train_data_multi, epochs=EPOCHS, steps_per_epoch=EVALUATION_INTERVAL, validation_data=val_data_multi, validation_steps=50, verbose=1,\n",
        "                                   callbacks=[tf.keras.callbacks.EarlyStopping(monitor='val_loss', min_delta=0, patience=10, verbose=1, mode='min'), tf.keras.callbacks.ModelCheckpoint(model_path, monitor='val_loss', save_best_only=True, mode='min', verbose=0)])"
      ],
      "execution_count": 107,
      "outputs": [
        {
          "output_type": "stream",
          "text": [
            "Epoch 1/150\n",
            "100/100 [==============================] - 15s 109ms/step - loss: 0.2206 - val_loss: 0.0331\n",
            "Epoch 2/150\n",
            "100/100 [==============================] - 10s 99ms/step - loss: 0.0588 - val_loss: 0.0294\n",
            "Epoch 3/150\n",
            "100/100 [==============================] - 10s 101ms/step - loss: 0.0529 - val_loss: 0.0198\n",
            "Epoch 4/150\n",
            "100/100 [==============================] - 10s 101ms/step - loss: 0.0482 - val_loss: 0.0249\n",
            "Epoch 5/150\n",
            "100/100 [==============================] - 10s 100ms/step - loss: 0.0436 - val_loss: 0.0416\n",
            "Epoch 6/150\n",
            "100/100 [==============================] - 10s 101ms/step - loss: 0.0413 - val_loss: 0.0302\n",
            "Epoch 7/150\n",
            "100/100 [==============================] - 10s 99ms/step - loss: 0.0363 - val_loss: 0.0171\n",
            "Epoch 8/150\n",
            "100/100 [==============================] - 10s 98ms/step - loss: 0.0294 - val_loss: 0.0115\n",
            "Epoch 9/150\n",
            "100/100 [==============================] - 10s 99ms/step - loss: 0.0269 - val_loss: 0.0115\n",
            "Epoch 10/150\n",
            "100/100 [==============================] - 10s 100ms/step - loss: 0.0245 - val_loss: 0.0122\n",
            "Epoch 11/150\n",
            "100/100 [==============================] - 10s 100ms/step - loss: 0.0233 - val_loss: 0.0244\n",
            "Epoch 12/150\n",
            "100/100 [==============================] - 10s 100ms/step - loss: 0.0240 - val_loss: 0.0111\n",
            "Epoch 13/150\n",
            "100/100 [==============================] - 10s 99ms/step - loss: 0.0218 - val_loss: 0.0094\n",
            "Epoch 14/150\n",
            "100/100 [==============================] - 10s 99ms/step - loss: 0.0219 - val_loss: 0.0097\n",
            "Epoch 15/150\n",
            "100/100 [==============================] - 10s 99ms/step - loss: 0.0212 - val_loss: 0.0092\n",
            "Epoch 16/150\n",
            "100/100 [==============================] - 10s 99ms/step - loss: 0.0206 - val_loss: 0.0091\n",
            "Epoch 17/150\n",
            "100/100 [==============================] - 10s 100ms/step - loss: 0.0203 - val_loss: 0.0095\n",
            "Epoch 18/150\n",
            "100/100 [==============================] - 10s 99ms/step - loss: 0.0199 - val_loss: 0.0091\n",
            "Epoch 19/150\n",
            "100/100 [==============================] - 10s 99ms/step - loss: 0.0196 - val_loss: 0.0090\n",
            "Epoch 20/150\n",
            "100/100 [==============================] - 10s 100ms/step - loss: 0.0195 - val_loss: 0.0093\n",
            "Epoch 21/150\n",
            "100/100 [==============================] - 10s 99ms/step - loss: 0.0190 - val_loss: 0.0097\n",
            "Epoch 22/150\n",
            "100/100 [==============================] - 10s 99ms/step - loss: 0.0192 - val_loss: 0.0090\n",
            "Epoch 23/150\n",
            "100/100 [==============================] - 10s 100ms/step - loss: 0.0186 - val_loss: 0.0093\n",
            "Epoch 24/150\n",
            "100/100 [==============================] - 10s 99ms/step - loss: 0.0186 - val_loss: 0.0095\n",
            "Epoch 25/150\n",
            "100/100 [==============================] - 10s 100ms/step - loss: 0.0184 - val_loss: 0.0094\n",
            "Epoch 26/150\n",
            "100/100 [==============================] - 10s 100ms/step - loss: 0.0185 - val_loss: 0.0090\n",
            "Epoch 27/150\n",
            "100/100 [==============================] - 10s 99ms/step - loss: 0.0178 - val_loss: 0.0090\n",
            "Epoch 28/150\n",
            "100/100 [==============================] - 10s 100ms/step - loss: 0.0179 - val_loss: 0.0097\n",
            "Epoch 29/150\n",
            "100/100 [==============================] - 10s 99ms/step - loss: 0.0176 - val_loss: 0.0096\n",
            "Epoch 30/150\n",
            "100/100 [==============================] - 10s 100ms/step - loss: 0.0177 - val_loss: 0.0091\n",
            "Epoch 31/150\n",
            "100/100 [==============================] - 10s 100ms/step - loss: 0.0172 - val_loss: 0.0090\n",
            "Epoch 32/150\n",
            "100/100 [==============================] - 10s 100ms/step - loss: 0.0172 - val_loss: 0.0097\n",
            "Epoch 00032: early stopping\n"
          ],
          "name": "stdout"
        }
      ]
    },
    {
      "cell_type": "code",
      "metadata": {
        "ExecuteTime": {
          "end_time": "2020-03-02T14:46:29.065398Z",
          "start_time": "2020-03-02T14:46:26.248901Z"
        },
        "id": "Vx8NoGsp0eSm"
      },
      "source": [
        "Trained_model = tf.keras.models.load_model(model_path)"
      ],
      "execution_count": 108,
      "outputs": []
    },
    {
      "cell_type": "code",
      "metadata": {
        "ExecuteTime": {
          "end_time": "2020-03-02T14:46:29.076339Z",
          "start_time": "2020-03-02T14:46:29.067392Z"
        },
        "id": "KvEdjHrh0eSm",
        "colab": {
          "base_uri": "https://localhost:8080/"
        },
        "outputId": "dc836490-fe54-4530-94bb-fc0e789e6646"
      },
      "source": [
        "# Show the model architecture\n",
        "Trained_model.summary()"
      ],
      "execution_count": 109,
      "outputs": [
        {
          "output_type": "stream",
          "text": [
            "Model: \"sequential_3\"\n",
            "_________________________________________________________________\n",
            "Layer (type)                 Output Shape              Param #   \n",
            "=================================================================\n",
            "bidirectional_6 (Bidirection (None, 200, 300)          190800    \n",
            "_________________________________________________________________\n",
            "bidirectional_7 (Bidirection (None, 100)               140400    \n",
            "_________________________________________________________________\n",
            "dense_6 (Dense)              (None, 20)                2020      \n",
            "_________________________________________________________________\n",
            "dropout_3 (Dropout)          (None, 20)                0         \n",
            "_________________________________________________________________\n",
            "dense_7 (Dense)              (None, 250)               5250      \n",
            "=================================================================\n",
            "Total params: 338,470\n",
            "Trainable params: 338,470\n",
            "Non-trainable params: 0\n",
            "_________________________________________________________________\n"
          ],
          "name": "stdout"
        }
      ]
    },
    {
      "cell_type": "code",
      "metadata": {
        "ExecuteTime": {
          "end_time": "2020-03-02T14:46:33.385823Z",
          "start_time": "2020-03-02T14:46:33.134495Z"
        },
        "id": "tyWdsGX00eSn",
        "colab": {
          "base_uri": "https://localhost:8080/",
          "height": 581
        },
        "outputId": "a25f9575-1c79-4d08-9d2b-0a23eb4cc9f3"
      },
      "source": [
        "plt.plot(history.history['loss'])\n",
        "plt.plot(history.history['val_loss'])\n",
        "plt.title('Model loss')\n",
        "plt.ylabel('loss')\n",
        "plt.xlabel('epoch')\n",
        "plt.legend(['train loss', 'validation loss'], loc='upper left')\n",
        "plt.rcParams[\"figure.figsize\"] = [16,9]\n",
        "plt.show()"
      ],
      "execution_count": 110,
      "outputs": [
        {
          "output_type": "display_data",
          "data": {
            "image/png": "[encoded data removed]",
            "text/plain": [
              "<Figure size 1152x648 with 1 Axes>"
            ]
          },
          "metadata": {
            "tags": [],
            "needs_background": "light"
          }
        }
      ]
    },
    {
      "cell_type": "code",
      "metadata": {
        "ExecuteTime": {
          "end_time": "2020-03-02T14:46:35.867194Z",
          "start_time": "2020-03-02T14:46:35.858217Z"
        },
        "id": "YEsiqFUp0eSn"
      },
      "source": [
        "data_val = x_scaler.fit_transform(df[['avg_tcp_window_size','std_dev_tcp_window_size','min_data_bytes', 'max_data_bytes', 'avg_databytes','std_dev_databytes','total_data_bytes', 'Measurement_boxname_le']].tail(200))"
      ],
      "execution_count": 111,
      "outputs": []
    },
    {
      "cell_type": "code",
      "metadata": {
        "ExecuteTime": {
          "end_time": "2020-03-02T14:46:37.087931Z",
          "start_time": "2020-03-02T14:46:37.083941Z"
        },
        "id": "BnL3oj2Z0eSo"
      },
      "source": [
        "val_rescaled = data_val.reshape(1, data_val.shape[0], data_val.shape[1])"
      ],
      "execution_count": 112,
      "outputs": []
    },
    {
      "cell_type": "code",
      "metadata": {
        "ExecuteTime": {
          "end_time": "2020-03-02T14:46:39.479539Z",
          "start_time": "2020-03-02T14:46:38.601887Z"
        },
        "id": "j3g21Pwd0eSo"
      },
      "source": [
        "Predicted_results = Trained_model.predict(val_rescaled)"
      ],
      "execution_count": 113,
      "outputs": []
    },
    {
      "cell_type": "code",
      "metadata": {
        "ExecuteTime": {
          "end_time": "2020-03-02T14:46:40.354239Z",
          "start_time": "2020-03-02T14:46:40.347220Z"
        },
        "id": "LUgj_wJV0eSo",
        "colab": {
          "base_uri": "https://localhost:8080/"
        },
        "outputId": "15b7c470-c5ad-40e2-b841-b02bf3406673"
      },
      "source": [
        "Predicted_results"
      ],
      "execution_count": 114,
      "outputs": [
        {
          "output_type": "execute_result",
          "data": {
            "text/plain": [
              "array([[0.6840597 , 0.69357497, 0.6985671 , 0.69454646, 0.6922153 ,\n",
              "        0.7010738 , 0.68817186, 0.69268286, 0.6907414 , 0.69464   ,\n",
              "        0.6983334 , 0.69886565, 0.6837518 , 0.6941118 , 0.69666827,\n",
              "        0.69798625, 0.6943957 , 0.69840276, 0.6975825 , 0.6901819 ,\n",
              "        0.69141614, 0.6904545 , 0.68985474, 0.6907269 , 0.688393  ,\n",
              "        0.69552994, 0.6975088 , 0.6993253 , 0.6970894 , 0.6891571 ,\n",
              "        0.6933948 , 0.690997  , 0.69764435, 0.69594896, 0.69519675,\n",
              "        0.6925198 , 0.6992842 , 0.69838446, 0.69390756, 0.70157635,\n",
              "        0.69929963, 0.6936676 , 0.69256   , 0.6954622 , 0.6893351 ,\n",
              "        0.6942308 , 0.6960186 , 0.7001296 , 0.69418   , 0.6986958 ,\n",
              "        0.6972914 , 0.692429  , 0.6994391 , 0.6999965 , 0.6865744 ,\n",
              "        0.69650656, 0.68928486, 0.6961076 , 0.69297457, 0.6947576 ,\n",
              "        0.6985961 , 0.6972154 , 0.6996327 , 0.6992382 , 0.69947296,\n",
              "        0.69183767, 0.6873738 , 0.6833583 , 0.6921076 , 0.69681543,\n",
              "        0.696793  , 0.69780976, 0.69145817, 0.6842719 , 0.6969552 ,\n",
              "        0.697007  , 0.696643  , 0.6987415 , 0.69330835, 0.6963297 ,\n",
              "        0.6970799 , 0.69881725, 0.7007291 , 0.6971866 , 0.69150823,\n",
              "        0.6960346 , 0.69739604, 0.69562584, 0.69385505, 0.70130515,\n",
              "        0.6964332 , 0.6988846 , 0.6972814 , 0.6966236 , 0.6869211 ,\n",
              "        0.6920363 , 0.6920378 , 0.69959664, 0.6983741 , 0.6976896 ,\n",
              "        0.6898356 , 0.69658   , 0.6974585 , 0.6940619 , 0.6933404 ,\n",
              "        0.69743323, 0.6961227 , 0.69993335, 0.6879124 , 0.6947397 ,\n",
              "        0.6938703 , 0.6983831 , 0.6886182 , 0.69485676, 0.6956507 ,\n",
              "        0.69620645, 0.6934812 , 0.6951974 , 0.69060385, 0.6925802 ,\n",
              "        0.6867486 , 0.69579315, 0.6972132 , 0.6969882 , 0.68695736,\n",
              "        0.68885374, 0.6959555 , 0.69555753, 0.6860651 , 0.69537604,\n",
              "        0.6971746 , 0.6950011 , 0.69072545, 0.6969744 , 0.6938449 ,\n",
              "        0.6951022 , 0.6847803 , 0.697508  , 0.6862978 , 0.6932783 ,\n",
              "        0.69597304, 0.6982025 , 0.68706036, 0.6937614 , 0.6940299 ,\n",
              "        0.6922202 , 0.6921821 , 0.6906684 , 0.6913258 , 0.6974753 ,\n",
              "        0.6969404 , 0.6912358 , 0.6901391 , 0.6992885 , 0.693189  ,\n",
              "        0.699626  , 0.6946781 , 0.6936979 , 0.69535995, 0.68790686,\n",
              "        0.69509745, 0.6919437 , 0.6936813 , 0.6802365 , 0.6886581 ,\n",
              "        0.6910197 , 0.6876768 , 0.6967184 , 0.6903506 , 0.69587255,\n",
              "        0.6960723 , 0.6946932 , 0.6965126 , 0.6956996 , 0.6844518 ,\n",
              "        0.69566625, 0.68919665, 0.69517875, 0.6905408 , 0.6982193 ,\n",
              "        0.6928921 , 0.6922946 , 0.6942002 , 0.6947453 , 0.6956023 ,\n",
              "        0.6857102 , 0.6886175 , 0.6966827 , 0.6952255 , 0.68727493,\n",
              "        0.691105  , 0.6953318 , 0.6943275 , 0.69635785, 0.6935377 ,\n",
              "        0.6929896 , 0.6967448 , 0.6964066 , 0.6932584 , 0.6850928 ,\n",
              "        0.69320244, 0.6949952 , 0.69526356, 0.69422626, 0.69446874,\n",
              "        0.69404066, 0.69287825, 0.6946083 , 0.68693644, 0.6891858 ,\n",
              "        0.6910256 , 0.69141716, 0.69399637, 0.69550914, 0.6865418 ,\n",
              "        0.6901339 , 0.6925816 , 0.6931976 , 0.68885326, 0.6931039 ,\n",
              "        0.6930827 , 0.6916578 , 0.6947762 , 0.68758446, 0.6907186 ,\n",
              "        0.68912977, 0.6910218 , 0.6908193 , 0.6844419 , 0.69567573,\n",
              "        0.6866532 , 0.68392247, 0.6948724 , 0.6938104 , 0.6950691 ,\n",
              "        0.69347787, 0.6877456 , 0.6972452 , 0.6942352 , 0.6922234 ,\n",
              "        0.6909422 , 0.6956068 , 0.6945493 , 0.694639  , 0.6943709 ,\n",
              "        0.69372475, 0.69220525, 0.6940383 , 0.6936628 , 0.6923615 ]],\n",
              "      dtype=float32)"
            ]
          },
          "metadata": {
            "tags": []
          },
          "execution_count": 114
        }
      ]
    },
    {
      "cell_type": "code",
      "metadata": {
        "ExecuteTime": {
          "end_time": "2020-03-02T14:46:41.823277Z",
          "start_time": "2020-03-02T14:46:41.818290Z"
        },
        "id": "uD5kAvtt0eSp"
      },
      "source": [
        "Predicted_results_Inv_trans = y_scaler.inverse_transform(Predicted_results)"
      ],
      "execution_count": 115,
      "outputs": []
    },
    {
      "cell_type": "code",
      "metadata": {
        "ExecuteTime": {
          "end_time": "2020-03-02T14:46:43.116821Z",
          "start_time": "2020-03-02T14:46:43.110837Z"
        },
        "id": "8Dyms7Pj0eSp",
        "colab": {
          "base_uri": "https://localhost:8080/"
        },
        "outputId": "f0b72d8d-149d-498a-8102-5eef9c86bc5c"
      },
      "source": [
        "Predicted_results_Inv_trans"
      ],
      "execution_count": 116,
      "outputs": [
        {
          "output_type": "execute_result",
          "data": {
            "text/plain": [
              "array([[645508.25, 653874.25, 658263.4 , 654728.4 , 652678.8 , 660467.3 ,\n",
              "        649123.75, 653089.9 , 651382.94, 654810.6 , 658057.9 , 658525.9 ,\n",
              "        645237.56, 654346.25, 656593.9 , 657752.7 , 654595.8 , 658118.9 ,\n",
              "        657397.7 , 650891.  , 651976.1 , 651130.6 , 650603.3 , 651370.1 ,\n",
              "        649318.1 , 655593.06, 657332.94, 658930.  , 656964.1 , 649990.  ,\n",
              "        653715.8 , 651607.6 , 657452.06, 655961.5 , 655300.1 , 652946.5 ,\n",
              "        658893.9 , 658102.8 , 654166.6 , 660909.2 , 658907.44, 653955.7 ,\n",
              "        652981.9 , 655533.56, 650146.5 , 654450.8 , 656022.7 , 659637.2 ,\n",
              "        654406.2 , 658376.5 , 657141.75, 652866.7 , 659030.06, 659520.1 ,\n",
              "        647719.2 , 656451.75, 650102.3 , 656101.  , 653346.3 , 654914.  ,\n",
              "        658288.9 , 657074.94, 659200.3 , 658853.44, 659059.8 , 652346.75,\n",
              "        648422.06, 644891.56, 652584.1 , 656723.3 , 656703.56, 657597.5 ,\n",
              "        652013.1 , 645694.8 , 656846.2 , 656891.75, 656571.7 , 658416.7 ,\n",
              "        653639.8 , 656296.25, 656955.8 , 658483.3 , 660164.25, 657049.6 ,\n",
              "        652057.1 , 656036.75, 657233.75, 655677.4 , 654120.5 , 660670.75,\n",
              "        656387.2 , 658542.56, 657133.  , 656554.6 , 648024.06, 652521.4 ,\n",
              "        652522.75, 659168.56, 658093.7 , 657491.9 , 650586.5 , 656516.3 ,\n",
              "        657288.7 , 654302.3 , 653668.  , 657266.5 , 656114.25, 659464.6 ,\n",
              "        648895.6 , 654898.25, 654133.9 , 658101.6 , 649516.1 , 655001.2 ,\n",
              "        655699.25, 656187.9 , 653791.8 , 655300.7 , 651262.  , 652999.6 ,\n",
              "        647872.4 , 655824.5 , 657073.  , 656875.2 , 648055.94, 649723.25,\n",
              "        655967.25, 655617.3 , 647271.44, 655457.75, 657039.06, 655128.1 ,\n",
              "        651368.9 , 656863.06, 654111.56, 655217.  , 646141.8 , 657332.2 ,\n",
              "        647476.  , 653613.4 , 655982.6 , 657942.8 , 648146.5 , 654038.1 ,\n",
              "        654274.25, 652683.1 , 652649.6 , 651318.75, 651896.7 , 657303.5 ,\n",
              "        656833.2 , 651817.56, 650853.4 , 658897.6 , 653534.9 , 659194.44,\n",
              "        654844.1 , 653982.3 , 655443.6 , 648890.75, 655212.8 , 652440.  ,\n",
              "        653967.7 , 642146.9 , 649551.25, 651627.6 , 648688.44, 656638.  ,\n",
              "        651039.3 , 655894.3 , 656069.9 , 654857.4 , 656457.  , 655742.2 ,\n",
              "        645853.  , 655712.94, 650024.75, 655284.3 , 651206.5 , 657957.6 ,\n",
              "        653273.8 , 652748.5 , 654423.94, 654903.2 , 655656.7 , 646959.4 ,\n",
              "        649515.56, 656606.56, 655325.4 , 648335.1 , 651702.6 , 655418.9 ,\n",
              "        654535.8 , 656321.  , 653841.44, 653359.56, 656661.2 , 656363.8 ,\n",
              "        653595.9 , 646416.56, 653546.7 , 655122.94, 655358.9 , 654446.9 ,\n",
              "        654660.06, 654283.7 , 653261.6 , 654782.75, 648037.5 , 650015.2 ,\n",
              "        651632.8 , 651977.06, 654244.75, 655574.75, 647690.56, 650848.8 ,\n",
              "        653000.8 , 653542.44, 649722.8 , 653460.06, 653441.4 , 652188.6 ,\n",
              "        654930.4 , 648607.25, 651362.9 , 649965.94, 651629.44, 651451.44,\n",
              "        645844.3 , 655721.25, 647788.5 , 645387.56, 655014.94, 654081.25,\n",
              "        655187.9 , 653788.9 , 648748.94, 657101.1 , 654454.7 , 652685.94,\n",
              "        651559.5 , 655660.7 , 654730.9 , 654809.75, 654574.06, 654005.94,\n",
              "        652669.94, 654281.56, 653951.44, 652807.3 ]], dtype=float32)"
            ]
          },
          "metadata": {
            "tags": []
          },
          "execution_count": 116
        }
      ]
    },
    {
      "cell_type": "code",
      "metadata": {
        "ExecuteTime": {
          "end_time": "2020-03-02T14:46:47.578896Z",
          "start_time": "2020-03-02T14:46:47.546983Z"
        },
        "id": "IoKJpgw20eSp"
      },
      "source": [
        "from sklearn import metrics\n",
        "def timeseries_evaluation_metrics_func(y_true, y_pred):\n",
        "    \n",
        "    def mean_absolute_percentage_error(y_true, y_pred): \n",
        "        y_true, y_pred = np.array(y_true), np.array(y_pred)\n",
        "        return np.mean(np.abs((y_true - y_pred) / y_true)) * 100\n",
        "    print('Evaluation metric results:-')\n",
        "    print(f'MSE is : {metrics.mean_squared_error(y_true, y_pred)}')\n",
        "    print(f'MAE is : {metrics.mean_absolute_error(y_true, y_pred)}')\n",
        "    print(f'RMSE is : {np.sqrt(metrics.mean_squared_error(y_true, y_pred))}')\n",
        "    print(f'MAPE is : {mean_absolute_percentage_error(y_true, y_pred)}')\n",
        "    print(f'R2 is : {metrics.r2_score(y_true, y_pred)}',end='\\n\\n')"
      ],
      "execution_count": 117,
      "outputs": []
    },
    {
      "cell_type": "code",
      "metadata": {
        "ExecuteTime": {
          "end_time": "2020-03-02T14:47:58.402637Z",
          "start_time": "2020-03-02T14:47:58.395655Z"
        },
        "id": "CxDNxSUU0eSq",
        "colab": {
          "base_uri": "https://localhost:8080/"
        },
        "outputId": "ac2b67ba-941c-4ad8-b210-70439d5c81c7"
      },
      "source": [
        "timeseries_evaluation_metrics_func(validate['total_data_bytes'],Predicted_results_Inv_trans[0])"
      ],
      "execution_count": 118,
      "outputs": [
        {
          "output_type": "stream",
          "text": [
            "Evaluation metric results:-\n",
            "MSE is : 6703108648.570562\n",
            "MAE is : 58603.708\n",
            "RMSE is : 81872.51461003603\n",
            "MAPE is : 10.48509589705606\n",
            "R2 is : -0.0473884573567096\n",
            "\n"
          ],
          "name": "stdout"
        }
      ]
    },
    {
      "cell_type": "code",
      "metadata": {
        "ExecuteTime": {
          "end_time": "2020-03-02T14:46:55.156682Z",
          "start_time": "2020-03-02T14:46:54.912299Z"
        },
        "id": "QGSG3FA70eSq",
        "colab": {
          "base_uri": "https://localhost:8080/",
          "height": 567
        },
        "outputId": "7d61a9de-33c8-4d6d-b16b-49d084e4b06a"
      },
      "source": [
        "#plt.plot( list(validate['total_data_bytes']))\n",
        "#plt.plot( list(Predicted_results_Inv_trans[0]))\n",
        "#plt.title(\"Actual vs Predicted\")\n",
        "#plt.ylabel(\"total_data_bytes\")\n",
        "#plt.legend(('Actual','predicted'))\n",
        "\n",
        "plt.plot( list(validate['total_data_bytes']))\n",
        "plt.plot( list(Predicted_results_Inv_trans[0]))\n",
        "plt.rcParams.update({'font.size': 15})\n",
        "plt.title(\"Actual vs Predicted for Bi-LSTM Model\", fontsize=25)\n",
        "plt.ylabel(\"total_data_bytes\", fontsize=25)\n",
        "plt.legend(('Actual','predicted'), fontsize=25)\n",
        "#plt.legend(loc=5, prop={'size': 10})\n",
        "###plt.rc('legend', fontsize='medium')\n",
        "plt.show()\n",
        "\n",
        "plt.show()"
      ],
      "execution_count": 119,
      "outputs": [
        {
          "output_type": "display_data",
          "data": {
            "image/png": "[encoded data removed]",
            "text/plain": [
              "<Figure size 1152x648 with 1 Axes>"
            ]
          },
          "metadata": {
            "tags": [],
            "needs_background": "light"
          }
        }
      ]
    }
  ]
}