{
  "nbformat": 4,
  "nbformat_minor": 0,
  "metadata": {
    "accelerator": "GPU",
    "colab": {
      "name": "5_LSTM_Multivariate_Horizon_Style.ipynb",
      "provenance": [],
      "include_colab_link": true
    },
    "kernelspec": {
      "display_name": "Python 3",
      "language": "python",
      "name": "python3"
    },
    "language_info": {
      "codemirror_mode": {
        "name": "ipython",
        "version": 3
      },
      "file_extension": ".py",
      "mimetype": "text/x-python",
      "name": "python",
      "nbconvert_exporter": "python",
      "pygments_lexer": "ipython3",
      "version": "3.7.1"
    },
    "latex_envs": {
      "LaTeX_envs_menu_present": true,
      "autoclose": false,
      "autocomplete": true,
      "bibliofile": "biblio.bib",
      "cite_by": "apalike",
      "current_citInitial": 1,
      "eqLabelWithNumbers": true,
      "eqNumInitial": 1,
      "hotkeys": {
        "equation": "Ctrl-E",
        "itemize": "Ctrl-I"
      },
      "labels_anchors": false,
      "latex_user_defs": false,
      "report_style_numbering": false,
      "user_envs_cfg": false
    },
    "nbTranslate": {
      "displayLangs": [
        "*"
      ],
      "hotkey": "alt-t",
      "langInMainMenu": true,
      "sourceLang": "en",
      "targetLang": "fr",
      "useGoogleTranslate": true
    }
  },
  "cells": [
    {
      "cell_type": "markdown",
      "metadata": {
        "id": "view-in-github",
        "colab_type": "text"
      },
      "source": [
        "<a href=\"https://colab.research.google.com/github/ahmadrathore/Provisioning-SmartX-MicroBox/blob/master/5_LSTM_Multivariate_Horizon_Style.ipynb\" target=\"_parent\"><img src=\"https://colab.research.google.com/assets/colab-badge.svg\" alt=\"Open In Colab\"/></a>"
      ]
    },
    {
      "cell_type": "code",
      "metadata": {
        "id": "EUhyqU5t4wfx"
      },
      "source": [
        "import pandas as pd\n",
        "import numpy as np\n",
        "import tensorflow as tf\n",
        "from sklearn import preprocessing\n",
        "import matplotlib.pyplot as plt\n",
        "import matplotlib.pyplot as plt\n",
        "tf.random.set_seed(123)\n",
        "np.random.seed(123)"
      ],
      "execution_count": 512,
      "outputs": []
    },
    {
      "cell_type": "code",
      "metadata": {
        "id": "f2WCpnSc4wf-"
      },
      "source": [
        "#df = pd.read_csv(r'merge-csv.com__602f0aa73c265.csv')\n",
        "#df = pd.read_csv('merge-csv.com__602f0aa73c265.csv',index_col='Processing_time',\n",
        "#                infer_datetime_format=True)\n",
        "\n",
        "url='https://raw.githubusercontent.com/ahmadrathore/Provisioning-SmartX-MicroBox/master/kafka9092_Network-Flows_1.csv'\n",
        "#url='https://raw.githubusercontent.com/ahmadrathore/Provisioning-SmartX-MicroBox/master/kafka9092_Network-Flows_reduced_col.csv'\n",
        "#url='https://raw.githubusercontent.com/ahmadrathore/Provisioning-SmartX-MicroBox/master/Network-Flows.csv'\n",
        "\n",
        "df = pd.read_csv(url,index_col='Processing_time',\n",
        "               # infer_datetime_format=True)\n",
        "                parse_dates=True)"
      ],
      "execution_count": 513,
      "outputs": []
    },
    {
      "cell_type": "code",
      "metadata": {
        "id": "LTUkKbVboZCS"
      },
      "source": [
        "#Measurement_boxname_le = preprocessing.LabelEncoder()\n",
        "#df['Measurement_boxname_le'] = Measurement_boxname_le.fit_transform(df['Measurement_boxname']) "
      ],
      "execution_count": 514,
      "outputs": []
    },
    {
      "cell_type": "code",
      "metadata": {
        "id": "s4GcLVxd4wgU",
        "colab": {
          "base_uri": "https://localhost:8080/",
          "height": 576
        },
        "outputId": "d5ef443f-c384-4f5b-d6e1-7005bdf27d1f"
      },
      "source": [
        "from numpy import loadtxt\n",
        "from xgboost import XGBRegressor\n",
        "from matplotlib import pyplot\n",
        "\n",
        "model = XGBRegressor()\n",
        "#model.fit(df[['avg_tcp_window_size','std_dev_tcp_window_size','min_data_bytes', 'max_data_bytes', 'avg_databytes','std_dev_databytes']],df[['total_data_bytes']])\n",
        "model.fit(df[['max_tcp_window_size','min_tcp_window_size','avg_tcp_window_size','std_dev_tcp_window_size','min_data_bytes', 'max_data_bytes', 'avg_databytes','std_dev_databytes']],df[['total_data_bytes']])\n",
        "#model.fit(df[['max_tcp_window_size','min_tcp_window_size','avg_tcp_window_size','std_dev_tcp_window_size','min_data_bytes', 'max_data_bytes', 'total_data_bytes','std_dev_databytes', 'Measurement_boxname_le']],df[['avg_databytes']])\n",
        "\n",
        "#(pd.Series(model.feature_importances_, index=df[['avg_tcp_window_size','std_dev_tcp_window_size','min_data_bytes', 'max_data_bytes', 'avg_databytes','std_dev_databytes']].columns)\n",
        "(pd.Series(model.feature_importances_, index=df[['max_tcp_window_size','min_tcp_window_size','avg_tcp_window_size','std_dev_tcp_window_size','min_data_bytes', 'max_data_bytes', 'avg_databytes','std_dev_databytes']].columns)\n",
        "#(pd.Series(model.feature_importances_, index=df[['max_tcp_window_size','min_tcp_window_size','avg_tcp_window_size','std_dev_tcp_window_size','min_data_bytes', 'max_data_bytes', 'total_data_bytes','std_dev_databytes', 'Measurement_boxname_le']].columns)\n",
        "   .nlargest(100)\n",
        "   .plot(kind='barh'))"
      ],
      "execution_count": 515,
      "outputs": [
        {
          "output_type": "stream",
          "text": [
            "[06:16:50] WARNING: /workspace/src/objective/regression_obj.cu:152: reg:linear is now deprecated in favor of reg:squarederror.\n"
          ],
          "name": "stdout"
        },
        {
          "output_type": "execute_result",
          "data": {
            "text/plain": [
              "<matplotlib.axes._subplots.AxesSubplot at 0x7f052008b490>"
            ]
          },
          "metadata": {
            "tags": []
          },
          "execution_count": 515
        },
        {
          "output_type": "display_data",
          "data": {
            "image/png": "[encoded data removed]",
            "text/plain": [
              "<Figure size 1152x648 with 1 Axes>"
            ]
          },
          "metadata": {
            "tags": [],
            "needs_background": "light"
          }
        }
      ]
    },
    {
      "cell_type": "code",
      "metadata": {
        "id": "Sv6PhyQC4wgV"
      },
      "source": [
        "df = df[['max_tcp_window_size','min_tcp_window_size','avg_tcp_window_size','std_dev_tcp_window_size','min_data_bytes', 'max_data_bytes', 'avg_databytes','std_dev_databytes','total_data_bytes']]\n",
        "#df = df[['avg_tcp_window_size','std_dev_tcp_window_size','min_data_bytes', 'max_data_bytes', 'avg_databytes','std_dev_databytes','total_data_bytes']]"
      ],
      "execution_count": 516,
      "outputs": []
    },
    {
      "cell_type": "code",
      "metadata": {
        "id": "mHjvptgt4wgV"
      },
      "source": [
        "def custom_ts_multi_data_prep(dataset, target, start, end, window, horizon):\n",
        "    X = []\n",
        "    y = []\n",
        "    start = start + window\n",
        "    if end is None:\n",
        "        end = len(dataset) - horizon\n",
        "\n",
        "    for i in range(start, end):\n",
        "        indices = range(i-window, i)\n",
        "        X.append(dataset[indices])\n",
        "\n",
        "        indicey = range(i+1, i+1+horizon)\n",
        "        y.append(target[indicey])\n",
        "    return np.array(X), np.array(y)"
      ],
      "execution_count": 517,
      "outputs": []
    },
    {
      "cell_type": "code",
      "metadata": {
        "id": "JLTUGA5f4wgV"
      },
      "source": [
        "validate = df[['max_tcp_window_size','min_tcp_window_size','avg_tcp_window_size','std_dev_tcp_window_size','min_data_bytes', 'max_data_bytes', 'avg_databytes','std_dev_databytes','total_data_bytes']].tail(100)\n",
        "#validate = df[['avg_tcp_window_size','std_dev_tcp_window_size','min_data_bytes', 'max_data_bytes', 'avg_databytes','std_dev_databytes','total_data_bytes']].tail(100)\n",
        "df.drop(df.tail(100).index,inplace=True)"
      ],
      "execution_count": 518,
      "outputs": []
    },
    {
      "cell_type": "code",
      "metadata": {
        "id": "iFifNLDfrLxw"
      },
      "source": [
        "#validate"
      ],
      "execution_count": 519,
      "outputs": []
    },
    {
      "cell_type": "code",
      "metadata": {
        "id": "XG8EBs684wgW"
      },
      "source": [
        "x_scaler = preprocessing.MinMaxScaler()\n",
        "y_scaler = preprocessing.MinMaxScaler()\n",
        "#dataX = x_scaler.fit_transform(df[['max_tcp_window_size','min_tcp_window_size','avg_tcp_window_size','std_dev_tcp_window_size','min_data_bytes', 'max_data_bytes', 'avg_databytes','std_dev_databytes','total_data_bytes', 'Measurement_boxname_le']])\n",
        "#dataY = y_scaler.fit_transform(df[['avg_databytes']])\n",
        "dataX = x_scaler.fit_transform(df[['max_tcp_window_size','min_tcp_window_size','avg_tcp_window_size','std_dev_tcp_window_size','min_data_bytes', 'max_data_bytes', 'avg_databytes','std_dev_databytes','total_data_bytes']])\n",
        "#dataX = x_scaler.fit_transform(df[['avg_tcp_window_size','std_dev_tcp_window_size','min_data_bytes', 'max_data_bytes', 'avg_databytes','std_dev_databytes','total_data_bytes']])\n",
        "dataY = y_scaler.fit_transform(df[['total_data_bytes']])\n",
        "\n"
      ],
      "execution_count": 520,
      "outputs": []
    },
    {
      "cell_type": "code",
      "metadata": {
        "id": "SRro_94-4wgW"
      },
      "source": [
        "#hist_window = 48\n",
        "#horizon = 10\n",
        "#hist_window = 64\n",
        "hist_window = 100\n",
        "horizon = 100\n",
        "TRAIN_SPLIT = 5574\n",
        "x_train_multi, y_train_multi = custom_ts_multi_data_prep(\n",
        "    dataX, dataY, 0, TRAIN_SPLIT, hist_window, horizon)\n",
        "x_val_multi, y_val_multi= custom_ts_multi_data_prep(\n",
        "    dataX, dataY, TRAIN_SPLIT, None, hist_window, horizon)"
      ],
      "execution_count": 521,
      "outputs": []
    },
    {
      "cell_type": "code",
      "metadata": {
        "id": "E9onF23Y4wgX",
        "scrolled": true,
        "colab": {
          "base_uri": "https://localhost:8080/"
        },
        "outputId": "0b1e3d4c-3ccd-4e86-c9fe-f157513be656"
      },
      "source": [
        "print ('Single window of past history')\n",
        "\n",
        "print(x_train_multi[0])\n",
        "print ('\\n Target horizon')\n",
        "#print (y_train_multi[0])"
      ],
      "execution_count": 522,
      "outputs": [
        {
          "output_type": "stream",
          "text": [
            "Single window of past history\n",
            "[[1.         0.99948454 1.         0.00318907 0.49756098 0.67292164\n",
            "  0.92620063 0.83064738 0.53022238]\n",
            " [1.         0.99948454 1.         0.00501139 0.0195122  0.66928238\n",
            "  0.5560866  0.51308245 0.95353474]\n",
            " [1.         0.99948454 1.         0.00592255 0.2097561  0.80893893\n",
            "  0.54369195 0.65795782 0.94257725]\n",
            " [1.         0.99948454 1.         0.00410023 0.0097561  0.63448197\n",
            "  0.39828789 0.40143578 0.98858756]\n",
            " [1.         0.99948454 1.         0.00410023 0.13658537 0.63379961\n",
            "  0.39270203 0.39483223 0.97741397]\n",
            " [1.         0.99948454 1.         0.00546697 0.20487805 0.66666667\n",
            "  0.49240787 0.48279433 0.96592077]\n",
            " [1.         0.99948454 1.         0.00455581 0.01463415 0.64426248\n",
            "  0.55013056 0.65527932 0.94442549]\n",
            " [1.         0.99948454 1.         0.00318907 0.04390244 0.70214944\n",
            "  0.51846637 0.54657325 0.95507134]\n",
            " [1.         0.99896907 1.         0.00728929 0.10731707 0.59683839\n",
            "  0.655647   0.66667732 0.94831418]\n",
            " [1.         0.99948454 1.         0.00546697 0.0097561  0.64630956\n",
            "  0.45051066 0.49403891 0.96630407]\n",
            " [1.         0.99948454 1.         0.00273349 0.24390244 0.66518822\n",
            "  0.48702694 0.55472381 0.55379224]\n",
            " [1.         0.99948454 1.         0.00318907 0.0097561  0.80893893\n",
            "  0.41813254 0.42267198 0.96750514]\n",
            " [1.         0.99587629 1.         0.01776765 0.0097561  0.59126578\n",
            "  0.41946786 0.50295018 0.97082287]\n",
            " [1.         0.99948454 1.         0.00546697 0.0097561  0.80893893\n",
            "  0.58135184 0.68869342 0.94239072]\n",
            " [1.         0.99948454 1.         0.00546697 0.04878049 0.6795178\n",
            "  0.65670468 0.72414675 0.94085981]\n",
            " [1.         0.99948454 1.         0.0022779  0.02926829 0.80893893\n",
            "  0.51746819 0.65520261 0.96424201]\n",
            " [1.         0.99948454 1.         0.00501139 0.0097561  0.67997271\n",
            "  0.59307883 0.67980132 0.95795231]\n",
            " [1.         0.99948454 1.         0.00501139 0.02439024 0.80893893\n",
            "  0.49567344 0.57227787 0.95855057]\n",
            " [1.         0.99948454 1.         0.00683371 0.2097561  0.6684863\n",
            "  0.70533796 0.76052061 0.93799135]\n",
            " [1.         0.99948454 1.         0.00410023 0.01463415 0.80893893\n",
            "  0.55961659 0.64667489 0.96101868]\n",
            " [1.         0.99948454 1.         0.00592255 0.03414634 0.67212555\n",
            "  0.43453975 0.48375961 0.96838433]\n",
            " [1.         0.99948454 1.         0.0022779  0.0097561  0.7185261\n",
            "  0.66631631 0.77022457 0.94691521]\n",
            " [1.         0.99948454 1.         0.00410023 0.01463415 0.36563175\n",
            "  0.40670302 0.29995333 0.56251365]\n",
            " [1.         0.99896907 1.         0.00592255 0.0097561  0.56351643\n",
            "  0.50006941 0.60011123 0.95437526]\n",
            " [1.         0.99896907 1.         0.00637813 0.09268293 0.64426248\n",
            "  0.37360436 0.35472509 0.98241615]\n",
            " [1.         0.99948454 1.         0.00455581 0.02926829 0.64426248\n",
            "  0.44876549 0.51955175 0.9697071 ]\n",
            " [1.         0.99948454 1.         0.00546697 0.03902439 0.49687251\n",
            "  0.54149727 0.62442227 0.95864952]\n",
            " [1.         0.99948454 1.         0.00410023 0.17560976 0.64426248\n",
            "  0.52801851 0.60899694 0.94932872]\n",
            " [1.         0.99948454 1.         0.00410023 0.02926829 0.7545775\n",
            "  0.61252024 0.74336928 0.93935392]\n",
            " [1.         0.99948454 1.         0.00455581 0.08292683 0.68838849\n",
            "  0.58932408 0.61281971 0.95026364]\n",
            " [1.         0.99948454 1.         0.0022779  0.19512195 0.80893893\n",
            "  0.72429681 0.80149715 0.93259449]\n",
            " [1.         0.99948454 1.         0.00318907 0.0097561  0.68929831\n",
            "  0.64300116 0.66138425 0.94028202]\n",
            " [1.         0.99948454 1.         0.00410023 0.00487805 0.54998294\n",
            "  0.54084284 0.59074608 0.95569007]\n",
            " [1.         0.99948454 1.         0.00501139 0.0097561  0.53076311\n",
            "  0.53879359 0.56589806 0.54600235]\n",
            " [1.         0.99948454 1.         0.00455581 0.0097561  0.6718981\n",
            "  0.54275326 0.54599792 0.95198336]\n",
            " [1.         0.99948454 1.         0.00410023 0.13658537 0.67178437\n",
            "  0.58866964 0.66362805 0.95241897]\n",
            " [1.         0.99948454 1.         0.00318907 0.2097561  0.64426248\n",
            "  0.46685837 0.50027808 0.96654974]\n",
            " [1.         0.99896907 1.         0.00637813 0.15121951 0.47958603\n",
            "  0.55366055 0.5972921  0.94429242]\n",
            " [1.         1.         1.         0.         0.13658537 0.50562948\n",
            "  0.421451   0.47352507 0.97003239]\n",
            " [1.         0.99948454 1.         0.00364465 0.02439024 0.64426248\n",
            "  0.42390349 0.51663673 0.96036924]\n",
            " [1.         0.99948454 1.         0.0022779  0.19512195 0.6405095\n",
            "  0.72879855 0.79144159 0.92962708]\n",
            " [1.         0.99896907 1.         0.00637813 0.01463415 0.63846241\n",
            "  0.63715749 0.70856799 0.94459496]\n",
            " [1.         0.99948454 1.         0.00637813 0.0097561  0.71659274\n",
            "  0.58950917 0.61189278 0.95816159]\n",
            " [1.         0.99948454 1.         0.00318907 0.16585366 0.59615603\n",
            "  0.56287556 0.47840901 0.95052183]\n",
            " [1.         0.99948454 1.         0.00592255 0.03414634 0.51472762\n",
            "  0.50459098 0.5231316  0.5613467 ]\n",
            " [1.         0.99948454 1.         0.00546697 0.12195122 0.64426248\n",
            "  0.522274   0.50227896 0.96021001]\n",
            " [1.         0.99948454 1.         0.00592255 0.0097561  0.94188559\n",
            "  0.46428028 0.52249874 0.98128901]\n",
            " [1.         0.99948454 1.         0.00455581 0.04878049 0.80893893\n",
            "  0.30069079 0.30912032 0.98483763]\n",
            " [1.         0.99948454 1.         0.00455581 0.0195122  0.62868191\n",
            "  0.61285077 0.65436518 0.47893805]\n",
            " [1.         0.99948454 1.         0.0022779  0.0195122  0.60116001\n",
            "  0.43249711 0.4883431  0.96452408]\n",
            " [1.         0.99948454 1.         0.0022779  0.06341463 0.80893893\n",
            "  0.60585688 0.67674566 0.93766264]\n",
            " [1.         0.99948454 1.         0.00546697 0.0097561  0.71693392\n",
            "  0.54208561 0.70253339 0.95403519]\n",
            " [1.         0.99948454 1.         0.00546697 0.0097561  0.64824292\n",
            "  0.42944968 0.54490478 0.97149961]\n",
            " [1.         0.99948454 1.         0.00318907 0.13658537 0.68634141\n",
            "  0.60185093 0.68938382 0.94551623]\n",
            " [1.         0.99948454 1.         0.00318907 0.2097561  0.66120778\n",
            "  0.56938688 0.65219809 0.94980983]\n",
            " [1.         0.99896907 1.         0.00637813 0.35609756 0.80893893\n",
            "  0.61333333 0.68125883 0.95304453]\n",
            " [1.         1.         1.         0.         0.03902439 0.65188218\n",
            "  0.79397124 0.92280302 0.53863215]\n",
            " [1.         0.99742268 1.         0.0118451  0.01463415 0.64426248\n",
            "  0.42636258 0.50158217 0.96915661]\n",
            " [1.         0.99948454 1.         0.00592255 0.01463415 0.62026612\n",
            "  0.51923318 0.53162097 0.9556059 ]\n",
            " [1.         0.99948454 1.         0.00501139 0.08292683 0.64426248\n",
            "  0.47064617 0.58187316 0.957395  ]\n",
            " [1.         0.99948454 1.         0.00318907 0.03414634 0.68395314\n",
            "  0.49504545 0.56892176 0.96782361]\n",
            " [1.         0.99948454 1.         0.00318907 0.06829268 0.50187649\n",
            "  0.51093704 0.57301302 0.96207985]\n",
            " [1.         0.99896907 1.         0.00592255 0.05365854 0.6765609\n",
            "  0.49866138 0.56728526 0.96312169]\n",
            " [1.         0.99948454 1.         0.00455581 0.01463415 0.52211987\n",
            "  0.48912907 0.53842908 0.96597423]\n",
            " [1.         1.         1.         0.         0.13658537 0.67076083\n",
            "  0.66805487 0.70970588 0.93437449]\n",
            " [1.         0.99948454 1.         0.0022779  0.02926829 0.80893893\n",
            "  0.56590316 0.55691008 0.95767252]\n",
            " [1.         0.99948454 1.         0.0022779  0.0097561  0.64426248\n",
            "  0.67155842 0.69149337 0.94474737]\n",
            " [1.         0.99948454 1.         0.00410023 0.1902439  0.70567497\n",
            "  0.46465708 0.51206602 0.54892427]\n",
            " [1.         0.99948454 1.         0.00410023 0.0097561  0.80893893\n",
            "  0.58108081 0.64037179 0.94994518]\n",
            " [1.         0.99948454 1.         0.00501139 0.         0.6176504\n",
            "  0.50566187 0.54689927 0.95834357]\n",
            " [1.         0.99948454 1.         0.00410023 0.06829268 0.71420448\n",
            "  0.60122294 0.58705116 0.9529433 ]\n",
            " [1.         0.99948454 1.         0.00318907 0.0195122  0.74832253\n",
            "  0.5524905  0.61297313 0.95361322]\n",
            " [1.         0.99948454 1.         0.00318907 0.00487805 0.63266235\n",
            "  0.5584201  0.64508314 0.9424328 ]\n",
            " [1.         0.99742268 1.         0.01093394 0.         0.56033208\n",
            "  0.48140142 0.47435611 0.95558088]\n",
            " [1.         0.99948454 1.         0.00592255 0.02926829 0.75855794\n",
            "  0.48941993 0.5555932  0.95892591]\n",
            " [1.         0.99948454 1.         0.00364465 0.21463415 0.47958603\n",
            "  0.43694596 0.37328918 0.96553975]\n",
            " [1.         0.99896907 1.         0.00683371 0.02439024 0.63948595\n",
            "  0.51050735 0.53697796 0.96423291]\n",
            " [1.         0.99948454 1.         0.00318907 0.08292683 0.67872171\n",
            "  0.57610973 0.62269627 0.94662631]\n",
            " [1.         0.99948454 1.         0.00410023 0.49756098 0.59456386\n",
            "  0.56944637 0.66915126 0.55855444]\n",
            " [1.         0.99948454 1.         0.0022779  0.0097561  0.68770613\n",
            "  0.52238638 0.55999131 0.95781583]\n",
            " [1.         0.99948454 1.         0.00455581 0.09756098 0.64721938\n",
            "  0.45157495 0.54585089 0.96238353]\n",
            " [1.         0.99948454 1.         0.00364465 0.19512195 0.59115205\n",
            "  0.72562552 0.74485236 0.93056541]\n",
            " [1.         0.99948454 1.         0.00546697 0.02926829 0.7698169\n",
            "  0.47751446 0.54612577 0.95998139]\n",
            " [1.         0.99948454 1.         0.00410023 0.2195122  0.73785966\n",
            "  0.59420922 0.65830302 0.9405095 ]\n",
            " [1.         0.99948454 1.         0.00364465 0.12682927 0.65188218\n",
            "  0.4478202  0.4803204  0.9596072 ]\n",
            " [1.         0.99948454 1.         0.00318907 0.         0.48151939\n",
            "  0.49435796 0.52377726 0.95761224]\n",
            " [1.         0.99948454 1.         0.0022779  0.         0.65483908\n",
            "  0.57642043 0.64583746 0.94683104]\n",
            " [1.         0.99948454 1.         0.00455581 0.0097561  0.64426248\n",
            "  0.46414807 0.4376754  0.96930902]\n",
            " [1.         0.99948454 1.         0.00501139 0.06341463 0.74843626\n",
            "  0.44180466 0.50721404 0.96450588]\n",
            " [1.         0.99948454 1.         0.00501139 0.07804878 0.80893893\n",
            "  0.61006776 0.59295152 0.55154365]\n",
            " [1.         0.99948454 1.         0.00364465 0.15121951 0.63857614\n",
            "  0.71189555 0.75485677 0.93357832]\n",
            " [1.         0.99948454 1.         0.00410023 0.08292683 0.64892528\n",
            "  0.56221451 0.53945829 0.9500737 ]\n",
            " [1.         0.99948454 1.         0.00318907 0.0097561  0.64426248\n",
            "  0.52217485 0.52785573 0.9551919 ]\n",
            " [1.         0.99948454 1.         0.0022779  0.09268293 0.66143523\n",
            "  0.59182945 0.64055718 0.95192535]\n",
            " [1.         0.99948454 1.         0.00410023 0.02926829 0.6562038\n",
            "  0.41818542 0.40196636 0.96984245]\n",
            " [1.         0.99948454 1.         0.00318907 0.0195122  0.75980894\n",
            "  0.60184432 0.75797636 0.9429014 ]\n",
            " [1.         0.99896907 1.         0.00501139 0.0195122  0.47958603\n",
            "  0.40735085 0.38792822 0.98435424]\n",
            " [1.         0.99948454 1.         0.00318907 0.02926829 0.69828272\n",
            "  0.61981821 0.69114817 0.95200497]\n",
            " [1.         0.99948454 1.         0.00364465 0.0097561  0.64426248\n",
            "  0.46506693 0.51369613 0.95334139]\n",
            " [1.         0.99948454 1.         0.00273349 0.0097561  0.59274423\n",
            "  0.44040985 0.45972346 0.55709518]]\n",
            "\n",
            " Target horizon\n"
          ],
          "name": "stdout"
        }
      ]
    },
    {
      "cell_type": "code",
      "metadata": {
        "colab": {
          "base_uri": "https://localhost:8080/"
        },
        "id": "R8HEed2EmZhC",
        "outputId": "d0f335c1-600a-47ff-96e5-7ff0da418da9"
      },
      "source": [
        "y_train_multi[0]"
      ],
      "execution_count": 523,
      "outputs": [
        {
          "output_type": "execute_result",
          "data": {
            "text/plain": [
              "array([[0.95675579],\n",
              "       [0.95342669],\n",
              "       [0.96434892],\n",
              "       [0.93700524],\n",
              "       [0.95319011],\n",
              "       [0.97162017],\n",
              "       [0.96217198],\n",
              "       [0.95016128],\n",
              "       [0.9435008 ],\n",
              "       [0.5483135 ],\n",
              "       [0.95733813],\n",
              "       [0.96416353],\n",
              "       [0.94840972],\n",
              "       [0.95597214],\n",
              "       [0.94372373],\n",
              "       [0.94332451],\n",
              "       [0.94130339],\n",
              "       [0.93501483],\n",
              "       [0.95018971],\n",
              "       [0.9423566 ],\n",
              "       [0.96352546],\n",
              "       [0.54706807],\n",
              "       [0.95907149],\n",
              "       [0.94840176],\n",
              "       [0.94293666],\n",
              "       [0.96204914],\n",
              "       [0.96224591],\n",
              "       [0.9554262 ],\n",
              "       [0.94530809],\n",
              "       [0.94497712],\n",
              "       [0.9765598 ],\n",
              "       [0.97429869],\n",
              "       [0.54664269],\n",
              "       [0.95076864],\n",
              "       [0.96023048],\n",
              "       [0.94912172],\n",
              "       [0.96505068],\n",
              "       [0.93573138],\n",
              "       [0.97024394],\n",
              "       [0.9760912 ],\n",
              "       [0.9517809 ],\n",
              "       [0.9466229 ],\n",
              "       [0.96037834],\n",
              "       [0.96045682],\n",
              "       [0.55213053],\n",
              "       [0.96298521],\n",
              "       [0.96207189],\n",
              "       [0.94541046],\n",
              "       [0.96841732],\n",
              "       [0.9713108 ],\n",
              "       [0.96310463],\n",
              "       [0.94614406],\n",
              "       [0.95992111],\n",
              "       [0.94780918],\n",
              "       [0.55984877],\n",
              "       [0.95792729],\n",
              "       [0.96227093],\n",
              "       [0.96019067],\n",
              "       [0.93869766],\n",
              "       [0.94313115],\n",
              "       [0.95847209],\n",
              "       [0.95846072],\n",
              "       [0.9766178 ],\n",
              "       [0.96804994],\n",
              "       [0.9483392 ],\n",
              "       [0.56652063],\n",
              "       [0.95855285],\n",
              "       [0.96219473],\n",
              "       [0.95229727],\n",
              "       [0.95538639],\n",
              "       [0.9466593 ],\n",
              "       [0.9633958 ],\n",
              "       [0.95261688],\n",
              "       [0.96102778],\n",
              "       [0.95452767],\n",
              "       [0.94858374],\n",
              "       [0.97563284],\n",
              "       [0.54414274],\n",
              "       [0.95349607],\n",
              "       [0.93493976],\n",
              "       [0.94970178],\n",
              "       [0.95715274],\n",
              "       [0.9527818 ],\n",
              "       [0.94915129],\n",
              "       [0.95099839],\n",
              "       [0.96450588],\n",
              "       [0.95571054],\n",
              "       [0.56781951],\n",
              "       [0.95715501],\n",
              "       [0.95811609],\n",
              "       [0.96417263],\n",
              "       [0.94262616],\n",
              "       [0.98041209],\n",
              "       [0.94506583],\n",
              "       [0.96052392],\n",
              "       [0.97320795],\n",
              "       [0.96932836],\n",
              "       [0.96204801],\n",
              "       [0.95218581],\n",
              "       [0.54597733]])"
            ]
          },
          "metadata": {
            "tags": []
          },
          "execution_count": 523
        }
      ]
    },
    {
      "cell_type": "code",
      "metadata": {
        "id": "UntRN4TA4wgX"
      },
      "source": [
        "BATCH_SIZE = 256\n",
        "BUFFER_SIZE = 150\n",
        "#BATCH_SIZE = 100\n",
        "#BUFFER_SIZE = 50\n",
        "#BATCH_SIZE = 150\n",
        "#BUFFER_SIZE = 100\n",
        "\n",
        "train_data_multi = tf.data.Dataset.from_tensor_slices((x_train_multi, y_train_multi))\n",
        "train_data_multi = train_data_multi.cache().shuffle(BUFFER_SIZE).batch(BATCH_SIZE).repeat()\n",
        "\n",
        "val_data_multi = tf.data.Dataset.from_tensor_slices((x_val_multi, y_val_multi))\n",
        "val_data_multi = val_data_multi.batch(BATCH_SIZE).repeat()"
      ],
      "execution_count": 524,
      "outputs": []
    },
    {
      "cell_type": "code",
      "metadata": {
        "colab": {
          "base_uri": "https://localhost:8080/"
        },
        "id": "ToSP0T1i9grM",
        "outputId": "f66a4268-ae35-479d-8668-fed4357627e3"
      },
      "source": [
        "val_data_multi"
      ],
      "execution_count": 525,
      "outputs": [
        {
          "output_type": "execute_result",
          "data": {
            "text/plain": [
              "<RepeatDataset shapes: ((None, 100, 9), (None, 100, 1)), types: (tf.float64, tf.float64)>"
            ]
          },
          "metadata": {
            "tags": []
          },
          "execution_count": 525
        }
      ]
    },
    {
      "cell_type": "code",
      "metadata": {
        "id": "wcd88R3a4wgX"
      },
      "source": [
        "lstm_multi = tf.keras.models.Sequential()\n",
        "lstm_multi.add(tf.keras.layers.LSTM(150,input_shape=x_train_multi.shape[-2:],\n",
        "                                    return_sequences=True))\n",
        "lstm_multi.add(tf.keras.layers.Dropout(0.2)),\n",
        "lstm_multi.add(tf.keras.layers.LSTM(units=100,return_sequences=False)),\n",
        "lstm_multi.add(tf.keras.layers.Dropout(0.2)),\n",
        "lstm_multi.add(tf.keras.layers.Dense(units=horizon)),\n",
        "lstm_multi.compile(optimizer='adam', loss='mse')"
      ],
      "execution_count": 526,
      "outputs": []
    },
    {
      "cell_type": "code",
      "metadata": {
        "id": "GjS5jVaL4wgY"
      },
      "source": [
        "model_path = r'\\Chapter 7\\LSTM_Multivariate.h5'"
      ],
      "execution_count": 527,
      "outputs": []
    },
    {
      "cell_type": "code",
      "metadata": {
        "id": "AUJclFG04wgY",
        "colab": {
          "base_uri": "https://localhost:8080/"
        },
        "outputId": "06b29a26-bb1c-40e0-929a-b3c07a853176"
      },
      "source": [
        "EVALUATION_INTERVAL = 100\n",
        "EPOCHS = 150\n",
        "history = lstm_multi.fit(train_data_multi, epochs=EPOCHS,steps_per_epoch=EVALUATION_INTERVAL,validation_data=val_data_multi, validation_steps=50,verbose =1,\n",
        "                              callbacks =[tf.keras.callbacks.EarlyStopping(monitor='val_loss', min_delta=0, patience=10, verbose=1, mode='min'),tf.keras.callbacks.ModelCheckpoint(model_path,monitor='val_loss', save_best_only=True, mode='min', verbose=0)])"
      ],
      "execution_count": 528,
      "outputs": [
        {
          "output_type": "stream",
          "text": [
            "Epoch 1/150\n",
            "100/100 [==============================] - 6s 34ms/step - loss: 0.1176 - val_loss: 0.0362\n",
            "Epoch 2/150\n",
            "100/100 [==============================] - 3s 28ms/step - loss: 0.0477 - val_loss: 0.0171\n",
            "Epoch 3/150\n",
            "100/100 [==============================] - 3s 28ms/step - loss: 0.0377 - val_loss: 0.0389\n",
            "Epoch 4/150\n",
            "100/100 [==============================] - 3s 28ms/step - loss: 0.0341 - val_loss: 0.0299\n",
            "Epoch 5/150\n",
            "100/100 [==============================] - 3s 28ms/step - loss: 0.0303 - val_loss: 0.0175\n",
            "Epoch 6/150\n",
            "100/100 [==============================] - 3s 28ms/step - loss: 0.0253 - val_loss: 0.0139\n",
            "Epoch 7/150\n",
            "100/100 [==============================] - 3s 28ms/step - loss: 0.0219 - val_loss: 0.0103\n",
            "Epoch 8/150\n",
            "100/100 [==============================] - 3s 28ms/step - loss: 0.0194 - val_loss: 0.0098\n",
            "Epoch 9/150\n",
            "100/100 [==============================] - 3s 28ms/step - loss: 0.0189 - val_loss: 0.0098\n",
            "Epoch 10/150\n",
            "100/100 [==============================] - 3s 29ms/step - loss: 0.0183 - val_loss: 0.0098\n",
            "Epoch 11/150\n",
            "100/100 [==============================] - 3s 29ms/step - loss: 0.0179 - val_loss: 0.0098\n",
            "Epoch 12/150\n",
            "100/100 [==============================] - 3s 29ms/step - loss: 0.0179 - val_loss: 0.0115\n",
            "Epoch 13/150\n",
            "100/100 [==============================] - 3s 29ms/step - loss: 0.0179 - val_loss: 0.0117\n",
            "Epoch 14/150\n",
            "100/100 [==============================] - 3s 28ms/step - loss: 0.0171 - val_loss: 0.0098\n",
            "Epoch 15/150\n",
            "100/100 [==============================] - 3s 28ms/step - loss: 0.0164 - val_loss: 0.0094\n",
            "Epoch 16/150\n",
            "100/100 [==============================] - 3s 28ms/step - loss: 0.0164 - val_loss: 0.0110\n",
            "Epoch 17/150\n",
            "100/100 [==============================] - 3s 28ms/step - loss: 0.0165 - val_loss: 0.0119\n",
            "Epoch 18/150\n",
            "100/100 [==============================] - 3s 28ms/step - loss: 0.0163 - val_loss: 0.0105\n",
            "Epoch 19/150\n",
            "100/100 [==============================] - 3s 28ms/step - loss: 0.0158 - val_loss: 0.0097\n",
            "Epoch 20/150\n",
            "100/100 [==============================] - 3s 28ms/step - loss: 0.0158 - val_loss: 0.0093\n",
            "Epoch 21/150\n",
            "100/100 [==============================] - 3s 28ms/step - loss: 0.0156 - val_loss: 0.0096\n",
            "Epoch 22/150\n",
            "100/100 [==============================] - 3s 28ms/step - loss: 0.0154 - val_loss: 0.0097\n",
            "Epoch 23/150\n",
            "100/100 [==============================] - 3s 28ms/step - loss: 0.0154 - val_loss: 0.0109\n",
            "Epoch 24/150\n",
            "100/100 [==============================] - 3s 28ms/step - loss: 0.0156 - val_loss: 0.0111\n",
            "Epoch 25/150\n",
            "100/100 [==============================] - 3s 28ms/step - loss: 0.0154 - val_loss: 0.0102\n",
            "Epoch 26/150\n",
            "100/100 [==============================] - 3s 28ms/step - loss: 0.0150 - val_loss: 0.0094\n",
            "Epoch 27/150\n",
            "100/100 [==============================] - 3s 28ms/step - loss: 0.0148 - val_loss: 0.0095\n",
            "Epoch 28/150\n",
            "100/100 [==============================] - 3s 28ms/step - loss: 0.0147 - val_loss: 0.0102\n",
            "Epoch 29/150\n",
            "100/100 [==============================] - 3s 28ms/step - loss: 0.0150 - val_loss: 0.0110\n",
            "Epoch 30/150\n",
            "100/100 [==============================] - 3s 28ms/step - loss: 0.0149 - val_loss: 0.0095\n",
            "Epoch 00030: early stopping\n"
          ],
          "name": "stdout"
        }
      ]
    },
    {
      "cell_type": "code",
      "metadata": {
        "id": "2PDR2ijR4wgZ"
      },
      "source": [
        "Trained_model = tf.keras.models.load_model(model_path)"
      ],
      "execution_count": 529,
      "outputs": []
    },
    {
      "cell_type": "code",
      "metadata": {
        "id": "dw4JAbEp4wgZ",
        "colab": {
          "base_uri": "https://localhost:8080/",
          "height": 581
        },
        "outputId": "405e657f-27f0-46e3-b083-4e1efe5ffea1"
      },
      "source": [
        "plt.plot(history.history['loss'])\n",
        "plt.plot(history.history['val_loss'])\n",
        "plt.title('Model loss')\n",
        "plt.ylabel('loss')\n",
        "plt.xlabel('epoch')\n",
        "plt.legend(['train loss', 'validation loss'], loc='upper left')\n",
        "plt.rcParams[\"figure.figsize\"] = [16,9]\n",
        "plt.show()"
      ],
      "execution_count": 530,
      "outputs": [
        {
          "output_type": "display_data",
          "data": {
            "image/png": "[encoded data removed]",
            "text/plain": [
              "<Figure size 1152x648 with 1 Axes>"
            ]
          },
          "metadata": {
            "tags": [],
            "needs_background": "light"
          }
        }
      ]
    },
    {
      "cell_type": "code",
      "metadata": {
        "id": "IvxYleQQ4wgZ",
        "colab": {
          "base_uri": "https://localhost:8080/"
        },
        "outputId": "b16a6e52-1454-40fe-9cd1-c2acbfe23bd0"
      },
      "source": [
        "# Show the model architecture\n",
        "Trained_model.summary()"
      ],
      "execution_count": 531,
      "outputs": [
        {
          "output_type": "stream",
          "text": [
            "Model: \"sequential_16\"\n",
            "_________________________________________________________________\n",
            "Layer (type)                 Output Shape              Param #   \n",
            "=================================================================\n",
            "lstm_32 (LSTM)               (None, 100, 150)          96000     \n",
            "_________________________________________________________________\n",
            "dropout_32 (Dropout)         (None, 100, 150)          0         \n",
            "_________________________________________________________________\n",
            "lstm_33 (LSTM)               (None, 100)               100400    \n",
            "_________________________________________________________________\n",
            "dropout_33 (Dropout)         (None, 100)               0         \n",
            "_________________________________________________________________\n",
            "dense_16 (Dense)             (None, 100)               10100     \n",
            "=================================================================\n",
            "Total params: 206,500\n",
            "Trainable params: 206,500\n",
            "Non-trainable params: 0\n",
            "_________________________________________________________________\n"
          ],
          "name": "stdout"
        }
      ]
    },
    {
      "cell_type": "code",
      "metadata": {
        "id": "6oXKrORv4wga"
      },
      "source": [
        "data_val = x_scaler.fit_transform(df[['max_tcp_window_size','min_tcp_window_size','avg_tcp_window_size','std_dev_tcp_window_size','min_data_bytes', 'max_data_bytes', 'avg_databytes','std_dev_databytes','total_data_bytes']].tail(80))\n",
        "#data_val = x_scaler.fit_transform(df[['avg_tcp_window_size','std_dev_tcp_window_size','min_data_bytes', 'max_data_bytes', 'avg_databytes','std_dev_databytes','total_data_bytes']].tail(80))"
      ],
      "execution_count": 532,
      "outputs": []
    },
    {
      "cell_type": "code",
      "metadata": {
        "id": "u2w7czc-4wga"
      },
      "source": [
        "val_rescaled = data_val.reshape(1, data_val.shape[0], data_val.shape[1])"
      ],
      "execution_count": 533,
      "outputs": []
    },
    {
      "cell_type": "code",
      "metadata": {
        "id": "9NJohTxE4wga",
        "outputId": "5c3390d5-f942-428a-ff09-48638727e33a",
        "colab": {
          "base_uri": "https://localhost:8080/"
        }
      },
      "source": [
        "Predicted_results = Trained_model.predict(val_rescaled)"
      ],
      "execution_count": 534,
      "outputs": [
        {
          "output_type": "stream",
          "text": [
            "WARNING:tensorflow:Model was constructed with shape (None, 100, 9) for input KerasTensor(type_spec=TensorSpec(shape=(None, 100, 9), dtype=tf.float32, name='lstm_32_input'), name='lstm_32_input', description=\"created by layer 'lstm_32_input'\"), but it was called on an input with incompatible shape (None, 80, 9).\n"
          ],
          "name": "stdout"
        }
      ]
    },
    {
      "cell_type": "code",
      "metadata": {
        "id": "5ThhlDtv4wgb",
        "colab": {
          "base_uri": "https://localhost:8080/"
        },
        "outputId": "8a4e4320-8c28-4695-cbb6-02bd9be74467"
      },
      "source": [
        "Predicted_results"
      ],
      "execution_count": 535,
      "outputs": [
        {
          "output_type": "execute_result",
          "data": {
            "text/plain": [
              "array([[0.7788072 , 0.78984255, 0.78129923, 0.78827506, 0.78951013,\n",
              "        0.78851867, 0.7787519 , 0.7903004 , 0.78011376, 0.7924037 ,\n",
              "        0.7838054 , 0.7837125 , 0.7864337 , 0.7778104 , 0.7837045 ,\n",
              "        0.77886534, 0.78079385, 0.78471416, 0.7763159 , 0.7807054 ,\n",
              "        0.7807768 , 0.77382785, 0.7826724 , 0.7862522 , 0.7894361 ,\n",
              "        0.7789092 , 0.77486044, 0.7801458 , 0.7833255 , 0.7772439 ,\n",
              "        0.776875  , 0.7791132 , 0.78558594, 0.7804812 , 0.7804936 ,\n",
              "        0.78396   , 0.7800215 , 0.77808666, 0.78049654, 0.77754825,\n",
              "        0.78142446, 0.778419  , 0.7819482 , 0.7842264 , 0.7878899 ,\n",
              "        0.787392  , 0.7774317 , 0.78209144, 0.7840594 , 0.7888475 ,\n",
              "        0.77946734, 0.78163886, 0.78730744, 0.78075767, 0.7856168 ,\n",
              "        0.787098  , 0.7757565 , 0.78206897, 0.7853676 , 0.77641   ,\n",
              "        0.78704906, 0.78206867, 0.7674536 , 0.7787609 , 0.78202236,\n",
              "        0.7817427 , 0.7853318 , 0.79417247, 0.78064096, 0.7782794 ,\n",
              "        0.77979404, 0.78077525, 0.7665974 , 0.7929398 , 0.77614963,\n",
              "        0.78119206, 0.775248  , 0.7837235 , 0.7787172 , 0.7843088 ,\n",
              "        0.78131884, 0.78239554, 0.7771701 , 0.7768836 , 0.77312523,\n",
              "        0.78520876, 0.77513415, 0.77247286, 0.7803141 , 0.7794392 ,\n",
              "        0.78940433, 0.77603567, 0.7812645 , 0.77981067, 0.78401405,\n",
              "        0.78262174, 0.7848661 , 0.7813235 , 0.7782368 , 0.7732302 ]],\n",
              "      dtype=float32)"
            ]
          },
          "metadata": {
            "tags": []
          },
          "execution_count": 535
        }
      ]
    },
    {
      "cell_type": "code",
      "metadata": {
        "id": "pV53a9PS4wgb"
      },
      "source": [
        "Predicted_results_Inv_trans = y_scaler.inverse_transform(Predicted_results)"
      ],
      "execution_count": 536,
      "outputs": []
    },
    {
      "cell_type": "code",
      "metadata": {
        "id": "Fk0rPlDt4wgb",
        "colab": {
          "base_uri": "https://localhost:8080/"
        },
        "outputId": "fcc7c5a4-531a-4ae2-81a7-c78380473431"
      },
      "source": [
        "Predicted_results_Inv_trans"
      ],
      "execution_count": 537,
      "outputs": [
        {
          "output_type": "execute_result",
          "data": {
            "text/plain": [
              "array([[728811.8 , 738514.2 , 731002.8 , 737136.06, 738221.94, 737350.25,\n",
              "        728763.1 , 738916.8 , 729960.5 , 740766.  , 733206.25, 733124.56,\n",
              "        735517.1 , 727935.4 , 733117.56, 728862.9 , 730558.44, 734005.25,\n",
              "        726621.4 , 730480.7 , 730543.44, 724433.8 , 732210.1 , 735357.5 ,\n",
              "        738156.9 , 728901.44, 725341.7 , 729988.7 , 732784.3 , 727437.3 ,\n",
              "        727112.94, 729080.8 , 734771.75, 730283.56, 730294.5 , 733342.2 ,\n",
              "        729879.4 , 728178.25, 730297.06, 727704.9 , 731112.9 , 728470.5 ,\n",
              "        731573.4 , 733576.44, 736797.44, 736359.7 , 727602.44, 731699.3 ,\n",
              "        733429.56, 737639.4 , 729392.2 , 731301.44, 736285.3 , 730526.6 ,\n",
              "        734798.9 , 736101.2 , 726129.5 , 731679.56, 734579.8 , 726704.1 ,\n",
              "        736058.1 , 731679.3 , 718829.5 , 728771.06, 731638.56, 731392.7 ,\n",
              "        734548.3 , 742321.1 , 730424.06, 728347.75, 729679.44, 730542.1 ,\n",
              "        718076.7 , 741237.4 , 726475.2 , 730908.56, 725682.44, 733134.25,\n",
              "        728732.6 , 733648.9 , 731020.06, 731966.7 , 727372.44, 727120.5 ,\n",
              "        723816.06, 734440.1 , 725582.4 , 723242.5 , 730136.6 , 729367.44,\n",
              "        738128.94, 726375.  , 730972.25, 729694.  , 733389.7 , 732165.56,\n",
              "        734138.8 , 731024.1 , 728310.25, 723908.4 ]], dtype=float32)"
            ]
          },
          "metadata": {
            "tags": []
          },
          "execution_count": 537
        }
      ]
    },
    {
      "cell_type": "code",
      "metadata": {
        "id": "mKhUDiZ54wgc"
      },
      "source": [
        "from sklearn import metrics\n",
        "def timeseries_evaluation_metrics_func(y_true, y_pred):\n",
        "    \n",
        "    def mean_absolute_percentage_error(y_true, y_pred): \n",
        "        y_true, y_pred = np.array(y_true), np.array(y_pred)\n",
        "        return np.mean(np.abs((y_true - y_pred) / y_true)) * 100\n",
        "    print('Evaluation metric results:-')\n",
        "    print(f'MSE is : {metrics.mean_squared_error(y_true, y_pred)}')\n",
        "    print(f'MAE is : {metrics.mean_absolute_error(y_true, y_pred)}')\n",
        "    print(f'RMSE is : {np.sqrt(metrics.mean_squared_error(y_true, y_pred))}')\n",
        "    print(f'MAPE is : {mean_absolute_percentage_error(y_true, y_pred)}')\n",
        "    print(f'R2 is : {metrics.r2_score(y_true, y_pred)}',end='\\n\\n')"
      ],
      "execution_count": 538,
      "outputs": []
    },
    {
      "cell_type": "code",
      "metadata": {
        "id": "CMXu0el54wgc",
        "colab": {
          "base_uri": "https://localhost:8080/"
        },
        "outputId": "2ea84e91-8873-439b-a21e-5a15a5d57a7a"
      },
      "source": [
        "timeseries_evaluation_metrics_func(validate['total_data_bytes'],Predicted_results_Inv_trans[0])"
      ],
      "execution_count": 539,
      "outputs": [
        {
          "output_type": "stream",
          "text": [
            "Evaluation metric results:-\n",
            "MSE is : 7786807110.336797\n",
            "MAE is : 48599.93875\n",
            "RMSE is : 88242.88702403608\n",
            "MAPE is : 8.690230079216839\n",
            "R2 is : -0.002593156262319374\n",
            "\n"
          ],
          "name": "stdout"
        }
      ]
    },
    {
      "cell_type": "code",
      "metadata": {
        "id": "AZDNfbkI4wgc",
        "colab": {
          "base_uri": "https://localhost:8080/",
          "height": 567
        },
        "outputId": "b7e7c59c-6637-401c-ccc5-2fa007de6614"
      },
      "source": [
        "\n",
        "\n",
        "\n",
        "plt.plot( list(validate['total_data_bytes']))\n",
        "plt.plot( list(Predicted_results_Inv_trans[0]))\n",
        "plt.rcParams.update({'font.size': 15})\n",
        "plt.title(\"Actual vs Predicted for LSTM Model\", fontsize=25)\n",
        "plt.ylabel(\"total_data_bytes\", fontsize=25)\n",
        "plt.legend(('Actual','predicted'), fontsize=25)\n",
        "#plt.legend(loc=5, prop={'size': 10})\n",
        "###plt.rc('legend', fontsize='medium')\n",
        "plt.show()\n",
        "\n"
      ],
      "execution_count": 540,
      "outputs": [
        {
          "output_type": "display_data",
          "data": {
            "image/png": "[encoded data removed]",
            "text/plain": [
              "<Figure size 1152x648 with 1 Axes>"
            ]
          },
          "metadata": {
            "tags": [],
            "needs_background": "light"
          }
        }
      ]
    },
    {
      "cell_type": "markdown",
      "metadata": {
        "id": "alQSNlJN-WYl"
      },
      "source": [
        ""
      ]
    }
  ]
}