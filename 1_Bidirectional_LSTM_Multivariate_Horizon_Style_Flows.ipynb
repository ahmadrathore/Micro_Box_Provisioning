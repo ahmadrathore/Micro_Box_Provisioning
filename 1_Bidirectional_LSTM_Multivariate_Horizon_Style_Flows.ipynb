{
  "nbformat": 4,
  "nbformat_minor": 0,
  "metadata": {
    "colab": {
      "name": "W-1_Bidirectional_LSTM_Multivariate_Horizon_Style_Flows.ipynb",
      "provenance": [],
      "include_colab_link": true
    },
    "kernelspec": {
      "display_name": "Python 3",
      "language": "python",
      "name": "python3"
    },
    "language_info": {
      "codemirror_mode": {
        "name": "ipython",
        "version": 3
      },
      "file_extension": ".py",
      "mimetype": "text/x-python",
      "name": "python",
      "nbconvert_exporter": "python",
      "pygments_lexer": "ipython3",
      "version": "3.7.1"
    },
    "latex_envs": {
      "LaTeX_envs_menu_present": true,
      "autoclose": false,
      "autocomplete": true,
      "bibliofile": "biblio.bib",
      "cite_by": "apalike",
      "current_citInitial": 1,
      "eqLabelWithNumbers": true,
      "eqNumInitial": 1,
      "hotkeys": {
        "equation": "Ctrl-E",
        "itemize": "Ctrl-I"
      },
      "labels_anchors": false,
      "latex_user_defs": false,
      "report_style_numbering": false,
      "user_envs_cfg": false
    },
    "nbTranslate": {
      "displayLangs": [
        "*"
      ],
      "hotkey": "alt-t",
      "langInMainMenu": true,
      "sourceLang": "en",
      "targetLang": "fr",
      "useGoogleTranslate": true
    },
    "accelerator": "GPU"
  },
  "cells": [
    {
      "cell_type": "markdown",
      "metadata": {
        "id": "view-in-github",
        "colab_type": "text"
      },
      "source": [
        "<a href=\"https://colab.research.google.com/github/ahmadrathore/Provisioning-SmartX-MicroBox/blob/master/1_Bidirectional_LSTM_Multivariate_Horizon_Style_Flows.ipynb\" target=\"_parent\"><img src=\"https://colab.research.google.com/assets/colab-badge.svg\" alt=\"Open In Colab\"/></a>"
      ]
    },
    {
      "cell_type": "code",
      "metadata": {
        "ExecuteTime": {
          "end_time": "2020-03-02T14:41:43.610180Z",
          "start_time": "2020-03-02T14:41:38.666390Z"
        },
        "id": "Zz-s475r0eSY"
      },
      "source": [
        "import pandas as pd\n",
        "import numpy as np\n",
        "import tensorflow as tf\n",
        "from sklearn import preprocessing\n",
        "import matplotlib.pyplot as plt\n",
        "tf.random.set_seed(123)\n",
        "np.random.seed(123)"
      ],
      "execution_count": 59,
      "outputs": []
    },
    {
      "cell_type": "code",
      "metadata": {
        "ExecuteTime": {
          "end_time": "2020-03-02T14:41:43.940295Z",
          "start_time": "2020-03-02T14:41:43.863502Z"
        },
        "id": "AeeBsMza0eSf"
      },
      "source": [
        "#df = pd.read_csv(r'merge-csv.com__602f0aa73c265.csv')\n",
        "#df = pd.read_csv('merge-csv.com__602f0aa73c265.csv',index_col='Processing_time',\n",
        " #               infer_datetime_format=True)\n",
        "#url='https://raw.githubusercontent.com/ahmadrathore/Provisioning-SmartX-MicroBox/master/Network-Flows.csv'\n",
        "url='https://raw.githubusercontent.com/ahmadrathore/Provisioning-SmartX-MicroBox/master/kafka9092_Network-Flows.csv'\n",
        "\n",
        "df = pd.read_csv(url,index_col='Processing_time',\n",
        "                infer_datetime_format=True)\n",
        "\n",
        "\n",
        "\n",
        "#df = pd.read_csv(url,index_col='Processing_time',\n",
        "#               # infer_datetime_format=True)\n",
        "#                parse_dates=True)"
      ],
      "execution_count": 60,
      "outputs": []
    },
    {
      "cell_type": "code",
      "metadata": {
        "ExecuteTime": {
          "end_time": "2020-03-02T14:41:43.961275Z",
          "start_time": "2020-03-02T14:41:43.942290Z"
        },
        "id": "ar5UydPo0eSf",
        "colab": {
          "base_uri": "https://localhost:8080/",
          "height": 335
        },
        "outputId": "56ef3e5c-611c-4ff0-f2b3-82722fcbd298"
      },
      "source": [
        "df.head()"
      ],
      "execution_count": 61,
      "outputs": [
        {
          "output_type": "execute_result",
          "data": {
            "text/html": [
              "<div>\n",
              "<style scoped>\n",
              "    .dataframe tbody tr th:only-of-type {\n",
              "        vertical-align: middle;\n",
              "    }\n",
              "\n",
              "    .dataframe tbody tr th {\n",
              "        vertical-align: top;\n",
              "    }\n",
              "\n",
              "    .dataframe thead th {\n",
              "        text-align: right;\n",
              "    }\n",
              "</style>\n",
              "<table border=\"1\" class=\"dataframe\">\n",
              "  <thead>\n",
              "    <tr style=\"text-align: right;\">\n",
              "      <th></th>\n",
              "      <th>Measurement_boxname</th>\n",
              "      <th>src_host_port</th>\n",
              "      <th>dest_host_port</th>\n",
              "      <th>protocol</th>\n",
              "      <th>protocol_count</th>\n",
              "      <th>min_tcp_window_size</th>\n",
              "      <th>max_tcp_window_size</th>\n",
              "      <th>avg_tcp_window_size</th>\n",
              "      <th>std_dev_tcp_window_size</th>\n",
              "      <th>min_data_bytes</th>\n",
              "      <th>max_data_bytes</th>\n",
              "      <th>avg_databytes</th>\n",
              "      <th>std_dev_databytes</th>\n",
              "      <th>total_data_bytes</th>\n",
              "      <th>flow_duration</th>\n",
              "    </tr>\n",
              "    <tr>\n",
              "      <th>Processing_time</th>\n",
              "      <th></th>\n",
              "      <th></th>\n",
              "      <th></th>\n",
              "      <th></th>\n",
              "      <th></th>\n",
              "      <th></th>\n",
              "      <th></th>\n",
              "      <th></th>\n",
              "      <th></th>\n",
              "      <th></th>\n",
              "      <th></th>\n",
              "      <th></th>\n",
              "      <th></th>\n",
              "      <th></th>\n",
              "      <th></th>\n",
              "    </tr>\n",
              "  </thead>\n",
              "  <tbody>\n",
              "    <tr>\n",
              "      <th>2020-12-01T00:05:24.998+09:00</th>\n",
              "      <td>smartx-microbox-gist-1</td>\n",
              "      <td>39846</td>\n",
              "      <td>9092</td>\n",
              "      <td>6</td>\n",
              "      <td>183</td>\n",
              "      <td>2438</td>\n",
              "      <td>2439</td>\n",
              "      <td>2439</td>\n",
              "      <td>0.07</td>\n",
              "      <td>161</td>\n",
              "      <td>11888</td>\n",
              "      <td>2788.26</td>\n",
              "      <td>2591.23</td>\n",
              "      <td>510252</td>\n",
              "      <td>170.018</td>\n",
              "    </tr>\n",
              "    <tr>\n",
              "      <th>2020-12-01T00:10:44.861+09:00</th>\n",
              "      <td>smartx-microbox-gist-1</td>\n",
              "      <td>39846</td>\n",
              "      <td>9092</td>\n",
              "      <td>6</td>\n",
              "      <td>396</td>\n",
              "      <td>2438</td>\n",
              "      <td>2439</td>\n",
              "      <td>2439</td>\n",
              "      <td>0.11</td>\n",
              "      <td>63</td>\n",
              "      <td>11856</td>\n",
              "      <td>2228.37</td>\n",
              "      <td>2094.46</td>\n",
              "      <td>882435</td>\n",
              "      <td>290.016</td>\n",
              "    </tr>\n",
              "    <tr>\n",
              "      <th>2020-12-01T00:15:33.979+09:00</th>\n",
              "      <td>smartx-microbox-gist-1</td>\n",
              "      <td>39846</td>\n",
              "      <td>9092</td>\n",
              "      <td>6</td>\n",
              "      <td>395</td>\n",
              "      <td>2438</td>\n",
              "      <td>2439</td>\n",
              "      <td>2439</td>\n",
              "      <td>0.13</td>\n",
              "      <td>102</td>\n",
              "      <td>13084</td>\n",
              "      <td>2209.62</td>\n",
              "      <td>2321.09</td>\n",
              "      <td>872801</td>\n",
              "      <td>290.017</td>\n",
              "    </tr>\n",
              "    <tr>\n",
              "      <th>2020-12-01T00:25:41.464+09:00</th>\n",
              "      <td>smartx-microbox-gist-1</td>\n",
              "      <td>39846</td>\n",
              "      <td>9092</td>\n",
              "      <td>6</td>\n",
              "      <td>459</td>\n",
              "      <td>2438</td>\n",
              "      <td>2439</td>\n",
              "      <td>2439</td>\n",
              "      <td>0.09</td>\n",
              "      <td>61</td>\n",
              "      <td>11550</td>\n",
              "      <td>1989.66</td>\n",
              "      <td>1919.81</td>\n",
              "      <td>913254</td>\n",
              "      <td>290.017</td>\n",
              "    </tr>\n",
              "    <tr>\n",
              "      <th>2020-12-01T00:35:18.114+09:00</th>\n",
              "      <td>smartx-microbox-gist-1</td>\n",
              "      <td>39846</td>\n",
              "      <td>9092</td>\n",
              "      <td>6</td>\n",
              "      <td>456</td>\n",
              "      <td>2438</td>\n",
              "      <td>2439</td>\n",
              "      <td>2439</td>\n",
              "      <td>0.09</td>\n",
              "      <td>87</td>\n",
              "      <td>11544</td>\n",
              "      <td>1981.21</td>\n",
              "      <td>1909.48</td>\n",
              "      <td>903430</td>\n",
              "      <td>290.011</td>\n",
              "    </tr>\n",
              "  </tbody>\n",
              "</table>\n",
              "</div>"
            ],
            "text/plain": [
              "                                  Measurement_boxname  ...  flow_duration\n",
              "Processing_time                                        ...               \n",
              "2020-12-01T00:05:24.998+09:00  smartx-microbox-gist-1  ...        170.018\n",
              "2020-12-01T00:10:44.861+09:00  smartx-microbox-gist-1  ...        290.016\n",
              "2020-12-01T00:15:33.979+09:00  smartx-microbox-gist-1  ...        290.017\n",
              "2020-12-01T00:25:41.464+09:00  smartx-microbox-gist-1  ...        290.017\n",
              "2020-12-01T00:35:18.114+09:00  smartx-microbox-gist-1  ...        290.011\n",
              "\n",
              "[5 rows x 15 columns]"
            ]
          },
          "metadata": {
            "tags": []
          },
          "execution_count": 61
        }
      ]
    },
    {
      "cell_type": "code",
      "metadata": {
        "ExecuteTime": {
          "end_time": "2020-03-02T14:41:44.008114Z",
          "start_time": "2020-03-02T14:41:43.964274Z"
        },
        "id": "YKhcXEl70eSh",
        "colab": {
          "base_uri": "https://localhost:8080/",
          "height": 288
        },
        "outputId": "ab4dc0a1-410a-40fe-f0d7-b5868192bc1b"
      },
      "source": [
        "df.describe()"
      ],
      "execution_count": 62,
      "outputs": [
        {
          "output_type": "execute_result",
          "data": {
            "text/html": [
              "<div>\n",
              "<style scoped>\n",
              "    .dataframe tbody tr th:only-of-type {\n",
              "        vertical-align: middle;\n",
              "    }\n",
              "\n",
              "    .dataframe tbody tr th {\n",
              "        vertical-align: top;\n",
              "    }\n",
              "\n",
              "    .dataframe thead th {\n",
              "        text-align: right;\n",
              "    }\n",
              "</style>\n",
              "<table border=\"1\" class=\"dataframe\">\n",
              "  <thead>\n",
              "    <tr style=\"text-align: right;\">\n",
              "      <th></th>\n",
              "      <th>src_host_port</th>\n",
              "      <th>dest_host_port</th>\n",
              "      <th>protocol</th>\n",
              "      <th>protocol_count</th>\n",
              "      <th>min_tcp_window_size</th>\n",
              "      <th>max_tcp_window_size</th>\n",
              "      <th>avg_tcp_window_size</th>\n",
              "      <th>std_dev_tcp_window_size</th>\n",
              "      <th>min_data_bytes</th>\n",
              "      <th>max_data_bytes</th>\n",
              "      <th>avg_databytes</th>\n",
              "      <th>std_dev_databytes</th>\n",
              "      <th>total_data_bytes</th>\n",
              "      <th>flow_duration</th>\n",
              "    </tr>\n",
              "  </thead>\n",
              "  <tbody>\n",
              "    <tr>\n",
              "      <th>count</th>\n",
              "      <td>8576.000000</td>\n",
              "      <td>8576.0</td>\n",
              "      <td>8576.0</td>\n",
              "      <td>8576.000000</td>\n",
              "      <td>8576.000000</td>\n",
              "      <td>8576.000000</td>\n",
              "      <td>8576.000000</td>\n",
              "      <td>8576.000000</td>\n",
              "      <td>8576.000000</td>\n",
              "      <td>8576.000000</td>\n",
              "      <td>8576.000000</td>\n",
              "      <td>8576.000000</td>\n",
              "      <td>8576.000000</td>\n",
              "      <td>8576.000000</td>\n",
              "    </tr>\n",
              "    <tr>\n",
              "      <th>mean</th>\n",
              "      <td>40807.862873</td>\n",
              "      <td>9092.0</td>\n",
              "      <td>6.0</td>\n",
              "      <td>362.090602</td>\n",
              "      <td>2315.889576</td>\n",
              "      <td>2317.284632</td>\n",
              "      <td>2316.846782</td>\n",
              "      <td>0.317004</td>\n",
              "      <td>76.953708</td>\n",
              "      <td>10271.796525</td>\n",
              "      <td>2104.136580</td>\n",
              "      <td>2048.747845</td>\n",
              "      <td>761531.681087</td>\n",
              "      <td>279.171818</td>\n",
              "    </tr>\n",
              "    <tr>\n",
              "      <th>std</th>\n",
              "      <td>3907.567979</td>\n",
              "      <td>0.0</td>\n",
              "      <td>0.0</td>\n",
              "      <td>56.159077</td>\n",
              "      <td>395.897535</td>\n",
              "      <td>394.644232</td>\n",
              "      <td>395.614646</td>\n",
              "      <td>1.226467</td>\n",
              "      <td>19.597907</td>\n",
              "      <td>1867.873236</td>\n",
              "      <td>175.951136</td>\n",
              "      <td>231.740512</td>\n",
              "      <td>131589.840309</td>\n",
              "      <td>34.988489</td>\n",
              "    </tr>\n",
              "    <tr>\n",
              "      <th>min</th>\n",
              "      <td>33560.000000</td>\n",
              "      <td>9092.0</td>\n",
              "      <td>6.0</td>\n",
              "      <td>22.000000</td>\n",
              "      <td>499.000000</td>\n",
              "      <td>501.000000</td>\n",
              "      <td>501.000000</td>\n",
              "      <td>0.000000</td>\n",
              "      <td>59.000000</td>\n",
              "      <td>5971.000000</td>\n",
              "      <td>1387.150000</td>\n",
              "      <td>1291.840000</td>\n",
              "      <td>44072.000000</td>\n",
              "      <td>10.014000</td>\n",
              "    </tr>\n",
              "    <tr>\n",
              "      <th>25%</th>\n",
              "      <td>39846.000000</td>\n",
              "      <td>9092.0</td>\n",
              "      <td>6.0</td>\n",
              "      <td>340.000000</td>\n",
              "      <td>2438.000000</td>\n",
              "      <td>2439.000000</td>\n",
              "      <td>2439.000000</td>\n",
              "      <td>0.000000</td>\n",
              "      <td>62.000000</td>\n",
              "      <td>8740.000000</td>\n",
              "      <td>1973.480000</td>\n",
              "      <td>1867.347500</td>\n",
              "      <td>686703.750000</td>\n",
              "      <td>290.015000</td>\n",
              "    </tr>\n",
              "    <tr>\n",
              "      <th>50%</th>\n",
              "      <td>39846.000000</td>\n",
              "      <td>9092.0</td>\n",
              "      <td>6.0</td>\n",
              "      <td>369.000000</td>\n",
              "      <td>2438.000000</td>\n",
              "      <td>2439.000000</td>\n",
              "      <td>2439.000000</td>\n",
              "      <td>0.050000</td>\n",
              "      <td>69.000000</td>\n",
              "      <td>10587.000000</td>\n",
              "      <td>2094.890000</td>\n",
              "      <td>2032.635000</td>\n",
              "      <td>709585.000000</td>\n",
              "      <td>290.016000</td>\n",
              "    </tr>\n",
              "    <tr>\n",
              "      <th>75%</th>\n",
              "      <td>40442.000000</td>\n",
              "      <td>9092.0</td>\n",
              "      <td>6.0</td>\n",
              "      <td>398.000000</td>\n",
              "      <td>2439.000000</td>\n",
              "      <td>2439.000000</td>\n",
              "      <td>2439.000000</td>\n",
              "      <td>0.100000</td>\n",
              "      <td>88.000000</td>\n",
              "      <td>11718.000000</td>\n",
              "      <td>2226.530000</td>\n",
              "      <td>2229.402500</td>\n",
              "      <td>882164.750000</td>\n",
              "      <td>290.017000</td>\n",
              "    </tr>\n",
              "    <tr>\n",
              "      <th>max</th>\n",
              "      <td>59584.000000</td>\n",
              "      <td>9092.0</td>\n",
              "      <td>6.0</td>\n",
              "      <td>514.000000</td>\n",
              "      <td>2439.000000</td>\n",
              "      <td>2439.000000</td>\n",
              "      <td>2439.000000</td>\n",
              "      <td>21.950000</td>\n",
              "      <td>264.000000</td>\n",
              "      <td>14764.000000</td>\n",
              "      <td>2899.900000</td>\n",
              "      <td>2856.150000</td>\n",
              "      <td>923288.000000</td>\n",
              "      <td>290.056000</td>\n",
              "    </tr>\n",
              "  </tbody>\n",
              "</table>\n",
              "</div>"
            ],
            "text/plain": [
              "       src_host_port  dest_host_port  ...  total_data_bytes  flow_duration\n",
              "count    8576.000000          8576.0  ...       8576.000000    8576.000000\n",
              "mean    40807.862873          9092.0  ...     761531.681087     279.171818\n",
              "std      3907.567979             0.0  ...     131589.840309      34.988489\n",
              "min     33560.000000          9092.0  ...      44072.000000      10.014000\n",
              "25%     39846.000000          9092.0  ...     686703.750000     290.015000\n",
              "50%     39846.000000          9092.0  ...     709585.000000     290.016000\n",
              "75%     40442.000000          9092.0  ...     882164.750000     290.017000\n",
              "max     59584.000000          9092.0  ...     923288.000000     290.056000\n",
              "\n",
              "[8 rows x 14 columns]"
            ]
          },
          "metadata": {
            "tags": []
          },
          "execution_count": 62
        }
      ]
    },
    {
      "cell_type": "code",
      "metadata": {
        "ExecuteTime": {
          "end_time": "2020-03-02T14:09:11.542533Z",
          "start_time": "2020-03-02T14:09:11.522588Z"
        },
        "id": "re_3377t0eSh"
      },
      "source": [
        "#df.drop_duplicates(subset=['Processing_time'], keep=False,inplace=True)"
      ],
      "execution_count": 63,
      "outputs": []
    },
    {
      "cell_type": "code",
      "metadata": {
        "ExecuteTime": {
          "end_time": "2020-03-02T14:41:47.121830Z",
          "start_time": "2020-03-02T14:41:47.082900Z"
        },
        "id": "RJaFW6HC0eSi"
      },
      "source": [
        "Measurement_boxname_le = preprocessing.LabelEncoder()\n",
        "df['Measurement_boxname_le'] = Measurement_boxname_le.fit_transform(df['Measurement_boxname']) "
      ],
      "execution_count": 64,
      "outputs": []
    },
    {
      "cell_type": "code",
      "metadata": {
        "ExecuteTime": {
          "end_time": "2020-03-02T14:42:07.494379Z",
          "start_time": "2020-03-02T14:42:07.487372Z"
        },
        "id": "ecKJ5DqN0eSi"
      },
      "source": [
        "df = df[['std_dev_tcp_window_size','max_tcp_window_size','max_tcp_window_size','min_tcp_window_size','min_data_bytes', 'max_data_bytes', 'avg_databytes','std_dev_databytes','total_data_bytes', 'Measurement_boxname_le']]"
      ],
      "execution_count": 65,
      "outputs": []
    },
    {
      "cell_type": "code",
      "metadata": {
        "ExecuteTime": {
          "end_time": "2020-03-02T14:42:15.459071Z",
          "start_time": "2020-03-02T14:42:15.443117Z"
        },
        "id": "oPo1rdig0eSi"
      },
      "source": [
        "validate = df[['std_dev_tcp_window_size','max_tcp_window_size','max_tcp_window_size','min_tcp_window_size','min_data_bytes', 'max_data_bytes', 'avg_databytes','std_dev_databytes','total_data_bytes', 'Measurement_boxname_le']].tail(50)\n",
        "df.drop(df.tail(50).index,inplace=True)"
      ],
      "execution_count": 66,
      "outputs": []
    },
    {
      "cell_type": "code",
      "metadata": {
        "ExecuteTime": {
          "end_time": "2020-03-02T14:42:17.303142Z",
          "start_time": "2020-03-02T14:42:17.295163Z"
        },
        "id": "Iz0-5EGt0eSj"
      },
      "source": [
        "def custom_ts_multi_data_prep(dataset, target, start, end, window, horizon):\n",
        "    X = []\n",
        "    y = []\n",
        "    start = start + window\n",
        "    if end is None:\n",
        "        end = len(dataset) - horizon\n",
        "\n",
        "    for i in range(start, end):\n",
        "        indices = range(i-window, i)\n",
        "        X.append(dataset[indices])\n",
        "\n",
        "        indicey = range(i+1, i+1+horizon)\n",
        "        y.append(target[indicey])\n",
        "    return np.array(X), np.array(y)"
      ],
      "execution_count": 67,
      "outputs": []
    },
    {
      "cell_type": "code",
      "metadata": {
        "ExecuteTime": {
          "end_time": "2020-03-02T14:12:27.647485Z",
          "start_time": "2020-03-02T14:12:27.636515Z"
        },
        "id": "maVmlt280eSj"
      },
      "source": [
        "validate = df[['std_dev_tcp_window_size','max_tcp_window_size','max_tcp_window_size','min_tcp_window_size','min_data_bytes', 'max_data_bytes', 'avg_databytes','std_dev_databytes','total_data_bytes', 'Measurement_boxname_le']].tail(30)\n",
        "df.drop(df.tail(30).index,inplace=True)"
      ],
      "execution_count": 68,
      "outputs": []
    },
    {
      "cell_type": "code",
      "metadata": {
        "ExecuteTime": {
          "end_time": "2020-03-02T14:42:29.773817Z",
          "start_time": "2020-03-02T14:42:29.750878Z"
        },
        "id": "fI9gXQ410eSj"
      },
      "source": [
        "x_scaler = preprocessing.MinMaxScaler()\n",
        "y_scaler = preprocessing.MinMaxScaler()\n",
        "dataX = x_scaler.fit_transform(df[['std_dev_tcp_window_size','max_tcp_window_size','max_tcp_window_size','min_tcp_window_size','Measurement_boxname_le','min_data_bytes', 'max_data_bytes', 'avg_databytes','std_dev_databytes','total_data_bytes']])\n",
        "dataY = y_scaler.fit_transform(df[['total_data_bytes']])"
      ],
      "execution_count": 69,
      "outputs": []
    },
    {
      "cell_type": "code",
      "metadata": {
        "ExecuteTime": {
          "end_time": "2020-03-02T14:42:39.460964Z",
          "start_time": "2020-03-02T14:42:37.950966Z"
        },
        "id": "09mbsYFJ0eSk"
      },
      "source": [
        "\"\"\"\n",
        "#hist_window = 48\n",
        "#horizon = 10\n",
        "hist_window =35\n",
        "#horizon = 30\n",
        "horizon = 10\n",
        "\"\"\"\n",
        "hist_window =100\n",
        "horizon = 30\n",
        "\n",
        "\n",
        "TRAIN_SPLIT = 5500\n",
        "x_train_multi, y_train_multi = custom_ts_multi_data_prep(\n",
        "    dataX, dataY, 0, TRAIN_SPLIT, hist_window, horizon)\n",
        "x_val_multi, y_val_multi = custom_ts_multi_data_prep(\n",
        "    dataX, dataY, TRAIN_SPLIT, None, hist_window, horizon)"
      ],
      "execution_count": 70,
      "outputs": []
    },
    {
      "cell_type": "code",
      "metadata": {
        "ExecuteTime": {
          "end_time": "2020-03-02T14:42:47.762747Z",
          "start_time": "2020-03-02T14:42:47.750779Z"
        },
        "id": "fUak0vOz0eSk",
        "scrolled": true,
        "colab": {
          "base_uri": "https://localhost:8080/"
        },
        "outputId": "4b1a4f7d-a529-4e52-ebf8-4fdcea2398d3"
      },
      "source": [
        "print ('Single window of past history')\n",
        "print(x_train_multi[0])\n",
        "print ('\\n Target horizon')\n",
        "print (y_train_multi[0])"
      ],
      "execution_count": 71,
      "outputs": [
        {
          "output_type": "stream",
          "text": [
            "Single window of past history\n",
            "[[0.00318907 1.         1.         ... 0.92620063 0.83064738 0.53022238]\n",
            " [0.00501139 1.         1.         ... 0.5560866  0.51308245 0.95353474]\n",
            " [0.00592255 1.         1.         ... 0.54369195 0.65795782 0.94257725]\n",
            " ...\n",
            " [0.00318907 1.         1.         ... 0.61981821 0.69114817 0.95200497]\n",
            " [0.00364465 1.         1.         ... 0.46506693 0.51369613 0.95334139]\n",
            " [0.00273349 1.         1.         ... 0.44040985 0.45972346 0.55709518]]\n",
            "\n",
            " Target horizon\n",
            "[[0.95675579]\n",
            " [0.95342669]\n",
            " [0.96434892]\n",
            " [0.93700524]\n",
            " [0.95319011]\n",
            " [0.97162017]\n",
            " [0.96217198]\n",
            " [0.95016128]\n",
            " [0.9435008 ]\n",
            " [0.5483135 ]\n",
            " [0.95733813]\n",
            " [0.96416353]\n",
            " [0.94840972]\n",
            " [0.95597214]\n",
            " [0.94372373]\n",
            " [0.94332451]\n",
            " [0.94130339]\n",
            " [0.93501483]\n",
            " [0.95018971]\n",
            " [0.9423566 ]\n",
            " [0.96352546]\n",
            " [0.54706807]\n",
            " [0.95907149]\n",
            " [0.94840176]\n",
            " [0.94293666]\n",
            " [0.96204914]\n",
            " [0.96224591]\n",
            " [0.9554262 ]\n",
            " [0.94530809]\n",
            " [0.94497712]]\n"
          ],
          "name": "stdout"
        }
      ]
    },
    {
      "cell_type": "code",
      "metadata": {
        "ExecuteTime": {
          "end_time": "2020-03-02T14:42:51.333206Z",
          "start_time": "2020-03-02T14:42:50.195250Z"
        },
        "id": "CMdtV62F0eSl"
      },
      "source": [
        "BATCH_SIZE = 256\n",
        "BUFFER_SIZE = 150\n",
        "#BATCH_SIZE = 64\n",
        "#BUFFER_SIZE = 37\n",
        "#BATCH_SIZE = 150\n",
        "#BATCH_SIZE = 64\n",
        "#BUFFER_SIZE = 100\n",
        "\n",
        "train_data_multi = tf.data.Dataset.from_tensor_slices((x_train_multi, y_train_multi))\n",
        "train_data_multi = train_data_multi.cache().shuffle(BUFFER_SIZE).batch(BATCH_SIZE).repeat()\n",
        "\n",
        "val_data_multi = tf.data.Dataset.from_tensor_slices((x_val_multi, y_val_multi))\n",
        "val_data_multi = val_data_multi.batch(BATCH_SIZE).repeat()\n"
      ],
      "execution_count": 72,
      "outputs": []
    },
    {
      "cell_type": "code",
      "metadata": {
        "ExecuteTime": {
          "end_time": "2020-03-02T14:42:55.747446Z",
          "start_time": "2020-03-02T14:42:54.486777Z"
        },
        "id": "dRBrm7Za0eSl"
      },
      "source": [
        "Bi_lstm_model = tf.keras.models.Sequential([\n",
        "  tf.keras.layers.Bidirectional(tf.keras.layers.LSTM(150, return_sequences=True), \n",
        "                               input_shape=x_train_multi.shape[-2:]),\n",
        "    tf.keras.layers.Bidirectional(tf.keras.layers.LSTM(50)),\n",
        "    tf.keras.layers.Dense(20, activation='tanh'),\n",
        "    tf.keras.layers.Dropout(0.2),\n",
        "    tf.keras.layers.Dense(units=horizon),\n",
        "])\n",
        "Bi_lstm_model.compile(optimizer='adam', loss='mse')\n"
      ],
      "execution_count": 73,
      "outputs": []
    },
    {
      "cell_type": "code",
      "metadata": {
        "ExecuteTime": {
          "end_time": "2020-03-02T14:43:02.444514Z",
          "start_time": "2020-03-02T14:43:02.439525Z"
        },
        "id": "8pRYumy80eSl"
      },
      "source": [
        "model_path = r'Bidirectional_LSTM_Multivariate.h5'"
      ],
      "execution_count": 74,
      "outputs": []
    },
    {
      "cell_type": "code",
      "metadata": {
        "ExecuteTime": {
          "end_time": "2020-03-02T14:46:17.840399Z",
          "start_time": "2020-03-02T14:43:09.804845Z"
        },
        "id": "u8uX-YD80eSl",
        "colab": {
          "base_uri": "https://localhost:8080/"
        },
        "outputId": "9f4347f6-7fe6-4eea-84f5-f23a83bf9101"
      },
      "source": [
        "#EVALUATION_INTERVAL = 100\n",
        "#EPOCHS = 150\n",
        "#EVALUATION_INTERVAL = 70\n",
        "EVALUATION_INTERVAL = 100\n",
        "#EPOCHS = 150\n",
        "EPOCHS = 150\n",
        "#history = Bi_lstm_model.fit(train_data_multi, epochs=EPOCHS, steps_per_epoch=EVALUATION_INTERVAL, validation_data=val_data_multi, validation_steps=50, verbose=1,\n",
        "history = Bi_lstm_model.fit(train_data_multi, epochs=EPOCHS, steps_per_epoch=EVALUATION_INTERVAL, validation_data=val_data_multi, validation_steps=30, verbose=1,\n",
        "                                   callbacks=[tf.keras.callbacks.EarlyStopping(monitor='val_loss', min_delta=0, patience=10, verbose=1, mode='min'), tf.keras.callbacks.ModelCheckpoint(model_path, monitor='val_loss', save_best_only=True, mode='min', verbose=0)])"
      ],
      "execution_count": 75,
      "outputs": [
        {
          "output_type": "stream",
          "text": [
            "Epoch 1/150\n",
            "100/100 [==============================] - 11s 62ms/step - loss: 0.3613 - val_loss: 0.0396\n",
            "Epoch 2/150\n",
            "100/100 [==============================] - 5s 47ms/step - loss: 0.0853 - val_loss: 0.0148\n",
            "Epoch 3/150\n",
            "100/100 [==============================] - 5s 47ms/step - loss: 0.0646 - val_loss: 0.0441\n",
            "Epoch 4/150\n",
            "100/100 [==============================] - 5s 47ms/step - loss: 0.0527 - val_loss: 0.0367\n",
            "Epoch 5/150\n",
            "100/100 [==============================] - 5s 48ms/step - loss: 0.0444 - val_loss: 0.0108\n",
            "Epoch 6/150\n",
            "100/100 [==============================] - 5s 48ms/step - loss: 0.0331 - val_loss: 0.0112\n",
            "Epoch 7/150\n",
            "100/100 [==============================] - 5s 49ms/step - loss: 0.0313 - val_loss: 0.0101\n",
            "Epoch 8/150\n",
            "100/100 [==============================] - 5s 48ms/step - loss: 0.0278 - val_loss: 0.0113\n",
            "Epoch 9/150\n",
            "100/100 [==============================] - 5s 49ms/step - loss: 0.0270 - val_loss: 0.0106\n",
            "Epoch 10/150\n",
            "100/100 [==============================] - 5s 49ms/step - loss: 0.0280 - val_loss: 0.0157\n",
            "Epoch 11/150\n",
            "100/100 [==============================] - 5s 49ms/step - loss: 0.0252 - val_loss: 0.0107\n",
            "Epoch 12/150\n",
            "100/100 [==============================] - 5s 49ms/step - loss: 0.0236 - val_loss: 0.0098\n",
            "Epoch 13/150\n",
            "100/100 [==============================] - 5s 48ms/step - loss: 0.0222 - val_loss: 0.0105\n",
            "Epoch 14/150\n",
            "100/100 [==============================] - 5s 48ms/step - loss: 0.0222 - val_loss: 0.0099\n",
            "Epoch 15/150\n",
            "100/100 [==============================] - 5s 48ms/step - loss: 0.0214 - val_loss: 0.0099\n",
            "Epoch 16/150\n",
            "100/100 [==============================] - 5s 48ms/step - loss: 0.0278 - val_loss: 0.0378\n",
            "Epoch 17/150\n",
            "100/100 [==============================] - 5s 48ms/step - loss: 0.0225 - val_loss: 0.0110\n",
            "Epoch 18/150\n",
            "100/100 [==============================] - 5s 48ms/step - loss: 0.0211 - val_loss: 0.0162\n",
            "Epoch 19/150\n",
            "100/100 [==============================] - 5s 47ms/step - loss: 0.0212 - val_loss: 0.0109\n",
            "Epoch 20/150\n",
            "100/100 [==============================] - 5s 48ms/step - loss: 0.0181 - val_loss: 0.0100\n",
            "Epoch 21/150\n",
            "100/100 [==============================] - 5s 48ms/step - loss: 0.0175 - val_loss: 0.0096\n",
            "Epoch 22/150\n",
            "100/100 [==============================] - 5s 48ms/step - loss: 0.0172 - val_loss: 0.0101\n",
            "Epoch 23/150\n",
            "100/100 [==============================] - 5s 48ms/step - loss: 0.0177 - val_loss: 0.0103\n",
            "Epoch 24/150\n",
            "100/100 [==============================] - 5s 48ms/step - loss: 0.0166 - val_loss: 0.0096\n",
            "Epoch 25/150\n",
            "100/100 [==============================] - 5s 48ms/step - loss: 0.0168 - val_loss: 0.0104\n",
            "Epoch 26/150\n",
            "100/100 [==============================] - 5s 48ms/step - loss: 0.0165 - val_loss: 0.0100\n",
            "Epoch 27/150\n",
            "100/100 [==============================] - 5s 48ms/step - loss: 0.0161 - val_loss: 0.0103\n",
            "Epoch 28/150\n",
            "100/100 [==============================] - 5s 48ms/step - loss: 0.0155 - val_loss: 0.0093\n",
            "Epoch 29/150\n",
            "100/100 [==============================] - 5s 48ms/step - loss: 0.0157 - val_loss: 0.0094\n",
            "Epoch 30/150\n",
            "100/100 [==============================] - 5s 48ms/step - loss: 0.0151 - val_loss: 0.0097\n",
            "Epoch 31/150\n",
            "100/100 [==============================] - 5s 48ms/step - loss: 0.0153 - val_loss: 0.0099\n",
            "Epoch 32/150\n",
            "100/100 [==============================] - 5s 47ms/step - loss: 0.0148 - val_loss: 0.0093\n",
            "Epoch 33/150\n",
            "100/100 [==============================] - 5s 47ms/step - loss: 0.0148 - val_loss: 0.0096\n",
            "Epoch 34/150\n",
            "100/100 [==============================] - 5s 48ms/step - loss: 0.0156 - val_loss: 0.0214\n",
            "Epoch 35/150\n",
            "100/100 [==============================] - 5s 48ms/step - loss: 0.0158 - val_loss: 0.0097\n",
            "Epoch 36/150\n",
            "100/100 [==============================] - 5s 48ms/step - loss: 0.0147 - val_loss: 0.0093\n",
            "Epoch 37/150\n",
            "100/100 [==============================] - 5s 48ms/step - loss: 0.0140 - val_loss: 0.0095\n",
            "Epoch 38/150\n",
            "100/100 [==============================] - 5s 48ms/step - loss: 0.0141 - val_loss: 0.0094\n",
            "Epoch 39/150\n",
            "100/100 [==============================] - 5s 47ms/step - loss: 0.0137 - val_loss: 0.0094\n",
            "Epoch 40/150\n",
            "100/100 [==============================] - 5s 48ms/step - loss: 0.0138 - val_loss: 0.0094\n",
            "Epoch 41/150\n",
            "100/100 [==============================] - 5s 47ms/step - loss: 0.0132 - val_loss: 0.0093\n",
            "Epoch 42/150\n",
            "100/100 [==============================] - 5s 48ms/step - loss: 0.0135 - val_loss: 0.0095\n",
            "Epoch 43/150\n",
            "100/100 [==============================] - 5s 48ms/step - loss: 0.0133 - val_loss: 0.0092\n",
            "Epoch 44/150\n",
            "100/100 [==============================] - 5s 48ms/step - loss: 0.0133 - val_loss: 0.0094\n",
            "Epoch 45/150\n",
            "100/100 [==============================] - 5s 48ms/step - loss: 0.0134 - val_loss: 0.0094\n",
            "Epoch 46/150\n",
            "100/100 [==============================] - 5s 48ms/step - loss: 0.0131 - val_loss: 0.0091\n",
            "Epoch 47/150\n",
            "100/100 [==============================] - 5s 48ms/step - loss: 0.0130 - val_loss: 0.0089\n",
            "Epoch 48/150\n",
            "100/100 [==============================] - 5s 48ms/step - loss: 0.0125 - val_loss: 0.0089\n",
            "Epoch 49/150\n",
            "100/100 [==============================] - 5s 48ms/step - loss: 0.0123 - val_loss: 0.0088\n",
            "Epoch 50/150\n",
            "100/100 [==============================] - 5s 48ms/step - loss: 0.0121 - val_loss: 0.0089\n",
            "Epoch 51/150\n",
            "100/100 [==============================] - 5s 48ms/step - loss: 0.0121 - val_loss: 0.0088\n",
            "Epoch 52/150\n",
            "100/100 [==============================] - 5s 48ms/step - loss: 0.0117 - val_loss: 0.0091\n",
            "Epoch 53/150\n",
            "100/100 [==============================] - 5s 48ms/step - loss: 0.0120 - val_loss: 0.0097\n",
            "Epoch 54/150\n",
            "100/100 [==============================] - 5s 48ms/step - loss: 0.0120 - val_loss: 0.0088\n",
            "Epoch 55/150\n",
            "100/100 [==============================] - 5s 47ms/step - loss: 0.0119 - val_loss: 0.0088\n",
            "Epoch 56/150\n",
            "100/100 [==============================] - 5s 48ms/step - loss: 0.0120 - val_loss: 0.0087\n",
            "Epoch 57/150\n",
            "100/100 [==============================] - 5s 47ms/step - loss: 0.0117 - val_loss: 0.0088\n",
            "Epoch 58/150\n",
            "100/100 [==============================] - 5s 48ms/step - loss: 0.0118 - val_loss: 0.0088\n",
            "Epoch 59/150\n",
            "100/100 [==============================] - 5s 48ms/step - loss: 0.0115 - val_loss: 0.0087\n",
            "Epoch 60/150\n",
            "100/100 [==============================] - 5s 48ms/step - loss: 0.0114 - val_loss: 0.0094\n",
            "Epoch 61/150\n",
            "100/100 [==============================] - 5s 47ms/step - loss: 0.0113 - val_loss: 0.0085\n",
            "Epoch 62/150\n",
            "100/100 [==============================] - 5s 48ms/step - loss: 0.0113 - val_loss: 0.0084\n",
            "Epoch 63/150\n",
            "100/100 [==============================] - 5s 47ms/step - loss: 0.0110 - val_loss: 0.0087\n",
            "Epoch 64/150\n",
            "100/100 [==============================] - 5s 48ms/step - loss: 0.0111 - val_loss: 0.0087\n",
            "Epoch 65/150\n",
            "100/100 [==============================] - 5s 47ms/step - loss: 0.0110 - val_loss: 0.0083\n",
            "Epoch 66/150\n",
            "100/100 [==============================] - 5s 48ms/step - loss: 0.0110 - val_loss: 0.0083\n",
            "Epoch 67/150\n",
            "100/100 [==============================] - 5s 48ms/step - loss: 0.0112 - val_loss: 0.0086\n",
            "Epoch 68/150\n",
            "100/100 [==============================] - 5s 48ms/step - loss: 0.0109 - val_loss: 0.0081\n",
            "Epoch 69/150\n",
            "100/100 [==============================] - 5s 48ms/step - loss: 0.0109 - val_loss: 0.0085\n",
            "Epoch 70/150\n",
            "100/100 [==============================] - 5s 48ms/step - loss: 0.0107 - val_loss: 0.0081\n",
            "Epoch 71/150\n",
            "100/100 [==============================] - 5s 48ms/step - loss: 0.0103 - val_loss: 0.0081\n",
            "Epoch 72/150\n",
            "100/100 [==============================] - 5s 48ms/step - loss: 0.0104 - val_loss: 0.0081\n",
            "Epoch 73/150\n",
            "100/100 [==============================] - 5s 48ms/step - loss: 0.0103 - val_loss: 0.0079\n",
            "Epoch 74/150\n",
            "100/100 [==============================] - 5s 48ms/step - loss: 0.0102 - val_loss: 0.0080\n",
            "Epoch 75/150\n",
            "100/100 [==============================] - 5s 48ms/step - loss: 0.0101 - val_loss: 0.0080\n",
            "Epoch 76/150\n",
            "100/100 [==============================] - 5s 48ms/step - loss: 0.0101 - val_loss: 0.0078\n",
            "Epoch 77/150\n",
            "100/100 [==============================] - 5s 48ms/step - loss: 0.0101 - val_loss: 0.0076\n",
            "Epoch 78/150\n",
            "100/100 [==============================] - 5s 48ms/step - loss: 0.0104 - val_loss: 0.0082\n",
            "Epoch 79/150\n",
            "100/100 [==============================] - 5s 48ms/step - loss: 0.0102 - val_loss: 0.0074\n",
            "Epoch 80/150\n",
            "100/100 [==============================] - 5s 48ms/step - loss: 0.0100 - val_loss: 0.0075\n",
            "Epoch 81/150\n",
            "100/100 [==============================] - 5s 48ms/step - loss: 0.0099 - val_loss: 0.0074\n",
            "Epoch 82/150\n",
            "100/100 [==============================] - 5s 48ms/step - loss: 0.0095 - val_loss: 0.0081\n",
            "Epoch 83/150\n",
            "100/100 [==============================] - 5s 48ms/step - loss: 0.0097 - val_loss: 0.0071\n",
            "Epoch 84/150\n",
            "100/100 [==============================] - 5s 48ms/step - loss: 0.0096 - val_loss: 0.0072\n",
            "Epoch 85/150\n",
            "100/100 [==============================] - 5s 48ms/step - loss: 0.0095 - val_loss: 0.0075\n",
            "Epoch 86/150\n",
            "100/100 [==============================] - 5s 48ms/step - loss: 0.0094 - val_loss: 0.0074\n",
            "Epoch 87/150\n",
            "100/100 [==============================] - 5s 48ms/step - loss: 0.0094 - val_loss: 0.0072\n",
            "Epoch 88/150\n",
            "100/100 [==============================] - 5s 48ms/step - loss: 0.0094 - val_loss: 0.0071\n",
            "Epoch 89/150\n",
            "100/100 [==============================] - 5s 48ms/step - loss: 0.0097 - val_loss: 0.0070\n",
            "Epoch 90/150\n",
            "100/100 [==============================] - 5s 48ms/step - loss: 0.0094 - val_loss: 0.0071\n",
            "Epoch 91/150\n",
            "100/100 [==============================] - 5s 48ms/step - loss: 0.0094 - val_loss: 0.0078\n",
            "Epoch 92/150\n",
            "100/100 [==============================] - 5s 48ms/step - loss: 0.0093 - val_loss: 0.0070\n",
            "Epoch 93/150\n",
            "100/100 [==============================] - 5s 48ms/step - loss: 0.0089 - val_loss: 0.0072\n",
            "Epoch 94/150\n",
            "100/100 [==============================] - 5s 48ms/step - loss: 0.0092 - val_loss: 0.0074\n",
            "Epoch 95/150\n",
            "100/100 [==============================] - 5s 48ms/step - loss: 0.0091 - val_loss: 0.0083\n",
            "Epoch 96/150\n",
            "100/100 [==============================] - 5s 48ms/step - loss: 0.0091 - val_loss: 0.0069\n",
            "Epoch 97/150\n",
            "100/100 [==============================] - 5s 48ms/step - loss: 0.0087 - val_loss: 0.0070\n",
            "Epoch 98/150\n",
            "100/100 [==============================] - 5s 48ms/step - loss: 0.0089 - val_loss: 0.0073\n",
            "Epoch 99/150\n",
            "100/100 [==============================] - 5s 48ms/step - loss: 0.0088 - val_loss: 0.0070\n",
            "Epoch 100/150\n",
            "100/100 [==============================] - 5s 48ms/step - loss: 0.0158 - val_loss: 0.0256\n",
            "Epoch 101/150\n",
            "100/100 [==============================] - 5s 48ms/step - loss: 0.0128 - val_loss: 0.0093\n",
            "Epoch 102/150\n",
            "100/100 [==============================] - 5s 48ms/step - loss: 0.0099 - val_loss: 0.0086\n",
            "Epoch 103/150\n",
            "100/100 [==============================] - 5s 48ms/step - loss: 0.0097 - val_loss: 0.0073\n",
            "Epoch 104/150\n",
            "100/100 [==============================] - 5s 48ms/step - loss: 0.0089 - val_loss: 0.0075\n",
            "Epoch 105/150\n",
            "100/100 [==============================] - 5s 48ms/step - loss: 0.0091 - val_loss: 0.0070\n",
            "Epoch 106/150\n",
            "100/100 [==============================] - 5s 48ms/step - loss: 0.0087 - val_loss: 0.0071\n",
            "Epoch 00106: early stopping\n"
          ],
          "name": "stdout"
        }
      ]
    },
    {
      "cell_type": "code",
      "metadata": {
        "ExecuteTime": {
          "end_time": "2020-03-02T14:46:29.065398Z",
          "start_time": "2020-03-02T14:46:26.248901Z"
        },
        "id": "Vx8NoGsp0eSm"
      },
      "source": [
        "Trained_model = tf.keras.models.load_model(model_path)"
      ],
      "execution_count": 76,
      "outputs": []
    },
    {
      "cell_type": "code",
      "metadata": {
        "ExecuteTime": {
          "end_time": "2020-03-02T14:46:29.076339Z",
          "start_time": "2020-03-02T14:46:29.067392Z"
        },
        "id": "KvEdjHrh0eSm",
        "colab": {
          "base_uri": "https://localhost:8080/"
        },
        "outputId": "f3aee3a7-61b7-4ed5-cdc3-a56df0550c10"
      },
      "source": [
        "# Show the model architecture\n",
        "Trained_model.summary()"
      ],
      "execution_count": 77,
      "outputs": [
        {
          "output_type": "stream",
          "text": [
            "Model: \"sequential_2\"\n",
            "_________________________________________________________________\n",
            "Layer (type)                 Output Shape              Param #   \n",
            "=================================================================\n",
            "bidirectional_4 (Bidirection (None, 100, 300)          195600    \n",
            "_________________________________________________________________\n",
            "bidirectional_5 (Bidirection (None, 100)               140400    \n",
            "_________________________________________________________________\n",
            "dense_4 (Dense)              (None, 20)                2020      \n",
            "_________________________________________________________________\n",
            "dropout_2 (Dropout)          (None, 20)                0         \n",
            "_________________________________________________________________\n",
            "dense_5 (Dense)              (None, 30)                630       \n",
            "=================================================================\n",
            "Total params: 338,650\n",
            "Trainable params: 338,650\n",
            "Non-trainable params: 0\n",
            "_________________________________________________________________\n"
          ],
          "name": "stdout"
        }
      ]
    },
    {
      "cell_type": "code",
      "metadata": {
        "ExecuteTime": {
          "end_time": "2020-03-02T14:46:33.385823Z",
          "start_time": "2020-03-02T14:46:33.134495Z"
        },
        "id": "tyWdsGX00eSn",
        "colab": {
          "base_uri": "https://localhost:8080/",
          "height": 567
        },
        "outputId": "39932bee-2d09-4c9d-ee46-ceb45bdf869f"
      },
      "source": [
        "plt.plot(history.history['loss'])\n",
        "plt.plot(history.history['val_loss'])\n",
        "plt.title('Model loss')\n",
        "plt.ylabel('loss')\n",
        "plt.xlabel('epoch')\n",
        "plt.legend(['train loss', 'validation loss'], loc='upper left')\n",
        "plt.rcParams[\"figure.figsize\"] = [16,9]\n",
        "plt.show()"
      ],
      "execution_count": 78,
      "outputs": [
        {
          "output_type": "display_data",
          "data": {
            "image/png": "[encoded data removed]",
            "text/plain": [
              "<Figure size 1152x648 with 1 Axes>"
            ]
          },
          "metadata": {
            "tags": [],
            "needs_background": "light"
          }
        }
      ]
    },
    {
      "cell_type": "code",
      "metadata": {
        "ExecuteTime": {
          "end_time": "2020-03-02T14:46:35.867194Z",
          "start_time": "2020-03-02T14:46:35.858217Z"
        },
        "id": "YEsiqFUp0eSn"
      },
      "source": [
        "data_val = x_scaler.fit_transform(df[['std_dev_tcp_window_size','max_tcp_window_size','max_tcp_window_size','min_tcp_window_size','Measurement_boxname_le','min_data_bytes', 'max_data_bytes', 'avg_databytes','std_dev_databytes','total_data_bytes']].tail(100))"
      ],
      "execution_count": 79,
      "outputs": []
    },
    {
      "cell_type": "code",
      "metadata": {
        "ExecuteTime": {
          "end_time": "2020-03-02T14:46:37.087931Z",
          "start_time": "2020-03-02T14:46:37.083941Z"
        },
        "id": "BnL3oj2Z0eSo"
      },
      "source": [
        "val_rescaled = data_val.reshape(1, data_val.shape[0], data_val.shape[1])"
      ],
      "execution_count": 80,
      "outputs": []
    },
    {
      "cell_type": "code",
      "metadata": {
        "ExecuteTime": {
          "end_time": "2020-03-02T14:46:39.479539Z",
          "start_time": "2020-03-02T14:46:38.601887Z"
        },
        "id": "j3g21Pwd0eSo"
      },
      "source": [
        "Predicted_results = Trained_model.predict(val_rescaled)"
      ],
      "execution_count": 81,
      "outputs": []
    },
    {
      "cell_type": "code",
      "metadata": {
        "ExecuteTime": {
          "end_time": "2020-03-02T14:46:40.354239Z",
          "start_time": "2020-03-02T14:46:40.347220Z"
        },
        "id": "LUgj_wJV0eSo",
        "colab": {
          "base_uri": "https://localhost:8080/"
        },
        "outputId": "369b1aa0-11ea-44cd-98bb-c8b004d613f7"
      },
      "source": [
        "Predicted_results"
      ],
      "execution_count": 82,
      "outputs": [
        {
          "output_type": "execute_result",
          "data": {
            "text/plain": [
              "array([[0.7383928 , 0.7173379 , 0.62781864, 0.5158395 , 0.75603986,\n",
              "        0.7453337 , 0.73693675, 0.73828745, 0.7461825 , 0.71506506,\n",
              "        0.7117841 , 0.7385892 , 0.72513497, 0.6976894 , 0.6368315 ,\n",
              "        0.5482247 , 0.75788885, 0.74389184, 0.7363956 , 0.7363694 ,\n",
              "        0.7373991 , 0.71346945, 0.71334016, 0.7299161 , 0.71062326,\n",
              "        0.6911533 , 0.6484482 , 0.5746079 , 0.7554085 , 0.7425671 ]],\n",
              "      dtype=float32)"
            ]
          },
          "metadata": {
            "tags": []
          },
          "execution_count": 82
        }
      ]
    },
    {
      "cell_type": "code",
      "metadata": {
        "ExecuteTime": {
          "end_time": "2020-03-02T14:46:41.823277Z",
          "start_time": "2020-03-02T14:46:41.818290Z"
        },
        "id": "uD5kAvtt0eSp"
      },
      "source": [
        "Predicted_results_Inv_trans = y_scaler.inverse_transform(Predicted_results)"
      ],
      "execution_count": 83,
      "outputs": []
    },
    {
      "cell_type": "code",
      "metadata": {
        "ExecuteTime": {
          "end_time": "2020-03-02T14:46:43.116821Z",
          "start_time": "2020-03-02T14:46:43.110837Z"
        },
        "id": "8Dyms7Pj0eSp",
        "colab": {
          "base_uri": "https://localhost:8080/"
        },
        "outputId": "ae4fb213-66a6-476e-f839-1ccb4f4871f6"
      },
      "source": [
        "Predicted_results_Inv_trans"
      ],
      "execution_count": 84,
      "outputs": [
        {
          "output_type": "execute_result",
          "data": {
            "text/plain": [
              "array([[693278.75, 674767.  , 596060.2 , 497606.38, 708794.4 , 699381.3 ,\n",
              "        691998.6 , 693186.1 , 700127.6 , 672768.7 , 669884.  , 693451.5 ,\n",
              "        681622.3 , 657491.7 , 603984.5 , 526079.94, 710420.  , 698113.6 ,\n",
              "        691522.8 , 691499.75, 692405.1 , 671365.75, 671252.1 , 685825.94,\n",
              "        668863.4 , 651745.06, 614198.06, 549276.5 , 708239.25, 696948.94]],\n",
              "      dtype=float32)"
            ]
          },
          "metadata": {
            "tags": []
          },
          "execution_count": 84
        }
      ]
    },
    {
      "cell_type": "code",
      "metadata": {
        "ExecuteTime": {
          "end_time": "2020-03-02T14:46:47.578896Z",
          "start_time": "2020-03-02T14:46:47.546983Z"
        },
        "id": "IoKJpgw20eSp"
      },
      "source": [
        "from sklearn import metrics\n",
        "def timeseries_evaluation_metrics_func(y_true, y_pred):\n",
        "    \n",
        "    def mean_absolute_percentage_error(y_true, y_pred): \n",
        "        y_true, y_pred = np.array(y_true), np.array(y_pred)\n",
        "        return np.mean(np.abs((y_true - y_pred) / y_true)) * 100\n",
        "    print('Evaluation metric results:-')\n",
        "    print(f'MSE is : {metrics.mean_squared_error(y_true, y_pred)}')\n",
        "    print(f'MAE is : {metrics.mean_absolute_error(y_true, y_pred)}')\n",
        "    print(f'RMSE is : {np.sqrt(metrics.mean_squared_error(y_true, y_pred))}')\n",
        "    print(f'MAPE is : {mean_absolute_percentage_error(y_true, y_pred)}')\n",
        "    print(f'R2 is : {metrics.r2_score(y_true, y_pred)}',end='\\n\\n')"
      ],
      "execution_count": 85,
      "outputs": []
    },
    {
      "cell_type": "code",
      "metadata": {
        "ExecuteTime": {
          "end_time": "2020-03-02T14:47:58.402637Z",
          "start_time": "2020-03-02T14:47:58.395655Z"
        },
        "id": "CxDNxSUU0eSq",
        "colab": {
          "base_uri": "https://localhost:8080/"
        },
        "outputId": "afeef363-c4ba-4d8e-ee19-e919156ffebe"
      },
      "source": [
        "timeseries_evaluation_metrics_func(validate['total_data_bytes'],Predicted_results_Inv_trans[0])"
      ],
      "execution_count": 86,
      "outputs": [
        {
          "output_type": "stream",
          "text": [
            "Evaluation metric results:-\n",
            "MSE is : 18961091036.59987\n",
            "MAE is : 117527.33125\n",
            "RMSE is : 137699.2775456715\n",
            "MAPE is : 17.749041021745825\n",
            "R2 is : -1.2176124955463279\n",
            "\n"
          ],
          "name": "stdout"
        }
      ]
    },
    {
      "cell_type": "code",
      "metadata": {
        "ExecuteTime": {
          "end_time": "2020-03-02T14:46:55.156682Z",
          "start_time": "2020-03-02T14:46:54.912299Z"
        },
        "id": "QGSG3FA70eSq",
        "colab": {
          "base_uri": "https://localhost:8080/",
          "height": 553
        },
        "outputId": "6bf0a2a8-b9f9-4176-9ec9-fdc0b28aa1d5"
      },
      "source": [
        "plt.plot( list(validate['total_data_bytes']))\n",
        "plt.plot( list(Predicted_results_Inv_trans[0]))\n",
        "plt.title(\"Actual vs Predicted\")\n",
        "plt.ylabel(\"total_data_bytes\")\n",
        "plt.legend(('Actual','predicted'))\n",
        "plt.show()"
      ],
      "execution_count": 87,
      "outputs": [
        {
          "output_type": "display_data",
          "data": {
            "image/png": "[encoded data removed]",
            "text/plain": [
              "<Figure size 1152x648 with 1 Axes>"
            ]
          },
          "metadata": {
            "tags": [],
            "needs_background": "light"
          }
        }
      ]
    }
  ]
}