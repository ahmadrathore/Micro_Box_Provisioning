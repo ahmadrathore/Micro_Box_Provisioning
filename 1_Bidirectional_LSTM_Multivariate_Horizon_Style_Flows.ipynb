{
  "nbformat": 4,
  "nbformat_minor": 0,
  "metadata": {
    "colab": {
      "name": "1_Bidirectional_LSTM_Multivariate_Horizon_Style_Flows.ipynb",
      "provenance": [],
      "include_colab_link": true
    },
    "kernelspec": {
      "display_name": "Python 3",
      "language": "python",
      "name": "python3"
    },
    "language_info": {
      "codemirror_mode": {
        "name": "ipython",
        "version": 3
      },
      "file_extension": ".py",
      "mimetype": "text/x-python",
      "name": "python",
      "nbconvert_exporter": "python",
      "pygments_lexer": "ipython3",
      "version": "3.7.1"
    },
    "latex_envs": {
      "LaTeX_envs_menu_present": true,
      "autoclose": false,
      "autocomplete": true,
      "bibliofile": "biblio.bib",
      "cite_by": "apalike",
      "current_citInitial": 1,
      "eqLabelWithNumbers": true,
      "eqNumInitial": 1,
      "hotkeys": {
        "equation": "Ctrl-E",
        "itemize": "Ctrl-I"
      },
      "labels_anchors": false,
      "latex_user_defs": false,
      "report_style_numbering": false,
      "user_envs_cfg": false
    },
    "nbTranslate": {
      "displayLangs": [
        "*"
      ],
      "hotkey": "alt-t",
      "langInMainMenu": true,
      "sourceLang": "en",
      "targetLang": "fr",
      "useGoogleTranslate": true
    },
    "accelerator": "GPU"
  },
  "cells": [
    {
      "cell_type": "markdown",
      "metadata": {
        "id": "view-in-github",
        "colab_type": "text"
      },
      "source": [
        "<a href=\"https://colab.research.google.com/github/ahmadrathore/Provisioning-SmartX-MicroBox/blob/master/1_Bidirectional_LSTM_Multivariate_Horizon_Style_Flows.ipynb\" target=\"_parent\"><img src=\"https://colab.research.google.com/assets/colab-badge.svg\" alt=\"Open In Colab\"/></a>"
      ]
    },
    {
      "cell_type": "code",
      "metadata": {
        "ExecuteTime": {
          "end_time": "2020-03-02T14:41:43.610180Z",
          "start_time": "2020-03-02T14:41:38.666390Z"
        },
        "id": "Zz-s475r0eSY"
      },
      "source": [
        "import pandas as pd\n",
        "import numpy as np\n",
        "import tensorflow as tf\n",
        "from sklearn import preprocessing\n",
        "import matplotlib.pyplot as plt\n",
        "tf.random.set_seed(123)\n",
        "np.random.seed(123)"
      ],
      "execution_count": 262,
      "outputs": []
    },
    {
      "cell_type": "code",
      "metadata": {
        "ExecuteTime": {
          "end_time": "2020-03-02T14:41:43.940295Z",
          "start_time": "2020-03-02T14:41:43.863502Z"
        },
        "id": "AeeBsMza0eSf"
      },
      "source": [
        "#df = pd.read_csv(r'merge-csv.com__602f0aa73c265.csv')\n",
        "#df = pd.read_csv('merge-csv.com__602f0aa73c265.csv',index_col='Processing_time',\n",
        " #               infer_datetime_format=True)\n",
        "#url='https://raw.githubusercontent.com/ahmadrathore/Provisioning-SmartX-MicroBox/master/Network-Flows.csv'\n",
        "url='https://raw.githubusercontent.com/ahmadrathore/Provisioning-SmartX-MicroBox/master/kafka9092_Network-Flows.csv'\n",
        "\n",
        "df = pd.read_csv(url,index_col='Processing_time',\n",
        "                infer_datetime_format=True)\n",
        "\n",
        "\n",
        "\n",
        "#df = pd.read_csv(url,index_col='Processing_time',\n",
        "#               # infer_datetime_format=True)\n",
        "#                parse_dates=True)"
      ],
      "execution_count": 263,
      "outputs": []
    },
    {
      "cell_type": "code",
      "metadata": {
        "ExecuteTime": {
          "end_time": "2020-03-02T14:41:43.961275Z",
          "start_time": "2020-03-02T14:41:43.942290Z"
        },
        "id": "ar5UydPo0eSf",
        "colab": {
          "base_uri": "https://localhost:8080/",
          "height": 328
        },
        "outputId": "f69e913e-9471-4155-8c77-61cf75008b33"
      },
      "source": [
        "df.head()"
      ],
      "execution_count": 264,
      "outputs": [
        {
          "output_type": "execute_result",
          "data": {
            "text/html": [
              "<div>\n",
              "<style scoped>\n",
              "    .dataframe tbody tr th:only-of-type {\n",
              "        vertical-align: middle;\n",
              "    }\n",
              "\n",
              "    .dataframe tbody tr th {\n",
              "        vertical-align: top;\n",
              "    }\n",
              "\n",
              "    .dataframe thead th {\n",
              "        text-align: right;\n",
              "    }\n",
              "</style>\n",
              "<table border=\"1\" class=\"dataframe\">\n",
              "  <thead>\n",
              "    <tr style=\"text-align: right;\">\n",
              "      <th></th>\n",
              "      <th>Measurement_boxname</th>\n",
              "      <th>src_host_port</th>\n",
              "      <th>dest_host_port</th>\n",
              "      <th>protocol</th>\n",
              "      <th>protocol_count</th>\n",
              "      <th>min_tcp_window_size</th>\n",
              "      <th>max_tcp_window_size</th>\n",
              "      <th>avg_tcp_window_size</th>\n",
              "      <th>std_dev_tcp_window_size</th>\n",
              "      <th>min_data_bytes</th>\n",
              "      <th>max_data_bytes</th>\n",
              "      <th>avg_databytes</th>\n",
              "      <th>std_dev_databytes</th>\n",
              "      <th>total_data_bytes</th>\n",
              "      <th>flow_duration</th>\n",
              "    </tr>\n",
              "    <tr>\n",
              "      <th>Processing_time</th>\n",
              "      <th></th>\n",
              "      <th></th>\n",
              "      <th></th>\n",
              "      <th></th>\n",
              "      <th></th>\n",
              "      <th></th>\n",
              "      <th></th>\n",
              "      <th></th>\n",
              "      <th></th>\n",
              "      <th></th>\n",
              "      <th></th>\n",
              "      <th></th>\n",
              "      <th></th>\n",
              "      <th></th>\n",
              "      <th></th>\n",
              "    </tr>\n",
              "  </thead>\n",
              "  <tbody>\n",
              "    <tr>\n",
              "      <th>2020-12-01T00:05:24.998+09:00</th>\n",
              "      <td>smartx-microbox-gist-1</td>\n",
              "      <td>39846</td>\n",
              "      <td>9092</td>\n",
              "      <td>6</td>\n",
              "      <td>183</td>\n",
              "      <td>2438</td>\n",
              "      <td>2439</td>\n",
              "      <td>2439</td>\n",
              "      <td>0.07</td>\n",
              "      <td>161</td>\n",
              "      <td>11888</td>\n",
              "      <td>2788.26</td>\n",
              "      <td>2591.23</td>\n",
              "      <td>510252</td>\n",
              "      <td>170.018</td>\n",
              "    </tr>\n",
              "    <tr>\n",
              "      <th>2020-12-01T00:10:44.861+09:00</th>\n",
              "      <td>smartx-microbox-gist-1</td>\n",
              "      <td>39846</td>\n",
              "      <td>9092</td>\n",
              "      <td>6</td>\n",
              "      <td>396</td>\n",
              "      <td>2438</td>\n",
              "      <td>2439</td>\n",
              "      <td>2439</td>\n",
              "      <td>0.11</td>\n",
              "      <td>63</td>\n",
              "      <td>11856</td>\n",
              "      <td>2228.37</td>\n",
              "      <td>2094.46</td>\n",
              "      <td>882435</td>\n",
              "      <td>290.016</td>\n",
              "    </tr>\n",
              "    <tr>\n",
              "      <th>2020-12-01T00:15:33.979+09:00</th>\n",
              "      <td>smartx-microbox-gist-1</td>\n",
              "      <td>39846</td>\n",
              "      <td>9092</td>\n",
              "      <td>6</td>\n",
              "      <td>395</td>\n",
              "      <td>2438</td>\n",
              "      <td>2439</td>\n",
              "      <td>2439</td>\n",
              "      <td>0.13</td>\n",
              "      <td>102</td>\n",
              "      <td>13084</td>\n",
              "      <td>2209.62</td>\n",
              "      <td>2321.09</td>\n",
              "      <td>872801</td>\n",
              "      <td>290.017</td>\n",
              "    </tr>\n",
              "    <tr>\n",
              "      <th>2020-12-01T00:25:41.464+09:00</th>\n",
              "      <td>smartx-microbox-gist-1</td>\n",
              "      <td>39846</td>\n",
              "      <td>9092</td>\n",
              "      <td>6</td>\n",
              "      <td>459</td>\n",
              "      <td>2438</td>\n",
              "      <td>2439</td>\n",
              "      <td>2439</td>\n",
              "      <td>0.09</td>\n",
              "      <td>61</td>\n",
              "      <td>11550</td>\n",
              "      <td>1989.66</td>\n",
              "      <td>1919.81</td>\n",
              "      <td>913254</td>\n",
              "      <td>290.017</td>\n",
              "    </tr>\n",
              "    <tr>\n",
              "      <th>2020-12-01T00:35:18.114+09:00</th>\n",
              "      <td>smartx-microbox-gist-1</td>\n",
              "      <td>39846</td>\n",
              "      <td>9092</td>\n",
              "      <td>6</td>\n",
              "      <td>456</td>\n",
              "      <td>2438</td>\n",
              "      <td>2439</td>\n",
              "      <td>2439</td>\n",
              "      <td>0.09</td>\n",
              "      <td>87</td>\n",
              "      <td>11544</td>\n",
              "      <td>1981.21</td>\n",
              "      <td>1909.48</td>\n",
              "      <td>903430</td>\n",
              "      <td>290.011</td>\n",
              "    </tr>\n",
              "  </tbody>\n",
              "</table>\n",
              "</div>"
            ],
            "text/plain": [
              "                                  Measurement_boxname  ...  flow_duration\n",
              "Processing_time                                        ...               \n",
              "2020-12-01T00:05:24.998+09:00  smartx-microbox-gist-1  ...        170.018\n",
              "2020-12-01T00:10:44.861+09:00  smartx-microbox-gist-1  ...        290.016\n",
              "2020-12-01T00:15:33.979+09:00  smartx-microbox-gist-1  ...        290.017\n",
              "2020-12-01T00:25:41.464+09:00  smartx-microbox-gist-1  ...        290.017\n",
              "2020-12-01T00:35:18.114+09:00  smartx-microbox-gist-1  ...        290.011\n",
              "\n",
              "[5 rows x 15 columns]"
            ]
          },
          "metadata": {
            "tags": []
          },
          "execution_count": 264
        }
      ]
    },
    {
      "cell_type": "code",
      "metadata": {
        "ExecuteTime": {
          "end_time": "2020-03-02T14:41:44.008114Z",
          "start_time": "2020-03-02T14:41:43.964274Z"
        },
        "id": "YKhcXEl70eSh",
        "colab": {
          "base_uri": "https://localhost:8080/",
          "height": 282
        },
        "outputId": "a45b0b68-7780-4ecb-e33b-8ac20c04143d"
      },
      "source": [
        "df.describe()"
      ],
      "execution_count": 265,
      "outputs": [
        {
          "output_type": "execute_result",
          "data": {
            "text/html": [
              "<div>\n",
              "<style scoped>\n",
              "    .dataframe tbody tr th:only-of-type {\n",
              "        vertical-align: middle;\n",
              "    }\n",
              "\n",
              "    .dataframe tbody tr th {\n",
              "        vertical-align: top;\n",
              "    }\n",
              "\n",
              "    .dataframe thead th {\n",
              "        text-align: right;\n",
              "    }\n",
              "</style>\n",
              "<table border=\"1\" class=\"dataframe\">\n",
              "  <thead>\n",
              "    <tr style=\"text-align: right;\">\n",
              "      <th></th>\n",
              "      <th>src_host_port</th>\n",
              "      <th>dest_host_port</th>\n",
              "      <th>protocol</th>\n",
              "      <th>protocol_count</th>\n",
              "      <th>min_tcp_window_size</th>\n",
              "      <th>max_tcp_window_size</th>\n",
              "      <th>avg_tcp_window_size</th>\n",
              "      <th>std_dev_tcp_window_size</th>\n",
              "      <th>min_data_bytes</th>\n",
              "      <th>max_data_bytes</th>\n",
              "      <th>avg_databytes</th>\n",
              "      <th>std_dev_databytes</th>\n",
              "      <th>total_data_bytes</th>\n",
              "      <th>flow_duration</th>\n",
              "    </tr>\n",
              "  </thead>\n",
              "  <tbody>\n",
              "    <tr>\n",
              "      <th>count</th>\n",
              "      <td>8576.000000</td>\n",
              "      <td>8576.0</td>\n",
              "      <td>8576.0</td>\n",
              "      <td>8576.000000</td>\n",
              "      <td>8576.000000</td>\n",
              "      <td>8576.000000</td>\n",
              "      <td>8576.000000</td>\n",
              "      <td>8576.000000</td>\n",
              "      <td>8576.000000</td>\n",
              "      <td>8576.000000</td>\n",
              "      <td>8576.000000</td>\n",
              "      <td>8576.000000</td>\n",
              "      <td>8576.000000</td>\n",
              "      <td>8576.000000</td>\n",
              "    </tr>\n",
              "    <tr>\n",
              "      <th>mean</th>\n",
              "      <td>40807.862873</td>\n",
              "      <td>9092.0</td>\n",
              "      <td>6.0</td>\n",
              "      <td>362.090602</td>\n",
              "      <td>2315.889576</td>\n",
              "      <td>2317.284632</td>\n",
              "      <td>2316.846782</td>\n",
              "      <td>0.317004</td>\n",
              "      <td>76.953708</td>\n",
              "      <td>10271.796525</td>\n",
              "      <td>2104.136580</td>\n",
              "      <td>2048.747845</td>\n",
              "      <td>761531.681087</td>\n",
              "      <td>279.171818</td>\n",
              "    </tr>\n",
              "    <tr>\n",
              "      <th>std</th>\n",
              "      <td>3907.567979</td>\n",
              "      <td>0.0</td>\n",
              "      <td>0.0</td>\n",
              "      <td>56.159077</td>\n",
              "      <td>395.897535</td>\n",
              "      <td>394.644232</td>\n",
              "      <td>395.614646</td>\n",
              "      <td>1.226467</td>\n",
              "      <td>19.597907</td>\n",
              "      <td>1867.873236</td>\n",
              "      <td>175.951136</td>\n",
              "      <td>231.740512</td>\n",
              "      <td>131589.840309</td>\n",
              "      <td>34.988489</td>\n",
              "    </tr>\n",
              "    <tr>\n",
              "      <th>min</th>\n",
              "      <td>33560.000000</td>\n",
              "      <td>9092.0</td>\n",
              "      <td>6.0</td>\n",
              "      <td>22.000000</td>\n",
              "      <td>499.000000</td>\n",
              "      <td>501.000000</td>\n",
              "      <td>501.000000</td>\n",
              "      <td>0.000000</td>\n",
              "      <td>59.000000</td>\n",
              "      <td>5971.000000</td>\n",
              "      <td>1387.150000</td>\n",
              "      <td>1291.840000</td>\n",
              "      <td>44072.000000</td>\n",
              "      <td>10.014000</td>\n",
              "    </tr>\n",
              "    <tr>\n",
              "      <th>25%</th>\n",
              "      <td>39846.000000</td>\n",
              "      <td>9092.0</td>\n",
              "      <td>6.0</td>\n",
              "      <td>340.000000</td>\n",
              "      <td>2438.000000</td>\n",
              "      <td>2439.000000</td>\n",
              "      <td>2439.000000</td>\n",
              "      <td>0.000000</td>\n",
              "      <td>62.000000</td>\n",
              "      <td>8740.000000</td>\n",
              "      <td>1973.480000</td>\n",
              "      <td>1867.347500</td>\n",
              "      <td>686703.750000</td>\n",
              "      <td>290.015000</td>\n",
              "    </tr>\n",
              "    <tr>\n",
              "      <th>50%</th>\n",
              "      <td>39846.000000</td>\n",
              "      <td>9092.0</td>\n",
              "      <td>6.0</td>\n",
              "      <td>369.000000</td>\n",
              "      <td>2438.000000</td>\n",
              "      <td>2439.000000</td>\n",
              "      <td>2439.000000</td>\n",
              "      <td>0.050000</td>\n",
              "      <td>69.000000</td>\n",
              "      <td>10587.000000</td>\n",
              "      <td>2094.890000</td>\n",
              "      <td>2032.635000</td>\n",
              "      <td>709585.000000</td>\n",
              "      <td>290.016000</td>\n",
              "    </tr>\n",
              "    <tr>\n",
              "      <th>75%</th>\n",
              "      <td>40442.000000</td>\n",
              "      <td>9092.0</td>\n",
              "      <td>6.0</td>\n",
              "      <td>398.000000</td>\n",
              "      <td>2439.000000</td>\n",
              "      <td>2439.000000</td>\n",
              "      <td>2439.000000</td>\n",
              "      <td>0.100000</td>\n",
              "      <td>88.000000</td>\n",
              "      <td>11718.000000</td>\n",
              "      <td>2226.530000</td>\n",
              "      <td>2229.402500</td>\n",
              "      <td>882164.750000</td>\n",
              "      <td>290.017000</td>\n",
              "    </tr>\n",
              "    <tr>\n",
              "      <th>max</th>\n",
              "      <td>59584.000000</td>\n",
              "      <td>9092.0</td>\n",
              "      <td>6.0</td>\n",
              "      <td>514.000000</td>\n",
              "      <td>2439.000000</td>\n",
              "      <td>2439.000000</td>\n",
              "      <td>2439.000000</td>\n",
              "      <td>21.950000</td>\n",
              "      <td>264.000000</td>\n",
              "      <td>14764.000000</td>\n",
              "      <td>2899.900000</td>\n",
              "      <td>2856.150000</td>\n",
              "      <td>923288.000000</td>\n",
              "      <td>290.056000</td>\n",
              "    </tr>\n",
              "  </tbody>\n",
              "</table>\n",
              "</div>"
            ],
            "text/plain": [
              "       src_host_port  dest_host_port  ...  total_data_bytes  flow_duration\n",
              "count    8576.000000          8576.0  ...       8576.000000    8576.000000\n",
              "mean    40807.862873          9092.0  ...     761531.681087     279.171818\n",
              "std      3907.567979             0.0  ...     131589.840309      34.988489\n",
              "min     33560.000000          9092.0  ...      44072.000000      10.014000\n",
              "25%     39846.000000          9092.0  ...     686703.750000     290.015000\n",
              "50%     39846.000000          9092.0  ...     709585.000000     290.016000\n",
              "75%     40442.000000          9092.0  ...     882164.750000     290.017000\n",
              "max     59584.000000          9092.0  ...     923288.000000     290.056000\n",
              "\n",
              "[8 rows x 14 columns]"
            ]
          },
          "metadata": {
            "tags": []
          },
          "execution_count": 265
        }
      ]
    },
    {
      "cell_type": "code",
      "metadata": {
        "ExecuteTime": {
          "end_time": "2020-03-02T14:09:11.542533Z",
          "start_time": "2020-03-02T14:09:11.522588Z"
        },
        "id": "re_3377t0eSh"
      },
      "source": [
        "#df.drop_duplicates(subset=['Processing_time'], keep=False,inplace=True)"
      ],
      "execution_count": 266,
      "outputs": []
    },
    {
      "cell_type": "code",
      "metadata": {
        "ExecuteTime": {
          "end_time": "2020-03-02T14:41:47.121830Z",
          "start_time": "2020-03-02T14:41:47.082900Z"
        },
        "id": "RJaFW6HC0eSi"
      },
      "source": [
        "Measurement_boxname_le = preprocessing.LabelEncoder()\n",
        "df['Measurement_boxname_le'] = Measurement_boxname_le.fit_transform(df['Measurement_boxname']) "
      ],
      "execution_count": 267,
      "outputs": []
    },
    {
      "cell_type": "code",
      "metadata": {
        "ExecuteTime": {
          "end_time": "2020-03-02T14:42:07.494379Z",
          "start_time": "2020-03-02T14:42:07.487372Z"
        },
        "id": "ecKJ5DqN0eSi"
      },
      "source": [
        "df = df[['std_dev_tcp_window_size','max_tcp_window_size','max_tcp_window_size','min_tcp_window_size','min_data_bytes', 'max_data_bytes', 'avg_databytes','std_dev_databytes','total_data_bytes', 'Measurement_boxname_le']]"
      ],
      "execution_count": 268,
      "outputs": []
    },
    {
      "cell_type": "code",
      "metadata": {
        "ExecuteTime": {
          "end_time": "2020-03-02T14:42:15.459071Z",
          "start_time": "2020-03-02T14:42:15.443117Z"
        },
        "id": "oPo1rdig0eSi"
      },
      "source": [
        "validate = df[['std_dev_tcp_window_size','max_tcp_window_size','max_tcp_window_size','min_tcp_window_size','min_data_bytes', 'max_data_bytes', 'avg_databytes','std_dev_databytes','total_data_bytes', 'Measurement_boxname_le']].tail(50)\n",
        "df.drop(df.tail(50).index,inplace=True)"
      ],
      "execution_count": 269,
      "outputs": []
    },
    {
      "cell_type": "code",
      "metadata": {
        "ExecuteTime": {
          "end_time": "2020-03-02T14:42:17.303142Z",
          "start_time": "2020-03-02T14:42:17.295163Z"
        },
        "id": "Iz0-5EGt0eSj"
      },
      "source": [
        "def custom_ts_multi_data_prep(dataset, target, start, end, window, horizon):\n",
        "    X = []\n",
        "    y = []\n",
        "    start = start + window\n",
        "    if end is None:\n",
        "        end = len(dataset) - horizon\n",
        "\n",
        "    for i in range(start, end):\n",
        "        indices = range(i-window, i)\n",
        "        X.append(dataset[indices])\n",
        "\n",
        "        indicey = range(i+1, i+1+horizon)\n",
        "        y.append(target[indicey])\n",
        "    return np.array(X), np.array(y)"
      ],
      "execution_count": 270,
      "outputs": []
    },
    {
      "cell_type": "code",
      "metadata": {
        "ExecuteTime": {
          "end_time": "2020-03-02T14:12:27.647485Z",
          "start_time": "2020-03-02T14:12:27.636515Z"
        },
        "id": "maVmlt280eSj"
      },
      "source": [
        "validate = df[['std_dev_tcp_window_size','max_tcp_window_size','max_tcp_window_size','min_tcp_window_size','min_data_bytes', 'max_data_bytes', 'avg_databytes','std_dev_databytes','total_data_bytes', 'Measurement_boxname_le']].tail(100)\n",
        "df.drop(df.tail(100).index,inplace=True)"
      ],
      "execution_count": 271,
      "outputs": []
    },
    {
      "cell_type": "code",
      "metadata": {
        "ExecuteTime": {
          "end_time": "2020-03-02T14:42:29.773817Z",
          "start_time": "2020-03-02T14:42:29.750878Z"
        },
        "id": "fI9gXQ410eSj"
      },
      "source": [
        "x_scaler = preprocessing.MinMaxScaler()\n",
        "y_scaler = preprocessing.MinMaxScaler()\n",
        "dataX = x_scaler.fit_transform(df[['std_dev_tcp_window_size','max_tcp_window_size','max_tcp_window_size','min_tcp_window_size','Measurement_boxname_le','min_data_bytes', 'max_data_bytes', 'avg_databytes','std_dev_databytes','total_data_bytes']])\n",
        "dataY = y_scaler.fit_transform(df[['total_data_bytes']])"
      ],
      "execution_count": 272,
      "outputs": []
    },
    {
      "cell_type": "code",
      "metadata": {
        "ExecuteTime": {
          "end_time": "2020-03-02T14:42:39.460964Z",
          "start_time": "2020-03-02T14:42:37.950966Z"
        },
        "id": "09mbsYFJ0eSk"
      },
      "source": [
        "\"\"\"\n",
        "#hist_window = 48\n",
        "#horizon = 10\n",
        "hist_window =35\n",
        "#horizon = 30\n",
        "horizon = 10\n",
        "\"\"\"\n",
        "#hist_window =200\n",
        "#hist_window =300\n",
        "#hist_window =50\n",
        "hist_window =150\n",
        "horizon = 100\n",
        "\n",
        "\n",
        "TRAIN_SPLIT = 5500\n",
        "x_train_multi, y_train_multi = custom_ts_multi_data_prep(\n",
        "    dataX, dataY, 0, TRAIN_SPLIT, hist_window, horizon)\n",
        "x_val_multi, y_val_multi = custom_ts_multi_data_prep(\n",
        "    dataX, dataY, TRAIN_SPLIT, None, hist_window, horizon)"
      ],
      "execution_count": 273,
      "outputs": []
    },
    {
      "cell_type": "code",
      "metadata": {
        "ExecuteTime": {
          "end_time": "2020-03-02T14:42:47.762747Z",
          "start_time": "2020-03-02T14:42:47.750779Z"
        },
        "id": "fUak0vOz0eSk",
        "scrolled": true,
        "colab": {
          "base_uri": "https://localhost:8080/"
        },
        "outputId": "33f15df3-dc71-40a5-c56d-b67f2fb721d0"
      },
      "source": [
        "print ('Single window of past history')\n",
        "print(x_train_multi[0])\n",
        "print ('\\n Target horizon')\n",
        "print (y_train_multi[0])"
      ],
      "execution_count": 274,
      "outputs": [
        {
          "output_type": "stream",
          "text": [
            "Single window of past history\n",
            "[[0.00318907 1.         1.         ... 0.92620063 0.83064738 0.53022238]\n",
            " [0.00501139 1.         1.         ... 0.5560866  0.51308245 0.95353474]\n",
            " [0.00592255 1.         1.         ... 0.54369195 0.65795782 0.94257725]\n",
            " ...\n",
            " [0.00318907 1.         1.         ... 0.42616427 0.5316785  0.96207189]\n",
            " [0.0022779  1.         1.         ... 0.59375971 0.68094559 0.94541046]\n",
            " [0.0022779  1.         1.         ... 0.45972567 0.43888999 0.96841732]]\n",
            "\n",
            " Target horizon\n",
            "[[0.96310463]\n",
            " [0.94614406]\n",
            " [0.95992111]\n",
            " [0.94780918]\n",
            " [0.55984877]\n",
            " [0.95792729]\n",
            " [0.96227093]\n",
            " [0.96019067]\n",
            " [0.93869766]\n",
            " [0.94313115]\n",
            " [0.95847209]\n",
            " [0.95846072]\n",
            " [0.9766178 ]\n",
            " [0.96804994]\n",
            " [0.9483392 ]\n",
            " [0.56652063]\n",
            " [0.95855285]\n",
            " [0.96219473]\n",
            " [0.95229727]\n",
            " [0.95538639]\n",
            " [0.9466593 ]\n",
            " [0.9633958 ]\n",
            " [0.95261688]\n",
            " [0.96102778]\n",
            " [0.95452767]\n",
            " [0.94858374]\n",
            " [0.97563284]\n",
            " [0.54414274]\n",
            " [0.95349607]\n",
            " [0.93493976]\n",
            " [0.94970178]\n",
            " [0.95715274]\n",
            " [0.9527818 ]\n",
            " [0.94915129]\n",
            " [0.95099839]\n",
            " [0.96450588]\n",
            " [0.95571054]\n",
            " [0.56781951]\n",
            " [0.95715501]\n",
            " [0.95811609]\n",
            " [0.96417263]\n",
            " [0.94262616]\n",
            " [0.98041209]\n",
            " [0.94506583]\n",
            " [0.96052392]\n",
            " [0.97320795]\n",
            " [0.96932836]\n",
            " [0.96204801]\n",
            " [0.95218581]\n",
            " [0.54597733]\n",
            " [0.97162017]\n",
            " [0.96124957]\n",
            " [0.94890789]\n",
            " [0.96516897]\n",
            " [0.94999181]\n",
            " [0.95613478]\n",
            " [0.93448254]\n",
            " [0.97018708]\n",
            " [0.95124634]\n",
            " [0.96261101]\n",
            " [0.54209205]\n",
            " [0.94252493]\n",
            " [0.94991219]\n",
            " [0.94535245]\n",
            " [0.97325686]\n",
            " [0.95814112]\n",
            " [0.95357227]\n",
            " [0.94797069]\n",
            " [0.95336868]\n",
            " [0.95260892]\n",
            " [0.93442794]\n",
            " [0.55474309]\n",
            " [0.93985778]\n",
            " [0.94055044]\n",
            " [0.95139761]\n",
            " [0.9517138 ]\n",
            " [0.95499741]\n",
            " [0.96532593]\n",
            " [0.9443527 ]\n",
            " [0.95185142]\n",
            " [0.94896248]\n",
            " [0.96180688]\n",
            " [0.56276387]\n",
            " [0.96200934]\n",
            " [0.97071596]\n",
            " [0.96332642]\n",
            " [0.929138  ]\n",
            " [0.9432483 ]\n",
            " [0.96109375]\n",
            " [0.94750209]\n",
            " [0.94907167]\n",
            " [0.9503262 ]\n",
            " [0.96221179]\n",
            " [0.96169314]\n",
            " [0.53936803]\n",
            " [0.94571527]\n",
            " [0.96021797]\n",
            " [0.94075972]\n",
            " [0.93744654]\n",
            " [0.95805126]]\n"
          ],
          "name": "stdout"
        }
      ]
    },
    {
      "cell_type": "code",
      "metadata": {
        "ExecuteTime": {
          "end_time": "2020-03-02T14:42:51.333206Z",
          "start_time": "2020-03-02T14:42:50.195250Z"
        },
        "id": "CMdtV62F0eSl"
      },
      "source": [
        "BATCH_SIZE = 256\n",
        "BUFFER_SIZE = 150\n",
        "#BATCH_SIZE = 64\n",
        "#BUFFER_SIZE = 37\n",
        "#BATCH_SIZE = 150\n",
        "#BATCH_SIZE = 64\n",
        "#BUFFER_SIZE = 100\n",
        "\n",
        "train_data_multi = tf.data.Dataset.from_tensor_slices((x_train_multi, y_train_multi))\n",
        "train_data_multi = train_data_multi.cache().shuffle(BUFFER_SIZE).batch(BATCH_SIZE).repeat()\n",
        "\n",
        "val_data_multi = tf.data.Dataset.from_tensor_slices((x_val_multi, y_val_multi))\n",
        "val_data_multi = val_data_multi.batch(BATCH_SIZE).repeat()\n"
      ],
      "execution_count": 275,
      "outputs": []
    },
    {
      "cell_type": "code",
      "metadata": {
        "ExecuteTime": {
          "end_time": "2020-03-02T14:42:55.747446Z",
          "start_time": "2020-03-02T14:42:54.486777Z"
        },
        "id": "dRBrm7Za0eSl"
      },
      "source": [
        "Bi_lstm_model = tf.keras.models.Sequential([\n",
        "  tf.keras.layers.Bidirectional(tf.keras.layers.LSTM(150, return_sequences=True), \n",
        "                               input_shape=x_train_multi.shape[-2:]),\n",
        "    tf.keras.layers.Bidirectional(tf.keras.layers.LSTM(50)),\n",
        "    tf.keras.layers.Dense(20, activation='tanh'),\n",
        "    tf.keras.layers.Dropout(0.2),\n",
        "    tf.keras.layers.Dense(units=horizon),\n",
        "])\n",
        "Bi_lstm_model.compile(optimizer='adam', loss='mse')\n"
      ],
      "execution_count": 276,
      "outputs": []
    },
    {
      "cell_type": "code",
      "metadata": {
        "ExecuteTime": {
          "end_time": "2020-03-02T14:43:02.444514Z",
          "start_time": "2020-03-02T14:43:02.439525Z"
        },
        "id": "8pRYumy80eSl"
      },
      "source": [
        "model_path = r'Bidirectional_LSTM_Multivariate.h5'"
      ],
      "execution_count": 277,
      "outputs": []
    },
    {
      "cell_type": "code",
      "metadata": {
        "ExecuteTime": {
          "end_time": "2020-03-02T14:46:17.840399Z",
          "start_time": "2020-03-02T14:43:09.804845Z"
        },
        "id": "u8uX-YD80eSl",
        "colab": {
          "base_uri": "https://localhost:8080/"
        },
        "outputId": "474c66c3-5c71-4d91-de92-dc3381182d74"
      },
      "source": [
        "#EVALUATION_INTERVAL = 100\n",
        "#EPOCHS = 150\n",
        "#EVALUATION_INTERVAL = 70\n",
        "EVALUATION_INTERVAL = 100\n",
        "#EPOCHS = 150\n",
        "EPOCHS = 150\n",
        "#history = Bi_lstm_model.fit(train_data_multi, epochs=EPOCHS, steps_per_epoch=EVALUATION_INTERVAL, validation_data=val_data_multi, validation_steps=50, verbose=1,\n",
        "history = Bi_lstm_model.fit(train_data_multi, epochs=EPOCHS, steps_per_epoch=EVALUATION_INTERVAL, validation_data=val_data_multi, validation_steps=50, verbose=1,\n",
        "                                   callbacks=[tf.keras.callbacks.EarlyStopping(monitor='val_loss', min_delta=0, patience=10, verbose=1, mode='min'), tf.keras.callbacks.ModelCheckpoint(model_path, monitor='val_loss', save_best_only=True, mode='min', verbose=0)])"
      ],
      "execution_count": 278,
      "outputs": [
        {
          "output_type": "stream",
          "text": [
            "Epoch 1/150\n",
            "100/100 [==============================] - 14s 86ms/step - loss: 0.4305 - val_loss: 0.0438\n",
            "Epoch 2/150\n",
            "100/100 [==============================] - 7s 75ms/step - loss: 0.0714 - val_loss: 0.0349\n",
            "Epoch 3/150\n",
            "100/100 [==============================] - 8s 75ms/step - loss: 0.0513 - val_loss: 0.0178\n",
            "Epoch 4/150\n",
            "100/100 [==============================] - 7s 74ms/step - loss: 0.0427 - val_loss: 0.0134\n",
            "Epoch 5/150\n",
            "100/100 [==============================] - 7s 74ms/step - loss: 0.0358 - val_loss: 0.0349\n",
            "Epoch 6/150\n",
            "100/100 [==============================] - 7s 72ms/step - loss: 0.0308 - val_loss: 0.0179\n",
            "Epoch 7/150\n",
            "100/100 [==============================] - 7s 72ms/step - loss: 0.0288 - val_loss: 0.0240\n",
            "Epoch 8/150\n",
            "100/100 [==============================] - 7s 72ms/step - loss: 0.0305 - val_loss: 0.0134\n",
            "Epoch 9/150\n",
            "100/100 [==============================] - 7s 72ms/step - loss: 0.0267 - val_loss: 0.0118\n",
            "Epoch 10/150\n",
            "100/100 [==============================] - 7s 72ms/step - loss: 0.0246 - val_loss: 0.0344\n",
            "Epoch 11/150\n",
            "100/100 [==============================] - 7s 72ms/step - loss: 0.0264 - val_loss: 0.0168\n",
            "Epoch 12/150\n",
            "100/100 [==============================] - 7s 72ms/step - loss: 0.0257 - val_loss: 0.0099\n",
            "Epoch 13/150\n",
            "100/100 [==============================] - 7s 73ms/step - loss: 0.0220 - val_loss: 0.0241\n",
            "Epoch 14/150\n",
            "100/100 [==============================] - 7s 73ms/step - loss: 0.0242 - val_loss: 0.0242\n",
            "Epoch 15/150\n",
            "100/100 [==============================] - 7s 73ms/step - loss: 0.0219 - val_loss: 0.0099\n",
            "Epoch 16/150\n",
            "100/100 [==============================] - 7s 73ms/step - loss: 0.0201 - val_loss: 0.0099\n",
            "Epoch 17/150\n",
            "100/100 [==============================] - 7s 72ms/step - loss: 0.0201 - val_loss: 0.0118\n",
            "Epoch 18/150\n",
            "100/100 [==============================] - 7s 73ms/step - loss: 0.0208 - val_loss: 0.0110\n",
            "Epoch 19/150\n",
            "100/100 [==============================] - 7s 73ms/step - loss: 0.0193 - val_loss: 0.0095\n",
            "Epoch 20/150\n",
            "100/100 [==============================] - 7s 72ms/step - loss: 0.0186 - val_loss: 0.0106\n",
            "Epoch 21/150\n",
            "100/100 [==============================] - 7s 72ms/step - loss: 0.0184 - val_loss: 0.0099\n",
            "Epoch 22/150\n",
            "100/100 [==============================] - 7s 72ms/step - loss: 0.0183 - val_loss: 0.0097\n",
            "Epoch 23/150\n",
            "100/100 [==============================] - 7s 72ms/step - loss: 0.0182 - val_loss: 0.0123\n",
            "Epoch 24/150\n",
            "100/100 [==============================] - 7s 72ms/step - loss: 0.0182 - val_loss: 0.0106\n",
            "Epoch 25/150\n",
            "100/100 [==============================] - 7s 72ms/step - loss: 0.0185 - val_loss: 0.0135\n",
            "Epoch 26/150\n",
            "100/100 [==============================] - 7s 73ms/step - loss: 0.0195 - val_loss: 0.0120\n",
            "Epoch 27/150\n",
            "100/100 [==============================] - 7s 72ms/step - loss: 0.0161 - val_loss: 0.0092\n",
            "Epoch 28/150\n",
            "100/100 [==============================] - 7s 73ms/step - loss: 0.0163 - val_loss: 0.0095\n",
            "Epoch 29/150\n",
            "100/100 [==============================] - 7s 73ms/step - loss: 0.0161 - val_loss: 0.0094\n",
            "Epoch 30/150\n",
            "100/100 [==============================] - 7s 73ms/step - loss: 0.0161 - val_loss: 0.0094\n",
            "Epoch 31/150\n",
            "100/100 [==============================] - 7s 73ms/step - loss: 0.0152 - val_loss: 0.0092\n",
            "Epoch 32/150\n",
            "100/100 [==============================] - 7s 73ms/step - loss: 0.0156 - val_loss: 0.0092\n",
            "Epoch 33/150\n",
            "100/100 [==============================] - 7s 73ms/step - loss: 0.0154 - val_loss: 0.0097\n",
            "Epoch 34/150\n",
            "100/100 [==============================] - 7s 73ms/step - loss: 0.0156 - val_loss: 0.0096\n",
            "Epoch 35/150\n",
            "100/100 [==============================] - 7s 73ms/step - loss: 0.0148 - val_loss: 0.0092\n",
            "Epoch 36/150\n",
            "100/100 [==============================] - 7s 72ms/step - loss: 0.0151 - val_loss: 0.0115\n",
            "Epoch 37/150\n",
            "100/100 [==============================] - 7s 73ms/step - loss: 0.0156 - val_loss: 0.0106\n",
            "Epoch 38/150\n",
            "100/100 [==============================] - 7s 72ms/step - loss: 0.0151 - val_loss: 0.0104\n",
            "Epoch 39/150\n",
            "100/100 [==============================] - 7s 72ms/step - loss: 0.0147 - val_loss: 0.0092\n",
            "Epoch 40/150\n",
            "100/100 [==============================] - 7s 72ms/step - loss: 0.0145 - val_loss: 0.0092\n",
            "Epoch 41/150\n",
            "100/100 [==============================] - 7s 73ms/step - loss: 0.0145 - val_loss: 0.0094\n",
            "Epoch 00041: early stopping\n"
          ],
          "name": "stdout"
        }
      ]
    },
    {
      "cell_type": "code",
      "metadata": {
        "ExecuteTime": {
          "end_time": "2020-03-02T14:46:29.065398Z",
          "start_time": "2020-03-02T14:46:26.248901Z"
        },
        "id": "Vx8NoGsp0eSm"
      },
      "source": [
        "Trained_model = tf.keras.models.load_model(model_path)"
      ],
      "execution_count": 279,
      "outputs": []
    },
    {
      "cell_type": "code",
      "metadata": {
        "ExecuteTime": {
          "end_time": "2020-03-02T14:46:29.076339Z",
          "start_time": "2020-03-02T14:46:29.067392Z"
        },
        "id": "KvEdjHrh0eSm",
        "colab": {
          "base_uri": "https://localhost:8080/"
        },
        "outputId": "73fccda6-6290-4a07-fac6-d79b2d51fbb0"
      },
      "source": [
        "# Show the model architecture\n",
        "Trained_model.summary()"
      ],
      "execution_count": 280,
      "outputs": [
        {
          "output_type": "stream",
          "text": [
            "Model: \"sequential_9\"\n",
            "_________________________________________________________________\n",
            "Layer (type)                 Output Shape              Param #   \n",
            "=================================================================\n",
            "bidirectional_18 (Bidirectio (None, 150, 300)          195600    \n",
            "_________________________________________________________________\n",
            "bidirectional_19 (Bidirectio (None, 100)               140400    \n",
            "_________________________________________________________________\n",
            "dense_18 (Dense)             (None, 20)                2020      \n",
            "_________________________________________________________________\n",
            "dropout_9 (Dropout)          (None, 20)                0         \n",
            "_________________________________________________________________\n",
            "dense_19 (Dense)             (None, 100)               2100      \n",
            "=================================================================\n",
            "Total params: 340,120\n",
            "Trainable params: 340,120\n",
            "Non-trainable params: 0\n",
            "_________________________________________________________________\n"
          ],
          "name": "stdout"
        }
      ]
    },
    {
      "cell_type": "code",
      "metadata": {
        "ExecuteTime": {
          "end_time": "2020-03-02T14:46:33.385823Z",
          "start_time": "2020-03-02T14:46:33.134495Z"
        },
        "id": "tyWdsGX00eSn",
        "colab": {
          "base_uri": "https://localhost:8080/",
          "height": 567
        },
        "outputId": "0b5aba5c-7a42-41ec-bb2a-e130e6b93bcf"
      },
      "source": [
        "plt.plot(history.history['loss'])\n",
        "plt.plot(history.history['val_loss'])\n",
        "plt.title('Model loss')\n",
        "plt.ylabel('loss')\n",
        "plt.xlabel('epoch')\n",
        "plt.legend(['train loss', 'validation loss'], loc='upper left')\n",
        "plt.rcParams[\"figure.figsize\"] = [16,9]\n",
        "plt.show()"
      ],
      "execution_count": 281,
      "outputs": [
        {
          "output_type": "display_data",
          "data": {
            "image/png": "[encoded data removed]",
            "text/plain": [
              "<Figure size 1152x648 with 1 Axes>"
            ]
          },
          "metadata": {
            "tags": [],
            "needs_background": "light"
          }
        }
      ]
    },
    {
      "cell_type": "code",
      "metadata": {
        "ExecuteTime": {
          "end_time": "2020-03-02T14:46:35.867194Z",
          "start_time": "2020-03-02T14:46:35.858217Z"
        },
        "id": "YEsiqFUp0eSn"
      },
      "source": [
        "data_val = x_scaler.fit_transform(df[['std_dev_tcp_window_size','max_tcp_window_size','max_tcp_window_size','min_tcp_window_size','Measurement_boxname_le','min_data_bytes', 'max_data_bytes', 'avg_databytes','std_dev_databytes','total_data_bytes']].tail(100))"
      ],
      "execution_count": 282,
      "outputs": []
    },
    {
      "cell_type": "code",
      "metadata": {
        "ExecuteTime": {
          "end_time": "2020-03-02T14:46:37.087931Z",
          "start_time": "2020-03-02T14:46:37.083941Z"
        },
        "id": "BnL3oj2Z0eSo"
      },
      "source": [
        "val_rescaled = data_val.reshape(1, data_val.shape[0], data_val.shape[1])"
      ],
      "execution_count": 283,
      "outputs": []
    },
    {
      "cell_type": "code",
      "metadata": {
        "ExecuteTime": {
          "end_time": "2020-03-02T14:46:39.479539Z",
          "start_time": "2020-03-02T14:46:38.601887Z"
        },
        "id": "j3g21Pwd0eSo",
        "colab": {
          "base_uri": "https://localhost:8080/"
        },
        "outputId": "ec3e50db-f817-47af-ef6e-d56ff2d309f3"
      },
      "source": [
        "Predicted_results = Trained_model.predict(val_rescaled)"
      ],
      "execution_count": 284,
      "outputs": [
        {
          "output_type": "stream",
          "text": [
            "WARNING:tensorflow:Model was constructed with shape (None, 150, 12) for input KerasTensor(type_spec=TensorSpec(shape=(None, 150, 12), dtype=tf.float32, name='bidirectional_18_input'), name='bidirectional_18_input', description=\"created by layer 'bidirectional_18_input'\"), but it was called on an input with incompatible shape (None, 100, 12).\n",
            "WARNING:tensorflow:10 out of the last 10 calls to <function Model.make_predict_function.<locals>.predict_function at 0x7f481eeaeb90> triggered tf.function retracing. Tracing is expensive and the excessive number of tracings could be due to (1) creating @tf.function repeatedly in a loop, (2) passing tensors with different shapes, (3) passing Python objects instead of tensors. For (1), please define your @tf.function outside of the loop. For (2), @tf.function has experimental_relax_shapes=True option that relaxes argument shapes that can avoid unnecessary retracing. For (3), please refer to https://www.tensorflow.org/guide/function#controlling_retracing and https://www.tensorflow.org/api_docs/python/tf/function for  more details.\n"
          ],
          "name": "stdout"
        }
      ]
    },
    {
      "cell_type": "code",
      "metadata": {
        "ExecuteTime": {
          "end_time": "2020-03-02T14:46:40.354239Z",
          "start_time": "2020-03-02T14:46:40.347220Z"
        },
        "id": "LUgj_wJV0eSo",
        "colab": {
          "base_uri": "https://localhost:8080/"
        },
        "outputId": "84a0dde9-4e76-4d63-87de-21da04842491"
      },
      "source": [
        "Predicted_results"
      ],
      "execution_count": 285,
      "outputs": [
        {
          "output_type": "execute_result",
          "data": {
            "text/plain": [
              "array([[0.7141458 , 0.7143285 , 0.70791185, 0.7126968 , 0.6973417 ,\n",
              "        0.7029123 , 0.69904715, 0.69166887, 0.7117429 , 0.70955086,\n",
              "        0.71706796, 0.7180033 , 0.70175385, 0.71505564, 0.7145311 ,\n",
              "        0.68936586, 0.6969328 , 0.69396913, 0.7089774 , 0.7123755 ,\n",
              "        0.71818745, 0.70174974, 0.69727045, 0.70913213, 0.6990031 ,\n",
              "        0.71735656, 0.70639   , 0.70613956, 0.69511694, 0.7167064 ,\n",
              "        0.70443904, 0.7141404 , 0.7144302 , 0.7065394 , 0.71878266,\n",
              "        0.71589744, 0.7023815 , 0.7134365 , 0.7112012 , 0.7184484 ,\n",
              "        0.70033824, 0.71857524, 0.7141402 , 0.71649575, 0.71656656,\n",
              "        0.71060765, 0.70202756, 0.7149619 , 0.71156704, 0.7048125 ,\n",
              "        0.71072316, 0.693431  , 0.7171912 , 0.71244067, 0.7057828 ,\n",
              "        0.70078677, 0.7155088 , 0.7007351 , 0.7169248 , 0.7101568 ,\n",
              "        0.69899344, 0.7179743 , 0.7080963 , 0.71067005, 0.71690583,\n",
              "        0.7095075 , 0.70914054, 0.7063311 , 0.69258404, 0.7180689 ,\n",
              "        0.6887595 , 0.7073256 , 0.71238387, 0.71413434, 0.7138653 ,\n",
              "        0.71467054, 0.7058362 , 0.7031891 , 0.7128167 , 0.71274114,\n",
              "        0.6944816 , 0.71271086, 0.71065825, 0.7177582 , 0.7114521 ,\n",
              "        0.71569073, 0.6983207 , 0.71529984, 0.7038036 , 0.70095205,\n",
              "        0.6972585 , 0.68497217, 0.7108667 , 0.7138202 , 0.71327466,\n",
              "        0.7118642 , 0.71311134, 0.71493053, 0.71288574, 0.7131031 ]],\n",
              "      dtype=float32)"
            ]
          },
          "metadata": {
            "tags": []
          },
          "execution_count": 285
        }
      ]
    },
    {
      "cell_type": "code",
      "metadata": {
        "ExecuteTime": {
          "end_time": "2020-03-02T14:46:41.823277Z",
          "start_time": "2020-03-02T14:46:41.818290Z"
        },
        "id": "uD5kAvtt0eSp"
      },
      "source": [
        "Predicted_results_Inv_trans = y_scaler.inverse_transform(Predicted_results)"
      ],
      "execution_count": 286,
      "outputs": []
    },
    {
      "cell_type": "code",
      "metadata": {
        "ExecuteTime": {
          "end_time": "2020-03-02T14:46:43.116821Z",
          "start_time": "2020-03-02T14:46:43.110837Z"
        },
        "id": "8Dyms7Pj0eSp",
        "colab": {
          "base_uri": "https://localhost:8080/"
        },
        "outputId": "c67d7e42-eee2-4293-950f-ca6f80131517"
      },
      "source": [
        "Predicted_results_Inv_trans"
      ],
      "execution_count": 287,
      "outputs": [
        {
          "output_type": "execute_result",
          "data": {
            "text/plain": [
              "array([[671960.44, 672121.06, 666479.44, 670686.44, 657186.  , 662083.75,\n",
              "        658685.44, 652198.4 , 669847.75, 667920.5 , 674529.6 , 675352.  ,\n",
              "        661065.25, 672760.4 , 672299.2 , 650173.5 , 656826.5 , 654220.75,\n",
              "        667416.3 , 670404.  , 675513.94, 661061.6 , 657123.4 , 667552.3 ,\n",
              "        658646.75, 674783.4 , 665141.44, 664921.2 , 655229.94, 674211.75,\n",
              "        663426.06, 671955.7 , 672210.5 , 665272.75, 676037.25, 673500.5 ,\n",
              "        661617.06, 671336.8 , 669371.5 , 675743.3 , 659820.6 , 675854.9 ,\n",
              "        671955.5 , 674026.56, 674088.8 , 668849.6 , 661305.9 , 672677.94,\n",
              "        669693.1 , 663754.44, 668951.2 , 653747.7 , 674638.  , 670461.25,\n",
              "        664607.5 , 660214.94, 673158.8 , 660169.5 , 674403.75, 668453.25,\n",
              "        658638.25, 675326.5 , 666641.6 , 668904.5 , 674387.06, 667882.4 ,\n",
              "        667559.75, 665089.6 , 653003.  , 675409.7 , 649640.4 , 665964.  ,\n",
              "        670411.3 , 671950.4 , 671713.8 , 672421.8 , 664654.5 , 662327.1 ,\n",
              "        670791.9 , 670725.44, 654671.4 , 670698.8 , 668894.1 , 675136.5 ,\n",
              "        669592.1 , 673318.75, 658046.75, 672975.06, 662867.4 , 660360.25,\n",
              "        657112.8 , 646310.5 , 669077.4 , 671674.2 , 671194.5 , 669954.4 ,\n",
              "        671050.94, 672650.4 , 670852.56, 671043.7 ]], dtype=float32)"
            ]
          },
          "metadata": {
            "tags": []
          },
          "execution_count": 287
        }
      ]
    },
    {
      "cell_type": "code",
      "metadata": {
        "ExecuteTime": {
          "end_time": "2020-03-02T14:46:47.578896Z",
          "start_time": "2020-03-02T14:46:47.546983Z"
        },
        "id": "IoKJpgw20eSp"
      },
      "source": [
        "from sklearn import metrics\n",
        "def timeseries_evaluation_metrics_func(y_true, y_pred):\n",
        "    \n",
        "    def mean_absolute_percentage_error(y_true, y_pred): \n",
        "        y_true, y_pred = np.array(y_true), np.array(y_pred)\n",
        "        return np.mean(np.abs((y_true - y_pred) / y_true)) * 100\n",
        "    print('Evaluation metric results:-')\n",
        "    print(f'MSE is : {metrics.mean_squared_error(y_true, y_pred)}')\n",
        "    print(f'MAE is : {metrics.mean_absolute_error(y_true, y_pred)}')\n",
        "    print(f'RMSE is : {np.sqrt(metrics.mean_squared_error(y_true, y_pred))}')\n",
        "    print(f'MAPE is : {mean_absolute_percentage_error(y_true, y_pred)}')\n",
        "    print(f'R2 is : {metrics.r2_score(y_true, y_pred)}',end='\\n\\n')"
      ],
      "execution_count": 288,
      "outputs": []
    },
    {
      "cell_type": "code",
      "metadata": {
        "ExecuteTime": {
          "end_time": "2020-03-02T14:47:58.402637Z",
          "start_time": "2020-03-02T14:47:58.395655Z"
        },
        "id": "CxDNxSUU0eSq",
        "colab": {
          "base_uri": "https://localhost:8080/"
        },
        "outputId": "a2808e80-ef60-49f0-d7c8-9afd5637663a"
      },
      "source": [
        "timeseries_evaluation_metrics_func(validate['total_data_bytes'],Predicted_results_Inv_trans[0])"
      ],
      "execution_count": 289,
      "outputs": [
        {
          "output_type": "stream",
          "text": [
            "Evaluation metric results:-\n",
            "MSE is : 12115839085.798203\n",
            "MAE is : 103588.935\n",
            "RMSE is : 110071.97229902897\n",
            "MAPE is : 15.378322310064213\n",
            "R2 is : -0.5474838236614781\n",
            "\n"
          ],
          "name": "stdout"
        }
      ]
    },
    {
      "cell_type": "code",
      "metadata": {
        "ExecuteTime": {
          "end_time": "2020-03-02T14:46:55.156682Z",
          "start_time": "2020-03-02T14:46:54.912299Z"
        },
        "id": "QGSG3FA70eSq",
        "colab": {
          "base_uri": "https://localhost:8080/",
          "height": 553
        },
        "outputId": "c0d3555a-988e-4e02-faa2-e03220aad8a3"
      },
      "source": [
        "plt.plot( list(validate['total_data_bytes']))\n",
        "plt.plot( list(Predicted_results_Inv_trans[0]))\n",
        "plt.title(\"Actual vs Predicted\")\n",
        "plt.ylabel(\"total_data_bytes\")\n",
        "plt.legend(('Actual','predicted'))\n",
        "plt.show()"
      ],
      "execution_count": 290,
      "outputs": [
        {
          "output_type": "display_data",
          "data": {
            "image/png": "[encoded data removed]",
            "text/plain": [
              "<Figure size 1152x648 with 1 Axes>"
            ]
          },
          "metadata": {
            "tags": [],
            "needs_background": "light"
          }
        }
      ]
    }
  ]
}