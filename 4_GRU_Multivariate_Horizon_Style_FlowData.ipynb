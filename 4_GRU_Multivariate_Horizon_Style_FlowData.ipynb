{
  "nbformat": 4,
  "nbformat_minor": 0,
  "metadata": {
    "colab": {
      "name": "4_GRU_Multivariate_Horizon_Style_FlowData.ipynb",
      "provenance": [],
      "collapsed_sections": [],
      "include_colab_link": true
    },
    "kernelspec": {
      "display_name": "Python 3",
      "language": "python",
      "name": "python3"
    },
    "language_info": {
      "codemirror_mode": {
        "name": "ipython",
        "version": 3
      },
      "file_extension": ".py",
      "mimetype": "text/x-python",
      "name": "python",
      "nbconvert_exporter": "python",
      "pygments_lexer": "ipython3",
      "version": "3.7.2"
    },
    "latex_envs": {
      "LaTeX_envs_menu_present": true,
      "autoclose": false,
      "autocomplete": true,
      "bibliofile": "biblio.bib",
      "cite_by": "apalike",
      "current_citInitial": 1,
      "eqLabelWithNumbers": true,
      "eqNumInitial": 1,
      "hotkeys": {
        "equation": "Ctrl-E",
        "itemize": "Ctrl-I"
      },
      "labels_anchors": false,
      "latex_user_defs": false,
      "report_style_numbering": false,
      "user_envs_cfg": false
    },
    "nbTranslate": {
      "displayLangs": [
        "*"
      ],
      "hotkey": "alt-t",
      "langInMainMenu": true,
      "sourceLang": "en",
      "targetLang": "fr",
      "useGoogleTranslate": true
    },
    "accelerator": "GPU"
  },
  "cells": [
    {
      "cell_type": "markdown",
      "metadata": {
        "id": "view-in-github",
        "colab_type": "text"
      },
      "source": [
        "<a href=\"https://colab.research.google.com/github/ahmadrathore/Provisioning-SmartX-MicroBox/blob/master/4_GRU_Multivariate_Horizon_Style_FlowData.ipynb\" target=\"_parent\"><img src=\"https://colab.research.google.com/assets/colab-badge.svg\" alt=\"Open In Colab\"/></a>"
      ]
    },
    {
      "cell_type": "code",
      "metadata": {
        "ExecuteTime": {
          "end_time": "2020-03-02T14:55:49.561627Z",
          "start_time": "2020-03-02T14:55:44.617811Z"
        },
        "id": "6kp-6I8C4wc2"
      },
      "source": [
        "import pandas as pd\n",
        "import numpy as np\n",
        "import tensorflow as tf\n",
        "from sklearn import preprocessing\n",
        "import matplotlib.pyplot as plt\n",
        "tf.random.set_seed(123)\n",
        "np.random.seed(123)"
      ],
      "execution_count": 184,
      "outputs": []
    },
    {
      "cell_type": "code",
      "metadata": {
        "ExecuteTime": {
          "end_time": "2020-03-02T14:55:50.932964Z",
          "start_time": "2020-03-02T14:55:50.857134Z"
        },
        "id": "7raKaEpc4wdp"
      },
      "source": [
        "#df = pd.read_csv(r'merge-csv.com__602f0aa73c265.csv')\n",
        "#df = pd.read_csv('merge-csv.com__602f0aa73c265.csv',index_col='Processing_time',\n",
        "#                infer_datetime_format=True)\n",
        "\n",
        "url='https://raw.githubusercontent.com/ahmadrathore/Provisioning-SmartX-MicroBox/master/kafka9092_Network-Flows.csv'\n",
        "\n",
        "df = pd.read_csv(url,index_col='Processing_time',\n",
        "                infer_datetime_format=True)\n",
        "\n"
      ],
      "execution_count": 185,
      "outputs": []
    },
    {
      "cell_type": "code",
      "metadata": {
        "ExecuteTime": {
          "end_time": "2020-03-02T14:55:55.197535Z",
          "start_time": "2020-03-02T14:55:55.176592Z"
        },
        "id": "9XqLMZgd4wdx",
        "colab": {
          "base_uri": "https://localhost:8080/",
          "height": 330
        },
        "outputId": "389882fe-69e4-4ba9-aec8-36ba1f959650"
      },
      "source": [
        "df.head()"
      ],
      "execution_count": 186,
      "outputs": [
        {
          "output_type": "execute_result",
          "data": {
            "text/html": [
              "<div>\n",
              "<style scoped>\n",
              "    .dataframe tbody tr th:only-of-type {\n",
              "        vertical-align: middle;\n",
              "    }\n",
              "\n",
              "    .dataframe tbody tr th {\n",
              "        vertical-align: top;\n",
              "    }\n",
              "\n",
              "    .dataframe thead th {\n",
              "        text-align: right;\n",
              "    }\n",
              "</style>\n",
              "<table border=\"1\" class=\"dataframe\">\n",
              "  <thead>\n",
              "    <tr style=\"text-align: right;\">\n",
              "      <th></th>\n",
              "      <th>Measurement_boxname</th>\n",
              "      <th>src_host_port</th>\n",
              "      <th>dest_host_port</th>\n",
              "      <th>protocol</th>\n",
              "      <th>protocol_count</th>\n",
              "      <th>min_tcp_window_size</th>\n",
              "      <th>max_tcp_window_size</th>\n",
              "      <th>avg_tcp_window_size</th>\n",
              "      <th>std_dev_tcp_window_size</th>\n",
              "      <th>min_data_bytes</th>\n",
              "      <th>max_data_bytes</th>\n",
              "      <th>avg_databytes</th>\n",
              "      <th>std_dev_databytes</th>\n",
              "      <th>total_data_bytes</th>\n",
              "      <th>flow_duration</th>\n",
              "    </tr>\n",
              "    <tr>\n",
              "      <th>Processing_time</th>\n",
              "      <th></th>\n",
              "      <th></th>\n",
              "      <th></th>\n",
              "      <th></th>\n",
              "      <th></th>\n",
              "      <th></th>\n",
              "      <th></th>\n",
              "      <th></th>\n",
              "      <th></th>\n",
              "      <th></th>\n",
              "      <th></th>\n",
              "      <th></th>\n",
              "      <th></th>\n",
              "      <th></th>\n",
              "      <th></th>\n",
              "    </tr>\n",
              "  </thead>\n",
              "  <tbody>\n",
              "    <tr>\n",
              "      <th>2020-12-01T00:05:24.998+09:00</th>\n",
              "      <td>smartx-microbox-gist-1</td>\n",
              "      <td>39846</td>\n",
              "      <td>9092</td>\n",
              "      <td>6</td>\n",
              "      <td>183</td>\n",
              "      <td>2438</td>\n",
              "      <td>2439</td>\n",
              "      <td>2439</td>\n",
              "      <td>0.07</td>\n",
              "      <td>161</td>\n",
              "      <td>11888</td>\n",
              "      <td>2788.26</td>\n",
              "      <td>2591.23</td>\n",
              "      <td>510252</td>\n",
              "      <td>170.018</td>\n",
              "    </tr>\n",
              "    <tr>\n",
              "      <th>2020-12-01T00:10:44.861+09:00</th>\n",
              "      <td>smartx-microbox-gist-1</td>\n",
              "      <td>39846</td>\n",
              "      <td>9092</td>\n",
              "      <td>6</td>\n",
              "      <td>396</td>\n",
              "      <td>2438</td>\n",
              "      <td>2439</td>\n",
              "      <td>2439</td>\n",
              "      <td>0.11</td>\n",
              "      <td>63</td>\n",
              "      <td>11856</td>\n",
              "      <td>2228.37</td>\n",
              "      <td>2094.46</td>\n",
              "      <td>882435</td>\n",
              "      <td>290.016</td>\n",
              "    </tr>\n",
              "    <tr>\n",
              "      <th>2020-12-01T00:15:33.979+09:00</th>\n",
              "      <td>smartx-microbox-gist-1</td>\n",
              "      <td>39846</td>\n",
              "      <td>9092</td>\n",
              "      <td>6</td>\n",
              "      <td>395</td>\n",
              "      <td>2438</td>\n",
              "      <td>2439</td>\n",
              "      <td>2439</td>\n",
              "      <td>0.13</td>\n",
              "      <td>102</td>\n",
              "      <td>13084</td>\n",
              "      <td>2209.62</td>\n",
              "      <td>2321.09</td>\n",
              "      <td>872801</td>\n",
              "      <td>290.017</td>\n",
              "    </tr>\n",
              "    <tr>\n",
              "      <th>2020-12-01T00:25:41.464+09:00</th>\n",
              "      <td>smartx-microbox-gist-1</td>\n",
              "      <td>39846</td>\n",
              "      <td>9092</td>\n",
              "      <td>6</td>\n",
              "      <td>459</td>\n",
              "      <td>2438</td>\n",
              "      <td>2439</td>\n",
              "      <td>2439</td>\n",
              "      <td>0.09</td>\n",
              "      <td>61</td>\n",
              "      <td>11550</td>\n",
              "      <td>1989.66</td>\n",
              "      <td>1919.81</td>\n",
              "      <td>913254</td>\n",
              "      <td>290.017</td>\n",
              "    </tr>\n",
              "    <tr>\n",
              "      <th>2020-12-01T00:35:18.114+09:00</th>\n",
              "      <td>smartx-microbox-gist-1</td>\n",
              "      <td>39846</td>\n",
              "      <td>9092</td>\n",
              "      <td>6</td>\n",
              "      <td>456</td>\n",
              "      <td>2438</td>\n",
              "      <td>2439</td>\n",
              "      <td>2439</td>\n",
              "      <td>0.09</td>\n",
              "      <td>87</td>\n",
              "      <td>11544</td>\n",
              "      <td>1981.21</td>\n",
              "      <td>1909.48</td>\n",
              "      <td>903430</td>\n",
              "      <td>290.011</td>\n",
              "    </tr>\n",
              "  </tbody>\n",
              "</table>\n",
              "</div>"
            ],
            "text/plain": [
              "                                  Measurement_boxname  ...  flow_duration\n",
              "Processing_time                                        ...               \n",
              "2020-12-01T00:05:24.998+09:00  smartx-microbox-gist-1  ...        170.018\n",
              "2020-12-01T00:10:44.861+09:00  smartx-microbox-gist-1  ...        290.016\n",
              "2020-12-01T00:15:33.979+09:00  smartx-microbox-gist-1  ...        290.017\n",
              "2020-12-01T00:25:41.464+09:00  smartx-microbox-gist-1  ...        290.017\n",
              "2020-12-01T00:35:18.114+09:00  smartx-microbox-gist-1  ...        290.011\n",
              "\n",
              "[5 rows x 15 columns]"
            ]
          },
          "metadata": {
            "tags": []
          },
          "execution_count": 186
        }
      ]
    },
    {
      "cell_type": "code",
      "metadata": {
        "ExecuteTime": {
          "end_time": "2020-03-02T14:55:56.568907Z",
          "start_time": "2020-03-02T14:55:56.528980Z"
        },
        "id": "SmXyoJ4e4wd1",
        "colab": {
          "base_uri": "https://localhost:8080/",
          "height": 306
        },
        "outputId": "ae2c94d4-ecdd-45f0-af0b-dc871d090510"
      },
      "source": [
        "df.describe()"
      ],
      "execution_count": 187,
      "outputs": [
        {
          "output_type": "execute_result",
          "data": {
            "text/html": [
              "<div>\n",
              "<style scoped>\n",
              "    .dataframe tbody tr th:only-of-type {\n",
              "        vertical-align: middle;\n",
              "    }\n",
              "\n",
              "    .dataframe tbody tr th {\n",
              "        vertical-align: top;\n",
              "    }\n",
              "\n",
              "    .dataframe thead th {\n",
              "        text-align: right;\n",
              "    }\n",
              "</style>\n",
              "<table border=\"1\" class=\"dataframe\">\n",
              "  <thead>\n",
              "    <tr style=\"text-align: right;\">\n",
              "      <th></th>\n",
              "      <th>src_host_port</th>\n",
              "      <th>dest_host_port</th>\n",
              "      <th>protocol</th>\n",
              "      <th>protocol_count</th>\n",
              "      <th>min_tcp_window_size</th>\n",
              "      <th>max_tcp_window_size</th>\n",
              "      <th>avg_tcp_window_size</th>\n",
              "      <th>std_dev_tcp_window_size</th>\n",
              "      <th>min_data_bytes</th>\n",
              "      <th>max_data_bytes</th>\n",
              "      <th>avg_databytes</th>\n",
              "      <th>std_dev_databytes</th>\n",
              "      <th>total_data_bytes</th>\n",
              "      <th>flow_duration</th>\n",
              "    </tr>\n",
              "  </thead>\n",
              "  <tbody>\n",
              "    <tr>\n",
              "      <th>count</th>\n",
              "      <td>8576.000000</td>\n",
              "      <td>8576.0</td>\n",
              "      <td>8576.0</td>\n",
              "      <td>8576.000000</td>\n",
              "      <td>8576.000000</td>\n",
              "      <td>8576.000000</td>\n",
              "      <td>8576.000000</td>\n",
              "      <td>8576.000000</td>\n",
              "      <td>8576.000000</td>\n",
              "      <td>8576.000000</td>\n",
              "      <td>8576.000000</td>\n",
              "      <td>8576.000000</td>\n",
              "      <td>8576.000000</td>\n",
              "      <td>8576.000000</td>\n",
              "    </tr>\n",
              "    <tr>\n",
              "      <th>mean</th>\n",
              "      <td>40807.862873</td>\n",
              "      <td>9092.0</td>\n",
              "      <td>6.0</td>\n",
              "      <td>362.090602</td>\n",
              "      <td>2315.889576</td>\n",
              "      <td>2317.284632</td>\n",
              "      <td>2316.846782</td>\n",
              "      <td>0.317004</td>\n",
              "      <td>76.953708</td>\n",
              "      <td>10271.796525</td>\n",
              "      <td>2104.136580</td>\n",
              "      <td>2048.747845</td>\n",
              "      <td>761531.681087</td>\n",
              "      <td>279.171818</td>\n",
              "    </tr>\n",
              "    <tr>\n",
              "      <th>std</th>\n",
              "      <td>3907.567979</td>\n",
              "      <td>0.0</td>\n",
              "      <td>0.0</td>\n",
              "      <td>56.159077</td>\n",
              "      <td>395.897535</td>\n",
              "      <td>394.644232</td>\n",
              "      <td>395.614646</td>\n",
              "      <td>1.226467</td>\n",
              "      <td>19.597907</td>\n",
              "      <td>1867.873236</td>\n",
              "      <td>175.951136</td>\n",
              "      <td>231.740512</td>\n",
              "      <td>131589.840309</td>\n",
              "      <td>34.988489</td>\n",
              "    </tr>\n",
              "    <tr>\n",
              "      <th>min</th>\n",
              "      <td>33560.000000</td>\n",
              "      <td>9092.0</td>\n",
              "      <td>6.0</td>\n",
              "      <td>22.000000</td>\n",
              "      <td>499.000000</td>\n",
              "      <td>501.000000</td>\n",
              "      <td>501.000000</td>\n",
              "      <td>0.000000</td>\n",
              "      <td>59.000000</td>\n",
              "      <td>5971.000000</td>\n",
              "      <td>1387.150000</td>\n",
              "      <td>1291.840000</td>\n",
              "      <td>44072.000000</td>\n",
              "      <td>10.014000</td>\n",
              "    </tr>\n",
              "    <tr>\n",
              "      <th>25%</th>\n",
              "      <td>39846.000000</td>\n",
              "      <td>9092.0</td>\n",
              "      <td>6.0</td>\n",
              "      <td>340.000000</td>\n",
              "      <td>2438.000000</td>\n",
              "      <td>2439.000000</td>\n",
              "      <td>2439.000000</td>\n",
              "      <td>0.000000</td>\n",
              "      <td>62.000000</td>\n",
              "      <td>8740.000000</td>\n",
              "      <td>1973.480000</td>\n",
              "      <td>1867.347500</td>\n",
              "      <td>686703.750000</td>\n",
              "      <td>290.015000</td>\n",
              "    </tr>\n",
              "    <tr>\n",
              "      <th>50%</th>\n",
              "      <td>39846.000000</td>\n",
              "      <td>9092.0</td>\n",
              "      <td>6.0</td>\n",
              "      <td>369.000000</td>\n",
              "      <td>2438.000000</td>\n",
              "      <td>2439.000000</td>\n",
              "      <td>2439.000000</td>\n",
              "      <td>0.050000</td>\n",
              "      <td>69.000000</td>\n",
              "      <td>10587.000000</td>\n",
              "      <td>2094.890000</td>\n",
              "      <td>2032.635000</td>\n",
              "      <td>709585.000000</td>\n",
              "      <td>290.016000</td>\n",
              "    </tr>\n",
              "    <tr>\n",
              "      <th>75%</th>\n",
              "      <td>40442.000000</td>\n",
              "      <td>9092.0</td>\n",
              "      <td>6.0</td>\n",
              "      <td>398.000000</td>\n",
              "      <td>2439.000000</td>\n",
              "      <td>2439.000000</td>\n",
              "      <td>2439.000000</td>\n",
              "      <td>0.100000</td>\n",
              "      <td>88.000000</td>\n",
              "      <td>11718.000000</td>\n",
              "      <td>2226.530000</td>\n",
              "      <td>2229.402500</td>\n",
              "      <td>882164.750000</td>\n",
              "      <td>290.017000</td>\n",
              "    </tr>\n",
              "    <tr>\n",
              "      <th>max</th>\n",
              "      <td>59584.000000</td>\n",
              "      <td>9092.0</td>\n",
              "      <td>6.0</td>\n",
              "      <td>514.000000</td>\n",
              "      <td>2439.000000</td>\n",
              "      <td>2439.000000</td>\n",
              "      <td>2439.000000</td>\n",
              "      <td>21.950000</td>\n",
              "      <td>264.000000</td>\n",
              "      <td>14764.000000</td>\n",
              "      <td>2899.900000</td>\n",
              "      <td>2856.150000</td>\n",
              "      <td>923288.000000</td>\n",
              "      <td>290.056000</td>\n",
              "    </tr>\n",
              "  </tbody>\n",
              "</table>\n",
              "</div>"
            ],
            "text/plain": [
              "       src_host_port  dest_host_port  ...  total_data_bytes  flow_duration\n",
              "count    8576.000000          8576.0  ...       8576.000000    8576.000000\n",
              "mean    40807.862873          9092.0  ...     761531.681087     279.171818\n",
              "std      3907.567979             0.0  ...     131589.840309      34.988489\n",
              "min     33560.000000          9092.0  ...      44072.000000      10.014000\n",
              "25%     39846.000000          9092.0  ...     686703.750000     290.015000\n",
              "50%     39846.000000          9092.0  ...     709585.000000     290.016000\n",
              "75%     40442.000000          9092.0  ...     882164.750000     290.017000\n",
              "max     59584.000000          9092.0  ...     923288.000000     290.056000\n",
              "\n",
              "[8 rows x 14 columns]"
            ]
          },
          "metadata": {
            "tags": []
          },
          "execution_count": 187
        }
      ]
    },
    {
      "cell_type": "code",
      "metadata": {
        "ExecuteTime": {
          "end_time": "2020-03-02T14:57:16.428497Z",
          "start_time": "2020-03-02T14:57:16.410545Z"
        },
        "id": "udMuR0mM4wd2"
      },
      "source": [
        "#df.drop_duplicates(subset=['date_time'], keep=False,inplace=True)"
      ],
      "execution_count": 188,
      "outputs": []
    },
    {
      "cell_type": "code",
      "metadata": {
        "ExecuteTime": {
          "end_time": "2020-03-02T14:57:20.947387Z",
          "start_time": "2020-03-02T14:57:20.920463Z"
        },
        "id": "P8Ld7a_b4wd4"
      },
      "source": [
        "Measurement_boxname_le = preprocessing.LabelEncoder()\n",
        "df['Measurement_boxname_le'] = Measurement_boxname_le.fit_transform(df['Measurement_boxname']) "
      ],
      "execution_count": 189,
      "outputs": []
    },
    {
      "cell_type": "code",
      "metadata": {
        "ExecuteTime": {
          "end_time": "2020-03-02T14:57:31.660798Z",
          "start_time": "2020-03-02T14:57:31.652782Z"
        },
        "id": "JhZCaC-U4wd5"
      },
      "source": [
        "df = df[['std_dev_tcp_window_size','avg_tcp_window_size','min_data_bytes', 'max_data_bytes', 'avg_databytes','Measurement_boxname_le','std_dev_databytes','total_data_bytes']]\n",
        "#df = df[['min_data_bytes', 'max_data_bytes', 'avg_databytes','std_dev_databytes','total_data_bytes', 'Measurement_boxname_le']]\n",
        "#df = df[['std_dev_tcp_window_size','max_tcp_window_size','max_tcp_window_size','min_tcp_window_size','Measurement_boxname_le','min_data_bytes', 'max_data_bytes', 'avg_databytes','std_dev_databytes','total_data_bytes']]\n",
        "#df = df[['std_dev_tcp_window_size','avg_tcp_window_size','max_tcp_window_size','min_tcp_window_size','min_data_bytes', 'max_data_bytes', 'avg_databytes','std_dev_databytes','total_data_bytes']]\n"
      ],
      "execution_count": 190,
      "outputs": []
    },
    {
      "cell_type": "code",
      "metadata": {
        "ExecuteTime": {
          "end_time": "2020-03-02T14:57:38.727875Z",
          "start_time": "2020-03-02T14:57:38.720892Z"
        },
        "id": "nVWt8NZp4wd5"
      },
      "source": [
        "def custom_ts_multi_data_prep(dataset, target, start, end, window, horizon):\n",
        "    X = []\n",
        "    y = []\n",
        "    start = start + window\n",
        "    if end is None:\n",
        "        end = len(dataset) - horizon\n",
        "\n",
        "    for i in range(start, end):\n",
        "        indices = range(i-window, i)\n",
        "        X.append(dataset[indices])\n",
        "\n",
        "        indicey = range(i+1, i+1+horizon)\n",
        "        y.append(target[indicey])\n",
        "    return np.array(X), np.array(y)"
      ],
      "execution_count": 191,
      "outputs": []
    },
    {
      "cell_type": "code",
      "metadata": {
        "ExecuteTime": {
          "end_time": "2020-03-02T14:57:47.704885Z",
          "start_time": "2020-03-02T14:57:47.688927Z"
        },
        "id": "-QB5BlQV4wd6"
      },
      "source": [
        "validate = df[['std_dev_tcp_window_size','avg_tcp_window_size','min_data_bytes', 'max_data_bytes', 'avg_databytes','Measurement_boxname_le','std_dev_databytes','total_data_bytes']].tail(100)\n",
        "#validate = df[['min_data_bytes', 'max_data_bytes', 'avg_databytes','std_dev_databytes','total_data_bytes', 'Measurement_boxname_le']].tail(100)\n",
        "#validate = df[['std_dev_tcp_window_size','max_tcp_window_size','max_tcp_window_size','min_tcp_window_size','Measurement_boxname_le','min_data_bytes', 'max_data_bytes', 'avg_databytes','std_dev_databytes','total_data_bytes']].tail(100)\n",
        "#validate = df[['std_dev_tcp_window_size','max_tcp_window_size','avg_tcp_window_size','min_tcp_window_size','min_data_bytes', 'max_data_bytes', 'avg_databytes','std_dev_databytes','total_data_bytes']].tail(100)\n",
        "df.drop(df.tail(100).index,inplace=True)"
      ],
      "execution_count": 192,
      "outputs": []
    },
    {
      "cell_type": "code",
      "metadata": {
        "ExecuteTime": {
          "end_time": "2020-03-02T14:57:53.611104Z",
          "start_time": "2020-03-02T14:57:53.590160Z"
        },
        "id": "gpdqV8SZ4wd8"
      },
      "source": [
        "x_scaler = preprocessing.MinMaxScaler()\n",
        "y_scaler = preprocessing.MinMaxScaler()\n",
        "#dataX = x_scaler.fit_transform(df[['Measurement_boxname_le','min_data_bytes', 'max_data_bytes', 'avg_databytes','std_dev_databytes','total_data_bytes']])\n",
        "dataX = x_scaler.fit_transform(df[['std_dev_tcp_window_size','avg_tcp_window_size','min_data_bytes', 'max_data_bytes', 'avg_databytes','Measurement_boxname_le','std_dev_databytes','total_data_bytes']])\n",
        "#dataX = x_scaler.fit_transform(df[['std_dev_tcp_window_size','avg_tcp_window_size','max_tcp_window_size','min_tcp_window_size','min_data_bytes', 'max_data_bytes', 'avg_databytes','std_dev_databytes','total_data_bytes']])\n",
        "#dataX = x_scaler.fit_transform(df[['std_dev_tcp_window_size','max_tcp_window_size','max_tcp_window_size','min_tcp_window_size','Measurement_boxname_le','min_data_bytes', 'max_data_bytes', 'avg_databytes','std_dev_databytes','total_data_bytes']])\n",
        "dataY = y_scaler.fit_transform(df[['total_data_bytes']])"
      ],
      "execution_count": 193,
      "outputs": []
    },
    {
      "cell_type": "code",
      "metadata": {
        "ExecuteTime": {
          "end_time": "2020-03-02T14:58:06.978414Z",
          "start_time": "2020-03-02T14:58:05.772602Z"
        },
        "id": "PfswN0oV4wd9"
      },
      "source": [
        "#hist_window = 250\n",
        "hist_window = 250\n",
        "horizon = 100\n",
        "TRAIN_SPLIT = 5500\n",
        "x_train_multi, y_train_multi = custom_ts_multi_data_prep(\n",
        "    dataX, dataY, 0, TRAIN_SPLIT, hist_window, horizon)\n",
        "x_val_multi, y_val_multi = custom_ts_multi_data_prep(\n",
        "    dataX, dataY, TRAIN_SPLIT, None, hist_window, horizon)"
      ],
      "execution_count": 194,
      "outputs": []
    },
    {
      "cell_type": "code",
      "metadata": {
        "ExecuteTime": {
          "end_time": "2020-03-02T14:58:29.999861Z",
          "start_time": "2020-03-02T14:58:29.989891Z"
        },
        "id": "qJgNv-iB4wd_",
        "colab": {
          "base_uri": "https://localhost:8080/"
        },
        "outputId": "d497fa4d-728c-4d5d-975f-1dfda67f152c"
      },
      "source": [
        "print ('Single window of past history')\n",
        "print(x_train_multi[0])\n",
        "print ('\\n Target horizon')\n",
        "print (y_train_multi[0])"
      ],
      "execution_count": 195,
      "outputs": [
        {
          "output_type": "stream",
          "text": [
            "Single window of past history\n",
            "[[0.00318907 1.         0.49756098 ... 0.         0.83064738 0.53022238]\n",
            " [0.00501139 1.         0.0195122  ... 0.         0.51308245 0.95353474]\n",
            " [0.00592255 1.         0.2097561  ... 0.         0.65795782 0.94257725]\n",
            " ...\n",
            " [0.00318907 1.         0.00487805 ... 0.         0.63345501 0.96021797]\n",
            " [0.0022779  1.         0.00487805 ... 0.         0.72288741 0.94075972]\n",
            " [0.00455581 1.         0.01463415 ... 0.         0.71618158 0.93744654]]\n",
            "\n",
            " Target horizon\n",
            "[[0.97845239]\n",
            " [0.9564851 ]\n",
            " [0.96109602]\n",
            " [0.96282483]\n",
            " [0.93314726]\n",
            " [0.9368335 ]\n",
            " [0.56987816]\n",
            " [0.97438627]\n",
            " [0.97429301]\n",
            " [0.96975715]\n",
            " [0.94493731]\n",
            " [0.94124766]\n",
            " [0.95624511]\n",
            " [0.93821427]\n",
            " [0.94459723]\n",
            " [0.94795704]\n",
            " [0.55808811]\n",
            " [0.97587282]\n",
            " [0.9508221 ]\n",
            " [0.9536826 ]\n",
            " [0.94350876]\n",
            " [0.95121449]\n",
            " [0.95460501]\n",
            " [0.94560154]\n",
            " [0.94516023]\n",
            " [0.95540459]\n",
            " [0.97044412]\n",
            " [0.54889015]\n",
            " [0.94349056]\n",
            " [0.96267129]\n",
            " [0.94383405]\n",
            " [0.96711388]\n",
            " [0.94191985]\n",
            " [0.95797051]\n",
            " [0.95396239]\n",
            " [0.95468804]\n",
            " [0.95816159]\n",
            " [0.96414874]\n",
            " [0.94183909]\n",
            " [0.55557792]\n",
            " [0.92854543]\n",
            " [0.96847646]\n",
            " [0.96477999]\n",
            " [0.96075481]\n",
            " [0.97300095]\n",
            " [0.95977098]\n",
            " [0.96060013]\n",
            " [0.95824803]\n",
            " [0.95876895]\n",
            " [0.94582219]\n",
            " [0.95922049]\n",
            " [0.56383869]\n",
            " [0.96938295]\n",
            " [0.98457262]\n",
            " [0.94742589]\n",
            " [0.94423327]\n",
            " [0.94944701]\n",
            " [0.95934787]\n",
            " [0.94675256]\n",
            " [0.94552306]\n",
            " [0.95091195]\n",
            " [0.54767657]\n",
            " [0.98467953]\n",
            " [0.94674119]\n",
            " [0.9531867 ]\n",
            " [0.93925384]\n",
            " [0.94842678]\n",
            " [0.95307069]\n",
            " [0.93779231]\n",
            " [0.97055217]\n",
            " [0.95972776]\n",
            " [0.94969382]\n",
            " [0.54447713]\n",
            " [0.95304339]\n",
            " [0.95389643]\n",
            " [0.95206525]\n",
            " [0.95702876]\n",
            " [0.9347248 ]\n",
            " [0.94547301]\n",
            " [0.95990633]\n",
            " [0.95848119]\n",
            " [0.95665798]\n",
            " [0.94902163]\n",
            " [0.94718931]\n",
            " [0.54658127]\n",
            " [0.95169333]\n",
            " [0.97815099]\n",
            " [0.94417527]\n",
            " [0.95651467]\n",
            " [0.94340526]\n",
            " [0.95393623]\n",
            " [0.94985646]\n",
            " [0.95230296]\n",
            " [0.96634047]\n",
            " [0.94126586]\n",
            " [0.96520878]\n",
            " [0.941176  ]\n",
            " [0.96562164]\n",
            " [0.95374857]\n",
            " [0.95790568]]\n"
          ],
          "name": "stdout"
        }
      ]
    },
    {
      "cell_type": "code",
      "metadata": {
        "ExecuteTime": {
          "end_time": "2020-03-02T14:58:54.885449Z",
          "start_time": "2020-03-02T14:58:53.724552Z"
        },
        "id": "U-QgPMlh4weB"
      },
      "source": [
        "BATCH_SIZE = 256\n",
        "BUFFER_SIZE = 300\n",
        "\n",
        "train_data_multi = tf.data.Dataset.from_tensor_slices((x_train_multi, y_train_multi))\n",
        "train_data_multi = train_data_multi.cache().shuffle(BUFFER_SIZE).batch(BATCH_SIZE).repeat()\n",
        "\n",
        "val_data_multi = tf.data.Dataset.from_tensor_slices((x_val_multi, y_val_multi))\n",
        "val_data_multi = val_data_multi.batch(BATCH_SIZE).repeat()"
      ],
      "execution_count": 196,
      "outputs": []
    },
    {
      "cell_type": "code",
      "metadata": {
        "ExecuteTime": {
          "end_time": "2020-03-02T14:59:06.728803Z",
          "start_time": "2020-03-02T14:59:06.128372Z"
        },
        "id": "75ayf4co4weD"
      },
      "source": [
        "GRU_model = tf.keras.models.Sequential([\n",
        "    tf.keras.layers.GRU(100, input_shape=x_train_multi.shape[-2:],return_sequences=True),\n",
        "    tf.keras.layers.Dropout(0.2),\n",
        "    tf.keras.layers.GRU(units=50,return_sequences=False),\n",
        "    tf.keras.layers.Dropout(0.2),\n",
        "    tf.keras.layers.Dense(units=horizon),\n",
        "])\n",
        "GRU_model.compile(optimizer='adam', loss='mse')\n"
      ],
      "execution_count": 197,
      "outputs": []
    },
    {
      "cell_type": "code",
      "metadata": {
        "ExecuteTime": {
          "end_time": "2020-03-02T14:59:21.028554Z",
          "start_time": "2020-03-02T14:59:21.024565Z"
        },
        "id": "ABU3RZkn4weE"
      },
      "source": [
        "model_path = r'GRU_Multivariate.h5'"
      ],
      "execution_count": 198,
      "outputs": []
    },
    {
      "cell_type": "code",
      "metadata": {
        "ExecuteTime": {
          "end_time": "2020-03-02T15:00:53.386775Z",
          "start_time": "2020-03-02T14:59:21.581080Z"
        },
        "id": "CC9CKEeW4weE",
        "colab": {
          "base_uri": "https://localhost:8080/"
        },
        "outputId": "03746fda-a86c-4e0c-f938-cfb6ae59f2a0"
      },
      "source": [
        "EVALUATION_INTERVAL = 100\n",
        "EPOCHS = 150\n",
        "history = GRU_model.fit(train_data_multi, epochs=EPOCHS,steps_per_epoch=EVALUATION_INTERVAL,validation_data=val_data_multi, validation_steps=200,verbose =1,\n",
        "                              callbacks =[tf.keras.callbacks.EarlyStopping(monitor='val_loss', min_delta=0, patience=10, verbose=1, mode='min'),tf.keras.callbacks.ModelCheckpoint(model_path,monitor='val_loss', save_best_only=True, mode='min', verbose=0)])"
      ],
      "execution_count": 199,
      "outputs": [
        {
          "output_type": "stream",
          "text": [
            "Epoch 1/150\n",
            "100/100 [==============================] - 9s 71ms/step - loss: 0.3486 - val_loss: 0.0114\n",
            "Epoch 2/150\n",
            "100/100 [==============================] - 6s 64ms/step - loss: 0.0378 - val_loss: 0.0098\n",
            "Epoch 3/150\n",
            "100/100 [==============================] - 6s 64ms/step - loss: 0.0307 - val_loss: 0.0102\n",
            "Epoch 4/150\n",
            "100/100 [==============================] - 6s 64ms/step - loss: 0.0259 - val_loss: 0.0105\n",
            "Epoch 5/150\n",
            "100/100 [==============================] - 6s 65ms/step - loss: 0.0246 - val_loss: 0.0093\n",
            "Epoch 6/150\n",
            "100/100 [==============================] - 6s 64ms/step - loss: 0.0215 - val_loss: 0.0096\n",
            "Epoch 7/150\n",
            "100/100 [==============================] - 6s 65ms/step - loss: 0.0209 - val_loss: 0.0107\n",
            "Epoch 8/150\n",
            "100/100 [==============================] - 6s 65ms/step - loss: 0.0202 - val_loss: 0.0098\n",
            "Epoch 9/150\n",
            "100/100 [==============================] - 6s 65ms/step - loss: 0.0199 - val_loss: 0.0093\n",
            "Epoch 10/150\n",
            "100/100 [==============================] - 6s 65ms/step - loss: 0.0185 - val_loss: 0.0093\n",
            "Epoch 11/150\n",
            "100/100 [==============================] - 6s 64ms/step - loss: 0.0186 - val_loss: 0.0100\n",
            "Epoch 12/150\n",
            "100/100 [==============================] - 6s 65ms/step - loss: 0.0183 - val_loss: 0.0093\n",
            "Epoch 13/150\n",
            "100/100 [==============================] - 7s 66ms/step - loss: 0.0180 - val_loss: 0.0095\n",
            "Epoch 14/150\n",
            "100/100 [==============================] - 6s 65ms/step - loss: 0.0173 - val_loss: 0.0093\n",
            "Epoch 15/150\n",
            "100/100 [==============================] - 6s 65ms/step - loss: 0.0173 - val_loss: 0.0095\n",
            "Epoch 16/150\n",
            "100/100 [==============================] - 6s 64ms/step - loss: 0.0172 - val_loss: 0.0093\n",
            "Epoch 17/150\n",
            "100/100 [==============================] - 6s 63ms/step - loss: 0.0170 - val_loss: 0.0094\n",
            "Epoch 18/150\n",
            "100/100 [==============================] - 6s 61ms/step - loss: 0.0167 - val_loss: 0.0093\n",
            "Epoch 19/150\n",
            "100/100 [==============================] - 6s 62ms/step - loss: 0.0164 - val_loss: 0.0093\n",
            "Epoch 20/150\n",
            "100/100 [==============================] - 6s 62ms/step - loss: 0.0163 - val_loss: 0.0101\n",
            "Epoch 21/150\n",
            "100/100 [==============================] - 6s 62ms/step - loss: 0.0164 - val_loss: 0.0098\n",
            "Epoch 22/150\n",
            "100/100 [==============================] - 6s 62ms/step - loss: 0.0163 - val_loss: 0.0094\n",
            "Epoch 00022: early stopping\n"
          ],
          "name": "stdout"
        }
      ]
    },
    {
      "cell_type": "code",
      "metadata": {
        "ExecuteTime": {
          "end_time": "2020-03-02T15:01:12.365068Z",
          "start_time": "2020-03-02T15:01:10.556902Z"
        },
        "id": "uC6JC8XA4weF"
      },
      "source": [
        "Trained_model = tf.keras.models.load_model(model_path)"
      ],
      "execution_count": 200,
      "outputs": []
    },
    {
      "cell_type": "code",
      "metadata": {
        "ExecuteTime": {
          "end_time": "2020-03-02T15:01:14.374664Z",
          "start_time": "2020-03-02T15:01:14.367683Z"
        },
        "id": "o9KS9DfU4weG",
        "colab": {
          "base_uri": "https://localhost:8080/"
        },
        "outputId": "5ce86831-02e0-425b-9bd7-e0617453f902"
      },
      "source": [
        "# Show the model architecture\n",
        "Trained_model.summary()"
      ],
      "execution_count": 201,
      "outputs": [
        {
          "output_type": "stream",
          "text": [
            "Model: \"sequential_6\"\n",
            "_________________________________________________________________\n",
            "Layer (type)                 Output Shape              Param #   \n",
            "=================================================================\n",
            "gru_12 (GRU)                 (None, 250, 100)          33000     \n",
            "_________________________________________________________________\n",
            "dropout_12 (Dropout)         (None, 250, 100)          0         \n",
            "_________________________________________________________________\n",
            "gru_13 (GRU)                 (None, 50)                22800     \n",
            "_________________________________________________________________\n",
            "dropout_13 (Dropout)         (None, 50)                0         \n",
            "_________________________________________________________________\n",
            "dense_6 (Dense)              (None, 100)               5100      \n",
            "=================================================================\n",
            "Total params: 60,900\n",
            "Trainable params: 60,900\n",
            "Non-trainable params: 0\n",
            "_________________________________________________________________\n"
          ],
          "name": "stdout"
        }
      ]
    },
    {
      "cell_type": "code",
      "metadata": {
        "ExecuteTime": {
          "end_time": "2020-03-02T15:01:19.974699Z",
          "start_time": "2020-03-02T15:01:19.728358Z"
        },
        "id": "9WosF-eD4weH",
        "colab": {
          "base_uri": "https://localhost:8080/",
          "height": 567
        },
        "outputId": "44275f2f-311e-4db6-ce55-47da4dc9a58c"
      },
      "source": [
        "plt.plot(history.history['loss'])\n",
        "plt.plot(history.history['val_loss'])\n",
        "plt.title('Model loss')\n",
        "plt.ylabel('loss')\n",
        "plt.xlabel('epoch')\n",
        "plt.legend(['train loss', 'validation loss'], loc='upper left')\n",
        "plt.rcParams[\"figure.figsize\"] = [16,9]\n",
        "plt.show()"
      ],
      "execution_count": 202,
      "outputs": [
        {
          "output_type": "display_data",
          "data": {
            "image/png": "[encoded data removed]",
            "text/plain": [
              "<Figure size 1152x648 with 1 Axes>"
            ]
          },
          "metadata": {
            "tags": [],
            "needs_background": "light"
          }
        }
      ]
    },
    {
      "cell_type": "code",
      "metadata": {
        "ExecuteTime": {
          "end_time": "2020-03-02T15:01:29.046458Z",
          "start_time": "2020-03-02T15:01:29.035487Z"
        },
        "id": "_ku88u0W4weH"
      },
      "source": [
        "data_val = x_scaler.fit_transform(df[['std_dev_tcp_window_size','avg_tcp_window_size','Measurement_boxname_le','min_data_bytes', 'max_data_bytes', 'avg_databytes','std_dev_databytes','total_data_bytes']].tail(100))\n",
        "#data_val = x_scaler.fit_transform(df[['std_dev_tcp_window_size','max_tcp_window_size','max_tcp_window_size','min_tcp_window_size','Measurement_boxname_le','min_data_bytes', 'max_data_bytes', 'avg_databytes','std_dev_databytes','total_data_bytes']].tail(100))\n",
        "#data_val = x_scaler.fit_transform(df[['std_dev_tcp_window_size','avg_tcp_window_size','max_tcp_window_size','min_tcp_window_size','min_data_bytes', 'max_data_bytes', 'avg_databytes','std_dev_databytes','total_data_bytes']].tail(100))\n",
        "#data_val = x_scaler.fit_transform(df[['Measurement_boxname_le','min_data_bytes', 'max_data_bytes', 'avg_databytes','std_dev_databytes','total_data_bytes']].tail(80))"
      ],
      "execution_count": 203,
      "outputs": []
    },
    {
      "cell_type": "code",
      "metadata": {
        "ExecuteTime": {
          "end_time": "2020-03-02T15:01:30.197386Z",
          "start_time": "2020-03-02T15:01:30.192397Z"
        },
        "id": "Us0sAiM14weI"
      },
      "source": [
        "val_rescaled = data_val.reshape(1, data_val.shape[0], data_val.shape[1])"
      ],
      "execution_count": 204,
      "outputs": []
    },
    {
      "cell_type": "code",
      "metadata": {
        "ExecuteTime": {
          "end_time": "2020-03-02T15:01:32.454387Z",
          "start_time": "2020-03-02T15:01:31.999567Z"
        },
        "id": "Hpy0VyJk4weI",
        "outputId": "3e235d74-4d3b-4e60-b4cb-4f6fb1a8b9c2",
        "colab": {
          "base_uri": "https://localhost:8080/"
        }
      },
      "source": [
        "Predicted_results = Trained_model.predict(val_rescaled)"
      ],
      "execution_count": 205,
      "outputs": [
        {
          "output_type": "stream",
          "text": [
            "WARNING:tensorflow:Model was constructed with shape (None, 250, 8) for input KerasTensor(type_spec=TensorSpec(shape=(None, 250, 8), dtype=tf.float32, name='gru_12_input'), name='gru_12_input', description=\"created by layer 'gru_12_input'\"), but it was called on an input with incompatible shape (None, 100, 8).\n",
            "WARNING:tensorflow:7 out of the last 7 calls to <function Model.make_predict_function.<locals>.predict_function at 0x7f17e00bd290> triggered tf.function retracing. Tracing is expensive and the excessive number of tracings could be due to (1) creating @tf.function repeatedly in a loop, (2) passing tensors with different shapes, (3) passing Python objects instead of tensors. For (1), please define your @tf.function outside of the loop. For (2), @tf.function has experimental_relax_shapes=True option that relaxes argument shapes that can avoid unnecessary retracing. For (3), please refer to https://www.tensorflow.org/guide/function#controlling_retracing and https://www.tensorflow.org/api_docs/python/tf/function for  more details.\n"
          ],
          "name": "stdout"
        }
      ]
    },
    {
      "cell_type": "code",
      "metadata": {
        "ExecuteTime": {
          "end_time": "2020-03-02T15:01:33.226287Z",
          "start_time": "2020-03-02T15:01:33.220341Z"
        },
        "id": "IhMCWPw84weJ",
        "colab": {
          "base_uri": "https://localhost:8080/"
        },
        "outputId": "6b17f5c4-c50a-4774-c420-22dee3f711ba"
      },
      "source": [
        "Predicted_results"
      ],
      "execution_count": 206,
      "outputs": [
        {
          "output_type": "execute_result",
          "data": {
            "text/plain": [
              "array([[0.76306546, 0.80214524, 0.7899816 , 0.7586981 , 0.77710915,\n",
              "        0.7374229 , 0.76048195, 0.7769066 , 0.77895063, 0.7937354 ,\n",
              "        0.749329  , 0.7572242 , 0.7454773 , 0.7747103 , 0.79467726,\n",
              "        0.7768271 , 0.77083826, 0.7578591 , 0.7718633 , 0.74665207,\n",
              "        0.7632508 , 0.74380463, 0.7935467 , 0.77626604, 0.739165  ,\n",
              "        0.7233055 , 0.7377583 , 0.7516589 , 0.7749304 , 0.75596315,\n",
              "        0.71999186, 0.7449764 , 0.78329533, 0.73543316, 0.7674513 ,\n",
              "        0.7882379 , 0.7376792 , 0.751344  , 0.7637762 , 0.75865984,\n",
              "        0.7754122 , 0.7724903 , 0.76530975, 0.752816  , 0.78050154,\n",
              "        0.7726046 , 0.74423414, 0.7571933 , 0.81056374, 0.788439  ,\n",
              "        0.7243459 , 0.7584262 , 0.79149455, 0.77607834, 0.7751945 ,\n",
              "        0.7522799 , 0.7378611 , 0.7541946 , 0.7471726 , 0.7853339 ,\n",
              "        0.7605866 , 0.790573  , 0.77534026, 0.77280796, 0.7659933 ,\n",
              "        0.7854587 , 0.76467186, 0.7795376 , 0.75778973, 0.769944  ,\n",
              "        0.77341515, 0.7763312 , 0.7261717 , 0.7922798 , 0.7452104 ,\n",
              "        0.7882595 , 0.7859108 , 0.7224846 , 0.7825419 , 0.7880208 ,\n",
              "        0.7668245 , 0.7545312 , 0.74937665, 0.7567963 , 0.7721205 ,\n",
              "        0.7546249 , 0.74781305, 0.75699145, 0.75567156, 0.763219  ,\n",
              "        0.7556312 , 0.74358165, 0.74954087, 0.7744012 , 0.7758769 ,\n",
              "        0.80121243, 0.7987189 , 0.76436055, 0.75652534, 0.776947  ]],\n",
              "      dtype=float32)"
            ]
          },
          "metadata": {
            "tags": []
          },
          "execution_count": 206
        }
      ]
    },
    {
      "cell_type": "code",
      "metadata": {
        "ExecuteTime": {
          "end_time": "2020-03-02T15:01:34.470962Z",
          "start_time": "2020-03-02T15:01:34.464982Z"
        },
        "id": "DCxTCHU34weK"
      },
      "source": [
        "Predicted_results_Inv_trans = y_scaler.inverse_transform(Predicted_results)"
      ],
      "execution_count": 207,
      "outputs": []
    },
    {
      "cell_type": "code",
      "metadata": {
        "ExecuteTime": {
          "end_time": "2020-03-02T15:01:35.213982Z",
          "start_time": "2020-03-02T15:01:35.209026Z"
        },
        "id": "zwavJNf24weK",
        "colab": {
          "base_uri": "https://localhost:8080/"
        },
        "outputId": "0895ba5d-9c91-4d54-88b9-9301906da71f"
      },
      "source": [
        "Predicted_results_Inv_trans"
      ],
      "execution_count": 208,
      "outputs": [
        {
          "output_type": "execute_result",
          "data": {
            "text/plain": [
              "array([[714971.4 , 749330.94, 738636.5 , 711131.5 , 727318.8 , 692426.  ,\n",
              "        712699.94, 727140.75, 728937.9 , 741936.9 , 702894.06, 709835.6 ,\n",
              "        699507.6 , 725209.7 , 742765.  , 727070.8 , 721805.4 , 710393.9 ,\n",
              "        722706.56, 700540.44, 715134.4 , 698036.94, 741770.94, 726577.56,\n",
              "        693957.7 , 680013.8 , 692720.9 , 704942.56, 725403.25, 708726.94,\n",
              "        677100.4 , 699067.2 , 732757.8 , 690676.6 , 718827.44, 737103.44,\n",
              "        692651.4 , 704665.7 , 715596.25, 711097.9 , 725826.8 , 723257.9 ,\n",
              "        716944.56, 705959.9 , 730301.44, 723358.3 , 698414.56, 709808.5 ,\n",
              "        756732.6 , 737280.2 , 680928.56, 710892.44, 739966.7 , 726412.5 ,\n",
              "        725635.44, 705488.5 , 692811.3 , 707172.  , 700998.1 , 734550.1 ,\n",
              "        712791.94, 739156.44, 725763.56, 723537.1 , 717545.56, 734659.9 ,\n",
              "        716383.75, 729453.94, 710332.9 , 721019.1 , 724071.  , 726634.8 ,\n",
              "        682533.75, 740657.06, 699272.94, 737122.4 , 735057.4 , 679292.  ,\n",
              "        732095.4 , 736912.5 , 718276.4 , 707467.94, 702935.94, 709459.44,\n",
              "        722932.7 , 707550.3 , 701561.2 , 709631.  , 708470.56, 715106.4 ,\n",
              "        708435.06, 697840.9 , 703080.3 , 724937.94, 726235.4 , 748510.8 ,\n",
              "        746318.5 , 716110.06, 709221.2 , 727176.25]], dtype=float32)"
            ]
          },
          "metadata": {
            "tags": []
          },
          "execution_count": 208
        }
      ]
    },
    {
      "cell_type": "code",
      "metadata": {
        "ExecuteTime": {
          "end_time": "2020-03-02T15:01:36.723976Z",
          "start_time": "2020-03-02T15:01:36.692027Z"
        },
        "id": "Uqg_IwMH4weL"
      },
      "source": [
        "from sklearn import metrics\n",
        "def timeseries_evaluation_metrics_func(y_true, y_pred):\n",
        "    \n",
        "    def mean_absolute_percentage_error(y_true, y_pred): \n",
        "        y_true, y_pred = np.array(y_true), np.array(y_pred)\n",
        "        return np.mean(np.abs((y_true - y_pred) / y_true)) * 100\n",
        "    print('Evaluation metric results:-')\n",
        "    print(f'MSE is : {metrics.mean_squared_error(y_true, y_pred)}')\n",
        "    print(f'MAE is : {metrics.mean_absolute_error(y_true, y_pred)}')\n",
        "    print(f'RMSE is : {np.sqrt(metrics.mean_squared_error(y_true, y_pred))}')\n",
        "    print(f'MAPE is : {mean_absolute_percentage_error(y_true, y_pred)}')\n",
        "    print(f'R2 is : {metrics.r2_score(y_true, y_pred)}',end='\\n\\n')"
      ],
      "execution_count": 209,
      "outputs": []
    },
    {
      "cell_type": "code",
      "metadata": {
        "ExecuteTime": {
          "end_time": "2020-03-02T15:01:38.332643Z",
          "start_time": "2020-03-02T15:01:38.323667Z"
        },
        "id": "TNYAT6Da4weN",
        "colab": {
          "base_uri": "https://localhost:8080/"
        },
        "outputId": "63ff55b1-52da-4f68-e02c-6efee7d2e9f4"
      },
      "source": [
        "timeseries_evaluation_metrics_func(validate['total_data_bytes'],Predicted_results_Inv_trans[0])"
      ],
      "execution_count": 210,
      "outputs": [
        {
          "output_type": "stream",
          "text": [
            "Evaluation metric results:-\n",
            "MSE is : 8155777515.846562\n",
            "MAE is : 60419.91625\n",
            "RMSE is : 90309.3434581747\n",
            "MAPE is : 10.130047894081237\n",
            "R2 is : -0.05010007381988335\n",
            "\n"
          ],
          "name": "stdout"
        }
      ]
    },
    {
      "cell_type": "code",
      "metadata": {
        "ExecuteTime": {
          "end_time": "2020-03-02T15:01:40.495863Z",
          "start_time": "2020-03-02T15:01:40.255504Z"
        },
        "id": "4Tzs3T4p4weO",
        "colab": {
          "base_uri": "https://localhost:8080/",
          "height": 553
        },
        "outputId": "8ada9975-e9b3-403e-8e63-b92727fde715"
      },
      "source": [
        "\n",
        "\n",
        "plt.plot( list(validate['total_data_bytes']))\n",
        "plt.plot( list(Predicted_results_Inv_trans[0]))\n",
        "plt.title(\"Actual vs Predicted\")\n",
        "plt.ylabel(\"total_data_bytes\")\n",
        "plt.legend(('Actual','predicted'))\n",
        "plt.show()\n"
      ],
      "execution_count": 211,
      "outputs": [
        {
          "output_type": "display_data",
          "data": {
            "image/png": "[encoded data removed]",
            "text/plain": [
              "<Figure size 1152x648 with 1 Axes>"
            ]
          },
          "metadata": {
            "tags": [],
            "needs_background": "light"
          }
        }
      ]
    }
  ]
}