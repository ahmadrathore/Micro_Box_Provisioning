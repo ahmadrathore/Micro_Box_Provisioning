{
  "nbformat": 4,
  "nbformat_minor": 0,
  "metadata": {
    "colab": {
      "name": "4_GRU_Multivariate_Horizon_Style_FlowData.ipynb",
      "provenance": [],
      "collapsed_sections": [],
      "include_colab_link": true
    },
    "kernelspec": {
      "display_name": "Python 3",
      "language": "python",
      "name": "python3"
    },
    "language_info": {
      "codemirror_mode": {
        "name": "ipython",
        "version": 3
      },
      "file_extension": ".py",
      "mimetype": "text/x-python",
      "name": "python",
      "nbconvert_exporter": "python",
      "pygments_lexer": "ipython3",
      "version": "3.7.2"
    },
    "latex_envs": {
      "LaTeX_envs_menu_present": true,
      "autoclose": false,
      "autocomplete": true,
      "bibliofile": "biblio.bib",
      "cite_by": "apalike",
      "current_citInitial": 1,
      "eqLabelWithNumbers": true,
      "eqNumInitial": 1,
      "hotkeys": {
        "equation": "Ctrl-E",
        "itemize": "Ctrl-I"
      },
      "labels_anchors": false,
      "latex_user_defs": false,
      "report_style_numbering": false,
      "user_envs_cfg": false
    },
    "nbTranslate": {
      "displayLangs": [
        "*"
      ],
      "hotkey": "alt-t",
      "langInMainMenu": true,
      "sourceLang": "en",
      "targetLang": "fr",
      "useGoogleTranslate": true
    },
    "accelerator": "GPU"
  },
  "cells": [
    {
      "cell_type": "markdown",
      "metadata": {
        "id": "view-in-github",
        "colab_type": "text"
      },
      "source": [
        "<a href=\"https://colab.research.google.com/github/ahmadrathore/Provisioning-SmartX-MicroBox/blob/master/4_GRU_Multivariate_Horizon_Style_FlowData.ipynb\" target=\"_parent\"><img src=\"https://colab.research.google.com/assets/colab-badge.svg\" alt=\"Open In Colab\"/></a>"
      ]
    },
    {
      "cell_type": "code",
      "metadata": {
        "ExecuteTime": {
          "end_time": "2020-03-02T14:55:49.561627Z",
          "start_time": "2020-03-02T14:55:44.617811Z"
        },
        "id": "6kp-6I8C4wc2"
      },
      "source": [
        "import pandas as pd\n",
        "import numpy as np\n",
        "import tensorflow as tf\n",
        "from sklearn import preprocessing\n",
        "import matplotlib.pyplot as plt\n",
        "tf.random.set_seed(123)\n",
        "np.random.seed(123)"
      ],
      "execution_count": 85,
      "outputs": []
    },
    {
      "cell_type": "code",
      "metadata": {
        "ExecuteTime": {
          "end_time": "2020-03-02T14:55:50.932964Z",
          "start_time": "2020-03-02T14:55:50.857134Z"
        },
        "id": "7raKaEpc4wdp"
      },
      "source": [
        "#df = pd.read_csv(r'merge-csv.com__602f0aa73c265.csv')\n",
        "#df = pd.read_csv('merge-csv.com__602f0aa73c265.csv',index_col='Processing_time',\n",
        "#                infer_datetime_format=True)\n",
        "\n",
        "url='https://raw.githubusercontent.com/ahmadrathore/Provisioning-SmartX-MicroBox/master/kafka9092_Network-Flows.csv'\n",
        "\n",
        "df = pd.read_csv(url,index_col='Processing_time',\n",
        "                infer_datetime_format=True)\n",
        "\n"
      ],
      "execution_count": 86,
      "outputs": []
    },
    {
      "cell_type": "code",
      "metadata": {
        "ExecuteTime": {
          "end_time": "2020-03-02T14:55:55.197535Z",
          "start_time": "2020-03-02T14:55:55.176592Z"
        },
        "id": "9XqLMZgd4wdx",
        "colab": {
          "base_uri": "https://localhost:8080/",
          "height": 335
        },
        "outputId": "650d4027-88f1-4339-d459-d447501b7406"
      },
      "source": [
        "df.head()"
      ],
      "execution_count": 87,
      "outputs": [
        {
          "output_type": "execute_result",
          "data": {
            "text/html": [
              "<div>\n",
              "<style scoped>\n",
              "    .dataframe tbody tr th:only-of-type {\n",
              "        vertical-align: middle;\n",
              "    }\n",
              "\n",
              "    .dataframe tbody tr th {\n",
              "        vertical-align: top;\n",
              "    }\n",
              "\n",
              "    .dataframe thead th {\n",
              "        text-align: right;\n",
              "    }\n",
              "</style>\n",
              "<table border=\"1\" class=\"dataframe\">\n",
              "  <thead>\n",
              "    <tr style=\"text-align: right;\">\n",
              "      <th></th>\n",
              "      <th>Measurement_boxname</th>\n",
              "      <th>src_host_port</th>\n",
              "      <th>dest_host_port</th>\n",
              "      <th>protocol</th>\n",
              "      <th>protocol_count</th>\n",
              "      <th>min_tcp_window_size</th>\n",
              "      <th>max_tcp_window_size</th>\n",
              "      <th>avg_tcp_window_size</th>\n",
              "      <th>std_dev_tcp_window_size</th>\n",
              "      <th>min_data_bytes</th>\n",
              "      <th>max_data_bytes</th>\n",
              "      <th>avg_databytes</th>\n",
              "      <th>std_dev_databytes</th>\n",
              "      <th>total_data_bytes</th>\n",
              "      <th>flow_duration</th>\n",
              "    </tr>\n",
              "    <tr>\n",
              "      <th>Processing_time</th>\n",
              "      <th></th>\n",
              "      <th></th>\n",
              "      <th></th>\n",
              "      <th></th>\n",
              "      <th></th>\n",
              "      <th></th>\n",
              "      <th></th>\n",
              "      <th></th>\n",
              "      <th></th>\n",
              "      <th></th>\n",
              "      <th></th>\n",
              "      <th></th>\n",
              "      <th></th>\n",
              "      <th></th>\n",
              "      <th></th>\n",
              "    </tr>\n",
              "  </thead>\n",
              "  <tbody>\n",
              "    <tr>\n",
              "      <th>2020-12-01T00:05:24.998+09:00</th>\n",
              "      <td>smartx-microbox-gist-1</td>\n",
              "      <td>39846</td>\n",
              "      <td>9092</td>\n",
              "      <td>6</td>\n",
              "      <td>183</td>\n",
              "      <td>2438</td>\n",
              "      <td>2439</td>\n",
              "      <td>2439</td>\n",
              "      <td>0.07</td>\n",
              "      <td>161</td>\n",
              "      <td>11888</td>\n",
              "      <td>2788.26</td>\n",
              "      <td>2591.23</td>\n",
              "      <td>510252</td>\n",
              "      <td>170.018</td>\n",
              "    </tr>\n",
              "    <tr>\n",
              "      <th>2020-12-01T00:10:44.861+09:00</th>\n",
              "      <td>smartx-microbox-gist-1</td>\n",
              "      <td>39846</td>\n",
              "      <td>9092</td>\n",
              "      <td>6</td>\n",
              "      <td>396</td>\n",
              "      <td>2438</td>\n",
              "      <td>2439</td>\n",
              "      <td>2439</td>\n",
              "      <td>0.11</td>\n",
              "      <td>63</td>\n",
              "      <td>11856</td>\n",
              "      <td>2228.37</td>\n",
              "      <td>2094.46</td>\n",
              "      <td>882435</td>\n",
              "      <td>290.016</td>\n",
              "    </tr>\n",
              "    <tr>\n",
              "      <th>2020-12-01T00:15:33.979+09:00</th>\n",
              "      <td>smartx-microbox-gist-1</td>\n",
              "      <td>39846</td>\n",
              "      <td>9092</td>\n",
              "      <td>6</td>\n",
              "      <td>395</td>\n",
              "      <td>2438</td>\n",
              "      <td>2439</td>\n",
              "      <td>2439</td>\n",
              "      <td>0.13</td>\n",
              "      <td>102</td>\n",
              "      <td>13084</td>\n",
              "      <td>2209.62</td>\n",
              "      <td>2321.09</td>\n",
              "      <td>872801</td>\n",
              "      <td>290.017</td>\n",
              "    </tr>\n",
              "    <tr>\n",
              "      <th>2020-12-01T00:25:41.464+09:00</th>\n",
              "      <td>smartx-microbox-gist-1</td>\n",
              "      <td>39846</td>\n",
              "      <td>9092</td>\n",
              "      <td>6</td>\n",
              "      <td>459</td>\n",
              "      <td>2438</td>\n",
              "      <td>2439</td>\n",
              "      <td>2439</td>\n",
              "      <td>0.09</td>\n",
              "      <td>61</td>\n",
              "      <td>11550</td>\n",
              "      <td>1989.66</td>\n",
              "      <td>1919.81</td>\n",
              "      <td>913254</td>\n",
              "      <td>290.017</td>\n",
              "    </tr>\n",
              "    <tr>\n",
              "      <th>2020-12-01T00:35:18.114+09:00</th>\n",
              "      <td>smartx-microbox-gist-1</td>\n",
              "      <td>39846</td>\n",
              "      <td>9092</td>\n",
              "      <td>6</td>\n",
              "      <td>456</td>\n",
              "      <td>2438</td>\n",
              "      <td>2439</td>\n",
              "      <td>2439</td>\n",
              "      <td>0.09</td>\n",
              "      <td>87</td>\n",
              "      <td>11544</td>\n",
              "      <td>1981.21</td>\n",
              "      <td>1909.48</td>\n",
              "      <td>903430</td>\n",
              "      <td>290.011</td>\n",
              "    </tr>\n",
              "  </tbody>\n",
              "</table>\n",
              "</div>"
            ],
            "text/plain": [
              "                                  Measurement_boxname  ...  flow_duration\n",
              "Processing_time                                        ...               \n",
              "2020-12-01T00:05:24.998+09:00  smartx-microbox-gist-1  ...        170.018\n",
              "2020-12-01T00:10:44.861+09:00  smartx-microbox-gist-1  ...        290.016\n",
              "2020-12-01T00:15:33.979+09:00  smartx-microbox-gist-1  ...        290.017\n",
              "2020-12-01T00:25:41.464+09:00  smartx-microbox-gist-1  ...        290.017\n",
              "2020-12-01T00:35:18.114+09:00  smartx-microbox-gist-1  ...        290.011\n",
              "\n",
              "[5 rows x 15 columns]"
            ]
          },
          "metadata": {
            "tags": []
          },
          "execution_count": 87
        }
      ]
    },
    {
      "cell_type": "code",
      "metadata": {
        "ExecuteTime": {
          "end_time": "2020-03-02T14:55:56.568907Z",
          "start_time": "2020-03-02T14:55:56.528980Z"
        },
        "id": "SmXyoJ4e4wd1",
        "colab": {
          "base_uri": "https://localhost:8080/",
          "height": 308
        },
        "outputId": "dc532b61-b63f-4af5-d895-7945ebf12406"
      },
      "source": [
        "df.describe()"
      ],
      "execution_count": 88,
      "outputs": [
        {
          "output_type": "execute_result",
          "data": {
            "text/html": [
              "<div>\n",
              "<style scoped>\n",
              "    .dataframe tbody tr th:only-of-type {\n",
              "        vertical-align: middle;\n",
              "    }\n",
              "\n",
              "    .dataframe tbody tr th {\n",
              "        vertical-align: top;\n",
              "    }\n",
              "\n",
              "    .dataframe thead th {\n",
              "        text-align: right;\n",
              "    }\n",
              "</style>\n",
              "<table border=\"1\" class=\"dataframe\">\n",
              "  <thead>\n",
              "    <tr style=\"text-align: right;\">\n",
              "      <th></th>\n",
              "      <th>src_host_port</th>\n",
              "      <th>dest_host_port</th>\n",
              "      <th>protocol</th>\n",
              "      <th>protocol_count</th>\n",
              "      <th>min_tcp_window_size</th>\n",
              "      <th>max_tcp_window_size</th>\n",
              "      <th>avg_tcp_window_size</th>\n",
              "      <th>std_dev_tcp_window_size</th>\n",
              "      <th>min_data_bytes</th>\n",
              "      <th>max_data_bytes</th>\n",
              "      <th>avg_databytes</th>\n",
              "      <th>std_dev_databytes</th>\n",
              "      <th>total_data_bytes</th>\n",
              "      <th>flow_duration</th>\n",
              "    </tr>\n",
              "  </thead>\n",
              "  <tbody>\n",
              "    <tr>\n",
              "      <th>count</th>\n",
              "      <td>8576.000000</td>\n",
              "      <td>8576.0</td>\n",
              "      <td>8576.0</td>\n",
              "      <td>8576.000000</td>\n",
              "      <td>8576.000000</td>\n",
              "      <td>8576.000000</td>\n",
              "      <td>8576.000000</td>\n",
              "      <td>8576.000000</td>\n",
              "      <td>8576.000000</td>\n",
              "      <td>8576.000000</td>\n",
              "      <td>8576.000000</td>\n",
              "      <td>8576.000000</td>\n",
              "      <td>8576.000000</td>\n",
              "      <td>8576.000000</td>\n",
              "    </tr>\n",
              "    <tr>\n",
              "      <th>mean</th>\n",
              "      <td>40807.862873</td>\n",
              "      <td>9092.0</td>\n",
              "      <td>6.0</td>\n",
              "      <td>362.090602</td>\n",
              "      <td>2315.889576</td>\n",
              "      <td>2317.284632</td>\n",
              "      <td>2316.846782</td>\n",
              "      <td>0.317004</td>\n",
              "      <td>76.953708</td>\n",
              "      <td>10271.796525</td>\n",
              "      <td>2104.136580</td>\n",
              "      <td>2048.747845</td>\n",
              "      <td>761531.681087</td>\n",
              "      <td>279.171818</td>\n",
              "    </tr>\n",
              "    <tr>\n",
              "      <th>std</th>\n",
              "      <td>3907.567979</td>\n",
              "      <td>0.0</td>\n",
              "      <td>0.0</td>\n",
              "      <td>56.159077</td>\n",
              "      <td>395.897535</td>\n",
              "      <td>394.644232</td>\n",
              "      <td>395.614646</td>\n",
              "      <td>1.226467</td>\n",
              "      <td>19.597907</td>\n",
              "      <td>1867.873236</td>\n",
              "      <td>175.951136</td>\n",
              "      <td>231.740512</td>\n",
              "      <td>131589.840309</td>\n",
              "      <td>34.988489</td>\n",
              "    </tr>\n",
              "    <tr>\n",
              "      <th>min</th>\n",
              "      <td>33560.000000</td>\n",
              "      <td>9092.0</td>\n",
              "      <td>6.0</td>\n",
              "      <td>22.000000</td>\n",
              "      <td>499.000000</td>\n",
              "      <td>501.000000</td>\n",
              "      <td>501.000000</td>\n",
              "      <td>0.000000</td>\n",
              "      <td>59.000000</td>\n",
              "      <td>5971.000000</td>\n",
              "      <td>1387.150000</td>\n",
              "      <td>1291.840000</td>\n",
              "      <td>44072.000000</td>\n",
              "      <td>10.014000</td>\n",
              "    </tr>\n",
              "    <tr>\n",
              "      <th>25%</th>\n",
              "      <td>39846.000000</td>\n",
              "      <td>9092.0</td>\n",
              "      <td>6.0</td>\n",
              "      <td>340.000000</td>\n",
              "      <td>2438.000000</td>\n",
              "      <td>2439.000000</td>\n",
              "      <td>2439.000000</td>\n",
              "      <td>0.000000</td>\n",
              "      <td>62.000000</td>\n",
              "      <td>8740.000000</td>\n",
              "      <td>1973.480000</td>\n",
              "      <td>1867.347500</td>\n",
              "      <td>686703.750000</td>\n",
              "      <td>290.015000</td>\n",
              "    </tr>\n",
              "    <tr>\n",
              "      <th>50%</th>\n",
              "      <td>39846.000000</td>\n",
              "      <td>9092.0</td>\n",
              "      <td>6.0</td>\n",
              "      <td>369.000000</td>\n",
              "      <td>2438.000000</td>\n",
              "      <td>2439.000000</td>\n",
              "      <td>2439.000000</td>\n",
              "      <td>0.050000</td>\n",
              "      <td>69.000000</td>\n",
              "      <td>10587.000000</td>\n",
              "      <td>2094.890000</td>\n",
              "      <td>2032.635000</td>\n",
              "      <td>709585.000000</td>\n",
              "      <td>290.016000</td>\n",
              "    </tr>\n",
              "    <tr>\n",
              "      <th>75%</th>\n",
              "      <td>40442.000000</td>\n",
              "      <td>9092.0</td>\n",
              "      <td>6.0</td>\n",
              "      <td>398.000000</td>\n",
              "      <td>2439.000000</td>\n",
              "      <td>2439.000000</td>\n",
              "      <td>2439.000000</td>\n",
              "      <td>0.100000</td>\n",
              "      <td>88.000000</td>\n",
              "      <td>11718.000000</td>\n",
              "      <td>2226.530000</td>\n",
              "      <td>2229.402500</td>\n",
              "      <td>882164.750000</td>\n",
              "      <td>290.017000</td>\n",
              "    </tr>\n",
              "    <tr>\n",
              "      <th>max</th>\n",
              "      <td>59584.000000</td>\n",
              "      <td>9092.0</td>\n",
              "      <td>6.0</td>\n",
              "      <td>514.000000</td>\n",
              "      <td>2439.000000</td>\n",
              "      <td>2439.000000</td>\n",
              "      <td>2439.000000</td>\n",
              "      <td>21.950000</td>\n",
              "      <td>264.000000</td>\n",
              "      <td>14764.000000</td>\n",
              "      <td>2899.900000</td>\n",
              "      <td>2856.150000</td>\n",
              "      <td>923288.000000</td>\n",
              "      <td>290.056000</td>\n",
              "    </tr>\n",
              "  </tbody>\n",
              "</table>\n",
              "</div>"
            ],
            "text/plain": [
              "       src_host_port  dest_host_port  ...  total_data_bytes  flow_duration\n",
              "count    8576.000000          8576.0  ...       8576.000000    8576.000000\n",
              "mean    40807.862873          9092.0  ...     761531.681087     279.171818\n",
              "std      3907.567979             0.0  ...     131589.840309      34.988489\n",
              "min     33560.000000          9092.0  ...      44072.000000      10.014000\n",
              "25%     39846.000000          9092.0  ...     686703.750000     290.015000\n",
              "50%     39846.000000          9092.0  ...     709585.000000     290.016000\n",
              "75%     40442.000000          9092.0  ...     882164.750000     290.017000\n",
              "max     59584.000000          9092.0  ...     923288.000000     290.056000\n",
              "\n",
              "[8 rows x 14 columns]"
            ]
          },
          "metadata": {
            "tags": []
          },
          "execution_count": 88
        }
      ]
    },
    {
      "cell_type": "code",
      "metadata": {
        "ExecuteTime": {
          "end_time": "2020-03-02T14:57:16.428497Z",
          "start_time": "2020-03-02T14:57:16.410545Z"
        },
        "id": "udMuR0mM4wd2"
      },
      "source": [
        "#df.drop_duplicates(subset=['date_time'], keep=False,inplace=True)"
      ],
      "execution_count": 89,
      "outputs": []
    },
    {
      "cell_type": "code",
      "metadata": {
        "ExecuteTime": {
          "end_time": "2020-03-02T14:57:20.947387Z",
          "start_time": "2020-03-02T14:57:20.920463Z"
        },
        "id": "P8Ld7a_b4wd4"
      },
      "source": [
        "Measurement_boxname_le = preprocessing.LabelEncoder()\n",
        "df['Measurement_boxname_le'] = Measurement_boxname_le.fit_transform(df['Measurement_boxname']) "
      ],
      "execution_count": 90,
      "outputs": []
    },
    {
      "cell_type": "code",
      "metadata": {
        "ExecuteTime": {
          "end_time": "2020-03-02T14:57:31.660798Z",
          "start_time": "2020-03-02T14:57:31.652782Z"
        },
        "id": "JhZCaC-U4wd5"
      },
      "source": [
        "df = df[['min_data_bytes', 'max_data_bytes', 'avg_databytes','std_dev_databytes','total_data_bytes', 'Measurement_boxname_le']]"
      ],
      "execution_count": 91,
      "outputs": []
    },
    {
      "cell_type": "code",
      "metadata": {
        "ExecuteTime": {
          "end_time": "2020-03-02T14:57:38.727875Z",
          "start_time": "2020-03-02T14:57:38.720892Z"
        },
        "id": "nVWt8NZp4wd5"
      },
      "source": [
        "def custom_ts_multi_data_prep(dataset, target, start, end, window, horizon):\n",
        "    X = []\n",
        "    y = []\n",
        "    start = start + window\n",
        "    if end is None:\n",
        "        end = len(dataset) - horizon\n",
        "\n",
        "    for i in range(start, end):\n",
        "        indices = range(i-window, i)\n",
        "        X.append(dataset[indices])\n",
        "\n",
        "        indicey = range(i+1, i+1+horizon)\n",
        "        y.append(target[indicey])\n",
        "    return np.array(X), np.array(y)"
      ],
      "execution_count": 92,
      "outputs": []
    },
    {
      "cell_type": "code",
      "metadata": {
        "ExecuteTime": {
          "end_time": "2020-03-02T14:57:47.704885Z",
          "start_time": "2020-03-02T14:57:47.688927Z"
        },
        "id": "-QB5BlQV4wd6"
      },
      "source": [
        "validate = df[['min_data_bytes', 'max_data_bytes', 'avg_databytes','std_dev_databytes','total_data_bytes', 'Measurement_boxname_le']].tail(40)\n",
        "df.drop(df.tail(40).index,inplace=True)"
      ],
      "execution_count": 93,
      "outputs": []
    },
    {
      "cell_type": "code",
      "metadata": {
        "ExecuteTime": {
          "end_time": "2020-03-02T14:57:53.611104Z",
          "start_time": "2020-03-02T14:57:53.590160Z"
        },
        "id": "gpdqV8SZ4wd8"
      },
      "source": [
        "x_scaler = preprocessing.MinMaxScaler()\n",
        "y_scaler = preprocessing.MinMaxScaler()\n",
        "dataX = x_scaler.fit_transform(df[['Measurement_boxname_le','min_data_bytes', 'max_data_bytes', 'avg_databytes','std_dev_databytes','total_data_bytes']])\n",
        "dataY = y_scaler.fit_transform(df[['total_data_bytes']])"
      ],
      "execution_count": 94,
      "outputs": []
    },
    {
      "cell_type": "code",
      "metadata": {
        "ExecuteTime": {
          "end_time": "2020-03-02T14:58:06.978414Z",
          "start_time": "2020-03-02T14:58:05.772602Z"
        },
        "id": "PfswN0oV4wd9"
      },
      "source": [
        "hist_window = 80\n",
        "horizon = 40\n",
        "TRAIN_SPLIT = 5500\n",
        "x_train_multi, y_train_multi = custom_ts_multi_data_prep(\n",
        "    dataX, dataY, 0, TRAIN_SPLIT, hist_window, horizon)\n",
        "x_val_multi, y_val_multi = custom_ts_multi_data_prep(\n",
        "    dataX, dataY, TRAIN_SPLIT, None, hist_window, horizon)"
      ],
      "execution_count": 95,
      "outputs": []
    },
    {
      "cell_type": "code",
      "metadata": {
        "ExecuteTime": {
          "end_time": "2020-03-02T14:58:29.999861Z",
          "start_time": "2020-03-02T14:58:29.989891Z"
        },
        "id": "qJgNv-iB4wd_",
        "colab": {
          "base_uri": "https://localhost:8080/"
        },
        "outputId": "07845434-48bf-4eb5-d4b3-5958ea8f663a"
      },
      "source": [
        "print ('Single window of past history')\n",
        "print(x_train_multi[0])\n",
        "print ('\\n Target horizon')\n",
        "print (y_train_multi[0])"
      ],
      "execution_count": 96,
      "outputs": [
        {
          "output_type": "stream",
          "text": [
            "Single window of past history\n",
            "[[0.         0.49756098 0.67292164 0.92620063 0.83064738 0.53022238]\n",
            " [0.         0.0195122  0.66928238 0.5560866  0.51308245 0.95353474]\n",
            " [0.         0.2097561  0.80893893 0.54369195 0.65795782 0.94257725]\n",
            " [0.         0.0097561  0.63448197 0.39828789 0.40143578 0.98858756]\n",
            " [0.         0.13658537 0.63379961 0.39270203 0.39483223 0.97741397]\n",
            " [0.         0.20487805 0.66666667 0.49240787 0.48279433 0.96592077]\n",
            " [0.         0.01463415 0.64426248 0.55013056 0.65527932 0.94442549]\n",
            " [0.         0.04390244 0.70214944 0.51846637 0.54657325 0.95507134]\n",
            " [0.         0.10731707 0.59683839 0.655647   0.66667732 0.94831418]\n",
            " [0.         0.0097561  0.64630956 0.45051066 0.49403891 0.96630407]\n",
            " [0.         0.24390244 0.66518822 0.48702694 0.55472381 0.55379224]\n",
            " [0.         0.0097561  0.80893893 0.41813254 0.42267198 0.96750514]\n",
            " [0.         0.0097561  0.59126578 0.41946786 0.50295018 0.97082287]\n",
            " [0.         0.0097561  0.80893893 0.58135184 0.68869342 0.94239072]\n",
            " [0.         0.04878049 0.6795178  0.65670468 0.72414675 0.94085981]\n",
            " [0.         0.02926829 0.80893893 0.51746819 0.65520261 0.96424201]\n",
            " [0.         0.0097561  0.67997271 0.59307883 0.67980132 0.95795231]\n",
            " [0.         0.02439024 0.80893893 0.49567344 0.57227787 0.95855057]\n",
            " [0.         0.2097561  0.6684863  0.70533796 0.76052061 0.93799135]\n",
            " [0.         0.01463415 0.80893893 0.55961659 0.64667489 0.96101868]\n",
            " [0.         0.03414634 0.67212555 0.43453975 0.48375961 0.96838433]\n",
            " [0.         0.0097561  0.7185261  0.66631631 0.77022457 0.94691521]\n",
            " [0.         0.01463415 0.36563175 0.40670302 0.29995333 0.56251365]\n",
            " [0.         0.0097561  0.56351643 0.50006941 0.60011123 0.95437526]\n",
            " [0.         0.09268293 0.64426248 0.37360436 0.35472509 0.98241615]\n",
            " [0.         0.02926829 0.64426248 0.44876549 0.51955175 0.9697071 ]\n",
            " [0.         0.03902439 0.49687251 0.54149727 0.62442227 0.95864952]\n",
            " [0.         0.17560976 0.64426248 0.52801851 0.60899694 0.94932872]\n",
            " [0.         0.02926829 0.7545775  0.61252024 0.74336928 0.93935392]\n",
            " [0.         0.08292683 0.68838849 0.58932408 0.61281971 0.95026364]\n",
            " [0.         0.19512195 0.80893893 0.72429681 0.80149715 0.93259449]\n",
            " [0.         0.0097561  0.68929831 0.64300116 0.66138425 0.94028202]\n",
            " [0.         0.00487805 0.54998294 0.54084284 0.59074608 0.95569007]\n",
            " [0.         0.0097561  0.53076311 0.53879359 0.56589806 0.54600235]\n",
            " [0.         0.0097561  0.6718981  0.54275326 0.54599792 0.95198336]\n",
            " [0.         0.13658537 0.67178437 0.58866964 0.66362805 0.95241897]\n",
            " [0.         0.2097561  0.64426248 0.46685837 0.50027808 0.96654974]\n",
            " [0.         0.15121951 0.47958603 0.55366055 0.5972921  0.94429242]\n",
            " [0.         0.13658537 0.50562948 0.421451   0.47352507 0.97003239]\n",
            " [0.         0.02439024 0.64426248 0.42390349 0.51663673 0.96036924]\n",
            " [0.         0.19512195 0.6405095  0.72879855 0.79144159 0.92962708]\n",
            " [0.         0.01463415 0.63846241 0.63715749 0.70856799 0.94459496]\n",
            " [0.         0.0097561  0.71659274 0.58950917 0.61189278 0.95816159]\n",
            " [0.         0.16585366 0.59615603 0.56287556 0.47840901 0.95052183]\n",
            " [0.         0.03414634 0.51472762 0.50459098 0.5231316  0.5613467 ]\n",
            " [0.         0.12195122 0.64426248 0.522274   0.50227896 0.96021001]\n",
            " [0.         0.0097561  0.94188559 0.46428028 0.52249874 0.98128901]\n",
            " [0.         0.04878049 0.80893893 0.30069079 0.30912032 0.98483763]\n",
            " [0.         0.0195122  0.62868191 0.61285077 0.65436518 0.47893805]\n",
            " [0.         0.0195122  0.60116001 0.43249711 0.4883431  0.96452408]\n",
            " [0.         0.06341463 0.80893893 0.60585688 0.67674566 0.93766264]\n",
            " [0.         0.0097561  0.71693392 0.54208561 0.70253339 0.95403519]\n",
            " [0.         0.0097561  0.64824292 0.42944968 0.54490478 0.97149961]\n",
            " [0.         0.13658537 0.68634141 0.60185093 0.68938382 0.94551623]\n",
            " [0.         0.2097561  0.66120778 0.56938688 0.65219809 0.94980983]\n",
            " [0.         0.35609756 0.80893893 0.61333333 0.68125883 0.95304453]\n",
            " [0.         0.03902439 0.65188218 0.79397124 0.92280302 0.53863215]\n",
            " [0.         0.01463415 0.64426248 0.42636258 0.50158217 0.96915661]\n",
            " [0.         0.01463415 0.62026612 0.51923318 0.53162097 0.9556059 ]\n",
            " [0.         0.08292683 0.64426248 0.47064617 0.58187316 0.957395  ]\n",
            " [0.         0.03414634 0.68395314 0.49504545 0.56892176 0.96782361]\n",
            " [0.         0.06829268 0.50187649 0.51093704 0.57301302 0.96207985]\n",
            " [0.         0.05365854 0.6765609  0.49866138 0.56728526 0.96312169]\n",
            " [0.         0.01463415 0.52211987 0.48912907 0.53842908 0.96597423]\n",
            " [0.         0.13658537 0.67076083 0.66805487 0.70970588 0.93437449]\n",
            " [0.         0.02926829 0.80893893 0.56590316 0.55691008 0.95767252]\n",
            " [0.         0.0097561  0.64426248 0.67155842 0.69149337 0.94474737]\n",
            " [0.         0.1902439  0.70567497 0.46465708 0.51206602 0.54892427]\n",
            " [0.         0.0097561  0.80893893 0.58108081 0.64037179 0.94994518]\n",
            " [0.         0.         0.6176504  0.50566187 0.54689927 0.95834357]\n",
            " [0.         0.06829268 0.71420448 0.60122294 0.58705116 0.9529433 ]\n",
            " [0.         0.0195122  0.74832253 0.5524905  0.61297313 0.95361322]\n",
            " [0.         0.00487805 0.63266235 0.5584201  0.64508314 0.9424328 ]\n",
            " [0.         0.         0.56033208 0.48140142 0.47435611 0.95558088]\n",
            " [0.         0.02926829 0.75855794 0.48941993 0.5555932  0.95892591]\n",
            " [0.         0.21463415 0.47958603 0.43694596 0.37328918 0.96553975]\n",
            " [0.         0.02439024 0.63948595 0.51050735 0.53697796 0.96423291]\n",
            " [0.         0.08292683 0.67872171 0.57610973 0.62269627 0.94662631]\n",
            " [0.         0.49756098 0.59456386 0.56944637 0.66915126 0.55855444]\n",
            " [0.         0.0097561  0.68770613 0.52238638 0.55999131 0.95781583]]\n",
            "\n",
            " Target horizon\n",
            "[[0.93056541]\n",
            " [0.95998139]\n",
            " [0.9405095 ]\n",
            " [0.9596072 ]\n",
            " [0.95761224]\n",
            " [0.94683104]\n",
            " [0.96930902]\n",
            " [0.96450588]\n",
            " [0.55154365]\n",
            " [0.93357832]\n",
            " [0.9500737 ]\n",
            " [0.9551919 ]\n",
            " [0.95192535]\n",
            " [0.96984245]\n",
            " [0.9429014 ]\n",
            " [0.98435424]\n",
            " [0.95200497]\n",
            " [0.95334139]\n",
            " [0.55709518]\n",
            " [0.9402752 ]\n",
            " [0.95675579]\n",
            " [0.95342669]\n",
            " [0.96434892]\n",
            " [0.93700524]\n",
            " [0.95319011]\n",
            " [0.97162017]\n",
            " [0.96217198]\n",
            " [0.95016128]\n",
            " [0.9435008 ]\n",
            " [0.5483135 ]\n",
            " [0.95733813]\n",
            " [0.96416353]\n",
            " [0.94840972]\n",
            " [0.95597214]\n",
            " [0.94372373]\n",
            " [0.94332451]\n",
            " [0.94130339]\n",
            " [0.93501483]\n",
            " [0.95018971]\n",
            " [0.9423566 ]]\n"
          ],
          "name": "stdout"
        }
      ]
    },
    {
      "cell_type": "code",
      "metadata": {
        "ExecuteTime": {
          "end_time": "2020-03-02T14:58:54.885449Z",
          "start_time": "2020-03-02T14:58:53.724552Z"
        },
        "id": "U-QgPMlh4weB"
      },
      "source": [
        "BATCH_SIZE = 256\n",
        "BUFFER_SIZE = 150\n",
        "\n",
        "train_data_multi = tf.data.Dataset.from_tensor_slices((x_train_multi, y_train_multi))\n",
        "train_data_multi = train_data_multi.cache().shuffle(BUFFER_SIZE).batch(BATCH_SIZE).repeat()\n",
        "\n",
        "val_data_multi = tf.data.Dataset.from_tensor_slices((x_val_multi, y_val_multi))\n",
        "val_data_multi = val_data_multi.batch(BATCH_SIZE).repeat()"
      ],
      "execution_count": 97,
      "outputs": []
    },
    {
      "cell_type": "code",
      "metadata": {
        "ExecuteTime": {
          "end_time": "2020-03-02T14:59:06.728803Z",
          "start_time": "2020-03-02T14:59:06.128372Z"
        },
        "id": "75ayf4co4weD"
      },
      "source": [
        "GRU_model = tf.keras.models.Sequential([\n",
        "    tf.keras.layers.GRU(100, input_shape=x_train_multi.shape[-2:],return_sequences=True),\n",
        "    tf.keras.layers.Dropout(0.2),\n",
        "    tf.keras.layers.GRU(units=50,return_sequences=False),\n",
        "    tf.keras.layers.Dropout(0.2),\n",
        "    tf.keras.layers.Dense(units=horizon),\n",
        "])\n",
        "GRU_model.compile(optimizer='adam', loss='mse')\n"
      ],
      "execution_count": 98,
      "outputs": []
    },
    {
      "cell_type": "code",
      "metadata": {
        "ExecuteTime": {
          "end_time": "2020-03-02T14:59:21.028554Z",
          "start_time": "2020-03-02T14:59:21.024565Z"
        },
        "id": "ABU3RZkn4weE"
      },
      "source": [
        "model_path = r'GRU_Multivariate.h5'"
      ],
      "execution_count": 99,
      "outputs": []
    },
    {
      "cell_type": "code",
      "metadata": {
        "ExecuteTime": {
          "end_time": "2020-03-02T15:00:53.386775Z",
          "start_time": "2020-03-02T14:59:21.581080Z"
        },
        "id": "CC9CKEeW4weE",
        "colab": {
          "base_uri": "https://localhost:8080/"
        },
        "outputId": "b534bc31-b6fe-4fbd-8475-e26d25b491d5"
      },
      "source": [
        "EVALUATION_INTERVAL = 100\n",
        "EPOCHS = 100\n",
        "history = GRU_model.fit(train_data_multi, epochs=EPOCHS,steps_per_epoch=EVALUATION_INTERVAL,validation_data=val_data_multi, validation_steps=50,verbose =1,\n",
        "                              callbacks =[tf.keras.callbacks.EarlyStopping(monitor='val_loss', min_delta=0, patience=10, verbose=1, mode='min'),tf.keras.callbacks.ModelCheckpoint(model_path,monitor='val_loss', save_best_only=True, mode='min', verbose=0)])"
      ],
      "execution_count": 100,
      "outputs": [
        {
          "output_type": "stream",
          "text": [
            "Epoch 1/100\n",
            "100/100 [==============================] - 8s 50ms/step - loss: 0.3341 - val_loss: 0.0100\n",
            "Epoch 2/100\n",
            "100/100 [==============================] - 4s 39ms/step - loss: 0.0431 - val_loss: 0.0108\n",
            "Epoch 3/100\n",
            "100/100 [==============================] - 4s 39ms/step - loss: 0.0327 - val_loss: 0.0114\n",
            "Epoch 4/100\n",
            "100/100 [==============================] - 4s 39ms/step - loss: 0.0291 - val_loss: 0.0094\n",
            "Epoch 5/100\n",
            "100/100 [==============================] - 4s 39ms/step - loss: 0.0253 - val_loss: 0.0094\n",
            "Epoch 6/100\n",
            "100/100 [==============================] - 4s 39ms/step - loss: 0.0226 - val_loss: 0.0094\n",
            "Epoch 7/100\n",
            "100/100 [==============================] - 4s 39ms/step - loss: 0.0218 - val_loss: 0.0094\n",
            "Epoch 8/100\n",
            "100/100 [==============================] - 4s 39ms/step - loss: 0.0207 - val_loss: 0.0095\n",
            "Epoch 9/100\n",
            "100/100 [==============================] - 4s 39ms/step - loss: 0.0203 - val_loss: 0.0096\n",
            "Epoch 10/100\n",
            "100/100 [==============================] - 4s 39ms/step - loss: 0.0197 - val_loss: 0.0094\n",
            "Epoch 11/100\n",
            "100/100 [==============================] - 4s 39ms/step - loss: 0.0189 - val_loss: 0.0113\n",
            "Epoch 12/100\n",
            "100/100 [==============================] - 4s 39ms/step - loss: 0.0192 - val_loss: 0.0095\n",
            "Epoch 13/100\n",
            "100/100 [==============================] - 4s 39ms/step - loss: 0.0181 - val_loss: 0.0101\n",
            "Epoch 14/100\n",
            "100/100 [==============================] - 4s 40ms/step - loss: 0.0181 - val_loss: 0.0093\n",
            "Epoch 15/100\n",
            "100/100 [==============================] - 4s 39ms/step - loss: 0.0174 - val_loss: 0.0094\n",
            "Epoch 16/100\n",
            "100/100 [==============================] - 4s 39ms/step - loss: 0.0174 - val_loss: 0.0094\n",
            "Epoch 17/100\n",
            "100/100 [==============================] - 4s 39ms/step - loss: 0.0168 - val_loss: 0.0095\n",
            "Epoch 18/100\n",
            "100/100 [==============================] - 4s 39ms/step - loss: 0.0168 - val_loss: 0.0093\n",
            "Epoch 19/100\n",
            "100/100 [==============================] - 4s 39ms/step - loss: 0.0160 - val_loss: 0.0094\n",
            "Epoch 20/100\n",
            "100/100 [==============================] - 4s 39ms/step - loss: 0.0163 - val_loss: 0.0096\n",
            "Epoch 21/100\n",
            "100/100 [==============================] - 4s 39ms/step - loss: 0.0159 - val_loss: 0.0094\n",
            "Epoch 22/100\n",
            "100/100 [==============================] - 4s 39ms/step - loss: 0.0160 - val_loss: 0.0103\n",
            "Epoch 23/100\n",
            "100/100 [==============================] - 4s 39ms/step - loss: 0.0160 - val_loss: 0.0102\n",
            "Epoch 24/100\n",
            "100/100 [==============================] - 4s 39ms/step - loss: 0.0154 - val_loss: 0.0098\n",
            "Epoch 25/100\n",
            "100/100 [==============================] - 4s 40ms/step - loss: 0.0154 - val_loss: 0.0094\n",
            "Epoch 26/100\n",
            "100/100 [==============================] - 4s 39ms/step - loss: 0.0151 - val_loss: 0.0094\n",
            "Epoch 27/100\n",
            "100/100 [==============================] - 4s 40ms/step - loss: 0.0151 - val_loss: 0.0096\n",
            "Epoch 28/100\n",
            "100/100 [==============================] - 4s 39ms/step - loss: 0.0148 - val_loss: 0.0093\n",
            "Epoch 00028: early stopping\n"
          ],
          "name": "stdout"
        }
      ]
    },
    {
      "cell_type": "code",
      "metadata": {
        "ExecuteTime": {
          "end_time": "2020-03-02T15:01:12.365068Z",
          "start_time": "2020-03-02T15:01:10.556902Z"
        },
        "id": "uC6JC8XA4weF"
      },
      "source": [
        "Trained_model = tf.keras.models.load_model(model_path)"
      ],
      "execution_count": 101,
      "outputs": []
    },
    {
      "cell_type": "code",
      "metadata": {
        "ExecuteTime": {
          "end_time": "2020-03-02T15:01:14.374664Z",
          "start_time": "2020-03-02T15:01:14.367683Z"
        },
        "id": "o9KS9DfU4weG",
        "colab": {
          "base_uri": "https://localhost:8080/"
        },
        "outputId": "782ef411-b67a-46ca-8a16-f783a909a179"
      },
      "source": [
        "# Show the model architecture\n",
        "Trained_model.summary()"
      ],
      "execution_count": 102,
      "outputs": [
        {
          "output_type": "stream",
          "text": [
            "Model: \"sequential_3\"\n",
            "_________________________________________________________________\n",
            "Layer (type)                 Output Shape              Param #   \n",
            "=================================================================\n",
            "gru_6 (GRU)                  (None, 80, 100)           32400     \n",
            "_________________________________________________________________\n",
            "dropout_6 (Dropout)          (None, 80, 100)           0         \n",
            "_________________________________________________________________\n",
            "gru_7 (GRU)                  (None, 50)                22800     \n",
            "_________________________________________________________________\n",
            "dropout_7 (Dropout)          (None, 50)                0         \n",
            "_________________________________________________________________\n",
            "dense_3 (Dense)              (None, 40)                2040      \n",
            "=================================================================\n",
            "Total params: 57,240\n",
            "Trainable params: 57,240\n",
            "Non-trainable params: 0\n",
            "_________________________________________________________________\n"
          ],
          "name": "stdout"
        }
      ]
    },
    {
      "cell_type": "code",
      "metadata": {
        "ExecuteTime": {
          "end_time": "2020-03-02T15:01:19.974699Z",
          "start_time": "2020-03-02T15:01:19.728358Z"
        },
        "id": "9WosF-eD4weH",
        "colab": {
          "base_uri": "https://localhost:8080/",
          "height": 567
        },
        "outputId": "3a7586a3-a7bc-4995-cd61-030973984be9"
      },
      "source": [
        "plt.plot(history.history['loss'])\n",
        "plt.plot(history.history['val_loss'])\n",
        "plt.title('Model loss')\n",
        "plt.ylabel('loss')\n",
        "plt.xlabel('epoch')\n",
        "plt.legend(['train loss', 'validation loss'], loc='upper left')\n",
        "plt.rcParams[\"figure.figsize\"] = [16,9]\n",
        "plt.show()"
      ],
      "execution_count": 103,
      "outputs": [
        {
          "output_type": "display_data",
          "data": {
            "image/png": "[encoded data removed]",
            "text/plain": [
              "<Figure size 1152x648 with 1 Axes>"
            ]
          },
          "metadata": {
            "tags": [],
            "needs_background": "light"
          }
        }
      ]
    },
    {
      "cell_type": "code",
      "metadata": {
        "ExecuteTime": {
          "end_time": "2020-03-02T15:01:29.046458Z",
          "start_time": "2020-03-02T15:01:29.035487Z"
        },
        "id": "_ku88u0W4weH"
      },
      "source": [
        "data_val = x_scaler.fit_transform(df[['Measurement_boxname_le','min_data_bytes', 'max_data_bytes', 'avg_databytes','std_dev_databytes','total_data_bytes']].tail(80))"
      ],
      "execution_count": 104,
      "outputs": []
    },
    {
      "cell_type": "code",
      "metadata": {
        "ExecuteTime": {
          "end_time": "2020-03-02T15:01:30.197386Z",
          "start_time": "2020-03-02T15:01:30.192397Z"
        },
        "id": "Us0sAiM14weI"
      },
      "source": [
        "val_rescaled = data_val.reshape(1, data_val.shape[0], data_val.shape[1])"
      ],
      "execution_count": 105,
      "outputs": []
    },
    {
      "cell_type": "code",
      "metadata": {
        "ExecuteTime": {
          "end_time": "2020-03-02T15:01:32.454387Z",
          "start_time": "2020-03-02T15:01:31.999567Z"
        },
        "id": "Hpy0VyJk4weI"
      },
      "source": [
        "Predicted_results = Trained_model.predict(val_rescaled)"
      ],
      "execution_count": 106,
      "outputs": []
    },
    {
      "cell_type": "code",
      "metadata": {
        "ExecuteTime": {
          "end_time": "2020-03-02T15:01:33.226287Z",
          "start_time": "2020-03-02T15:01:33.220341Z"
        },
        "id": "IhMCWPw84weJ",
        "colab": {
          "base_uri": "https://localhost:8080/"
        },
        "outputId": "7eda4331-6e9c-43b8-b3e4-2ab4cac3f593"
      },
      "source": [
        "Predicted_results"
      ],
      "execution_count": 107,
      "outputs": [
        {
          "output_type": "execute_result",
          "data": {
            "text/plain": [
              "array([[0.7931421 , 0.79989755, 0.80919737, 0.7974859 , 0.79750586,\n",
              "        0.7937714 , 0.79887223, 0.79680324, 0.79379535, 0.80267096,\n",
              "        0.8017391 , 0.82067275, 0.81232905, 0.8129582 , 0.80152804,\n",
              "        0.80901796, 0.81063724, 0.80060196, 0.79443526, 0.79387164,\n",
              "        0.7892485 , 0.7932619 , 0.79532385, 0.7923009 , 0.785376  ,\n",
              "        0.80760676, 0.8075073 , 0.7971765 , 0.8066029 , 0.7883714 ,\n",
              "        0.7951805 , 0.7873604 , 0.8011918 , 0.80646676, 0.7988274 ,\n",
              "        0.81412685, 0.813298  , 0.79307806, 0.79425085, 0.794998  ]],\n",
              "      dtype=float32)"
            ]
          },
          "metadata": {
            "tags": []
          },
          "execution_count": 107
        }
      ]
    },
    {
      "cell_type": "code",
      "metadata": {
        "ExecuteTime": {
          "end_time": "2020-03-02T15:01:34.470962Z",
          "start_time": "2020-03-02T15:01:34.464982Z"
        },
        "id": "DCxTCHU34weK"
      },
      "source": [
        "Predicted_results_Inv_trans = y_scaler.inverse_transform(Predicted_results)"
      ],
      "execution_count": 108,
      "outputs": []
    },
    {
      "cell_type": "code",
      "metadata": {
        "ExecuteTime": {
          "end_time": "2020-03-02T15:01:35.213982Z",
          "start_time": "2020-03-02T15:01:35.209026Z"
        },
        "id": "zwavJNf24weK",
        "colab": {
          "base_uri": "https://localhost:8080/"
        },
        "outputId": "f28e3295-7771-4f44-a3ad-fecf96fc9002"
      },
      "source": [
        "Predicted_results_Inv_trans"
      ],
      "execution_count": 109,
      "outputs": [
        {
          "output_type": "execute_result",
          "data": {
            "text/plain": [
              "array([[741415.25, 747354.75, 755531.3 , 745234.4 , 745251.94, 741968.5 ,\n",
              "        746453.25, 744634.2 , 741989.56, 749793.2 , 748973.9 , 765620.6 ,\n",
              "        758284.7 , 758837.9 , 748788.3 , 755373.56, 756797.25, 747974.06,\n",
              "        742552.2 , 742056.7 , 737991.94, 741520.56, 743333.44, 740675.6 ,\n",
              "        734587.2 , 754132.8 , 754045.3 , 744962.3 , 753250.2 , 737220.75,\n",
              "        743207.44, 736331.9 , 748492.7 , 753130.5 , 746413.9 , 759865.4 ,\n",
              "        759136.6 , 741358.94, 742390.06, 743046.94]], dtype=float32)"
            ]
          },
          "metadata": {
            "tags": []
          },
          "execution_count": 109
        }
      ]
    },
    {
      "cell_type": "code",
      "metadata": {
        "ExecuteTime": {
          "end_time": "2020-03-02T15:01:36.723976Z",
          "start_time": "2020-03-02T15:01:36.692027Z"
        },
        "id": "Uqg_IwMH4weL"
      },
      "source": [
        "from sklearn import metrics\n",
        "def timeseries_evaluation_metrics_func(y_true, y_pred):\n",
        "    \n",
        "    def mean_absolute_percentage_error(y_true, y_pred): \n",
        "        y_true, y_pred = np.array(y_true), np.array(y_pred)\n",
        "        return np.mean(np.abs((y_true - y_pred) / y_true)) * 100\n",
        "    print('Evaluation metric results:-')\n",
        "    print(f'MSE is : {metrics.mean_squared_error(y_true, y_pred)}')\n",
        "    print(f'MAE is : {metrics.mean_absolute_error(y_true, y_pred)}')\n",
        "    print(f'RMSE is : {np.sqrt(metrics.mean_squared_error(y_true, y_pred))}')\n",
        "    print(f'MAPE is : {mean_absolute_percentage_error(y_true, y_pred)}')\n",
        "    print(f'R2 is : {metrics.r2_score(y_true, y_pred)}',end='\\n\\n')"
      ],
      "execution_count": 110,
      "outputs": []
    },
    {
      "cell_type": "code",
      "metadata": {
        "ExecuteTime": {
          "end_time": "2020-03-02T15:01:38.332643Z",
          "start_time": "2020-03-02T15:01:38.323667Z"
        },
        "id": "TNYAT6Da4weN",
        "colab": {
          "base_uri": "https://localhost:8080/"
        },
        "outputId": "3313cbb1-ae3e-4a1a-b15d-4e3f33f4c2ad"
      },
      "source": [
        "timeseries_evaluation_metrics_func(validate['total_data_bytes'],Predicted_results_Inv_trans[0])"
      ],
      "execution_count": 111,
      "outputs": [
        {
          "output_type": "stream",
          "text": [
            "Evaluation metric results:-\n",
            "MSE is : 6689532472.267578\n",
            "MAE is : 32294.328125\n",
            "RMSE is : 81789.56212297251\n",
            "MAPE is : 6.24439587489918\n",
            "R2 is : -0.03135096469340848\n",
            "\n"
          ],
          "name": "stdout"
        }
      ]
    },
    {
      "cell_type": "code",
      "metadata": {
        "ExecuteTime": {
          "end_time": "2020-03-02T15:01:40.495863Z",
          "start_time": "2020-03-02T15:01:40.255504Z"
        },
        "id": "4Tzs3T4p4weO",
        "colab": {
          "base_uri": "https://localhost:8080/",
          "height": 553
        },
        "outputId": "d676dab6-11bf-4bc3-94bd-84209fe0e1fa"
      },
      "source": [
        "\n",
        "\n",
        "plt.plot( list(validate['total_data_bytes']))\n",
        "plt.plot( list(Predicted_results_Inv_trans[0]))\n",
        "plt.title(\"Actual vs Predicted\")\n",
        "plt.ylabel(\"total_data_bytes\")\n",
        "plt.legend(('Actual','predicted'))\n",
        "plt.show()\n"
      ],
      "execution_count": 112,
      "outputs": [
        {
          "output_type": "display_data",
          "data": {
            "image/png": "[encoded data removed]",
            "text/plain": [
              "<Figure size 1152x648 with 1 Axes>"
            ]
          },
          "metadata": {
            "tags": [],
            "needs_background": "light"
          }
        }
      ]
    }
  ]
}